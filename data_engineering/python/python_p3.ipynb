{
 "cells": [
  {
   "cell_type": "markdown",
   "metadata": {
    "slideshow": {
     "slide_type": "slide"
    }
   },
   "source": [
    "## Naming conventions \n",
    "\n",
    "* _single_leading_underscore: weak \"internal use\" indicator\n",
    " * e.g., from M import * does not import objects whose names start with an underscore\n",
    "* single_trailing\\_underscore_: use to avoid conflicts with keywords\n",
    "* \\__double_leading_underscore: used to name a class attribute\n",
    " * invokes name mangling (inside class Class \\__par is accessible, outside it becomes _Class__par)\n",
    "* \\__double_leading_and_trailing_underscore\\__: \"magic\" objects or attributes such as \\__init\\__: should be never invented by user"
   ]
  },
  {
   "cell_type": "code",
   "execution_count": 10,
   "metadata": {
    "slideshow": {
     "slide_type": "subslide"
    }
   },
   "outputs": [
    {
     "name": "stdout",
     "output_type": "stream",
     "text": [
      "False\n",
      "True\n",
      "id of class A\n",
      "id of class B\n"
     ]
    }
   ],
   "source": [
    "%reset -f\n",
    "class A(object): __id = \"id of class A\" # not part of A's API\n",
    "class B(A):      __id = \"id of class B\" # not part of B's API, the name is the same for coincidence\n",
    "                                        # thanks to name mangling, __id is not overwritten \n",
    "\n",
    "a = A()\n",
    "b = B()\n",
    "print('__id' in dir(a))    # False __id is hidden\n",
    "print('_A__id' in dir(a))  # True  __id can be exposed through name mangling\n",
    "\n",
    "print(a._A__id) # relative to A\n",
    "print(b._B__id) # relative to B"
   ]
  },
  {
   "cell_type": "markdown",
   "metadata": {
    "slideshow": {
     "slide_type": "slide"
    }
   },
   "source": [
    "## Introduction to decorators \n",
    "\n",
    "* functions in python (as we have seen)\n",
    " * can be assigned to names\n",
    " * can be defined inside other functions\n",
    " * can be passed as parameters to other functions\n",
    " * can return other functions\n",
    "* decorators are wrappers that modify the behavior of the code (e.g., of a function)\n",
    " * i.e., decorators target an object and increase its original functionality, so \"decorating\" it \n",
    " * a decorator is passed the original object being defined and returns a modified object \n",
    "\n",
    "```python\n",
    "def myFun():  \n",
    "    '''whatever behavior'''\n",
    "    pass\n",
    "def decoration():  \n",
    "    '''whatever decoration'''\n",
    "    pass\n",
    "myFun = decoration(myFun)\n",
    "\n",
    "```\n",
    "\n",
    "#### the \"syntactic sugar\" to make decorators cleaner to read, python use the keyword @  \n",
    "\n",
    "```python\n",
    "def decoration():  \n",
    "    '''whatever decoration'''\n",
    "    pass\n",
    "@decoration\n",
    "def myFun():  \n",
    "    '''whatever behavior'''\n",
    "    pass    \n",
    "```\n",
    "\n",
    "#### multiple decorations can be chained "
   ]
  },
  {
   "cell_type": "code",
   "execution_count": 187,
   "metadata": {
    "slideshow": {
     "slide_type": "subslide"
    }
   },
   "outputs": [
    {
     "name": "stdout",
     "output_type": "stream",
     "text": [
      "hi jacopo\n"
     ]
    }
   ],
   "source": [
    "%reset -f\n",
    "def who_just_arrived(): return \"jacopo\"   # this is a function\n",
    "def greet(whoever_I_want_to_greet):       # functions can be passed as parameters\n",
    "    def hi(): return \"hi \"                # functions can be defined inside other functions\n",
    "    return hi()+whoever_I_want_to_greet() # functions can return other functions           \n",
    "\n",
    "say_hi_to_ = greet(who_just_arrived)      # functions can be assigned to names\n",
    "\n",
    "print(say_hi_to_)"
   ]
  },
  {
   "cell_type": "code",
   "execution_count": 19,
   "metadata": {
    "slideshow": {
     "slide_type": "subslide"
    }
   },
   "outputs": [
    {
     "name": "stdout",
     "output_type": "stream",
     "text": [
      "hi jacopo\n",
      "\u001b[1mhi jacopo\u001b[0m\n"
     ]
    }
   ],
   "source": [
    "%reset -f\n",
    "def decorate(func):         # decoration inputs the function!\n",
    "    def func_wrapper(name): # wrappers inputs the function's parameter(s)\n",
    "        # check http://ascii-table.com/ansi-escape-sequences.php\n",
    "        return   \"\\033[1m{0}\\033[0m\".format(func(name))\n",
    "        # equals \"\\033[1m\"+func(name)+\"\\033[0m\" \n",
    "    return func_wrapper\n",
    "\n",
    "def greet(name):\n",
    "    return \"hi {0}\".format(name)\n",
    "\n",
    "my_greet = decorate(greet)\n",
    "print(greet(\"jacopo\"))\n",
    "print(my_greet(\"jacopo\"))"
   ]
  },
  {
   "cell_type": "code",
   "execution_count": 13,
   "metadata": {
    "slideshow": {
     "slide_type": "subslide"
    }
   },
   "outputs": [
    {
     "name": "stdout",
     "output_type": "stream",
     "text": [
      "\u001b[1mhi jacopo\u001b[0m\n"
     ]
    }
   ],
   "source": [
    "%reset -f\n",
    "def decorate(func):\n",
    "    def func_wrapper(name):\n",
    "        # check http://ascii-table.com/ansi-escape-sequences.php\n",
    "        return \"\\033[1m{0}\\033[0m\".format(func(name))\n",
    "    return func_wrapper\n",
    "\n",
    "@decorate  \n",
    "def greet(name): # -> greet = decorate(greet)\n",
    "    return \"hi {0}\".format(name)\n",
    "\n",
    "print(greet(\"jacopo\"))"
   ]
  },
  {
   "cell_type": "code",
   "execution_count": 225,
   "metadata": {
    "slideshow": {
     "slide_type": "subslide"
    }
   },
   "outputs": [
    {
     "name": "stdout",
     "output_type": "stream",
     "text": [
      "\u001b[1m\u001b[91mhi jacopo\u001b[0m\u001b[0m\n"
     ]
    }
   ],
   "source": [
    "%reset -f\n",
    "def decorate_red(func): # makes greet red\n",
    "    def func_wrapper(name):\n",
    "        return \"\\033[91m{0}\\033[0m\".format(func(name))\n",
    "    return func_wrapper\n",
    "\n",
    "def decorate_bold(func): # makes greet bold\n",
    "    def func_wrapper(name):\n",
    "        # check http://ascii-table.com/ansi-escape-sequences.php\n",
    "        return \"\\033[1m{0}\\033[0m\".format(func(name))\n",
    "    return func_wrapper\n",
    "\n",
    "@decorate_bold\n",
    "@decorate_red\n",
    "def greet(name): # -> greet = decorate_bold(decorate_red(greet))\n",
    "    return \"hi {0}\".format(name)\n",
    "\n",
    "print(greet(\"jacopo\"))"
   ]
  },
  {
   "cell_type": "code",
   "execution_count": 17,
   "metadata": {
    "slideshow": {
     "slide_type": "subslide"
    }
   },
   "outputs": [
    {
     "name": "stdout",
     "output_type": "stream",
     "text": [
      "\u001b[91m\u001b[1m\u001b[4mhi jacopo\u001b[0m\u001b[0m\u001b[0m\n"
     ]
    }
   ],
   "source": [
    "%reset -f\n",
    "def formatting(how_to_format):\n",
    "    def etiquette_decorator(func):\n",
    "        def func_wrapper(name): \n",
    "            # check http://ascii-table.com/ansi-escape-sequences.php\n",
    "            if how_to_format=='RED': \n",
    "                return   \"\\033[91m{0}\\033[0m\".format(func(name))                \n",
    "            if how_to_format=='BOLD': \n",
    "                return \"\\033[1m{0}\\033[0m\".format(func(name))\n",
    "            if how_to_format=='UNDERLINE': \n",
    "                return \"\\033[4m{0}\\033[0m\".format(func(name))            \n",
    "        return func_wrapper\n",
    "    return etiquette_decorator\n",
    "\n",
    "@formatting(\"RED\")        # you can pass arguments to decorators functions\n",
    "@formatting(\"BOLD\")\n",
    "@formatting(\"UNDERLINE\")\n",
    "def greet(name):\n",
    "    return \"hi {0}\".format(name)\n",
    "\n",
    "print(greet('jacopo'))"
   ]
  },
  {
   "cell_type": "markdown",
   "metadata": {
    "slideshow": {
     "slide_type": "slide"
    }
   },
   "source": [
    "## Data encapsulation\n",
    "\n",
    "* many object-oriented languages stress to have getter, setter and deleter methods to access private attributes\n",
    "* this is called data encapsulation \n",
    " * it does not hide attributes (nothing in python can do that)\n",
    "* code loses readability: why should data be encapsulated?\n",
    " * to isolate code changes that depends on a specific attribute's value\n"
   ]
  },
  {
   "cell_type": "code",
   "execution_count": 61,
   "metadata": {
    "slideshow": {
     "slide_type": "subslide"
    }
   },
   "outputs": [
    {
     "name": "stdout",
     "output_type": "stream",
     "text": [
      "this fruit is an apple\n"
     ]
    }
   ],
   "source": [
    "%reset -f \n",
    "class Fruit(object):  # implementation using setter,    \n",
    "                      #                      getter, \n",
    "                      #                      deleter\n",
    "    def __init__(self,name): \n",
    "        self._set_name(name)\n",
    "    def _set_name(self,name):     # setter\n",
    "        self._name = name\n",
    "    def _get_name(self):          # getter\n",
    "        return self._name\n",
    "    def _del_name(self):          # deleter\n",
    "        del self._colour                        \n",
    "    def __str__(self): \n",
    "        return \"this fruit is an \"+self._name\n",
    "\n",
    "print(Fruit('apple'))"
   ]
  },
  {
   "cell_type": "markdown",
   "metadata": {
    "slideshow": {
     "slide_type": "subslide"
    }
   },
   "source": [
    "##  Using property() to encapsulate data\n",
    "\n",
    "* property(getter,setter\\[,deleter,docstring\\]): \n",
    " * built-in function \n",
    " * proxy any attribute access to getter, setter, deleter and docstring\n",
    "* properties can embed customized actions when they are accessed"
   ]
  },
  {
   "cell_type": "code",
   "execution_count": 20,
   "metadata": {
    "scrolled": true,
    "slideshow": {
     "slide_type": "subslide"
    }
   },
   "outputs": [
    {
     "name": "stdout",
     "output_type": "stream",
     "text": [
      "this fruit is an apple\n",
      " -> err:  Fruit name cannot be changed once set\n",
      "apple\n"
     ]
    }
   ],
   "source": [
    "%reset -f \n",
    "class Fruit(object):\n",
    "    _name=''\n",
    "    def __init__(self,name): \n",
    "        self._set_name(name)\n",
    "    def _set_name(self,name):        \n",
    "        if self._name == '': \n",
    "            self._name = name\n",
    "        else: \n",
    "            raise TypeError('Fruit name cannot be changed once set')\n",
    "    def _get_name(self):          \n",
    "        return self._name\n",
    "    def _del_name(self):          \n",
    "        del self._name\n",
    "    def __str__(self): \n",
    "        return \"this fruit is an \"+self._name\n",
    "        \n",
    "    # assign properties\n",
    "    name = property(_get_name,\\\n",
    "                    _set_name,\\\n",
    "                    _del_name,\\\n",
    "                    'name is property of Fruit')\n",
    "    \n",
    "\n",
    "f = Fruit('apple')\n",
    "print(f)\n",
    "try: \n",
    "    f.name = 'pear'     \n",
    "except TypeError as err: \n",
    "    print(' -> err: ', err)\n",
    "print(f.name)"
   ]
  },
  {
   "cell_type": "markdown",
   "metadata": {
    "slideshow": {
     "slide_type": "subslide"
    }
   },
   "source": [
    "## Property decorations\n",
    "\n",
    "* you can use decorators to invoke property() \n",
    " * you mark a function instead of call property() at the end of the class definition\n",
    " * you can avoid underscore prefixes \n",
    " * (more readable)\n",
    "* @property decorates the getter of the attribute \\$foo\n",
    "* @\\$foo.setter decorates the setter\n",
    "* @\\$foo.deleter decorates the deleter"
   ]
  },
  {
   "cell_type": "code",
   "execution_count": 22,
   "metadata": {
    "slideshow": {
     "slide_type": "subslide"
    }
   },
   "outputs": [
    {
     "name": "stdout",
     "output_type": "stream",
     "text": [
      "this fruit is an apple\n",
      " -> err:  Fruit name cannot be changed once set\n",
      "apple\n"
     ]
    }
   ],
   "source": [
    "%reset -f \n",
    "class Fruit(object): # re-implementation using property decorators\n",
    "    def __init__(self,name=None): \n",
    "        self._name = name\n",
    "    @property    \n",
    "    def name(self):     \n",
    "        '''name is property of Fruit'''\n",
    "        return self._name\n",
    "    @name.setter\n",
    "    def name(self,name):\n",
    "        if not self._name: \n",
    "            self._name = name\n",
    "        else: \n",
    "            raise TypeError('Fruit name cannot be changed once set')        \n",
    "    @name.deleter\n",
    "    def name(self):          \n",
    "        del self._name\n",
    "    def __str__(self): \n",
    "        return \"this fruit is an \"+self._name        \n",
    "\n",
    "f = Fruit('apple')\n",
    "print(f)\n",
    "try: \n",
    "    f.name = 'pear'\n",
    "except TypeError as err: \n",
    "    print(' -> err: ', err)\n",
    "print(f.name)"
   ]
  },
  {
   "cell_type": "markdown",
   "metadata": {
    "slideshow": {
     "slide_type": "subslide"
    }
   },
   "source": [
    "## Why properties are useful\n",
    "\n",
    "* methods should implement an action \n",
    " * (commonly named with verbs)\n",
    "* data attributes do not not implement an action \n",
    " * (commonly named with a noun)\n",
    "* properties differs from data attributes because...\n",
    " * they can embed customized actions when they are accessed "
   ]
  },
  {
   "cell_type": "code",
   "execution_count": 26,
   "metadata": {
    "slideshow": {
     "slide_type": "subslide"
    }
   },
   "outputs": [
    {
     "name": "stdout",
     "output_type": "stream",
     "text": [
      "setting self._positive\n",
      "getting self._positive\n",
      "[1, 2, 3]\n",
      "getting self._positive\n",
      "[1, 2, 3]\n",
      "getting self._positive\n",
      "[1, 2, 3]\n"
     ]
    }
   ],
   "source": [
    "%reset -f\n",
    "class Values(list):     \n",
    "    _positive=[]\n",
    "    def __init__(self,data=None): \n",
    "        self._data    = data   \n",
    "        self.positive = data # calls the setter\n",
    "    @property\n",
    "    def positive(self): \n",
    "        print(\"getting self._positive\")\n",
    "        return self._positive\n",
    "    @positive.setter\n",
    "    def positive(self,data): \n",
    "        print(\"setting self._positive\")\n",
    "        if not self._positive:  # prevents the use of this setter outside of this class\n",
    "            [self._positive.append(d) for d in data if d>0]\n",
    "        \n",
    "v = Values([-1,1,-2,2,-3,3] )  \n",
    "for i in range(3):\n",
    "    print(v.positive)  # calls the setter only the first time, then only the getter"
   ]
  },
  {
   "cell_type": "markdown",
   "metadata": {
    "slideshow": {
     "slide_type": "slide"
    }
   },
   "source": [
    "## Inheritance \n",
    "\n",
    "* a new class can inherit attributes from one or more \"base\" classes\n",
    " * this new class is called derived class\n",
    " * the base class must be in a scope containing the derived class\n",
    "* if a requested attribute is not found in the class, the search proceeds to look in the base class   \n",
    " * this rule is applied recursively if base classe is derived itself\n",
    "* a derived class can override methods of a base class\n",
    " * a method of a base class may end up calling a method of a derived class\n",
    " * this behaviour is equivalent to C++ virtual classes\n",
    " * the overriden base class method can be invoked explicitly (baseClass.methosName(self,args)) \n",
    "* sometimes overriden methods have a lot in commons with the relative base definition\n",
    " * super() is a built-in function that can be used to extend the base class method\n",
    "\n",
    "#### isinstance(inst,class): True if inst is an instance of of class or derived \n",
    "#### issubclass(subClass,class): True if subClass derived from class \n",
    "\n"
   ]
  },
  {
   "cell_type": "code",
   "execution_count": 2,
   "metadata": {
    "slideshow": {
     "slide_type": "subslide"
    }
   },
   "outputs": [
    {
     "name": "stdout",
     "output_type": "stream",
     "text": [
      "f0 is a method of class A\n",
      "f0 is a method of class B\n"
     ]
    }
   ],
   "source": [
    "%reset -f\n",
    "class A(object):\n",
    "    def f(self): return self.f0() # calls A.f0()\n",
    "    def f0(self): return \"f0 is a method of class A\"\n",
    "class B(A): \n",
    "    def f0(self): return \"f0 is a method of class B\"\n",
    "\n",
    "a = A()    \n",
    "b = B()\n",
    "print(a.f()) \n",
    "print(b.f()) # b.f()->a.f()->(self).f0() == b.f0()\n",
    "             # b inherits b from class A and calls A.f0()\n",
    "             # however, A.f0() was overriden by B.f0()! "
   ]
  },
  {
   "cell_type": "code",
   "execution_count": 7,
   "metadata": {
    "slideshow": {
     "slide_type": "subslide"
    }
   },
   "outputs": [
    {
     "name": "stdout",
     "output_type": "stream",
     "text": [
      "True\n",
      "False\n",
      "True\n"
     ]
    }
   ],
   "source": [
    "%reset -f\n",
    "class A(object):\n",
    "    def f(self): pass\n",
    "class B(A):       # inherits from A\n",
    "    pass\n",
    "class C(object):  # does not inherit from A\n",
    "    pass\n",
    "class D(B):       # inherits from B, which inherits from A\n",
    "    pass\n",
    "\n",
    "print(issubclass(B,A)) # True\n",
    "print(issubclass(C,A)) # False\n",
    "print(issubclass(D,A)) # True\n",
    "\n"
   ]
  },
  {
   "cell_type": "code",
   "execution_count": 8,
   "metadata": {
    "slideshow": {
     "slide_type": "subslide"
    }
   },
   "outputs": [
    {
     "name": "stdout",
     "output_type": "stream",
     "text": [
      "True\n",
      "True\n",
      "False\n"
     ]
    }
   ],
   "source": [
    "a = A()\n",
    "b = B()   # B inherits from A\n",
    "\n",
    "print(isinstance(b,B)) # True \n",
    "print(isinstance(b,A)) # True \n",
    "print(isinstance(a,B)) # False "
   ]
  },
  {
   "cell_type": "markdown",
   "metadata": {
    "slideshow": {
     "slide_type": "slide"
    }
   },
   "source": [
    "## HAS A != IS A\n",
    "\n",
    "* a class HAS attributes that define a specific behavior \n",
    "* DO NOT USE INHERITANCE JUST TO REUSE IMPLEMENTATION OF A METHOD OR AN ATTRIBUTE\n",
    " * conceptually Inheritance implements IS A \n",
    " * Inheritance should never be used to implement HAS A\n",
    " * the derived class IS the same kind of the base class with additional features "
   ]
  },
  {
   "cell_type": "markdown",
   "metadata": {
    "slideshow": {
     "slide_type": "slide"
    }
   },
   "source": [
    "## Multiple inheritance\n",
    "\n",
    "* a class can be derived by multiple base class\n",
    "* search for attributes is depth-first, left-to-right \n",
    " * Method Resolution Order algorithm \n",
    " * base class should be accessed only once, otherwise TypeError is raised\n",
    "* type(obj).mro(): returns the order in which the methods accessed by obj are searched "
   ]
  },
  {
   "cell_type": "code",
   "execution_count": 36,
   "metadata": {},
   "outputs": [
    {
     "name": "stdout",
     "output_type": "stream",
     "text": [
      "A IS both B and C\n",
      "B has f_b\n",
      "C has f_c\n"
     ]
    }
   ],
   "source": [
    "%reset -f\n",
    "class C(object): \n",
    "    def f_c(self): return \"C has f_c\"\n",
    "class B(object): \n",
    "    def f_b(self): return \"B has f_b\"\n",
    "class A(B,C): \n",
    "    def __str__(self): return \"A IS both B and C\"\n",
    "    pass\n",
    "\n",
    "a = A() \n",
    "print(a)\n",
    "print(a.f_b()) # inherited from B\n",
    "print(a.f_c()) # inherited from C"
   ]
  },
  {
   "cell_type": "markdown",
   "metadata": {},
   "source": [
    "## super() and Method Resolution Order  \n",
    "\n",
    "* super() means super(NextBaseClass,self)\n",
    " * MRO rules what means \"next\" \n",
    " * diamond structure: what is method order?\n",
    "```txt\n",
    "|               A.f()\n",
    "|              / \\\n",
    "|             /   \\\n",
    "|            /     \\\n",
    "|           B.f()   C.f()\n",
    "|            \\     / \n",
    "|             \\   /  \n",
    "|              \\ /   \n",
    "|               D.f()\n",
    "```"
   ]
  },
  {
   "cell_type": "code",
   "execution_count": 64,
   "metadata": {},
   "outputs": [
    {
     "name": "stdout",
     "output_type": "stream",
     "text": [
      "B\n",
      "[<class '__main__.A'>, <class '__main__.B'>, <class '__main__.C'>, <class '__main__.D'>, <class 'object'>]\n",
      "C\n",
      "[<class '__main__.A2'>, <class '__main__.C'>, <class '__main__.B'>, <class '__main__.D'>, <class 'object'>]\n"
     ]
    }
   ],
   "source": [
    "%reset -f\n",
    "class D(object): \n",
    "    def f(self): return \"D\"\n",
    "class C(D): \n",
    "    def f(self): return \"C\"    \n",
    "class B(D): \n",
    "    def f(self): return \"B\"\n",
    "class A(B,C):    pass\n",
    "class A2(C,B):   pass\n",
    "\n",
    "\n",
    "a = A()\n",
    "print(a.f()) # B or C?  B\n",
    "print(A.mro())\n",
    "\n",
    "a2 = A2()\n",
    "print(a2.f()) # B or C? C \n",
    "print(A2.mro())\n"
   ]
  },
  {
   "cell_type": "code",
   "execution_count": 61,
   "metadata": {
    "slideshow": {
     "slide_type": "subslide"
    }
   },
   "outputs": [
    {
     "name": "stdout",
     "output_type": "stream",
     "text": [
      "C\n",
      "D\n",
      "D\n"
     ]
    }
   ],
   "source": [
    "b = B()\n",
    "for i in [a,a2,b]:\n",
    "    print(super(B,i).f()) # gets the MRO for object i, \n",
    "                          # call the f() for the class next to the MRO with respect to B"
   ]
  },
  {
   "cell_type": "markdown",
   "metadata": {
    "slideshow": {
     "slide_type": "slide"
    }
   },
   "source": [
    "## Polymorphism \n",
    "\n",
    "* polymorphism is the provision of a single interface to entities of different types: \n",
    " * subtyping: supported with inheritance\n",
    " * parametric polymorphism: supported with generic programming (e.g., templates)  \n",
    " * ad hoc polymorphism: supported in many languages using function overloading \n",
    "* implementation aspects\n",
    " * the implementation is static if selected at compile time (e.g. C++ templates, macros or function overloading) \n",
    " * the implementation is dynamic if selected at run time (e.g. virtual functions, abstract base classes)\n",
    " \n",
    "## Polymorphism in python\n",
    "\n",
    "* subtyping (via inheritance)\n",
    "* duck typing\n",
    "* abstract base classes  (optional)\n",
    " "
   ]
  },
  {
   "cell_type": "markdown",
   "metadata": {
    "slideshow": {
     "slide_type": "subslide"
    }
   },
   "source": [
    "## Subtyping and duck typing\n",
    "\n",
    "* a subtype is a datatype that is related to another datatype, i.e. the supertype, i.e. the interface\n",
    " * multiple subtype can refere to the same interface\n",
    " * polymorphic subtyping is a good reason to use inheritance \n",
    "* duck typing mimics subtyping without implementing inheritance\n",
    " * \"If it walks like a duck and it quacks like a duck, then it must be a duck.\"\n",
    "\n",
    "#### in normal programming style, suitability is assumed to be determined by an object's type only\n",
    "#### in duck typing's style, suitability is determined by the interface (i.e., the presence of certain methods and properties)  \n"
   ]
  },
  {
   "cell_type": "code",
   "execution_count": 2,
   "metadata": {
    "slideshow": {
     "slide_type": "subslide"
    }
   },
   "outputs": [
    {
     "name": "stdout",
     "output_type": "stream",
     "text": [
      "I hear... a Tiger which roarrrrs\n",
      "I hear... a Dog which whoooofs\n",
      "I hear... a Bird which tweets\n"
     ]
    }
   ],
   "source": [
    "%reset -f\n",
    "class Animal(object):  # interface class\n",
    "    def __init__(self): pass\n",
    "    def call(self): return self.animalSound\n",
    "class Tiger(Animal):\n",
    "    animalSound=\"roarrrrs\" \n",
    "class Dog(Animal):\n",
    "    animalSound=\"whoooofs\"\n",
    "class Bird(Animal):\n",
    "    animalSound=\"tweets\"  \n",
    "\n",
    "def I_hear_(something):\n",
    "    print('I hear... a '+\\\n",
    "          something.__class__.__name__,\\\n",
    "          'which',something.call())     \n",
    "al=[]\n",
    "al.append(Tiger())\n",
    "al.append(Dog())\n",
    "al.append(Bird())\n",
    "\n",
    "for this_animal in al:\n",
    "    # the interface method is invoked dynamically\n",
    "    I_hear_(this_animal) "
   ]
  },
  {
   "cell_type": "code",
   "execution_count": 1,
   "metadata": {
    "slideshow": {
     "slide_type": "subslide"
    }
   },
   "outputs": [
    {
     "name": "stdout",
     "output_type": "stream",
     "text": [
      "I hear... a Duck which definitely quacks like a duck\n"
     ]
    }
   ],
   "source": [
    "%reset -f\n",
    "class Animal(object):  # interface class\n",
    "    def __init__(self): pass\n",
    "    def call(self): return self.animalSound\n",
    "    \n",
    "# duck typing example: \n",
    "# Duck is not subclass of Animal, but has the same interface\n",
    "class Duck(object): \n",
    "    animalSound=\"definitely quacks like a duck\"\n",
    "    def __init__(self): pass\n",
    "    def call(self): return self.animalSound    \n",
    "    \n",
    "def I_hear_(something):\n",
    "    print('I hear... a '+\\\n",
    "          something.__class__.__name__,\\\n",
    "          'which',something.call()) \n",
    "    \n",
    "I_hear_(Duck())"
   ]
  },
  {
   "cell_type": "code",
   "execution_count": 78,
   "metadata": {
    "slideshow": {
     "slide_type": "subslide"
    }
   },
   "outputs": [
    {
     "name": "stdout",
     "output_type": "stream",
     "text": [
      "7 is multiple of 7\n",
      "8 is multiple of 8\n",
      "9 is multiple of 9\n",
      "10 is multiple of 10\n",
      "14 is multiple of 7\n",
      "16 is multiple of 8\n",
      "18 is multiple of 9\n",
      "20 is multiple of 10\n",
      "21 is multiple of 7\n",
      "24 is multiple of 8\n",
      "27 is multiple of 9\n",
      "28 is multiple of 7\n",
      "30 is multiple of 10\n"
     ]
    }
   ],
   "source": [
    "%reset -f\n",
    "class multiple_of_(object):                        # I am duck-typing the class Container \n",
    "    def __init__(self,number): self.number=number  # constructor to indroduce an attribute number\n",
    "    def __contains__(self,x):                      # method that defines which number belongs to this class\n",
    "        if x<self.number: return False             # by definition, multiple of x should not be smaller than x \n",
    "        if x%self.number==0: return True           # if multiple of number, then it belongs to this class\n",
    "        else: return False                         # otherwise it does not\n",
    "    def __str__(self): \n",
    "        return 'is multiple of '+str(self.number)\n",
    "\n",
    "m10 = multiple_of_(10)\n",
    "m9 = multiple_of_(9)\n",
    "m8 = multiple_of_(8)\n",
    "m7 = multiple_of_(7)\n",
    "for i in range(31):\n",
    "    for j in [m7,m8,m9,m10]:             \n",
    "        if i in j:                \n",
    "            print(i,j)"
   ]
  },
  {
   "cell_type": "markdown",
   "metadata": {
    "slideshow": {
     "slide_type": "slide"
    }
   },
   "source": [
    "### removed abc from this lecture\n",
    "\n",
    "## Duck typing limits and abstract base classes (ABCs) \n",
    "\n",
    "\n",
    "* duck typing does not verify whether the class satisfies your requirements or not\n",
    " * the concept of abstract classes extends duck typing\n",
    " * an abstract class defines a set of attributes that a class must implement (i.e., limits the duck-type flexibility)\n",
    "* collections module contains many ABCs implementations\n",
    " * e.g., the Container class\n",
    " * to duck-type an ABC some methods must be defines: check this using \\__abstractmethods\\__ \n",
    "* abc module provides the infrastructure to define new ABC classes\n",
    " * uses decorators"
   ]
  },
  {
   "cell_type": "markdown",
   "metadata": {
    "slideshow": {
     "slide_type": "slide"
    }
   },
   "source": [
    "## How to define a context manager class  \n",
    "\n",
    "\n",
    "* a context manager class must define two methods: \n",
    " * \\_\\_enter\\_\\_(self): enter the runtime context \n",
    " * \\_\\_exit\\_\\_(self, exc_type, exc_value, traceback): exit the runtime context\n",
    "* useful to embed a specific protocol "
   ]
  },
  {
   "cell_type": "code",
   "execution_count": 35,
   "metadata": {
    "slideshow": {
     "slide_type": "subslide"
    }
   },
   "outputs": [
    {
     "name": "stdout",
     "output_type": "stream",
     "text": [
      "# with no interrupt\n",
      "__enter__\n",
      "doing something with  <__main__.CManager object at 0x7ffb0c46b470>\n",
      "__exit__: None None\n",
      "done something\n",
      "\n",
      "# with interrupt\n",
      "__enter__\n",
      "doing something with  <__main__.CManager object at 0x7ffb0c46b2b0>\n",
      "__exit__: <class '__main__.myErr'> err msg\n",
      "done something\n"
     ]
    }
   ],
   "source": [
    "%reset -f \n",
    "class myErr(Exception): pass\n",
    "\n",
    "class CManager(object):\n",
    "    def __enter__(self):\n",
    "        print('__enter__')\n",
    "        return self    \n",
    "    def __exit__(self, type, value, traceback):\n",
    "        print('__exit__:', type, value)\n",
    "        return True # if False no exception is considered\n",
    "\n",
    "print('# with no interrupt')\n",
    "with CManager() as c:\n",
    "    print('doing something with ', c)\n",
    "print('done something\\n')    \n",
    "    \n",
    "print('# with interrupt')\n",
    "with CManager() as c:\n",
    "    print('doing something with ', c)\n",
    "    raise myErr('err msg')\n",
    "    print('unreachable')\n",
    "print('done something')\n",
    "\n",
    "\n"
   ]
  },
  {
   "cell_type": "markdown",
   "metadata": {
    "slideshow": {
     "slide_type": "subslide"
    }
   },
   "source": [
    "## contextlib module\n",
    "\n",
    "* decorator @contextmanager: combined with yield, can be used to define context manager even without defining a class\n",
    "* ContextDecorator: base class to enable a context manager to be used as a decorator\n"
   ]
  },
  {
   "cell_type": "code",
   "execution_count": 131,
   "metadata": {
    "slideshow": {
     "slide_type": "subslide"
    }
   },
   "outputs": [
    {
     "name": "stdout",
     "output_type": "stream",
     "text": [
      "<thisTag> something </thisTag>"
     ]
    }
   ],
   "source": [
    "%reset -f\n",
    "from contextlib import contextmanager\n",
    "\n",
    "@contextmanager\n",
    "def tag(name): \n",
    "    print(\"<{}> \".format(name),end=\"\")\n",
    "    yield\n",
    "    print(\" </{}>\".format(name),end=\"\")\n",
    "    \n",
    "with tag(\"thisTag\"): \n",
    "    print(\"something\",end=\"\")    "
   ]
  },
  {
   "cell_type": "code",
   "execution_count": 4,
   "metadata": {
    "slideshow": {
     "slide_type": "subslide"
    }
   },
   "outputs": [
    {
     "name": "stdout",
     "output_type": "stream",
     "text": [
      "0.18143653869628906 ms\n",
      "0.028133392333984375 ms\n",
      "0.3943443298339844 ms\n",
      "0.10967254638671875 ms\n",
      "0.10013580322265625 ms\n",
      "0.09894371032714844 ms\n",
      "0.10061264038085938 ms\n",
      "0.09894371032714844 ms\n",
      "0.09870529174804688 ms\n",
      "0.09918212890625 ms\n",
      "whole time: \n",
      "3.642559051513672 ms\n"
     ]
    }
   ],
   "source": [
    "%reset -f\n",
    "from contextlib import ContextDecorator\n",
    "import time\n",
    "class Timer(object):\n",
    "    def __enter__(self):\n",
    "        self.__t1 = time.time()\n",
    "        return self\n",
    "    def __exit__(self,*exc):\n",
    "        self.__t2 = time.time()\n",
    "        print(1000*(self.__t2-self.__t1),'ms')\n",
    "        return False\n",
    "    \n",
    "with Timer():\n",
    "    for i in range(10):         \n",
    "        with Timer(): \n",
    "            print('',end='')\n",
    "    print(\"whole time: \")"
   ]
  },
  {
   "cell_type": "code",
   "execution_count": 7,
   "metadata": {
    "slideshow": {
     "slide_type": "subslide"
    }
   },
   "outputs": [
    {
     "name": "stdout",
     "output_type": "stream",
     "text": [
      "0.11539459228515625 ms\n",
      "0.030517578125 ms\n",
      "0.2498626708984375 ms\n",
      "0.15091896057128906 ms\n",
      "0.12159347534179688 ms\n",
      "0.12111663818359375 ms\n",
      "0.12254714965820312 ms\n",
      "0.12087821960449219 ms\n",
      "0.12087821960449219 ms\n",
      "0.12111663818359375 ms\n",
      "whole time: \n",
      "4.659891128540039 ms\n"
     ]
    }
   ],
   "source": [
    "%reset -f\n",
    "from contextlib import ContextDecorator\n",
    "import time\n",
    "class Timer(ContextDecorator):\n",
    "    def __enter__(self):\n",
    "        self.__t1 = time.time()\n",
    "        return self\n",
    "    def __exit__(self,*exc):\n",
    "        self.__t2 = time.time()\n",
    "        print(1000*(self.__t2-self.__t1),'ms')\n",
    "        return False\n",
    "@Timer()\n",
    "def fun(): \n",
    "    print('',end='')\n",
    "@Timer()\n",
    "def ten_times_fun():\n",
    "    for i in range(10): \n",
    "        fun()\n",
    "    print(\"whole time: \")\n",
    "    \n",
    "ten_times_fun()        \n",
    "    "
   ]
  },
  {
   "cell_type": "markdown",
   "metadata": {
    "slideshow": {
     "slide_type": "slide"
    }
   },
   "source": [
    "## Iterable, sequences and iterators\n",
    "\n",
    "* an iterable is an object with \\_\\_iter\\_\\_() method\n",
    " * \\_\\_iter\\_\\_() normally return the class itself\n",
    "* a sequence is an iterable with \\_\\_getitem\\_\\_() and \\_\\_len\\_\\_() methods \n",
    " * e.g., list, str, tuple are sequences \n",
    "* an iterator is an iterable with \\_\\_next\\_\\_() method\n",
    " * \\_\\_next\\_\\_() contains the logic to obtain the next element \n",
    " * \\_\\_next\\_\\_() should raise StopIteration() when no elements are left"
   ]
  },
  {
   "cell_type": "code",
   "execution_count": 17,
   "metadata": {
    "slideshow": {
     "slide_type": "subslide"
    }
   },
   "outputs": [
    {
     "name": "stdout",
     "output_type": "stream",
     "text": [
      "[0, 2, 4]\n"
     ]
    }
   ],
   "source": [
    "%reset -f \n",
    "class CapitalChars_Iterator(object):     \n",
    "    def __init__(self,string): \n",
    "        self._string = string\n",
    "        self._index = -1\n",
    "    def __next__(self): \n",
    "        self._index += 1\n",
    "        if self._index >= len(self._string): \n",
    "            raise StopIteration()\n",
    "        if self._string[self._index].isupper():            \n",
    "            return self._index\n",
    "        # else returns None        \n",
    "    def __iter__(self):        \n",
    "        return self\n",
    "\n",
    "print([i for i in CapitalChars_Iterator('SiSsA') if i != None])"
   ]
  },
  {
   "cell_type": "markdown",
   "metadata": {
    "slideshow": {
     "slide_type": "slide"
    }
   },
   "source": [
    "## Unit testing framework\n",
    "\n",
    "Why test? \n",
    "* testing is a crucial aspects of software development\n",
    " * it ensures code works as the developer thinks\n",
    " * it ensures code still works after changes \n",
    " * in teamwork, it helps planning, understanding and sharing requirements\n",
    " \n",
    "* tests should be devised before the software development\n",
    "* python has a built-in test library: unittest\n",
    "\n",
    "Workflow\n",
    "\n",
    "* 0) import the module to be tested\n",
    "* 1) define your class derived from unittest: the TestCase\n",
    "* 2) fill it with test functions whose names start with 'test_'\n",
    "* 3) run tests using unittest.main(\\[argv,exit\\]): argv and SystemExit in case an exception is raised\n",
    "\n",
    "\n",
    "\n"
   ]
  },
  {
   "cell_type": "markdown",
   "metadata": {
    "slideshow": {
     "slide_type": "subslide"
    }
   },
   "source": [
    "## TestCase methods to run the test\n",
    "\n",
    "* setUpModule(), tearDownModule(): called at first and at last in module, run once \n",
    "* setUpClass(), tearDownClass: called at first and at last in class, run once, must be decorated @classmethod \n",
    "* setUp(), tearDown(): execute before/after any TestCase method\n",
    " \n",
    "\n"
   ]
  },
  {
   "cell_type": "code",
   "execution_count": 30,
   "metadata": {
    "slideshow": {
     "slide_type": "subslide"
    }
   },
   "outputs": [
    {
     "name": "stderr",
     "output_type": "stream",
     "text": [
      ".E."
     ]
    },
    {
     "name": "stdout",
     "output_type": "stream",
     "text": [
      "setUpModule\n",
      " setUpClass Example1\n",
      "  setUp\n",
      "   test1\n",
      "  tearDown\n",
      "  setUp\n",
      "   test2\n",
      "  tearDown\n",
      " tearDownClass Example1\n",
      " setUpClass Example2\n",
      "   test3\n",
      " tearDownClass Example2\n",
      "tearDownModule\n",
      "<unittest.main.TestProgram object at 0x7fa7580837b8>\n"
     ]
    },
    {
     "name": "stderr",
     "output_type": "stream",
     "text": [
      "\n",
      "======================================================================\n",
      "ERROR: test2 (__main__.Example1)\n",
      "----------------------------------------------------------------------\n",
      "Traceback (most recent call last):\n",
      "  File \"<ipython-input-30-9b56c873b00a>\", line 16, in test2\n",
      "    raise Err('error')\n",
      "TypeError: object() takes no parameters\n",
      "\n",
      "----------------------------------------------------------------------\n",
      "Ran 3 tests in 0.004s\n",
      "\n",
      "FAILED (errors=1)\n"
     ]
    }
   ],
   "source": [
    "%reset -f\n",
    "import unittest\n",
    "\n",
    "class Err(object): pass\n",
    "\n",
    "def setUpModule(): print(\"setUpModule\")\n",
    "def tearDownModule(): print(\"tearDownModule\")\n",
    "\n",
    "class Example1(unittest.TestCase):\n",
    "    @classmethod\n",
    "    def setUpClass(self): print(\" setUpClass Example1\")\n",
    "    def setUp(self): print(\"  setUp\")\n",
    "    def test1(self): print(\"   test1\")        \n",
    "    def test2(self): \n",
    "        print(\"   test2\")\n",
    "        raise Err('error')\n",
    "    def tearDown(self): print(\"  tearDown\")\n",
    "    @classmethod\n",
    "    def tearDownClass(self): print(\" tearDownClass Example1\")\n",
    "\n",
    "class Example2(unittest.TestCase): \n",
    "    @classmethod\n",
    "    def setUpClass(cls): print(\" setUpClass Example2\")\n",
    "    @classmethod\n",
    "    def tearDownClass(cls): print(\" tearDownClass Example2\")\n",
    "    def test3(self): print(\"   test3\")        \n",
    "    \n",
    "print(unittest.main(argv=['first-arg-is-ignored'], exit=False))"
   ]
  },
  {
   "cell_type": "markdown",
   "metadata": {
    "slideshow": {
     "slide_type": "subslide"
    }
   },
   "source": [
    "## TestCase assert methods\n",
    "\n",
    "Most common asserts \n",
    " * assertFalse(x\\[,msg\\]), assertTrue(x\\[,msg\\]) \n",
    " * assertEqual(a,b\\[,msg\\]), assertNotEqual(a,b\\[,msg\\]),assertGreater(a,b\\[,msg\\]), assertGreaterEqual(a,b\\[,msg\\]),assertLess(a,b\\[,msg\\]), assertLessEqual(a,b\\[,msg\\])  \n",
    " * assertIs(a,b\\[,msg\\]), assertIsNot(a,b\\[,msg\\]), assertIsNone(x\\[,msg\\]), assertIsNotNone(x\\[,msg\\]), \n",
    " * assertIn(a,b\\[,msg\\]), assertNotIn(a,b\\[,msg\\])\n",
    " * assertIsInstance(a,b\\[,msg\\]), assertNotIsInstance(a,b\\[,msg\\])\n",
    "\n",
    "Type-specific asserts\n",
    " * assertMultiLineEqual(a,b\\[,msg\\]), assertSequenceEqual(a,b\\[,msg\\]), assertListEqual(a,b\\[,msg\\]), assertTupleEqual(a,b\\[,msg\\]), assertSetEqual(a,b\\[,msg\\]), assertDictEqual(a,b\\[,msg\\])\n",
    "\n",
    "\n",
    "\n",
    "It is possible to check if Exceptions, Warnings or Logs were invoked\n",
    "* assertRaises(exc, fun, \\*args, \\*\\*kwds) \n",
    " * fun(\\*args,\\*\\*kwds) raises exception exc\n",
    "* assertRaisesRegex(exc, fun, \\*args, \\*\\*kwds) \n",
    " * fun(\\*args,\\*\\*kwds) raises exception exc and message matches regex r\n",
    "* assertWarns(warn, fun, \\*args, \\*\\*kwds) \n",
    " * fun(\\*args,\\*\\*kwds) raises warning warn\n",
    "* assertWarnsRegex()\n",
    " * fun(\\*args,\\*\\*kwds) raises warning warn and message matches regex r\n",
    "* assertLogs(logger,level)  -- TODO\n",
    " * the with block logs on logger with minimum level\n",
    "\n"
   ]
  },
  {
   "cell_type": "code",
   "execution_count": 65,
   "metadata": {
    "scrolled": true,
    "slideshow": {
     "slide_type": "subslide"
    }
   },
   "outputs": [
    {
     "name": "stderr",
     "output_type": "stream",
     "text": [
      "..E"
     ]
    },
    {
     "name": "stdout",
     "output_type": "stream",
     "text": [
      "<unittest.main.TestProgram object at 0x7f796036d278>\n"
     ]
    },
    {
     "name": "stderr",
     "output_type": "stream",
     "text": [
      "\n",
      "======================================================================\n",
      "ERROR: test3 (__main__.Test)\n",
      "----------------------------------------------------------------------\n",
      "Traceback (most recent call last):\n",
      "  File \"<ipython-input-65-a467d41f55bd>\", line 13, in test3\n",
      "    self.assertRaises(TypeError,fun_raising_WarningMsg)\n",
      "  File \"/home/jaky/miniconda3/envs/py36/lib/python3.6/unittest/case.py\", line 733, in assertRaises\n",
      "    return context.handle('assertRaises', args, kwargs)\n",
      "  File \"/home/jaky/miniconda3/envs/py36/lib/python3.6/unittest/case.py\", line 178, in handle\n",
      "    callable_obj(*args, **kwargs)\n",
      "  File \"<ipython-input-65-a467d41f55bd>\", line 5, in fun_raising_WarningMsg\n",
      "    def fun_raising_WarningMsg(): raise Warning('warning message')\n",
      "Warning: warning message\n",
      "\n",
      "----------------------------------------------------------------------\n",
      "Ran 3 tests in 0.015s\n",
      "\n",
      "FAILED (errors=1)\n"
     ]
    }
   ],
   "source": [
    "%reset -f \n",
    "import unittest\n",
    "\n",
    "def fun_raising_TypeError(): raise TypeError('type error')\n",
    "def fun_raising_WarningMsg(): raise Warning('warning message')\n",
    "\n",
    "class Test(unittest.TestCase):\n",
    "    def test1(self): \n",
    "        self.assertRaises(TypeError,fun_raising_TypeError)\n",
    "    def test2(self):\n",
    "        self.assertRaises(Warning,fun_raising_WarningMsg)\n",
    "    def test3(self): # should fail\n",
    "        self.assertRaises(TypeError,fun_raising_WarningMsg)\n",
    "\n",
    "print(unittest.main(argv=['first-arg-is-ignored'], exit=False))                        "
   ]
  },
  {
   "cell_type": "markdown",
   "metadata": {
    "slideshow": {
     "slide_type": "subslide"
    }
   },
   "source": [
    "## Skip decorators\n",
    "\n",
    "Tests usefulness could be conditioned to conditions (e.g., platforms, libraries' version, ...)\n",
    "* @unittest.skip(reason): skips the test\n",
    "* @unittest.skipIf(condition, reason): skips if condition is True\n",
    "* @unittest.skipUnless(condition, reason):  skips unless condition is True\n",
    "* @unittest.expectedFailure: marks (but does not count) as failure \n",
    "* exception unittest.SkipTest(reason): to skip from inside the test "
   ]
  },
  {
   "cell_type": "code",
   "execution_count": 678,
   "metadata": {
    "slideshow": {
     "slide_type": "subslide"
    }
   },
   "outputs": [
    {
     "name": "stderr",
     "output_type": "stream",
     "text": [
      "sss"
     ]
    },
    {
     "name": "stdout",
     "output_type": "stream",
     "text": [
      "test3\n",
      "<unittest.main.TestProgram object at 0x7f4b5ff04668>\n"
     ]
    },
    {
     "name": "stderr",
     "output_type": "stream",
     "text": [
      "\n",
      "----------------------------------------------------------------------\n",
      "Ran 3 tests in 0.002s\n",
      "\n",
      "OK (skipped=3)\n"
     ]
    }
   ],
   "source": [
    "%reset -f\n",
    "import unittest\n",
    "\n",
    "class Example(unittest.TestCase):\n",
    "    trueCondition = True\n",
    "    falseCondition = False\n",
    "    @unittest.skipIf(trueCondition,\\\n",
    "                     \"good reason to skip test1\")\n",
    "    def test1(self): pass\n",
    "    @unittest.skipUnless(falseCondition,\\\n",
    "                         \"good reason to skip test2\")\n",
    "    def test2(self): pass    \n",
    "    def test3(self): \n",
    "        print(\"test3\")\n",
    "        if True: raise unittest.SkipTest(\"this makes test3 useless\")\n",
    "        print(\"not going to be printed\")\n",
    "    \n",
    "print(unittest.main(argv=['first-arg-is-ignored'], exit=False))"
   ]
  },
  {
   "cell_type": "markdown",
   "metadata": {
    "slideshow": {
     "slide_type": "subslide"
    }
   },
   "source": [
    "## Iterate tests using subtests\n",
    "\n",
    "* you can distinguish similar tests inside the body of the same test method using subTest\n",
    " * subTest(\\[msg=None,\\**params\\]): test can be nested as context manager"
   ]
  },
  {
   "cell_type": "code",
   "execution_count": 6,
   "metadata": {
    "scrolled": false,
    "slideshow": {
     "slide_type": "subslide"
    }
   },
   "outputs": [
    {
     "name": "stdout",
     "output_type": "stream",
     "text": [
      "<unittest.main.TestProgram object at 0x7f99940d9128>\n"
     ]
    },
    {
     "name": "stderr",
     "output_type": "stream",
     "text": [
      "\n",
      "======================================================================\n",
      "FAIL: test_list (__main__.Test) (value='7')\n",
      "----------------------------------------------------------------------\n",
      "Traceback (most recent call last):\n",
      "  File \"<ipython-input-6-4c54590060b2>\", line 13, in test_list\n",
      "    self.assertEqual(type(i), type(1))\n",
      "AssertionError: <class 'str'> != <class 'int'>\n",
      "\n",
      "======================================================================\n",
      "FAIL: test_list (__main__.Test) (value='8')\n",
      "----------------------------------------------------------------------\n",
      "Traceback (most recent call last):\n",
      "  File \"<ipython-input-6-4c54590060b2>\", line 13, in test_list\n",
      "    self.assertEqual(type(i), type(1))\n",
      "AssertionError: <class 'str'> != <class 'int'>\n",
      "\n",
      "======================================================================\n",
      "FAIL: test_list (__main__.Test) (value='9')\n",
      "----------------------------------------------------------------------\n",
      "Traceback (most recent call last):\n",
      "  File \"<ipython-input-6-4c54590060b2>\", line 13, in test_list\n",
      "    self.assertEqual(type(i), type(1))\n",
      "AssertionError: <class 'str'> != <class 'int'>\n",
      "\n",
      "----------------------------------------------------------------------\n",
      "Ran 1 test in 0.001s\n",
      "\n",
      "FAILED (failures=3)\n"
     ]
    }
   ],
   "source": [
    "%reset -f \n",
    "import unittest\n",
    "\n",
    "global ListOfIntegers \n",
    "ListOfIntegers = [1,2,3,4,5,6,'7','8','9'] \\\n",
    "                            # '7' and\n",
    "                            #     '8' and \n",
    "                            #         '9' are not integers\n",
    "\n",
    "class Test(unittest.TestCase):\n",
    "    def test_list(self): \n",
    "        for i in ListOfIntegers:\n",
    "            with self.subTest(value=i):\n",
    "                self.assertEqual(type(i), type(1))\n",
    "\n",
    "print(unittest.main(argv=['first-arg-is-ignored'], exit=False))                "
   ]
  },
  {
   "cell_type": "markdown",
   "metadata": {
    "slideshow": {
     "slide_type": "slide"
    }
   },
   "source": [
    "## Exercises"
   ]
  }
 ],
 "metadata": {
  "celltoolbar": "Slideshow",
  "kernelspec": {
   "display_name": "Python 3",
   "language": "python",
   "name": "python3"
  },
  "language_info": {
   "codemirror_mode": {
    "name": "ipython",
    "version": 3
   },
   "file_extension": ".py",
   "mimetype": "text/x-python",
   "name": "python",
   "nbconvert_exporter": "python",
   "pygments_lexer": "ipython3",
   "version": "3.6.5"
  }
 },
 "nbformat": 4,
 "nbformat_minor": 2
}