{
 "cells": [
  {
   "cell_type": "code",
   "execution_count": 23,
   "id": "62a54735",
   "metadata": {},
   "outputs": [],
   "source": [
    "def solution(A):\n",
    "    # write your code in Python 3.6\n",
    "     hash = {}\n",
    "     result = len(A)\n",
    "     for index, a in enumerate(A):\n",
    "         if a in hash:\n",
    "             del hash[a]\n",
    "         else:\n",
    "             result = min(result, index)\n",
    "             hash[a] = index \n",
    "     return result if len(hash) > 0 else -1 #sorted(hash.items(), key=lambda x:x[1])[0][0]"
   ]
  },
  {
   "cell_type": "code",
   "execution_count": 24,
   "id": "9d83062e",
   "metadata": {},
   "outputs": [
    {
     "data": {
      "text/plain": [
       "0"
      ]
     },
     "execution_count": 24,
     "metadata": {},
     "output_type": "execute_result"
    }
   ],
   "source": [
    "solution([4, 10, 5, 4, 2, 10])"
   ]
  },
  {
   "cell_type": "code",
   "execution_count": null,
   "id": "bb355e59",
   "metadata": {},
   "outputs": [],
   "source": []
  }
 ],
 "metadata": {
  "kernelspec": {
   "display_name": "Python 3 (ipykernel)",
   "language": "python",
   "name": "python3"
  },
  "language_info": {
   "codemirror_mode": {
    "name": "ipython",
    "version": 3
   },
   "file_extension": ".py",
   "mimetype": "text/x-python",
   "name": "python",
   "nbconvert_exporter": "python",
   "pygments_lexer": "ipython3",
   "version": "3.11.2"
  }
 },
 "nbformat": 4,
 "nbformat_minor": 5
}
