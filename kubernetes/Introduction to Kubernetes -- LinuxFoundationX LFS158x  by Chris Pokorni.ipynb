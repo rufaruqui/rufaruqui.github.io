{
 "cells": [
  {
   "cell_type": "markdown",
   "id": "1a708677",
   "metadata": {},
   "source": [
    "# From Monolith to Microservices"
   ]
  },
  {
   "cell_type": "markdown",
   "id": "759cb950",
   "metadata": {},
   "source": [
    "**Chapter Overview**\n",
    "\n",
    "Most new companies today run their business processes in the cloud. Newer startups and enterprises which realized early enough the direction technology was headed developed their applications for the cloud.\n",
    "\n",
    "Not all companies were so fortunate. Some built their success decades ago on top of legacy technologies - **monolithic applications** with all components tightly coupled and almost impossible to separate, a nightmare to manage and deployed on super expensive hardware.\n",
    "\n",
    "If working for an organization which refers to their main business application \"the black box\", where nobody knows what happens inside and most logic was never documented, leaving everyone clueless as to what and how things happen from the moment a request enters the application until a response comes out, and you are tasked to convert this business application into a cloud-ready set of applications, then you may be in for a very long and bumpy ride."
   ]
  },
  {
   "cell_type": "markdown",
   "id": "27998cb3",
   "metadata": {},
   "source": [
    "**Learning Objectives**\n",
    "\n",
    "By the end of this chapter, you should be able to:\n",
    "\n",
    "- Explain what a monolith is.\n",
    "- Discuss the monolith's challenges in the cloud.\n",
    "- Explain the concept of microservices.\n",
    "- Discuss microservices advantages in the cloud.\n",
    "- Describe the transformation path from a monolith to microservices."
   ]
  },
  {
   "cell_type": "markdown",
   "id": "77006162",
   "metadata": {},
   "source": [
    "## The Legacy Monolith\n",
    "\n",
    "Although most enterprises believe that the cloud will be the new home for legacy applications, not all legacy applications are a fit for the cloud, at least not yet.\n",
    "\n",
    "Moving an application to the cloud should be as easy as walking on the beach and collecting pebbles in a bucket and easily carry them wherever needed. A 1000-ton boulder, on the other hand, is not easy to carry at all. This boulder represents the monolith application - sedimented layers of features and redundant logic translated into thousands of lines of code, written in a single, not so modern programming language, based on outdated software architecture patterns and principles.\n",
    "\n",
    "In time, the new features and improvements added to code complexity, making development more challenging - loading, compiling, and building times increase with every new update. However, there is some ease in administration as the application is running on a single server, ideally a Virtual Machine or a Mainframe.\n",
    "\n",
    "A **monolith** has a rather expensive taste in hardware. Being a large, single piece of software which continuously grows, it has to run on a single system which has to satisfy its compute, memory, storage, and networking requirements. The hardware of such capacity is not only complex and extremely pricey, but at times challenging to procure.\n",
    "\n",
    "Since the entire monolith application runs as a single process, the scaling of individual features of the monolith is almost impossible. It internally supports a hardcoded number of connections and operations. However, scaling the entire application can be achieved by manually deploying a new instance of the monolith on another server, typically behind a load balancing appliance - another pricey solution.\n",
    "\n",
    "During upgrades, patches or migrations of the monolith application downtime is inevitable and maintenance windows have to be planned well in advance as disruptions in service are expected to impact clients. While there are third party solutions to minimize downtime to customers by setting up monolith applications in a highly available active/passive configuration, they introduce new challenges for system engineers to keep all systems at the same patch level and may introduce new possible licensing costs."
   ]
  },
  {
   "cell_type": "markdown",
   "id": "bc01f2db",
   "metadata": {},
   "source": [
    "## The Modern Microservice\n",
    "\n",
    "Pebbles, as opposed to the 1000-ton boulder, are much easier to handle. They are carved out of the monolith, separated from one another, becoming distributed components each described by a set of specific characteristics. Once weighed all together, the pebbles make up the weight of the entire boulder. These pebbles represent loosely coupled microservices, each performing a specific business function. All the functions grouped together form the overall functionality of the original monolithic application. Pebbles are easy to select and group together based on color, size, shape, and require minimal effort to relocate when needed. Try relocating the 1000-ton boulder, effortlessly.\n",
    "\n",
    "**Microservices** can be deployed individually on separate servers provisioned with fewer resources - only what is required by each service and the host system itself, helping to lower compute resource expenses.\n",
    "\n",
    "Microservices-based architecture is aligned with Event-driven Architecture and Service-Oriented Architecture (SOA) principles, where complex applications are composed of small independent processes which communicate with each other through Application Programming Interfaces (APIs) over a network. APIs allow access by other internal services of the same application or external, third-party services and applications.\n",
    "\n",
    "Each microservice is developed and written in a modern programming language, selected to be the best suitable for the type of service and its business function. This offers a great deal of flexibility when matching microservices with specific hardware when required, allowing deployments on inexpensive commodity hardware.\n",
    "\n",
    "Although the distributed nature of microservices adds complexity to the architecture, one of the greatest benefits of microservices is scalability. With the overall application becoming modular, each microservice can be scaled individually, either manually or automated through demand-based autoscaling.\n",
    "\n",
    "Seamless upgrades and patching processes are other benefits of microservices architecture. There is virtually no downtime and no service disruption to clients because upgrades are rolled out seamlessly - one service at a time, rather than having to recompile, rebuild and restart an entire monolithic application. As a result, businesses are able to develop and roll-out new features and updates a lot faster, in an agile approach, having separate teams focusing on separate features, thus being more productive and cost-effective."
   ]
  },
  {
   "cell_type": "markdown",
   "id": "41327c53",
   "metadata": {},
   "source": [
    "## Refactoring\n",
    "\n",
    "Newer, more modern enterprises possess the knowledge and technology to build cloud-native applications that power their business.\n",
    "\n",
    "Unfortunately, that is not the case for established enterprises running on legacy monolithic applications. Some have tried to run monoliths as microservices, and as one would expect, it did not work very well. The lessons learned were that a monolithic size multi-process application cannot run as a microservice and that other options had to be explored. The next natural step in the path of the monolith to microservices transition was refactoring. However, migrating a decades-old application to the cloud through refactoring poses serious challenges and the enterprise faces the refactoring approach dilemma: a \"Big-bang\" approach or an incremental refactoring.\n",
    "\n",
    "A so-called **\"Big-bang\"** approach focuses all efforts with the refactoring of the monolith, postponing the development and implementation of any new features - essentially delaying progress and possibly, in the process, even breaking the core of the business, the monolith.\n",
    "\n",
    "An incremental refactoring approach guarantees that new features are developed and implemented as modern microservices which are able to communicate with the monolith through APIs, without appending to the monolith's code. In the meantime, features are refactored out of the monolith which slowly fades away while all, or most its functionality is modernized into microservices. This incremental approach offers a gradual transition from a legacy monolith to modern microservices architecture and allows for phased migration of application features into the cloud.\n",
    "\n",
    "Once an enterprise chooses the refactoring path, there are other considerations in the process. Which business components to separate from the monolith to become distributed microservices, how to decouple the databases from the application to separate data complexity from application logic, and how to test the new microservices and their dependencies, are just a few of the decisions an enterprise is faced with during refactoring.\n",
    "\n",
    "The refactoring phase slowly transforms the monolith into a cloud-native application which takes full advantage of cloud features, by coding in new programming languages and applying modern architectural patterns. Through refactoring, a legacy monolith application receives a second chance at life - to live on as a modular system adapted to fully integrate with today's fast-paced cloud automation tools and services.\n",
    "\n"
   ]
  },
  {
   "cell_type": "markdown",
   "id": "12f1d0b6",
   "metadata": {},
   "source": [
    "## Challenges\n",
    "\n",
    "The refactoring path from a monolith to microservices is not smooth and without challenges. Not all monoliths are perfect candidates for refactoring, while some may not even \"survive\" such a modernization phase. When deciding whether a monolith is a possible candidate for refactoring, there are many possible issues to consider.\n",
    "\n",
    "When considering a legacy Mainframe based system, written in older programming languages - Cobol or Assembler, it may be more economical to just re-build it from the ground up as a cloud-native application. A poorly designed legacy application should be re-designed and re-built from scratch following modern architectural patterns for microservices and even containers. Applications tightly coupled with data stores are also poor candidates for refactoring.\n",
    "\n",
    "Once the monolith survived the refactoring phase, the next challenge is to design mechanisms or find suitable tools to keep alive all the decoupled modules to ensure application resiliency as a whole. \n",
    "\n",
    "Choosing runtimes may be another challenge. If deploying many modules on a single physical or virtual server, chances are that different libraries and runtime environments may conflict with one another, causing errors and failures. This forces deployments of single modules per servers in order to separate their dependencies - not an economical way of resource management, and no real segregation of libraries and runtimes, as each server also has an underlying Operating System running with its libraries, thus consuming server resources - at times the OS consuming more resources than the application module itself.\n",
    "\n",
    "Eventually a solution emerged to tackle these refactoring challenges. Application containers came along providing encapsulated lightweight runtime environments for application modules. Containers promised consistent software environments for developers, testers, all the way from Development to Production. Wide support of containers ensured application portability from physical bare-metal to Virtual Machines, but this time with multiple applications deployed on the very same server, each running in their own execution environments isolated from one another, thus avoiding conflicts, errors, and failures. Other features of containerized application environments are higher server utilization, individual module scalability, flexibility, interoperability and easy integration with automation tools."
   ]
  },
  {
   "cell_type": "markdown",
   "id": "ad7fdf56",
   "metadata": {},
   "source": [
    "## Success Stories\n",
    "\n",
    "Although a challenging process, moving from monoliths to microservices is a rewarding journey especially once a business starts to see growth and success delivered by a refactored application system. Below we are listing only a handful of the success stories of companies which rose to the challenge to modernize their monolith business applications. A detailed list of success stories is available at the Kubernetes website: [Kubernetes User Case Studies](https://kubernetes.io/case-studies/).\n",
    "\n",
    "- [AppDirect](https://kubernetes.io/case-studies/appdirect/) - an end-to-end commerce platform provider, started from a complex monolith application and through refactoring was able to retain limited functionality monoliths receiving very few commits, but all new features implemented as containerized microservices.\n",
    "- [box](https://kubernetes.io/case-studies/box/) - a cloud storage solutions provider, started from a complex monolith architecture and through refactoring was able to decompose it into microservices.\n",
    "- [Crowdfire](https://kubernetes.io/case-studies/crowdfire/) - a content management solutions provider, successfully broke down their initial monolith into microservices.\n",
    "- [GolfNow](https://kubernetes.io/case-studies/crowdfire/) - a technology and services provider, decided to break their monoliths apart into containerized microservices.\n",
    "- [Pinterest](https://kubernetes.io/case-studies/pinterest/) - a social media services provider, started the refactoring process by first migrating their monolith API.\n"
   ]
  },
  {
   "cell_type": "markdown",
   "id": "98b835b3",
   "metadata": {},
   "source": [
    "# Container Orchestration"
   ]
  },
  {
   "cell_type": "markdown",
   "id": "6e0cac0c",
   "metadata": {},
   "source": [
    "**Chapter Overview**\n",
    "\n",
    "Container images allow us to confine the application code, its runtime, and all of its dependencies in a pre-defined format. The container runtimes like **runC, containerd, or cri-o** can use pre-packaged images as a source to create and run one or more containers. These runtimes are capable of running containers on a single host, however, in practice, we would like to have a fault-tolerant and scalable solution, achieved by building a single **controller/management** unit, a collection of multiple hosts connected together. This **controller/management** unit is generally referred to as a container orchestrator.\n",
    "\n",
    "In this chapter, we will explore why we should use container orchestrators, different implementations of container orchestrators, and where to deploy them."
   ]
  },
  {
   "cell_type": "markdown",
   "id": "ee42f02d",
   "metadata": {},
   "source": [
    "**Learning Objectives**\n",
    "\n",
    "By the end of this chapter, you should be able to:\n",
    "\n",
    "- Define the concept of container orchestration.\n",
    "- Explain the benefits of using container orchestration.\n",
    "- Discuss different container orchestration options.\n",
    "- Discuss different container orchestration deployment options.\n"
   ]
  },
  {
   "attachments": {},
   "cell_type": "markdown",
   "id": "914b64fc",
   "metadata": {},
   "source": [
    "## What Are Containers?\n",
    "\n",
    "Before we dive into container orchestration, let's review first what containers are.\n",
    "\n",
    "**Containers** are an application-centric method to deliver high-performing, scalable applications on any infrastructure of your choice. Containers are best suited to deliver microservices by providing portable, isolated virtual environments for applications to run without interference from other running applications.\n",
    "\n",
    " \n",
    "\n",
    "![asset-v1_LinuxFoundationX+LFS158x+1T2022+type@asset+block@Container_Deployment.png](asset-v1_LinuxFoundationX+LFS158x+1T2022+type@asset+block@Container_Deployment.png) \n",
    "\n",
    "<center>Container Deployment</center>\n",
    "\n",
    " \n",
    "\n",
    "**Microservices** are lightweight applications written in various modern programming languages, with specific dependencies, libraries and environmental requirements. To ensure that an application has everything it needs to run successfully it is packaged together with its dependencies.\n",
    "\n",
    "Containers encapsulate microservices and their dependencies but do not run them directly. Containers run container images.\n",
    "\n",
    "A **container image** bundles the application along with its runtime, libraries, and dependencies, and it represents the source of a container deployed to offer an isolated executable environment for the application. Containers can be deployed from a specific image on many platforms, such as workstations, Virtual Machines, public cloud, etc."
   ]
  },
  {
   "cell_type": "markdown",
   "id": "35030291",
   "metadata": {},
   "source": [
    "## What Is Container Orchestration?\n",
    "\n",
    "In Development (Dev) environments, running containers on a single host for development and testing of applications may be a suitable option. However, when migrating to Quality Assurance (QA) and Production (Prod) environments, that is no longer a viable option because the applications and services need to meet specific requirements:\n",
    "\n",
    "- Fault-tolerance\n",
    "- On-demand scalability\n",
    "- Optimal resource usage\n",
    "- Auto-discovery to automatically discover and communicate with each other\n",
    "- Accessibility from the outside world\n",
    "- Seamless updates/rollbacks without any downtime.\n",
    "\n",
    "**Container orchestrators** are tools which group systems together to form clusters where containers' deployment and management is automated at scale while meeting the requirements mentioned above."
   ]
  },
  {
   "cell_type": "markdown",
   "id": "df6eecbd",
   "metadata": {},
   "source": [
    "## Container Orchestrators\n",
    "\n",
    "With enterprises containerizing their applications and moving them to the cloud, there is a growing demand for container orchestration solutions. While there are many solutions available, some are mere re-distributions of well-established container orchestration tools, enriched with features and, sometimes, with certain limitations in flexibility.\n",
    "\n",
    "Although not exhaustive, the list below provides a few different container orchestration tools and services available today:\n",
    "\n",
    "- [Amazon Elastic Container Service](https://aws.amazon.com/ecs/): Amazon Elastic Container Service (ECS) is a hosted service provided by Amazon Web Services (AWS) to run containers at scale on its infrastructure.\n",
    "- [Azure Container Instances](https://azure.microsoft.com/en-us/products/container-instances/#overview): Azure Container Instance (ACI) is a basic container orchestration service provided by Microsoft Azure.\n",
    "- [Azure Service Fabric](https://azure.microsoft.com/en-us/products/service-fabric/): Azure Service Fabric is an open source container orchestrator provided by Microsoft Azure.\n",
    "- [Kubernetes](https://kubernetes.io/): Kubernetes is an open source orchestration tool, originally started by Google, today part of the Cloud Native Computing Foundation (CNCF) project.\n",
    "- [Marathon](https://mesosphere.github.io/marathon/): Marathon is a framework to run containers at scale on Apache Mesos and DC/OS.\n",
    "- [Nomad](https://www.nomadproject.io/): Nomad is the container and workload orchestrator provided by HashiCorp.\n",
    "- [Docker Swarm](https://docs.docker.com/engine/swarm/): Docker Swarm is a container orchestrator provided by Docker, Inc. It is part of Docker Engine.\n",
    "\n",
    "Container orchestrators are also explored in another edX MOOC, \"[Introduction to Cloud Infrastructure Technologies](https://www.edx.org/course/introduction-to-cloud-infrastructure-technologies)\" (LFS151x). We highly recommend that you take this course."
   ]
  },
  {
   "cell_type": "markdown",
   "id": "99ac02eb",
   "metadata": {},
   "source": [
    "## Why Use Container Orchestrators? \n",
    "\n",
    "Although we can manually maintain a couple of containers or write scripts to manage the lifecycle of dozens of containers, orchestrators make things much easier for users especially when it comes to managing hundreds and thousands of containers running on a global infrastructure.\n",
    "\n",
    "Most container orchestrators can:\n",
    "\n",
    "- Group hosts together while creating a cluster.\n",
    "- Schedule containers to run on hosts in the cluster based on resources availability.\n",
    "- Enable containers in a cluster to communicate with each other regardless of the host they are deployed to in the cluster.\n",
    "- Bind containers and storage resources.\n",
    "- Group sets of similar containers and bind them to load-balancing constructs to simplify access to containerized applications by creating an interface, a level of abstraction between the containers and the client.\n",
    "- Manage and optimize resource usage.\n",
    "- Allow for implementation of policies to secure access to applications running inside containers.\n",
    "\n",
    "With all these configurable yet flexible features, container orchestrators are an obvious choice when it comes to managing containerized applications at scale. In this course, we will explore **Kubernetes**, *one of the most in-demand container orchestration tools available today*.\n"
   ]
  },
  {
   "cell_type": "markdown",
   "id": "29fa9965",
   "metadata": {},
   "source": [
    "## Where to Deploy Container Orchestrators? \n",
    "\n",
    "Most container orchestrators can be deployed on the infrastructure of our choice - on bare metal, Virtual Machines, on-premises, on public and hybrid clouds. Kubernetes, for example, can be deployed on a workstation, with or without an isolation layer such as a local hypervisor or container runtime, inside a company's data center, in the cloud on AWS Elastic Compute Cloud (EC2) instances, Google Compute Engine (GCE) VMs, DigitalOcean Droplets, OpenStack, etc.\n",
    "\n",
    "There are turnkey solutions which allow Kubernetes clusters to be installed, with only a few commands, on top of cloud Infrastructures-as-a-Service, such as GCE, AWS EC2, IBM Cloud, Rancher, VMware Tanzu, and multi-cloud solutions through IBM Cloud Private or StackPointCloud.\n",
    "\n",
    "Last but not least, there is the managed container orchestration as-a-Service, more specifically the managed Kubernetes as-a-Service solution, offered and hosted by the major cloud providers, such as Amazon Elastic Kubernetes Service (Amazon EKS), Azure Kubernetes Service (AKS), DigitalOcean Kubernetes, Google Kubernetes Engine (GKE), IBM Cloud Kubernetes Service, Oracle Container Engine for Kubernetes, or VMware Tanzu Kubernetes Grid."
   ]
  },
  {
   "cell_type": "markdown",
   "id": "ed6b0db3",
   "metadata": {},
   "source": [
    "# Kubernetes\n",
    "\n",
    "**Chapter Overview**\n",
    "\n",
    "In this chapter, we describe Kubernetes, its features, and the reasons why you should use it. We will explore the evolution of Kubernetes from Borg, Google's very own distributed workload manager.\n",
    "\n",
    "We will also learn about the Cloud Native Computing Foundation (CNCF), which currently hosts the Kubernetes project, along with other popular cloud-native projects, such as Prometheus, Fluentd, cri-o, containerd, Helm, Envoy, and Contour, just to name a few."
   ]
  },
  {
   "cell_type": "markdown",
   "id": "be831482",
   "metadata": {},
   "source": [
    "**Learning Objectives**\n",
    "\n",
    "By the end of this chapter, you should be able to:\n",
    "\n",
    "- Define Kubernetes.\n",
    "- Explain the reasons for using Kubernetes.\n",
    "- Discuss the features of Kubernetes.\n",
    "- Discuss the evolution of Kubernetes from Borg.\n",
    "- Explain the role of the Cloud Native Computing Foundation."
   ]
  },
  {
   "attachments": {},
   "cell_type": "markdown",
   "id": "686c8eff",
   "metadata": {},
   "source": [
    "## What Is Kubernetes?\n",
    "\n",
    "According to the Kubernetes website,\n",
    "\n",
    "</br>\n",
    "\n",
    "<center>*\"Kubernetes is an open-source system for automating deployment, scaling, and management of containerized applications\".*</center>\n",
    "\n",
    "</br>\n",
    "\n",
    "**Kubernetes** comes from the Greek word **κυβερνήτης**, which means helmsman or *ship pilot*. With this analogy in mind, we can think of Kubernetes as the pilot on a ship of containers. \n",
    "![kubernetes_logo-3.png](kubernetes_logo.png)\n",
    "\n",
    "Kubernetes is also referred to as **k8s** (pronounced Kate's), as there are 8 characters between k and s.\n",
    "\n",
    "Kubernetes is highly inspired by the Google *Borg system*, a container and workload orchestrator for its global operations for more than a decade. It is an open source project written in the *Go language* and licensed under the License, Version 2.0.\n",
    "\n",
    "Kubernetes was started by Google and, with its v1.0 release in July 2015, Google donated it to the [Cloud Native Computing Foundation (CNCF)](https://www.cncf.io/), one of the largest sub-foundations of the Linux Foundation.\n",
    "\n",
    "New Kubernetes versions are released in 4 month cycles. The current stable version is 1.26 (as of December 2022).\n",
    "\n"
   ]
  },
  {
   "cell_type": "markdown",
   "id": "46059c74",
   "metadata": {},
   "source": [
    "## From Borg to Kubernetes\n",
    "\n",
    "According to the abstract of Google's [Borg paper](https://research.google/pubs/pub43438/), published in 2015,\n",
    "\n",
    "</br>\n",
    "\n",
    "<center><it>\n",
    "Google's Borg system is a cluster manager that runs hundreds of thousands of jobs, from many thousands of different applications, across a number of clusters each with up to tens of thousands of machines.It achieves high utilization by combining admission control, efficient task-packing, over-commitment, and machine sharing with process-level performance isolation. It supports high-availability applications with runtime features that minimize fault-recovery time, and scheduling policies that reduce the probability of correlated failures. Borg simplifies life for its users by offering a declarative job specification language, name service integration, real-time job monitoring, and tools to analyze and simulate system behavior.</it>\n",
    "</center>\n",
    "</br>\n",
    "\n",
    "For more than a decade, Borg has been **Google's secret**, running its worldwide containerized workloads in production. Services we use from Google, such as **Gmail, Drive, Maps, Docs**, etc., are all serviced using Borg. \n",
    "\n",
    "Among the **initial authors of Kubernetes were Google employees who have used Borg and developed it in the past**. They poured in their valuable knowledge and experience while designing Kubernetes. Several features/objects of Kubernetes that can be traced back to Borg, or to lessons learned from it, are:\n",
    "\n",
    "- API servers\n",
    "- Pods\n",
    "- IP-per-Pod\n",
    "- Services\n",
    "- Labels.\n",
    "\n",
    "We will explore all of them, and more, in this course."
   ]
  },
  {
   "cell_type": "markdown",
   "id": "16c77b3a",
   "metadata": {},
   "source": [
    "## Kubernetes Features\n",
    "\n",
    "Kubernetes offers a very rich set of features for container orchestration. Some of its fully supported features are:\n",
    "\n",
    "- **Automatic bin packing**\n",
    "Kubernetes automatically schedules containers based on resource needs and constraints, to maximize utilization without sacrificing availability.\n",
    "- **Designed for extensibility**\n",
    "A Kubernetes cluster can be extended with new custom features without modifying the upstream source code.\n",
    "- **Self-healing**\n",
    "Kubernetes automatically replaces and reschedules containers from failed nodes. It terminates and then restarts containers that become unresponsive to health checks, based on existing rules/policy. It also prevents traffic from being routed to unresponsive containers.\n",
    "- **Horizontal scaling**\n",
    "With Kubernetes applications are scaled manually or automatically based on CPU or custom metrics utilization.\n",
    "- **Service discovery and load balancing**\n",
    "Containers receive IP addresses from Kubernetes, while it assigns a single Domain Name System (DNS) name to a set of containers to aid in load-balancing requests across the containers of the set.\n",
    "\n",
    "Additional fully supported Kubernetes features are:\n",
    "\n",
    "- **Automated rollouts and rollbacks**\n",
    "Kubernetes seamlessly rolls out and rolls back application updates and configuration changes, constantly monitoring the application's health to prevent any downtime.\n",
    "- **Secret and configuration management**\n",
    "Kubernetes manages sensitive data and configuration details for an application separately from the container image, in order to avoid a rebuild of the respective image. Secrets consist of sensitive/confidential information passed to the application without revealing the sensitive content to the stack configuration, like on GitHub.\n",
    "- **Storage orchestration**\n",
    "Kubernetes automatically mounts software-defined storage (SDS) solutions to containers from local storage, external cloud providers, distributed storage, or network storage systems.\n",
    "- **Batch execution**\n",
    "Kubernetes supports batch execution, long-running jobs, and replaces failed containers.\n",
    "- **IPv4/IPv6 dual-stack**\n",
    "Kubernetes supports both IPv4 and IPv6 addresses.\n",
    "\n",
    "There are many additional features currently in alpha or beta phase. They will add great value to any Kubernetes deployment once they become stable features. For example, support for role-based access control (RBAC) is stable only as of the Kubernetes 1.8 release.\n"
   ]
  },
  {
   "cell_type": "code",
   "execution_count": null,
   "id": "7bf8973f",
   "metadata": {},
   "outputs": [],
   "source": []
  }
 ],
 "metadata": {
  "kernelspec": {
   "display_name": "Python 3 (ipykernel)",
   "language": "python",
   "name": "python3"
  },
  "language_info": {
   "codemirror_mode": {
    "name": "ipython",
    "version": 3
   },
   "file_extension": ".py",
   "mimetype": "text/x-python",
   "name": "python",
   "nbconvert_exporter": "python",
   "pygments_lexer": "ipython3",
   "version": "3.11.2"
  }
 },
 "nbformat": 4,
 "nbformat_minor": 5
}
