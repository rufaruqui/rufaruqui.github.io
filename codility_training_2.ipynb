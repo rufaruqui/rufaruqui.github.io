{
 "cells": [
  {
   "cell_type": "code",
   "execution_count": 30,
   "id": "9b6529d8",
   "metadata": {},
   "outputs": [],
   "source": [
    "def money_exchange(M, k):\n",
    "    coins, N = [], len(M)\n",
    "    \n",
    "    for i in range(N-1, 1, -1):\n",
    "        coins += [M[i], k // M[i]]\n",
    "        k %= M[i]\n",
    "    return coins"
   ]
  },
  {
   "cell_type": "code",
   "execution_count": null,
   "id": "a2b69329",
   "metadata": {},
   "outputs": [],
   "source": []
  },
  {
   "cell_type": "code",
   "execution_count": 7,
   "id": "ee1a4d4e",
   "metadata": {},
   "outputs": [],
   "source": [
    "def solution(A, K):\n",
    "    # write your code in Python 3.6\n",
    "    K = K % len(A)\n",
    "    if K == 0:\n",
    "        return A\n",
    "    elif K == 1:\n",
    "        return A[1:]+A[0:1]\n",
    "        \n",
    "    print(K,A[K-1:], A[:K-1] )\n",
    "    return A[K-1:] + A[:K-1]"
   ]
  },
  {
   "cell_type": "code",
   "execution_count": 8,
   "id": "39dd6a66",
   "metadata": {},
   "outputs": [
    {
     "data": {
      "text/plain": [
       "[2, 1]"
      ]
     },
     "execution_count": 8,
     "metadata": {},
     "output_type": "execute_result"
    }
   ],
   "source": [
    "solution([1,2], 1)"
   ]
  },
  {
   "cell_type": "code",
   "execution_count": 10,
   "id": "cb99eec7",
   "metadata": {},
   "outputs": [
    {
     "name": "stdout",
     "output_type": "stream",
     "text": [
      "5 [6, 7, 1] [2, 3, 4, 5]\n"
     ]
    },
    {
     "data": {
      "text/plain": [
       "[6, 7, 1, 2, 3, 4, 5]"
      ]
     },
     "execution_count": 10,
     "metadata": {},
     "output_type": "execute_result"
    }
   ],
   "source": [
    "solution([2, 3, 4, 5, 6, 7, 1], 5)"
   ]
  },
  {
   "cell_type": "code",
   "execution_count": 27,
   "id": "02d048e8",
   "metadata": {},
   "outputs": [],
   "source": [
    "def max_slice(A):\n",
    "    N,result = len(A),0\n",
    "    for i in range(N):\n",
    "        s = 0\n",
    "        for j in range(i, N):\n",
    "            s += A[j]\n",
    "            print(s, result, A[i:j+1])\n",
    "            result = max(result, s)\n",
    "    return result"
   ]
  },
  {
   "cell_type": "code",
   "execution_count": 28,
   "id": "7d75a273",
   "metadata": {},
   "outputs": [
    {
     "name": "stdout",
     "output_type": "stream",
     "text": [
      "-7 0 [-7]\n",
      "-4 0 [-7, 3]\n",
      "1 0 [-7, 3, 5]\n",
      "-1 1 [-7, 3, 5, -2]\n",
      "3 1 [-7, 3, 5, -2, 4]\n",
      "2 3 [-7, 3, 5, -2, 4, -1]\n",
      "3 3 [3]\n",
      "8 3 [3, 5]\n",
      "6 8 [3, 5, -2]\n",
      "10 8 [3, 5, -2, 4]\n",
      "9 10 [3, 5, -2, 4, -1]\n",
      "5 10 [5]\n",
      "3 10 [5, -2]\n",
      "7 10 [5, -2, 4]\n",
      "6 10 [5, -2, 4, -1]\n",
      "-2 10 [-2]\n",
      "2 10 [-2, 4]\n",
      "1 10 [-2, 4, -1]\n",
      "4 10 [4]\n",
      "3 10 [4, -1]\n",
      "-1 10 [-1]\n"
     ]
    },
    {
     "data": {
      "text/plain": [
       "10"
      ]
     },
     "execution_count": 28,
     "metadata": {},
     "output_type": "execute_result"
    }
   ],
   "source": [
    "max_slice([ -7,3,5,-2,4,-1])"
   ]
  },
  {
   "cell_type": "code",
   "execution_count": null,
   "id": "9cebe56d",
   "metadata": {},
   "outputs": [],
   "source": []
  }
 ],
 "metadata": {
  "kernelspec": {
   "display_name": "Python 3 (ipykernel)",
   "language": "python",
   "name": "python3"
  },
  "language_info": {
   "codemirror_mode": {
    "name": "ipython",
    "version": 3
   },
   "file_extension": ".py",
   "mimetype": "text/x-python",
   "name": "python",
   "nbconvert_exporter": "python",
   "pygments_lexer": "ipython3",
   "version": "3.9.13"
  }
 },
 "nbformat": 4,
 "nbformat_minor": 5
}
