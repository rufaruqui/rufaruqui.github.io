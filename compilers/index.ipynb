{
 "cells": [
  {
   "cell_type": "markdown",
   "id": "fe0b20ba-1410-422c-a5b8-48bcf415bbd8",
   "metadata": {},
   "source": [
    "### Session 1: Introduction to Lex/Flex\n",
    "\n",
    "Objective: *Students will learn how to use Lex/Flex to create a lexer for a simple programming language*.\n",
    "\n",
    "- Introduction to Lex/Flex and their role in the compilation process\n",
    "- Setting up the environment: Installing Lex/Flex and a text editor\n",
    "- Creating a lexer for a simple programming language:\n",
    "- Defining regular expressions for tokens\n",
    "- Writing Lex/Flex rules to match the tokens\n",
    "- Handling whitespace and comments\n",
    "- Compiling and running the lexer\n",
    "- Testing the lexer with sample input\n",
    "Discussion: Strengths and weaknesses of using a lexer in the compilation process\n"
   ]
  },
  {
   "cell_type": "code",
   "execution_count": null,
   "id": "f1ebef10-5e08-44b9-b74f-894186b98e8b",
   "metadata": {},
   "outputs": [],
   "source": []
  }
 ],
 "metadata": {
  "kernelspec": {
   "display_name": "Python 3 (ipykernel)",
   "language": "python",
   "name": "python3"
  },
  "language_info": {
   "codemirror_mode": {
    "name": "ipython",
    "version": 3
   },
   "file_extension": ".py",
   "mimetype": "text/x-python",
   "name": "python",
   "nbconvert_exporter": "python",
   "pygments_lexer": "ipython3",
   "version": "3.11.2"
  }
 },
 "nbformat": 4,
 "nbformat_minor": 5
}
