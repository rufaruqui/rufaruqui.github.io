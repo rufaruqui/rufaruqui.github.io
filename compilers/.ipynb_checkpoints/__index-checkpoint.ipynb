{
 "cells": [
  {
   "cell_type": "markdown",
   "id": "f25590b5",
   "metadata": {},
   "source": [
    "<center> <h1> ETE-2324: Data Structures and Algorithms</h1> </center>"
   ]
  },
  {
   "cell_type": "markdown",
   "id": "88baa9bd",
   "metadata": {},
   "source": [
    "## Course Contents\n",
    "    \n",
    "  - **Introduction to Data Structures and Algorithms**\n",
    "     - Reading:\n",
    "          - [PythonDS- Chapter 1](https://runestone.academy/runestone/books/published/pythonds3/Introduction/toctree.html)\n",
    "     - Notebook:[Introduction](https://github.com/rufaruqui/rufaruqui.github.io/blob/main/dsa_in_python/introduction/introduction.ipynb)\n",
    "     - Lectures: [Slides](introduction/introduction.slides.html),  [PDF](introduction/introduction.pdf),  [HTML](introduction/introduction.html) [Latex](introduction/introduction.tex)\n",
    "   \n",
    "  \n",
    "  - **The Analysis of Algorithms**\n",
    "     - Reading: \n",
    "        - [Goodrich- Chapter 3]\n",
    "        - [PythonDS-Chapter 3](https://runestone.academy/runestone/books/published/pythonds3/AlgorithmAnalysis/toctree.html)\n",
    "     - Notebook: [Complexity Analysis](complexity/complexity_analysis.ipnyb)\n",
    "     - Lectures: [Slides](complexity/complexity_analysis.slides.html),  [PDF](complexity/complexity_analysis.pdf) [HTML](complexity/complexity_analysis.html) [Latex](complexity/complexity_analysis.tex)\n",
    "     - Extra slides: [CS161_at_Staford_Slides](complexity/cs161_stanford_analysis.pdf)\n",
    "  - **Arrays**\n",
    "     - Reading: [Goodrich- Chapter 5]\n",
    "     - Lectures: [Slides](arrays/arrays.slides.html),  [PDF](arrays/arrays.pdf) [HTML](arrays/arrays.html) [Latex](arrays/arrays.tex)\n",
    "      \n",
    "  - **Stack and Queue**\n",
    "    - Reading: [Stack -- PythonDS- Chapter 4](https://runestone.academy/runestone/books/published/pythonds3/BasicDS/WhatisaStack.html)\n",
    "    - Reading: [Queue -- PythonDS- Chapter 4](https://runestone.academy/runestone/books/published/pythonds3/BasicDS/WhatIsaQueue.html) \n",
    "    \n",
    "  - **Searching**\n",
    "    - Searching: [Searching -- PythonDS- Chapter 6](https://runestone.academy/runestone/books/published/pythonds3/SortSearch/searching.html)\n",
    "    - Sequential Search: [PythonDS- Chapter 6.3](https://runestone.academy/runestone/books/published/pythonds3/SortSearch/TheSequentialSearch.html)\n",
    "    - Binary Search: [PythonDS- Chapter 6.4](https://runestone.academy/runestone/books/published/pythonds3/SortSearch/TheBinarySearch.html) \n",
    "    - Notebook: [Searching](https://githubtocolab.com/rufaruqui/rufaruqui.github.io/blob/main/dsa_in_python/arrays/Searching.ipynb)\n",
    "  \n",
    "  - **Sorting**\n",
    "     - Sorting: [PythonDS-Chapter 6.6](https://runestone.academy/runestone/books/published/pythonds3/SortSearch/sorting.html)\n",
    "     - Bubble Sort: [PythonDS- Chapter 6.7](https://runestone.academy/runestone/books/published/pythonds3/SortSearch/TheBubbleSort.html)\n",
    "     - Selection Sort: [PythonDs-Chapter 6.8](https://runestone.academy/runestone/books/published/pythonds3/SortSearch/TheSelectionSort.html)\n",
    "     - Insertion Sort:[PythonDS-Chapter 6.9](https://runestone.academy/runestone/books/published/pythonds3/SortSearch/TheInsertionSort.html)\n",
    "     - Merge Sort: [PythonDS-Chapter 6.11](https://runestone.academy/runestone/books/published/pythonds3/SortSearch/TheMergeSort.html)\n",
    "     - Quick Sort: [PythonDS-Chapter 6.12](https://runestone.academy/runestone/books/published/pythonds3/SortSearch/TheMergeSort.html)\n",
    "     - Notebook: [Sorting](https://githubtocolab.com/rufaruqui/rufaruqui.github.io/blob/main/dsa_in_python/Sorting.ipynb)\n",
    "     - Notebook: [The Quick and Merge Sort Notebook](https://githubtocolab.com/rufaruqui/rufaruqui.github.io/blob/main/dsa_in_python/merge_quick_sort.ipynb)\n",
    " \n",
    "- **Trees and Tree Algorithm**\n",
    "   - Introduction: [PythonDS Chapter 7](https://runestone.academy/runestone/books/published/pythonds3/Trees/toctree.html)\n"
   ]
  },
  {
   "cell_type": "markdown",
   "id": "89ce2ea8",
   "metadata": {},
   "source": [
    "## Additional Resources\n",
    " - [Data Stuctures and Algorithms Visulization](https://www.cs.usfca.edu/~galles/visualization/Algorithms.html) -- excellent resources for understanding both structures and algorithms."
   ]
  },
  {
   "cell_type": "markdown",
   "id": "346acee5",
   "metadata": {},
   "source": [
    "## Textbooks\n",
    "   - **[PythnDS]** [Problem Solving with Algorithms and Data Structures using Python](https://runestone.academy/runestone/books/published/pythonds3/index.html)\n",
    "   - **[Goodrich]** Michael T. Goodrich, Roberto Tamassia, Michael H. Goldwasser. **Data Structures and Algorithms in Python** Wiley (2013)\n",
    "\n",
    "## Reference Books\n",
    "   - **[Cormen]** Cormen, Thomas, Charles Leiserson, Ronald Rivest, and Clifford Stein. **Introduction to Algorithms**. 3rd ed. MIT Press, 2009. ISBN: 9780262033848.\n",
    "\n"
   ]
  },
  {
   "cell_type": "markdown",
   "id": "1423897d",
   "metadata": {},
   "source": [
    "## Environment Setup:\n",
    "   - Python 3 and Jupyter Installation\n",
    "    - [Python 3 Installation & Setup Guide](https://wsvincent.com/install-python/)\n",
    "    - [Anaconda Installation](https://www.datacamp.com/community/tutorials/installing-anaconda-windows)\n",
    "    - [Jupyter Installation Guide](https://www.datacamp.com/community/tutorials/installing-jupyter-notebook)\n",
    "   \n",
    "## Python Tutorials\n",
    "   - Part 1: [Slides](python/python_p1.slides.html), [Notebook](https://github.com/rufaruqui/rufaruqui.github.io/blob/main/dsa_in_python/python_p1.ipnyb),  [HTML]python/(python_p1.html)\n",
    "   - Part 2: [Slides](python/python_p2.slides.html),[Notebook](https://github.com/rufaruqui/rufaruqui.github.io/blob/main/dsa_in_python/python_p2.ipnyb),  [HTML](python/python_p2.html)\n",
    "   - Part 3: [Slides](python/python_p2.slides.html),[Notebook](https://github.com/rufaruqui/rufaruqui.github.io/blob/main/dsa_in_python/python_p3.ipnyb),  [HTML](python_p3.html)\n",
    "   - List in Python:  [Notebook](https://github.com/rufaruqui/rufaruqui.github.io/blob/main/dsa_in_python/python_list.ipnyb),  [HTML](python/python_list.html)"
   ]
  }
 ],
 "metadata": {
  "kernelspec": {
   "display_name": "Python 3 (ipykernel)",
   "language": "python",
   "name": "python3"
  },
  "language_info": {
   "codemirror_mode": {
    "name": "ipython",
    "version": 3
   },
   "file_extension": ".py",
   "mimetype": "text/x-python",
   "name": "python",
   "nbconvert_exporter": "python",
   "pygments_lexer": "ipython3",
   "version": "3.9.7"
  }
 },
 "nbformat": 4,
 "nbformat_minor": 5
}
