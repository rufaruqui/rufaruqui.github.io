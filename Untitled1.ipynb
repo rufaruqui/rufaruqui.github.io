{
 "cells": [
  {
   "cell_type": "code",
   "execution_count": 60,
   "id": "eaa39036",
   "metadata": {},
   "outputs": [],
   "source": [
    "def knapsack(A):\n",
    "    t = []\n",
    "    while A > 1: \n",
    "        t.append(2)\n",
    "        A -= 2\n",
    "        if A == 1:\n",
    "            t.append(1)\n",
    "    return t\n",
    "\n",
    "def solution(A, B):\n",
    "    # write your code in Python 3.6\n",
    "    print(knapsack(A))\n",
    "    print(knapsack(B))\n",
    "    aa = knapsack(A)\n",
    "    bb = knapsack(B)\n",
    "    sym_a, sym_b = 'a', 'b'\n",
    "    if len(bb) > len(aa):\n",
    "        aa,bb = bb, aa\n",
    "        sym_a, sym_b = 'b', 'a'\n",
    "    ll = []\n",
    "    for index, a in enumerate(aa):\n",
    "        ll.append(sym_a * a)\n",
    "        if index < len(bb):\n",
    "            ll.append(sym_b * bb[index])\n",
    "    return \"\".join(ll)\n",
    "        "
   ]
  },
  {
   "cell_type": "code",
   "execution_count": 61,
   "id": "d888e620",
   "metadata": {},
   "outputs": [
    {
     "name": "stdout",
     "output_type": "stream",
     "text": [
      "[2, 2, 1]\n",
      "[2, 1]\n"
     ]
    },
    {
     "data": {
      "text/plain": [
       "'aabbaaba'"
      ]
     },
     "execution_count": 61,
     "metadata": {},
     "output_type": "execute_result"
    }
   ],
   "source": [
    "solution(5,3)"
   ]
  },
  {
   "cell_type": "code",
   "execution_count": 63,
   "id": "5de51736",
   "metadata": {},
   "outputs": [
    {
     "name": "stdout",
     "output_type": "stream",
     "text": [
      "[2]\n",
      "[2, 2, 1]\n"
     ]
    },
    {
     "data": {
      "text/plain": [
       "'bbaabbb'"
      ]
     },
     "execution_count": 63,
     "metadata": {},
     "output_type": "execute_result"
    }
   ],
   "source": [
    "solution(2,5)"
   ]
  },
  {
   "cell_type": "code",
   "execution_count": null,
   "id": "712fa1d7",
   "metadata": {},
   "outputs": [],
   "source": []
  }
 ],
 "metadata": {
  "kernelspec": {
   "display_name": "Python 3 (ipykernel)",
   "language": "python",
   "name": "python3"
  },
  "language_info": {
   "codemirror_mode": {
    "name": "ipython",
    "version": 3
   },
   "file_extension": ".py",
   "mimetype": "text/x-python",
   "name": "python",
   "nbconvert_exporter": "python",
   "pygments_lexer": "ipython3",
   "version": "3.9.13"
  }
 },
 "nbformat": 4,
 "nbformat_minor": 5
}
