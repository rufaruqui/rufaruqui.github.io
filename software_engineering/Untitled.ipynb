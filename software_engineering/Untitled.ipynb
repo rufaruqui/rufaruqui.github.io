{
 "cells": [
  {
   "cell_type": "markdown",
   "id": "6307e617-bbf7-4ac7-884f-599a952c83a5",
   "metadata": {},
   "source": [
    " **CSE 515: Software Engineering and Desigin Patterns**"
   ]
  },
  {
   "cell_type": "markdown",
   "id": "3863c316-8f06-43e0-84d9-4f1a6df09e90",
   "metadata": {},
   "source": [
    "*This course aims to provide students with a comprehensive understanding of the fundamentals of software engineering and design patterns. Students will learn how to apply software engineering principles and techniques to design, develop, and maintain software systems that are efficient, reliable, and maintainable. The course will cover various topics including software development life cycle, requirements engineering, software architecture, testing, agile methodologies, DevOps, and containerization with Docker. Students will also learn about different design patterns and how to apply them to solve common software design problems.* \n",
    "\n",
    "Upon completion of this course, students will be able to:\n",
    " - Understand the software development life cycle and its phases\n",
    "- Apply software engineering principles and practices to design and develop software systems\n",
    "- Apply agile methodologies and DevOps practices to improve software quality and delivery\n",
    "- Understand the benefits of containerization with Docker and how to use it to deploy and manage software applications\n",
    "- Apply design patterns to solve common software design problems and improve software quality\n",
    "- Work effectively in a team to develop a software project using software engineering best practices and design patterns"
   ]
  },
  {
   "cell_type": "markdown",
   "id": "d51ced59-f179-467d-a9c0-47fd1dbb8e1b",
   "metadata": {},
   "source": [
    "### Lectures Outline"
   ]
  },
  {
   "cell_type": "markdown",
   "id": "6f1f34cd-4d2e-4f3f-9a40-7c0bd77d0012",
   "metadata": {},
   "source": [
    "- **Week 1: Introduction to Software Engineering**\n",
    "  - Topics\n",
    "    - Introduction to software engineering and its importance\n",
    "    - Software development life cycle (SDLC)\n",
    "    - Requirements engineering\n",
    "    - Case study: Building a web application using SDLC\n",
    "  - Required Reading:\n",
    "    - Chapter 1: Introduction, \"Software Engineering: A Practitioner's Approach\" by Roger Pressman\n",
    "    - Chapter 2: Software Processes, \"Software Engineering: A Practitioner's Approach\" by Roger Pressman\n",
    "    - Chapter 3: Requirements Engineering, \"Software Engineering: A Practitioner's Approach\" by Roger Pressman\n",
    "    - Chapter 4: Requirements Elicitation and Analysis, \"Software Engineering: A Practitioner's Approach\" by Roger Pressman\n",
    "    - Classic Article: \"No Silver Bullet: Essence and Accidents of Software Engineering\" by Fred Brooks\n",
    "\n"
   ]
  },
  {
   "cell_type": "markdown",
   "id": "a24bf24c-a325-4a89-940e-8f9ee571b2c1",
   "metadata": {},
   "source": [
    "- **Week 2: Agile Software Development**\n",
    "  - Topics\n",
    "    - Introduction to agile methodologies\n",
    "    - Scrum framework\n",
    "    - Kanban methodology\n",
    "    - Agile vs. Waterfall\n",
    "    - Case study: Implementing Agile methodology in a software development project\n",
    "  - Required Readings\n",
    "    - Chapter 1: Introduction, \"Agile Estimating and Planning\" by Mike Cohn\n",
    "    - Chapter 2: Understanding the Basics of Agile, \"Agile Estimating and Planning\" by Mike Cohn\n",
    "    - Classic Article: \"The Agile Manifesto\" by Kent Beck, et al.\n",
    "  - Optional Readings"
   ]
  },
  {
   "cell_type": "markdown",
   "id": "82b033ff-f72f-4b02-b93f-1150862aface",
   "metadata": {},
   "source": [
    "- **Week 3: Design Patterns**\n",
    "  - Topics\n",
    "     - Introduction to design patterns\n",
    "     - Creational patterns\n",
    "     - Structural patterns\n",
    "     - Behavioral patterns\n",
    "     - Case study: Applying design patterns in a real-world software development project\n",
    "  - Required Readings\n",
    "      - Chapter 1: Introduction, \"Design Patterns: Elements of Reusable Object-Oriented Software\" by Erich Gamma, Richard Helm, Ralph Johnson, and John Vlissides\n",
    "    - Chapter 2: The Singleton Pattern, \"Design Patterns: Elements of Reusable Object-Oriented Software\" by Erich Gamma, Richard Helm, Ralph Johnson, and John Vlissides\n",
    "    - Classic Article: \"Design Patterns: Abstraction and Reuse of Object-Oriented Design\" by Erich Gamma, Richard Helm, Ralph Johnson, and John Vlissides\n",
    "  - Optional Readings"
   ]
  },
  {
   "cell_type": "markdown",
   "id": "1aedaa6e-6cff-490e-87bc-8eee1a0dba04",
   "metadata": {},
   "source": [
    "- **Week 4: Object-Oriented Design Principles**\n",
    "  - Topics\n",
    "    - SOLID principles\n",
    "    - Cohesion and coupling\n",
    "    - Inheritance and polymorphism\n",
    "    - Design by contract\n",
    "    - Case study: Applying OOP principles in a software development project\n",
    "  - Required Readings\n",
    "       - Chapter 1: Introduction to Object-Oriented Design, \"Object-Oriented Design and Patterns\" by Cay S. Horstmann\n",
    "    - Chapter 2: Encapsulation, \"Object-Oriented Design and Patterns\" by Cay S. Horstmann\n",
    "    - Classic Article: \"Design by Contract\" by Bertrand Meyer\n",
    "   \n",
    " \n",
    "  - Optional Readings"
   ]
  },
  {
   "cell_type": "markdown",
   "id": "3a3b6942-3804-4e46-8186-ac8c6cbd7129",
   "metadata": {},
   "source": [
    "- **Week 5: Software Testing**\n",
    "  - Topics\n",
    "    - Introduction to software testing\n",
    "    - Unit testing\n",
    "    - Integration testing\n",
    "    - System testing\n",
    "    - Case study: Implementing a testing strategy for a software project\n",
    "  - Required Readings\n",
    "    - Chapter 1: Introduction, \"Software Testing: Principles and Practices\" by Srinivasan Desikan and Gopalaswamy Ramesh\n",
    "    - Chapter 2: Software Testing Fundamentals, \"Software Testing: Principles and Practices\" by Srinivasan Desikan and Gopalaswamy Ramesh\n",
    "    - Classic Article: \"The Art of Software Testing\" by Glenford J. Myers\n",
    "  - Optional Readings"
   ]
  },
  {
   "cell_type": "markdown",
   "id": "437d1347-08d1-40bd-81a9-c2b5a8c1b831",
   "metadata": {},
   "source": [
    "- **Week 6: DevOps and Continuous Integration/Continuous Deployment (CI/CD)**\n",
    "  - Topics\n",
    "    - Introduction to DevOps\n",
    "    - CI/CD pipeline\n",
    "    - Configuration management\n",
    "    - Infrastructure as code\n",
    "    - Case study: Implementing a DevOps strategy in a software development project\n",
    "  - Required Readings\n",
    "    - Chapter 1: Introduction, \"Continuous Delivery: Reliable Software Releases through Build, Test, and Deployment Automation\" by Jez Humble and David Farley\n",
    "    - Chapter 2: The Deployment Pipeline, \"Continuous Delivery: Reliable Software Releases through Build, Test, and Deployment Automation\" by Jez Humble and David Farley\n",
    "    - Classic Article: \"The Twelve-Factor App\" by Adam Wiggins\n",
    "\n",
    "  - Optional Readings"
   ]
  },
  {
   "cell_type": "markdown",
   "id": "39761e8b-0e52-4fae-9c6c-220079ec22c4",
   "metadata": {},
   "source": [
    "- **Week 7: Project Management**\n",
    "  - Topics\n",
    "     - Introduction to project management\n",
    "     - Project planning and estimation\n",
    "     - Risk management\n",
    "     - Change management\n",
    "     - Case study: Managing a software development project\n",
    "  - Required Readings\n",
    "    - Chapter 1: Introduction, \"Project Management: A Systems Approach to Planning, Scheduling, and Controlling\" by Harold Kerzner\n",
    "    - Chapter 2: The Project Management and Information Technology Context, \"Project Management: A Systems Approach to Planning, Scheduling, and Controlling\" by Harold Kerzner\n",
    "    - Classic Article: \"Managing the Development of Large Software Systems\" by Winston W. Royce\n",
    "  - Optional Readings"
   ]
  },
  {
   "cell_type": "markdown",
   "id": "950889f2-a0ff-43f1-a190-e6f7e79cdab1",
   "metadata": {},
   "source": [
    "- **Week 8: Software Quality Assurance**\n",
    "  - Topics\n",
    "    - Introduction to software quality assurance\n",
    "    - Quality attributes and metrics\n",
    "    - Quality management\n",
    "    - Quality assurance techniques\n",
    "    - Case study: Implementing a software quality assurance strategy in a software development project\n",
    "  - Required Readings\n",
    "    - Chapter 1: Introduction to Software Quality Assurance, \"Software Quality Assurance: From Theory to Implementation\" by Daniel Galin\n",
    "    - Chapter 2: Quality Concepts and Standards, \"Software Quality Assurance: From Theory to Implementation\" by Daniel Galin\n",
    "    - Classic Article: \"A Discipline for Software Engineering\" by Watts S. Humphrey\n",
    "  - Optional Readings"
   ]
  },
  {
   "cell_type": "markdown",
   "id": "a40eef70-e991-4e39-908a-95ef9628f80b",
   "metadata": {},
   "source": [
    "- **Week 9: Security in Software Engineering**\n",
    "  - Topics\n",
    "      - Introduction to software security\n",
    "      - Threat modeling\n",
    "      - Secure coding practices\n",
    "      - Authentication and authorization\n",
    "     - Case study: Implementing security measures in a software development project\n",
    "  - Required Readings\n",
    "      - Chapter 1: Introduction, \"Secure Coding in C and C++\" by Robert C. Seacord\n",
    "      - Chapter 2: Buffer Overflows, \"Secure Coding in C and C++\" by\n",
    "     \n",
    "  - Optional Readings"
   ]
  },
  {
   "cell_type": "markdown",
   "id": "2cfaf208-30fd-4e2a-aaa2-c4bb77ea73df",
   "metadata": {},
   "source": [
    "- **Week 10: Containerization with Docker**\n",
    "  - Topics\n",
    "      - Introduction to Docker\n",
    "      - Docker architecture\n",
    "      - Docker commands and CLI\n",
    "      - Dockerizing a web application\n",
    "      - Case study: Dockerizing a web application for deployment\n",
    "  - Required Readings\n",
    "      - Chapter 1: Introduction, \"Docker Deep Dive\" by Nigel Poulton\n",
    "       - Chapter 2: Getting Started with Docker, \"Docker Deep Dive\" by Nigel Poulton\n",
    "       - Classic Article: \"An Introduction to Docker\" by Benjamin Wootton\n",
    "\n",
    "  - Optional Readings"
   ]
  },
  {
   "cell_type": "markdown",
   "id": "75e4159d-f002-4722-ad6b-984b3df71732",
   "metadata": {},
   "source": [
    "- **Week 11: Emerging Topics in Software Engineering**\n",
    "  - Topics\n",
    "       - Introduction to emerging topics in software engineering\n",
    "       - Machine learning in software development\n",
    "       - Blockchain and smart contracts\n",
    "       - Serverless computing\n",
    "       - Case study: Applying emerging technologies in a software development project\n",
    "  - Required Readings\n",
    "    - Chapter 1: Introduction, \"Emerging Trends in Software Engineering\" edited by Muhammad Ali Babar and Alan W. Brown\n",
    "    - Chapter 2: Microservices, \"Emerging Trends in Software Engineering\" edited by Muhammad Ali Babar and Alan W. Brown\n",
    "    - Chapter 3: Serverless Computing, \"Emerging Trends in Software Engineering\" edited by Muhammad Ali Babar and Alan W. Brown\n",
    "    - Classic Article: \"The Cathedral and the Bazaar\" by Eric S. Raymond\n",
    "  - Optional Readings"
   ]
  },
  {
   "cell_type": "code",
   "execution_count": null,
   "id": "a725f634-b2a6-46b6-bc07-ddf2c8d4173f",
   "metadata": {},
   "outputs": [],
   "source": []
  }
 ],
 "metadata": {
  "kernelspec": {
   "display_name": "Python 3 (ipykernel)",
   "language": "python",
   "name": "python3"
  },
  "language_info": {
   "codemirror_mode": {
    "name": "ipython",
    "version": 3
   },
   "file_extension": ".py",
   "mimetype": "text/x-python",
   "name": "python",
   "nbconvert_exporter": "python",
   "pygments_lexer": "ipython3",
   "version": "3.11.2"
  }
 },
 "nbformat": 4,
 "nbformat_minor": 5
}
