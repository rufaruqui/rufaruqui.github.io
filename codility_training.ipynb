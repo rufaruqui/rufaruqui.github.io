{
 "cells": [
  {
   "cell_type": "code",
   "execution_count": 6,
   "id": "8d765dfc",
   "metadata": {},
   "outputs": [],
   "source": [
    "def solution(A):\n",
    "    # write your code in Python 3.6\n",
    "    sol = dict()\n",
    "    for i in range(len(A)):\n",
    "        for j in range(i+1, len(A)):\n",
    "            if A[j] < A[i]:\n",
    "                sol[(i,j)] = True\n",
    "    print(sol)\n",
    "    return len(sol)\n",
    "            "
   ]
  },
  {
   "cell_type": "code",
   "execution_count": 7,
   "id": "0990ea8e",
   "metadata": {},
   "outputs": [
    {
     "name": "stdout",
     "output_type": "stream",
     "text": [
      "{(1, 2): True, (1, 3): True}\n"
     ]
    },
    {
     "data": {
      "text/plain": [
       "2"
      ]
     },
     "execution_count": 7,
     "metadata": {},
     "output_type": "execute_result"
    }
   ],
   "source": [
    "solution([-1, 6, 4, 5])"
   ]
  },
  {
   "cell_type": "code",
   "execution_count": 18,
   "id": "32429e7e",
   "metadata": {},
   "outputs": [],
   "source": [
    "def rotLeft(a, d):\n",
    "    # Write your code here\n",
    "    N = len(a)\n",
    "    result = []\n",
    "    if N == 1 or N == 0 or ( d > 1 and  N % d == 0):\n",
    "        return a\n",
    "    elif N == 2 and d == 1:\n",
    "        a = a[::-1]\n",
    "    else:\n",
    "        a = a[d:] + a[:d]\n",
    "    return a\n",
    "      "
   ]
  },
  {
   "cell_type": "code",
   "execution_count": 19,
   "id": "07d4a341",
   "metadata": {},
   "outputs": [
    {
     "data": {
      "text/plain": [
       "[2, 3, 4, 5, 1]"
      ]
     },
     "execution_count": 19,
     "metadata": {},
     "output_type": "execute_result"
    }
   ],
   "source": [
    "rotLeft([1,2,3,4,5],1)"
   ]
  },
  {
   "cell_type": "code",
   "execution_count": null,
   "id": "7899bb24",
   "metadata": {},
   "outputs": [],
   "source": []
  }
 ],
 "metadata": {
  "kernelspec": {
   "display_name": "Python 3 (ipykernel)",
   "language": "python",
   "name": "python3"
  },
  "language_info": {
   "codemirror_mode": {
    "name": "ipython",
    "version": 3
   },
   "file_extension": ".py",
   "mimetype": "text/x-python",
   "name": "python",
   "nbconvert_exporter": "python",
   "pygments_lexer": "ipython3",
   "version": "3.9.13"
  }
 },
 "nbformat": 4,
 "nbformat_minor": 5
}
