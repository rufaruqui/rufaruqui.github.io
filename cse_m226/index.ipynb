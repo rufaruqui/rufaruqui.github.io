{
 "cells": [
  {
   "cell_type": "markdown",
   "id": "420fe9a5",
   "metadata": {},
   "source": [
    "## Course Outline"
   ]
  },
  {
   "cell_type": "markdown",
   "id": "862b86df",
   "metadata": {},
   "source": [
    "|Lectures | Topics | Readings | Resources /Slides |\n",
    "| --------|--------|----------|-------------------|\n",
    "|L1- Introduction|<ul> <li>Reasons for studying Programming Languages</li> <li>Compilations and Interpretations</li><li> An overview of Compilations</li></ul>|(PLP) _Chapter 1.3, 1.3, 1.5_ _(CPL) – 1.1_|\n",
    "| --------|--------|----------|-------------------|\n",
    "|L2- Evolution of the Major Programming Languages| <ul><li>Evolution of the Major Programming Languages</li><li> A Brief, Incomplete, and Mostly Wrong History of Programming Languages</li></ul>|_(CPL) – Chapter 2_|\n",
    "| --------|--------|----------|-------------------|\n",
    "|L3: Introduction to Ruby and OOP|<ul><li>Basic features</li><li> Features interesting for this course</li></ul>|[Ruby for Beginners](http://ruby-for-beginners.rubymonstas.org/index.html)|\n",
    "| --------|--------|----------|-------------------|\n",
    "|L4: Ruby|<ul><li> Blocks</li><li>Iterators</li><li>Operators</li><li>String Interpolation</li><li>Top-level object</li><li>Using Libraries</li><li>Modules</li></ul>|See – Ruby for beginners|[Ruby for Beginners](http://ruby-for-beginners.rubymonstas.org/index.html)|\n",
    "| --------|--------|----------|-------------------|\n",
    "|L5: Ruby|<ul><li>Regular Expressions</li><li>Yield</li><li>Inheritance, Modules, Mixins</li></ul>|PRuby – Chapter 5|[Ruby for Beginners](http://ruby-for-beginners.rubymonstas.org/index.html)|\n",
    "| --------|--------|----------|-------------------|\n",
    "|L6: Ruby|<ul><li>Duck Typing</li></ul>|PRuby – Chapter 23|\n",
    "| --------|--------|----------|-------------------|\n",
    "|L7: Ruby |<ul><li>Meta Programming</li></ul>|PRuby – Chapter 24|\n",
    "| --------|--------|----------|-------------------|\n",
    "|L8: Ruby|<ul><li>Meta Programming and Reflections</li><ul>|PRuby – Chapter 24 and 25|\n",
    "| --------|--------|----------|-------------------|\n",
    "|L9: Functional Programming|<ul><li>Introduction to Functional Languages</li></ul>|<strong>PLP</strong>(CH 11.1 &#8211; 11.2)|\n",
    "| --------|--------|----------|-------------------|\n",
    "|L9: Functional Programming|<ul><li> Lambda Calculus and The Basics of Scala</li><ul>|slides|\n",
    "| --------|--------|----------|-------------------|\n",
    "|L10: Functional Programming|<ul><li>Programming Paradigms</li><li>Elements of Programming</li><li>Conditionals and Value Definitions</li><li>Blocks and Lexical Scope</li><li>Tail Recursion</li></ul>|<strong>PrInScala</strong>(Ch &#8211; 4 -6)|\n",
    "| --------|--------|----------|-------------------|\n",
    "|L11: Functional Programming|<ul><li>Higher Order Functions</li><li>Currying</li><li>Functions and Data</li><li>Evaluations and Operators</li></ul>|<strong>PrInScala</strong>(Ch &#8211; 7 -9)|\n",
    "| --------|--------|----------|-------------------|"
   ]
  },
  {
   "cell_type": "markdown",
   "id": "d6bb981f",
   "metadata": {},
   "source": [
    "## Text Books\n",
    "\n",
    "<ol>\n",
    "<li >Michael L. Scott, <strong>Programming Language Pragmatics (PLP), 4th Ed.</strong><strong>, </strong> Morgan Kaufmann, 2015</li>\n",
    "<li >Robert Harper, <strong>Practical Foundations for Programming Languages (PFPL), 2nd Ed</strong>. Cambridge University Press, 2016.</li>\n",
    "<li >Robert W. Sebesta<strong><b> </b>Concepts in Programming Languages (CPL), </strong> <strong>11th Ed.</strong>, Cambridge University Press, 2015.</li>\n",
    "<li >Dave Thomas, Chad Fowler, Andy Hunt <strong>Programming Ruby 1.9 &amp;<br />\n",
    "2.0 (PRuby), </strong> <strong>3rd Ed.</strong>, The Pragmatic Bookshelf, 2009.</li>\n",
    "<li><em>Martin Odersky, Lex Spoon, Bill Venners, Frank Sommers </em><strong>Programming in Scala (PrInScala), </strong>Artima Press, 2021</li>\n",
    "</ol>"
   ]
  },
  {
   "cell_type": "code",
   "execution_count": null,
   "id": "d35cf633",
   "metadata": {},
   "outputs": [],
   "source": []
  }
 ],
 "metadata": {
  "kernelspec": {
   "display_name": "Python 3.9.7 64-bit ('py39': conda)",
   "language": "python",
   "name": "python397jvsc74a57bd0aa3dd84ef0f650d9d8b867844db5a915f08cb58b5d6dab20fc53865ee0283ae4"
  },
  "language_info": {
   "codemirror_mode": {
    "name": "ipython",
    "version": 3
   },
   "file_extension": ".py",
   "mimetype": "text/x-python",
   "name": "python",
   "nbconvert_exporter": "python",
   "pygments_lexer": "ipython3",
   "version": "3.9.7"
  }
 },
 "nbformat": 4,
 "nbformat_minor": 5
}
