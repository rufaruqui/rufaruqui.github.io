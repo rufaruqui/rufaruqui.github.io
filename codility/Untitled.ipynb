{
 "cells": [
  {
   "cell_type": "code",
   "execution_count": 4,
   "id": "acf93fbb",
   "metadata": {},
   "outputs": [],
   "source": [
    "def solution(E, L):\n",
    "    # write your code in Python 3.6\n",
    "    E = E.split(\":\")\n",
    "    L = L.split(\":\")\n",
    "    l_h, l_m = int(L[0]), int(L[1])\n",
    "    e_h, e_m = int(E[0]), int(E[1])\n",
    "    if e_m > l_m:\n",
    "        l_h -= 1\n",
    "        l_m += 60\n",
    "    total_time = (l_h - e_h) \n",
    "    if l_m - e_m > 0:\n",
    "        total_time += 1\n",
    "    total_spend = 2 + 3 * 1 + (total_time -1) * 4\n",
    "    return total_spend"
   ]
  },
  {
   "cell_type": "code",
   "execution_count": 5,
   "id": "0473492a",
   "metadata": {},
   "outputs": [
    {
     "data": {
      "text/plain": [
       "13"
      ]
     },
     "execution_count": 5,
     "metadata": {},
     "output_type": "execute_result"
    }
   ],
   "source": [
    "solution(\"10:21\", \"13:09\")"
   ]
  },
  {
   "cell_type": "code",
   "execution_count": 7,
   "id": "9546262b",
   "metadata": {},
   "outputs": [
    {
     "data": {
      "text/plain": [
       "9"
      ]
     },
     "execution_count": 7,
     "metadata": {},
     "output_type": "execute_result"
    }
   ],
   "source": [
    "solution(\"09:42\",\"11:42\")"
   ]
  },
  {
   "cell_type": "code",
   "execution_count": 9,
   "id": "a1e92754",
   "metadata": {},
   "outputs": [
    {
     "data": {
      "text/plain": [
       "13"
      ]
     },
     "execution_count": 9,
     "metadata": {},
     "output_type": "execute_result"
    }
   ],
   "source": [
    "solution(\"09:00\",\"11:01\")"
   ]
  },
  {
   "cell_type": "code",
   "execution_count": null,
   "id": "75114619",
   "metadata": {},
   "outputs": [],
   "source": []
  },
  {
   "cell_type": "code",
   "execution_count": 10,
   "id": "db3f9384",
   "metadata": {},
   "outputs": [],
   "source": [
    "def solution(S):\n",
    "    # write your code in Python 3.6\n",
    "    N = len(S)\n",
    "    mid = N // 2\n",
    "    if N == 0 or N == 1:\n",
    "        return 0\n",
    "    elif N % 2 == 0:\n",
    "        return -1\n",
    "    else:\n",
    "        for i in range(0, mid):\n",
    "            print(i, mid, S[i], S[N-1-i])\n",
    "            if S[i] != S[N-1-i]:\n",
    "                return -1\n",
    "    return mid"
   ]
  },
  {
   "cell_type": "code",
   "execution_count": 14,
   "id": "408821b8",
   "metadata": {},
   "outputs": [
    {
     "name": "stdout",
     "output_type": "stream",
     "text": [
      "0 1 c r\n"
     ]
    },
    {
     "data": {
      "text/plain": [
       "-1"
      ]
     },
     "execution_count": 14,
     "metadata": {},
     "output_type": "execute_result"
    }
   ],
   "source": [
    "solution(\"car\")\n"
   ]
  },
  {
   "cell_type": "code",
   "execution_count": 15,
   "id": "d84d31c7",
   "metadata": {},
   "outputs": [
    {
     "name": "stdout",
     "output_type": "stream",
     "text": [
      "0 1 c c\n"
     ]
    },
    {
     "data": {
      "text/plain": [
       "1"
      ]
     },
     "execution_count": 15,
     "metadata": {},
     "output_type": "execute_result"
    }
   ],
   "source": [
    "solution(\"cac\")"
   ]
  },
  {
   "cell_type": "code",
   "execution_count": 16,
   "id": "d7ee7b6e",
   "metadata": {},
   "outputs": [
    {
     "data": {
      "text/plain": [
       "-1"
      ]
     },
     "execution_count": 16,
     "metadata": {},
     "output_type": "execute_result"
    }
   ],
   "source": [
    "solution(\"cc\")"
   ]
  },
  {
   "cell_type": "code",
   "execution_count": 17,
   "id": "78602bcd",
   "metadata": {},
   "outputs": [
    {
     "name": "stdout",
     "output_type": "stream",
     "text": [
      "0 2 m m\n",
      "1 2 a a\n"
     ]
    },
    {
     "data": {
      "text/plain": [
       "2"
      ]
     },
     "execution_count": 17,
     "metadata": {},
     "output_type": "execute_result"
    }
   ],
   "source": [
    "solution(\"madam\")"
   ]
  },
  {
   "cell_type": "code",
   "execution_count": 19,
   "id": "fa45c793",
   "metadata": {},
   "outputs": [
    {
     "name": "stdout",
     "output_type": "stream",
     "text": [
      "0 3 r r\n",
      "1 3 a a\n",
      "2 3 c b\n"
     ]
    },
    {
     "data": {
      "text/plain": [
       "-1"
      ]
     },
     "execution_count": 19,
     "metadata": {},
     "output_type": "execute_result"
    }
   ],
   "source": [
    "solution(\"racebar\")"
   ]
  },
  {
   "cell_type": "code",
   "execution_count": 34,
   "id": "cf39791b",
   "metadata": {},
   "outputs": [],
   "source": [
    "def solution(N):\n",
    "    # write your code in Python 3.6\n",
    "    d = 0\n",
    "    if N < 2:\n",
    "        return N\n",
    "    elif N == 2:\n",
    "        return 1\n",
    "    else:\n",
    "        while N > 1: \n",
    "            d +=1 \n",
    "            N //=2\n",
    "    return d - 1"
   ]
  },
  {
   "cell_type": "code",
   "execution_count": 38,
   "id": "6945530d",
   "metadata": {},
   "outputs": [
    {
     "data": {
      "text/plain": [
       "0"
      ]
     },
     "execution_count": 38,
     "metadata": {},
     "output_type": "execute_result"
    }
   ],
   "source": [
    "solution(2)"
   ]
  },
  {
   "cell_type": "code",
   "execution_count": 39,
   "id": "ef547fad",
   "metadata": {},
   "outputs": [
    {
     "data": {
      "text/plain": [
       "5"
      ]
     },
     "execution_count": 39,
     "metadata": {},
     "output_type": "execute_result"
    }
   ],
   "source": [
    "solution(72)"
   ]
  },
  {
   "cell_type": "code",
   "execution_count": null,
   "id": "238bbabd",
   "metadata": {},
   "outputs": [],
   "source": [
    "def palindrome_permutation(A):    \n",
    "    freq = {}\n",
    "    aa = [a.lower() for a in A  if a.isalpha()]\n",
    "    \n",
    "    for a in aa: \n",
    "        if a in freq:\n",
    "            freq[a] = (freq[a] + 1) % 2\n",
    "        else:\n",
    "            freq[a] = 1\n",
    "    \n",
    "    ll =[v for v in freq.values()]\n",
    "    zero_count = ll.count(0)\n",
    "    one_count = ll.count(1)\n",
    " \n",
    "    if len(aa) % 2 == 1:\n",
    "        return True if one_count == 1 else False\n",
    "    else:\n",
    "        return True if one_count == 0 else False "
   ]
  },
  {
   "cell_type": "code",
   "execution_count": null,
   "id": "a854b926",
   "metadata": {},
   "outputs": [],
   "source": [
    "palindrome_permutation(\"Tact Coa\")"
   ]
  },
  {
   "cell_type": "code",
   "execution_count": 122,
   "id": "9c009c0a",
   "metadata": {},
   "outputs": [],
   "source": [
    "def isUnique(S):\n",
    "    freq = {}\n",
    "    for s in S:\n",
    "        if s in freq:\n",
    "            freq[s] += 1\n",
    "        else:\n",
    "            freq[s] = 1\n",
    "    return len([ i for i in freq.values() if i > 1]) == 0"
   ]
  },
  {
   "cell_type": "code",
   "execution_count": 123,
   "id": "41a535e0",
   "metadata": {},
   "outputs": [
    {
     "data": {
      "text/plain": [
       "True"
      ]
     },
     "execution_count": 123,
     "metadata": {},
     "output_type": "execute_result"
    }
   ],
   "source": [
    "isUnique(\"abcd\")"
   ]
  },
  {
   "cell_type": "code",
   "execution_count": 124,
   "id": "718988fb",
   "metadata": {},
   "outputs": [
    {
     "data": {
      "text/plain": [
       "True"
      ]
     },
     "execution_count": 124,
     "metadata": {},
     "output_type": "execute_result"
    }
   ],
   "source": [
    "isUnique(\"abBcd\")"
   ]
  },
  {
   "cell_type": "code",
   "execution_count": 125,
   "id": "19782f64",
   "metadata": {},
   "outputs": [
    {
     "data": {
      "text/plain": [
       "False"
      ]
     },
     "execution_count": 125,
     "metadata": {},
     "output_type": "execute_result"
    }
   ],
   "source": [
    "isUnique(\"abbcd\")"
   ]
  },
  {
   "cell_type": "code",
   "execution_count": 129,
   "id": "b24d2f0d",
   "metadata": {},
   "outputs": [],
   "source": [
    "def checkPermutation(p1, p2):\n",
    "    if len(p1) != len(p2):\n",
    "        return False\n",
    "    \n",
    "    freq = {}\n",
    "    for c in p1:\n",
    "        if c in freq:\n",
    "            freq[c] +=1\n",
    "        else:\n",
    "            freq[c] = 1\n",
    "            \n",
    "    for c in p2:\n",
    "        if c not in freq:\n",
    "            return False\n",
    "        freq[c] -= 1\n",
    "    return True"
   ]
  },
  {
   "cell_type": "code",
   "execution_count": 130,
   "id": "6e10cb7f",
   "metadata": {},
   "outputs": [
    {
     "data": {
      "text/plain": [
       "True"
      ]
     },
     "execution_count": 130,
     "metadata": {},
     "output_type": "execute_result"
    }
   ],
   "source": [
    "checkPermutation(\"abc\", \"cba\")"
   ]
  },
  {
   "cell_type": "code",
   "execution_count": 131,
   "id": "eec5bf68",
   "metadata": {},
   "outputs": [
    {
     "data": {
      "text/plain": [
       "False"
      ]
     },
     "execution_count": 131,
     "metadata": {},
     "output_type": "execute_result"
    }
   ],
   "source": [
    "checkPermutation(\"abc\", \"cbaa\")"
   ]
  },
  {
   "cell_type": "code",
   "execution_count": null,
   "id": "05fa7c01",
   "metadata": {},
   "outputs": [],
   "source": [
    "checkPermutation(\"abc\", \"cba\")"
   ]
  },
  {
   "cell_type": "code",
   "execution_count": 235,
   "id": "35eb2892",
   "metadata": {},
   "outputs": [],
   "source": [
    "def powerSets(S):\n",
    "    N = len(S)\n",
    "    ps = [[]]\n",
    "    \n",
    "    #base case\n",
    "    ps[0].append({})\n",
    "    \n",
    "    for i in range(1, N+1):\n",
    "        ll = []\n",
    "        for subset in ps[i-1]:\n",
    "            print(subset)\n",
    "            ll.append({S[i-1]})\n",
    "        ps.append(ll) \n",
    "    print(ps)\n",
    "    return ps"
   ]
  },
  {
   "cell_type": "code",
   "execution_count": 236,
   "id": "26b8662b",
   "metadata": {},
   "outputs": [
    {
     "name": "stdout",
     "output_type": "stream",
     "text": [
      "{}\n",
      "{1}\n",
      "{2}\n",
      "[[{}], [{1}], [{2}], [{3}]]\n"
     ]
    },
    {
     "data": {
      "text/plain": [
       "[[{}], [{1}], [{2}], [{3}]]"
      ]
     },
     "execution_count": 236,
     "metadata": {},
     "output_type": "execute_result"
    }
   ],
   "source": [
    "powerSets([1,2,3])"
   ]
  },
  {
   "cell_type": "code",
   "execution_count": 237,
   "id": "c78d3c96",
   "metadata": {},
   "outputs": [],
   "source": [
    "def solution(A):\n",
    "    E = [ i for i,a in enumerate(A) if a == 0 ]\n",
    "    W = [ i for i,a in enumerate(A) if a == 1 ]\n",
    "    result = []\n",
    "    for e in E:\n",
    "        for w in W:\n",
    "            if len(result) > 1000000000:\n",
    "                return -1\n",
    "            if e < w:\n",
    "                result.append((e,w))\n",
    "    return result"
   ]
  },
  {
   "cell_type": "code",
   "execution_count": 238,
   "id": "c2b58958",
   "metadata": {},
   "outputs": [
    {
     "data": {
      "text/plain": [
       "[(0, 1), (0, 3), (0, 4), (2, 1), (2, 3), (2, 4)]"
      ]
     },
     "execution_count": 238,
     "metadata": {},
     "output_type": "execute_result"
    }
   ],
   "source": [
    "solution([ 0,1,0,1,1])"
   ]
  },
  {
   "cell_type": "code",
   "execution_count": 241,
   "id": "c3b12945",
   "metadata": {},
   "outputs": [],
   "source": [
    "def solution(A):\n",
    "    result, N, count = 0, len(A),0\n",
    "    for i,a in enumerate(A):\n",
    "        if a == 0:\n",
    "            result += N-1-i-count\n",
    "            count  += 1\n",
    "        print(result,count,i)\n",
    "    return result"
   ]
  },
  {
   "cell_type": "code",
   "execution_count": 242,
   "id": "c8190062",
   "metadata": {},
   "outputs": [
    {
     "name": "stdout",
     "output_type": "stream",
     "text": [
      "4 1 0\n",
      "4 1 1\n",
      "5 2 2\n",
      "5 2 3\n",
      "5 2 4\n"
     ]
    },
    {
     "data": {
      "text/plain": [
       "5"
      ]
     },
     "execution_count": 242,
     "metadata": {},
     "output_type": "execute_result"
    }
   ],
   "source": [
    "solution([ 0,1,0,1,1])"
   ]
  },
  {
   "cell_type": "code",
   "execution_count": 247,
   "id": "9a1fd951",
   "metadata": {},
   "outputs": [],
   "source": [
    "def max_slice(A):\n",
    "    result,s, n = 0, 0, len(A)\n",
    "    for i in range(n):\n",
    "        s = 0\n",
    "        for j in range(i,n):\n",
    "            s += A[j]\n",
    "            result = max(result, s)\n",
    "    return result"
   ]
  },
  {
   "cell_type": "code",
   "execution_count": 248,
   "id": "cacfa2cf",
   "metadata": {},
   "outputs": [
    {
     "data": {
      "text/plain": [
       "5"
      ]
     },
     "execution_count": 248,
     "metadata": {},
     "output_type": "execute_result"
    }
   ],
   "source": [
    "max_slice([3,2,-6,4,0])"
   ]
  },
  {
   "cell_type": "code",
   "execution_count": 250,
   "id": "b3aef1d2",
   "metadata": {},
   "outputs": [
    {
     "data": {
      "text/plain": [
       "10"
      ]
     },
     "execution_count": 250,
     "metadata": {},
     "output_type": "execute_result"
    }
   ],
   "source": [
    "max_slice([5,-7,3,5,-2,4,-1])"
   ]
  },
  {
   "cell_type": "code",
   "execution_count": null,
   "id": "0e1b6919",
   "metadata": {},
   "outputs": [],
   "source": []
  }
 ],
 "metadata": {
  "kernelspec": {
   "display_name": "Python 3 (ipykernel)",
   "language": "python",
   "name": "python3"
  },
  "language_info": {
   "codemirror_mode": {
    "name": "ipython",
    "version": 3
   },
   "file_extension": ".py",
   "mimetype": "text/x-python",
   "name": "python",
   "nbconvert_exporter": "python",
   "pygments_lexer": "ipython3",
   "version": "3.11.2"
  }
 },
 "nbformat": 4,
 "nbformat_minor": 5
}
