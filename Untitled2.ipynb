{
 "cells": [
  {
   "cell_type": "code",
   "execution_count": 7,
   "id": "356f3835",
   "metadata": {},
   "outputs": [
    {
     "name": "stdout",
     "output_type": "stream",
     "text": [
      "19 1 19.0\n",
      "8 1 8.0\n",
      "5 1 5.0\n",
      "1 1 1.0\n",
      "Maximum value we can obtain = 33.0\n"
     ]
    }
   ],
   "source": [
    "# Structure for an item which stores weight and\n",
    "# corresponding value of Item\n",
    "class Item:\n",
    "    def __init__(self, value, weight):\n",
    "        self.value = value\n",
    "        self.weight = weight\n",
    " \n",
    "# Main greedy function to solve problem\n",
    "def fractionalKnapsack(W, arr):\n",
    " \n",
    "    # sorting Item on basis of ratio\n",
    "    arr.sort(key=lambda x: (x.value/x.weight), reverse=True)\n",
    " \n",
    "    # Uncomment to see new order of Items with their\n",
    "    # ratio\n",
    "    for item in arr:\n",
    "        print(item.value, item.weight, item.value/item.weight)\n",
    " \n",
    "    # Result(value in Knapsack)\n",
    "    finalvalue = 0.0\n",
    " \n",
    "    # Looping through all Items\n",
    "    for item in arr:\n",
    " \n",
    "        # If adding Item won't overflow, add it completely\n",
    "        if item.weight <= W:\n",
    "            W -= item.weight\n",
    "            finalvalue += item.value\n",
    " \n",
    "        # If we can't add current Item, add fractional part\n",
    "        # of it\n",
    "        else:\n",
    "            finalvalue += item.value * W / item.weight\n",
    "            break\n",
    "    # Returning final value\n",
    "    return finalvalue\n",
    " \n",
    " \n",
    "# Driver's Code\n",
    "if __name__ == \"__main__\":\n",
    " \n",
    "    # Weight of Knapsack\n",
    "    W = 16\n",
    "    arr = [Item(19, 1), Item(8, 1), Item(5, 1), Item(1, 1)]\n",
    " \n",
    "    # Function call\n",
    "    max_val = fractionalKnapsack(W, arr)\n",
    "    print ('Maximum value we can obtain = {}'.format(max_val))"
   ]
  },
  {
   "cell_type": "code",
   "execution_count": null,
   "id": "10e4d1ae",
   "metadata": {},
   "outputs": [],
   "source": []
  }
 ],
 "metadata": {
  "kernelspec": {
   "display_name": "Python 3 (ipykernel)",
   "language": "python",
   "name": "python3"
  },
  "language_info": {
   "codemirror_mode": {
    "name": "ipython",
    "version": 3
   },
   "file_extension": ".py",
   "mimetype": "text/x-python",
   "name": "python",
   "nbconvert_exporter": "python",
   "pygments_lexer": "ipython3",
   "version": "3.9.13"
  }
 },
 "nbformat": 4,
 "nbformat_minor": 5
}
