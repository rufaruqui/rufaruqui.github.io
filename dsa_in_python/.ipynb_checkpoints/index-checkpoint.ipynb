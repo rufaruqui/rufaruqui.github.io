{
 "cells": [
  {
   "cell_type": "markdown",
   "id": "f25590b5",
   "metadata": {},
   "source": [
    "# ETE 2324: Data Structures and Algorithms "
   ]
  },
  {
   "cell_type": "markdown",
   "id": "88baa9bd",
   "metadata": {},
   "source": [
    "## Course Contents\n",
    "    \n",
    "   - Introduction to DSA\n",
    "     - Reading: [Chapter 1](https://runestone.academy/runestone/books/published/pythonds3/Introduction/toctree.html)\n",
    "     - Notebook:[Introduction](https://github.com/rufaruqui/rufaruqui.github.io/blob/main/dsa_in_python/introduction.ipynb)\n",
    "     - Lectures: [Slides](introduction.slides.html) [PDF](introduction.pdf) [HTML](introduction.html) [Latex](introduction.tex)\n",
    "   \n",
    "   - Complexity Analysis\n",
    "     - Reading: [Chapter 3](https://runestone.academy/runestone/books/published/pythonds3/AlgorithmAnalysis/toctree.html)\n",
    "     - Notebook: [Complexity Analysis](complexity_analysis.ipnyb)\n",
    "     - Lectures: [PDF](complexity_analysis.pdf) [HTML](complexity_analysis.html) [Latex](complexity_analysis.tex)\n",
    "    "
   ]
  },
  {
   "cell_type": "markdown",
   "id": "346acee5",
   "metadata": {},
   "source": [
    "## Textbooks\n",
    "   - [Problem Solving with Algorithms and Data Structures using Python](https://runestone.academy/runestone/books/published/pythonds3/index.html)\n",
    "   - Cormen, Thomas, Charles Leiserson, Ronald Rivest, and Clifford Stein. **Introduction to Algorithms**. 3rd ed. MIT Press, 2009. ISBN: 9780262033848.\n",
    "   - Michael T. Goodrich, Roberto Tamassia, Michael H. Goldwasser. **Data Structures and Algorithms in Python** Wiley (2013)\n",
    "\n"
   ]
  },
  {
   "cell_type": "markdown",
   "id": "1423897d",
   "metadata": {},
   "source": [
    "## Additional Resourcess:\n",
    "   - How to install python and jupyter\n",
    "      - [Installation Guide](https://www.datacamp.com/community/tutorials/installing-jupyter-notebook)\n",
    "   \n",
    "   - Python Tutorial\n",
    "     - Part 1: [Slides](python_p1.slides.html), [Notebook](https://github.com/rufaruqui/rufaruqui.github.io/blob/main/dsa_in_python/python_p1.ipnyb),  [HTML](python_p1.html)\n",
    "     - Part 2: [Slides](python_p2.slides.html),[Notebook](https://github.com/rufaruqui/rufaruqui.github.io/blob/main/dsa_in_python/python_p2.ipnyb),  [HTML](python_p2.html)\n",
    "     - Part 3: [Slides](python_p2.slides.html),[Notebook](https://github.com/rufaruqui/rufaruqui.github.io/blob/main/dsa_in_python/python_p3.ipnyb),  [HTML](python_p3.html)\n",
    "     - List in Python: [Notebook](https://github.com/rufaruqui/rufaruqui.github.io/blob/main/dsa_in_python/python_list.ipnyb),  [HTML](python_list.html)"
   ]
  },
  {
   "cell_type": "code",
   "execution_count": null,
   "id": "41650bd0",
   "metadata": {},
   "outputs": [],
   "source": []
  }
 ],
 "metadata": {
  "kernelspec": {
   "display_name": "Python 3 (ipykernel)",
   "language": "python",
   "name": "python3"
  },
  "language_info": {
   "codemirror_mode": {
    "name": "ipython",
    "version": 3
   },
   "file_extension": ".py",
   "mimetype": "text/x-python",
   "name": "python",
   "nbconvert_exporter": "python",
   "pygments_lexer": "ipython3",
   "version": "3.9.6"
  }
 },
 "nbformat": 4,
 "nbformat_minor": 5
}
