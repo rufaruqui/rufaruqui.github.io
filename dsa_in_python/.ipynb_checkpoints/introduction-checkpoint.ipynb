{
 "cells": [
  {
   "cell_type": "markdown",
   "id": "2a25e376",
   "metadata": {
    "slideshow": {
     "slide_type": "slide"
    }
   },
   "source": [
    "# Definitions"
   ]
  },
  {
   "cell_type": "markdown",
   "id": "2fd30249",
   "metadata": {
    "slideshow": {
     "slide_type": "subslide"
    }
   },
   "source": [
    "- **Data structure** is a systematic way of organizing and accessing data.\n",
    "- An **algorithm** is a step-by-step procedure for performing some task in a finite amount of time."
   ]
  },
  {
   "cell_type": "markdown",
   "id": "d925646e",
   "metadata": {
    "slideshow": {
     "slide_type": "slide"
    }
   },
   "source": [
    "# Motivations\n",
    "\n",
    " - **Algorithms are fundamental to all areas of Computing**\n",
    "   - Algorithms are the backbone of computer science.\n",
    "     - Operating Systems\n",
    "     - Networking\n",
    "     - Cyber Security \n",
    "   - Algorithms and the computational perspective (the “computational lens”) has also been fruitfully applied to other areas, such as \n",
    "      - physics (e.g. quantum computing), \n",
    "      - economics (e.g. algorithmic gametheory), and \n",
    "      - biology (e.g. for studying evolutions, as a surprisingly efficient algorithm that searches the space of genotypes).\n",
    " - **Algorithms are useful**\n",
    "  - Much of the progress that has occurred in tech/industry is due to the dual developments of improved hardware (a la “Moore’s Law”)\n",
    "  - In fact, the faster computers get, the bigger the discrepancy is between what can be accomplished with fast algorithms vs what can be accomplished with slow algorithms.\n",
    "  - Industry needs to continue developing new algorithms for the problems of tomorrow, and you can help\n",
    "contribute.\n",
    " - **Algorithms are fun!**\n",
    "  - The design and analysis of algorithms requires a combination of creativity and mathematical precision. \n",
    "  - It is both an art and a science, and hopefully at least some of you will come to love this combination."
   ]
  },
  {
   "cell_type": "markdown",
   "id": "8846960f",
   "metadata": {
    "slideshow": {
     "slide_type": "slide"
    }
   },
   "source": [
    "# Algorithms and Programs"
   ]
  },
  {
   "cell_type": "markdown",
   "id": "0ecd648e",
   "metadata": {
    "slideshow": {
     "slide_type": "subslide"
    }
   },
   "source": [
    "- It is important that you do not mix up these two concepts.  \n",
    "- An algorithm algorithm is an **abstract concept** to solve a given problem.  \n",
    "\n",
    "- In contrast, a program is a __concrete__ implementation of an algorithm.  \n",
    "\n",
    "- In order to implement an algorithm as a program we have to cover every detail, be it trivial or not.  \n",
    "- On the other hand,  to specify an algorithm it is often sufficient to describe just the interesting aspects.  \n",
    "\n",
    "- The rest can then be filled in by a competent programmer.  \n",
    "- Therefore, a `specification` of an algorithm often __abstracts__ from minor details. "
   ]
  },
  {
   "cell_type": "code",
   "execution_count": null,
   "id": "17e61c7e",
   "metadata": {},
   "outputs": [],
   "source": []
  }
 ],
 "metadata": {
  "celltoolbar": "Slideshow",
  "kernelspec": {
   "display_name": "Python 3 (ipykernel)",
   "language": "python",
   "name": "python3"
  },
  "language_info": {
   "codemirror_mode": {
    "name": "ipython",
    "version": 3
   },
   "file_extension": ".py",
   "mimetype": "text/x-python",
   "name": "python",
   "nbconvert_exporter": "python",
   "pygments_lexer": "ipython3",
   "version": "3.9.6"
  }
 },
 "nbformat": 4,
 "nbformat_minor": 5
}
