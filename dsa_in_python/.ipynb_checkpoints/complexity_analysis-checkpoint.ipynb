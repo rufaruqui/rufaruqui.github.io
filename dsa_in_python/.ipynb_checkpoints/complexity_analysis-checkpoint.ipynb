{
 "cells": [
  {
   "cell_type": "markdown",
   "id": "211e1a7a",
   "metadata": {
    "slideshow": {
     "slide_type": "slide"
    }
   },
   "source": [
    "# The Complexity of Algorithims"
   ]
  },
  {
   "cell_type": "markdown",
   "id": "8d96c671",
   "metadata": {
    "slideshow": {
     "slide_type": "subslide"
    }
   },
   "source": [
    " ## Motivation\n",
    " \n",
    " Sometimes it is necessary to have a precise understanding of the complexity of an algorithm.   In order to obtain this understanding we could proceed as follows:  \n",
    " \n",
    " <ol>\n",
    "    <li>We implement the algorithm in a given programming language.</li>\n",
    " \t<li> We count how many additions, multiplications, assignments, etc.~are needed</li>\n",
    " \tfor an input of a given size.  Additionally, we have to count all storage accesses.</li>\n",
    " \t<li> We look up the amount of time that is needed for the different operations in the processor handbook.</li>\n",
    " \t<li> Using the information discovered in the previous two steps we predict the running\n",
    " \ttime of our algorithm for given input.</li>\n",
    "</ol>"
   ]
  },
  {
   "cell_type": "markdown",
   "id": "6e829e0e",
   "metadata": {
    "slideshow": {
     "slide_type": "slide"
    }
   },
   "source": [
    "### Naive Approach\n",
    "$S~=~1+2+3+ ...+n$"
   ]
  },
  {
   "cell_type": "code",
   "execution_count": 1,
   "id": "7a6aefa9",
   "metadata": {
    "slideshow": {
     "slide_type": "slide"
    }
   },
   "outputs": [
    {
     "name": "stdout",
     "output_type": "stream",
     "text": [
      "Sum is 50005000 required   0.000867 seconds\n",
      "Sum is 50005000 required   0.001106 seconds\n",
      "Sum is 50005000 required   0.000802 seconds\n",
      "Sum is 50005000 required   0.000840 seconds\n",
      "Sum is 50005000 required   0.000822 seconds\n"
     ]
    }
   ],
   "source": [
    "import time\n",
    "\n",
    "\n",
    "def sum_of_n_2(n):\n",
    "    start = time.time()\n",
    "\n",
    "    the_sum = 0\n",
    "    for i in range(1, n + 1):\n",
    "        the_sum = the_sum + i\n",
    "\n",
    "    end = time.time()\n",
    "\n",
    "    return the_sum, end - start\n",
    "\n",
    "for i in range(5):\n",
    "    print(\"Sum is %d required %10.6f seconds\" % sum_of_n_2(10000))\n",
    "    \n"
   ]
  },
  {
   "cell_type": "markdown",
   "id": "4919c718",
   "metadata": {
    "slideshow": {
     "slide_type": "slide"
    }
   },
   "source": [
    "### Alternative Approach\n",
    "\n",
    "$S~=~1 + 2   +  3+ ...+n$\n",
    "\n",
    "\n",
    "$S~=~n + (n-1) + (n- 2)+ .... + 1$\n",
    "\n",
    "$2S = (n+1) + (n+1)+ .... + (n+1) = n * (n +1)$\n",
    "\n",
    "$S = \\frac{n* (n+1)} {2}$"
   ]
  },
  {
   "cell_type": "code",
   "execution_count": 2,
   "id": "517ffb64",
   "metadata": {
    "slideshow": {
     "slide_type": "slide"
    }
   },
   "outputs": [
    {
     "name": "stdout",
     "output_type": "stream",
     "text": [
      "V2: Sum is 50005000 required   0.000001 seconds\n",
      "V2: Sum is 50005000 required   0.000001 seconds\n",
      "V2: Sum is 50005000 required   0.000000 seconds\n",
      "V2: Sum is 50005000 required   0.000000 seconds\n",
      "V2: Sum is 50005000 required   0.000001 seconds\n"
     ]
    }
   ],
   "source": [
    "def sum_of_n_3(n):\n",
    "    start = time.time()\n",
    "\n",
    "    the_sum = ((n+1)*n)/2.0\n",
    "\n",
    "    end = time.time()\n",
    "\n",
    "    return the_sum, end - start\n",
    "\n",
    "for i in range(5):\n",
    "    print(\"V2: Sum is %d required %10.6f seconds\" % sum_of_n_3(10000))"
   ]
  },
  {
   "cell_type": "code",
   "execution_count": null,
   "id": "7428ea37",
   "metadata": {},
   "outputs": [],
   "source": []
  },
  {
   "cell_type": "code",
   "execution_count": null,
   "id": "2e26e987",
   "metadata": {},
   "outputs": [],
   "source": []
  }
 ],
 "metadata": {
  "celltoolbar": "Slideshow",
  "kernelspec": {
   "display_name": "Python 3 (ipykernel)",
   "language": "python",
   "name": "python3"
  },
  "language_info": {
   "codemirror_mode": {
    "name": "ipython",
    "version": 3
   },
   "file_extension": ".py",
   "mimetype": "text/x-python",
   "name": "python",
   "nbconvert_exporter": "python",
   "pygments_lexer": "ipython3",
   "version": "3.9.6"
  }
 },
 "nbformat": 4,
 "nbformat_minor": 5
}
