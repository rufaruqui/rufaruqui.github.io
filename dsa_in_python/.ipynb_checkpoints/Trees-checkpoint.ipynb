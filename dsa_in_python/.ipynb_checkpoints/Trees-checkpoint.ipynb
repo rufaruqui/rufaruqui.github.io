{
 "cells": [
  {
   "cell_type": "code",
   "execution_count": 1,
   "id": "ddb8106c",
   "metadata": {},
   "outputs": [],
   "source": [
    "my_tree = [\n",
    "    \"a\",  # root\n",
    "        [\"b\",  # left subtree\n",
    "            [\"d\", [], []],\n",
    "            [\"e\", [], []]\n",
    "        ],\n",
    "        [\"c\",  # right subtree\n",
    "            [\"f\", [], []],\n",
    "            []\n",
    "        ],\n",
    "    ]"
   ]
  },
  {
   "cell_type": "code",
   "execution_count": 2,
   "id": "5287ba08",
   "metadata": {},
   "outputs": [
    {
     "name": "stdout",
     "output_type": "stream",
     "text": [
      "['a', ['b', ['d', [], []], ['e', [], []]], ['c', ['f', [], []], []]]\n"
     ]
    }
   ],
   "source": [
    "print(my_tree)"
   ]
  },
  {
   "cell_type": "code",
   "execution_count": 11,
   "id": "f81bdf11",
   "metadata": {},
   "outputs": [],
   "source": [
    "new_tree = [\"a\", [\"b\",[\"d\", [], []],[\"e\",[],[]]], [\"c\",[\"f\", [],[]], []]]"
   ]
  },
  {
   "cell_type": "code",
   "execution_count": 12,
   "id": "12759ae9",
   "metadata": {},
   "outputs": [
    {
     "name": "stdout",
     "output_type": "stream",
     "text": [
      "['a', ['b', ['d', [], []], ['e', [], []]], ['c', ['f', [], []], []]]\n"
     ]
    }
   ],
   "source": [
    "print(new_tree)"
   ]
  },
  {
   "cell_type": "code",
   "execution_count": 13,
   "id": "f944f256",
   "metadata": {},
   "outputs": [
    {
     "name": "stdout",
     "output_type": "stream",
     "text": [
      "['b', ['d', [], []], ['e', [], []]]\n"
     ]
    }
   ],
   "source": [
    "print(new_tree[1])"
   ]
  },
  {
   "cell_type": "code",
   "execution_count": 14,
   "id": "e21bf37f",
   "metadata": {},
   "outputs": [
    {
     "name": "stdout",
     "output_type": "stream",
     "text": [
      "a\n"
     ]
    }
   ],
   "source": [
    "print(new_tree[0])"
   ]
  },
  {
   "cell_type": "code",
   "execution_count": 15,
   "id": "cb86d973",
   "metadata": {},
   "outputs": [
    {
     "name": "stdout",
     "output_type": "stream",
     "text": [
      "['c', ['f', [], []], []]\n"
     ]
    }
   ],
   "source": [
    "print(new_tree.pop(2))"
   ]
  },
  {
   "cell_type": "code",
   "execution_count": 16,
   "id": "3376e788",
   "metadata": {},
   "outputs": [],
   "source": [
    "a_tree = [\"a\", [], []]"
   ]
  },
  {
   "cell_type": "code",
   "execution_count": 18,
   "id": "783e697e",
   "metadata": {},
   "outputs": [
    {
     "name": "stdout",
     "output_type": "stream",
     "text": [
      "['a', [], []]\n"
     ]
    }
   ],
   "source": [
    "print(a_tree)"
   ]
  },
  {
   "cell_type": "code",
   "execution_count": 25,
   "id": "5cb8b244",
   "metadata": {},
   "outputs": [],
   "source": [
    "a_tree = [\"a\", [\"b\", [\"d\", [], []], [\"e\", [], []]], [\"c\", [\"f\", [], []], []]]"
   ]
  },
  {
   "cell_type": "code",
   "execution_count": 26,
   "id": "af5ce4c5",
   "metadata": {},
   "outputs": [
    {
     "name": "stdout",
     "output_type": "stream",
     "text": [
      "['a', ['b', ['d', [], []], ['e', [], []]], ['c', ['f', [], []], []]]\n"
     ]
    }
   ],
   "source": [
    "print(a_tree)"
   ]
  },
  {
   "cell_type": "code",
   "execution_count": 27,
   "id": "58212bc2",
   "metadata": {},
   "outputs": [
    {
     "name": "stdout",
     "output_type": "stream",
     "text": [
      "a\n"
     ]
    }
   ],
   "source": [
    "root = a_tree[0]\n",
    "print(root)"
   ]
  },
  {
   "cell_type": "code",
   "execution_count": 28,
   "id": "1b95cc45",
   "metadata": {},
   "outputs": [
    {
     "name": "stdout",
     "output_type": "stream",
     "text": [
      "['b', ['d', [], []], ['e', [], []]]\n"
     ]
    }
   ],
   "source": [
    "left_tree = a_tree[1]\n",
    "print(left_tree)"
   ]
  },
  {
   "cell_type": "code",
   "execution_count": 30,
   "id": "d8c46a48",
   "metadata": {},
   "outputs": [
    {
     "name": "stdout",
     "output_type": "stream",
     "text": [
      "['c', ['f', [], []], []]\n"
     ]
    }
   ],
   "source": [
    "right_tree = a_tree[2]\n",
    "print(right_tree)"
   ]
  },
  {
   "cell_type": "code",
   "execution_count": 48,
   "id": "6be63893",
   "metadata": {},
   "outputs": [],
   "source": [
    "class BinaryTree:\n",
    "    def __init__(self, root):\n",
    "        self.left = None\n",
    "        self.right = None\n",
    "        self.key = root\n",
    "    def insert_left(self,new_node):\n",
    "        if self.left is None:\n",
    "            self.left = BinaryTree(new_node)\n",
    "        else:\n",
    "            new_left = BinaryTree(new_node)\n",
    "            new_left.left = self.left\n",
    "            self.left = new_left\n",
    "            \n",
    "        "
   ]
  },
  {
   "cell_type": "code",
   "execution_count": 49,
   "id": "baa35c8a",
   "metadata": {},
   "outputs": [],
   "source": [
    "bt = BinaryTree(\"a\")"
   ]
  },
  {
   "cell_type": "code",
   "execution_count": 50,
   "id": "4b4716e9",
   "metadata": {},
   "outputs": [
    {
     "data": {
      "text/plain": [
       "'a'"
      ]
     },
     "execution_count": 50,
     "metadata": {},
     "output_type": "execute_result"
    }
   ],
   "source": [
    "bt.key"
   ]
  },
  {
   "cell_type": "code",
   "execution_count": 51,
   "id": "6be0c5fb",
   "metadata": {},
   "outputs": [],
   "source": [
    "bt.insert_left(\"b\")"
   ]
  },
  {
   "cell_type": "code",
   "execution_count": 52,
   "id": "7fbbd98a",
   "metadata": {},
   "outputs": [
    {
     "data": {
      "text/plain": [
       "'b'"
      ]
     },
     "execution_count": 52,
     "metadata": {},
     "output_type": "execute_result"
    }
   ],
   "source": [
    "bt.left.key"
   ]
  },
  {
   "cell_type": "code",
   "execution_count": 53,
   "id": "8cff1c60",
   "metadata": {},
   "outputs": [
    {
     "ename": "NameError",
     "evalue": "name 'BinrayTree' is not defined",
     "output_type": "error",
     "traceback": [
      "\u001b[0;31m---------------------------------------------------------------------------\u001b[0m",
      "\u001b[0;31mNameError\u001b[0m                                 Traceback (most recent call last)",
      "\u001b[0;32m/var/folders/1_/2rbdt5292zdb57b821k90d5r0000gn/T/ipykernel_72895/2251782815.py\u001b[0m in \u001b[0;36m<module>\u001b[0;34m\u001b[0m\n\u001b[0;32m----> 1\u001b[0;31m \u001b[0mbt\u001b[0m\u001b[0;34m.\u001b[0m\u001b[0minsert_left\u001b[0m\u001b[0;34m(\u001b[0m\u001b[0;34m\"c\"\u001b[0m\u001b[0;34m)\u001b[0m\u001b[0;34m\u001b[0m\u001b[0;34m\u001b[0m\u001b[0m\n\u001b[0m",
      "\u001b[0;32m/var/folders/1_/2rbdt5292zdb57b821k90d5r0000gn/T/ipykernel_72895/3328738835.py\u001b[0m in \u001b[0;36minsert_left\u001b[0;34m(self, new_node)\u001b[0m\n\u001b[1;32m      8\u001b[0m             \u001b[0mself\u001b[0m\u001b[0;34m.\u001b[0m\u001b[0mleft\u001b[0m \u001b[0;34m=\u001b[0m \u001b[0mBinaryTree\u001b[0m\u001b[0;34m(\u001b[0m\u001b[0mnew_node\u001b[0m\u001b[0;34m)\u001b[0m\u001b[0;34m\u001b[0m\u001b[0;34m\u001b[0m\u001b[0m\n\u001b[1;32m      9\u001b[0m         \u001b[0;32melse\u001b[0m\u001b[0;34m:\u001b[0m\u001b[0;34m\u001b[0m\u001b[0;34m\u001b[0m\u001b[0m\n\u001b[0;32m---> 10\u001b[0;31m             \u001b[0mnew_left\u001b[0m \u001b[0;34m=\u001b[0m \u001b[0mBinrayTree\u001b[0m\u001b[0;34m(\u001b[0m\u001b[0mnew_node\u001b[0m\u001b[0;34m)\u001b[0m\u001b[0;34m\u001b[0m\u001b[0;34m\u001b[0m\u001b[0m\n\u001b[0m\u001b[1;32m     11\u001b[0m             \u001b[0mnew_left\u001b[0m\u001b[0;34m.\u001b[0m\u001b[0mleft\u001b[0m \u001b[0;34m=\u001b[0m \u001b[0mself\u001b[0m\u001b[0;34m.\u001b[0m\u001b[0mleft\u001b[0m\u001b[0;34m\u001b[0m\u001b[0;34m\u001b[0m\u001b[0m\n\u001b[1;32m     12\u001b[0m             \u001b[0mself\u001b[0m\u001b[0;34m.\u001b[0m\u001b[0mleft\u001b[0m \u001b[0;34m=\u001b[0m \u001b[0mnew_left\u001b[0m\u001b[0;34m\u001b[0m\u001b[0;34m\u001b[0m\u001b[0m\n",
      "\u001b[0;31mNameError\u001b[0m: name 'BinrayTree' is not defined"
     ]
    }
   ],
   "source": [
    "bt.insert_left(\"c\")"
   ]
  },
  {
   "cell_type": "code",
   "execution_count": null,
   "id": "fe58767d",
   "metadata": {},
   "outputs": [],
   "source": []
  }
 ],
 "metadata": {
  "kernelspec": {
   "display_name": "Python 3.9.7 64-bit ('py39': conda)",
   "language": "python",
   "name": "python397jvsc74a57bd0aa3dd84ef0f650d9d8b867844db5a915f08cb58b5d6dab20fc53865ee0283ae4"
  },
  "language_info": {
   "codemirror_mode": {
    "name": "ipython",
    "version": 3
   },
   "file_extension": ".py",
   "mimetype": "text/x-python",
   "name": "python",
   "nbconvert_exporter": "python",
   "pygments_lexer": "ipython3",
   "version": "3.9.7"
  }
 },
 "nbformat": 4,
 "nbformat_minor": 5
}
