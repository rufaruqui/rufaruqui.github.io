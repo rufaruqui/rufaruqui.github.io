{
 "cells": [
  {
   "cell_type": "markdown",
   "id": "da38a48f",
   "metadata": {},
   "source": [
    "## The Bubble Sort"
   ]
  },
  {
   "cell_type": "code",
   "execution_count": 135,
   "id": "ce081a23",
   "metadata": {},
   "outputs": [],
   "source": [
    "a=[34,12,56,12,18,19,45,90,100,1,234]"
   ]
  },
  {
   "cell_type": "code",
   "execution_count": 136,
   "id": "58fe2b1f",
   "metadata": {},
   "outputs": [],
   "source": [
    "def bubble_sort(a):\n",
    "    for i in range(len(a)-1, 1, -1): \n",
    "        for j in range(i): \n",
    "            if a[i] < a[j]:\n",
    "                a[i], a[j] = a[j], a[i]\n",
    "    return a"
   ]
  },
  {
   "cell_type": "code",
   "execution_count": 137,
   "id": "38e3fe46",
   "metadata": {},
   "outputs": [
    {
     "data": {
      "text/plain": [
       "[1, 12, 12, 18, 19, 34, 45, 56, 90, 100, 234]"
      ]
     },
     "execution_count": 137,
     "metadata": {},
     "output_type": "execute_result"
    }
   ],
   "source": [
    "bubble_sort(a) "
   ]
  },
  {
   "cell_type": "markdown",
   "id": "e910de46",
   "metadata": {},
   "source": [
    "## The Insertion Sort"
   ]
  },
  {
   "cell_type": "code",
   "execution_count": 138,
   "id": "ac0976f6",
   "metadata": {},
   "outputs": [],
   "source": [
    "a_list = [54,26,93,17,77,31,44,55,20]"
   ]
  },
  {
   "cell_type": "code",
   "execution_count": 139,
   "id": "a4c03871",
   "metadata": {},
   "outputs": [],
   "source": [
    "def insertion_sort(a):\n",
    "    sorted_a = [a[0]]\n",
    "    print(a[0],\"-->\",sorted_a)\n",
    "    for i in range(1, len(a)):\n",
    "        sorted_a= [ item for item in sorted_a if  item < a[i]] + [a[i]] + [item for item in sorted_a if item > a[i]] \n",
    "        print(a[i],\"-->\", sorted_a)\n",
    "    return sorted_a"
   ]
  },
  {
   "cell_type": "code",
   "execution_count": 140,
   "id": "66dd125a",
   "metadata": {},
   "outputs": [
    {
     "name": "stdout",
     "output_type": "stream",
     "text": [
      "54 --> [54]\n",
      "26 --> [26, 54]\n",
      "93 --> [26, 54, 93]\n",
      "17 --> [17, 26, 54, 93]\n",
      "77 --> [17, 26, 54, 77, 93]\n",
      "31 --> [17, 26, 31, 54, 77, 93]\n",
      "44 --> [17, 26, 31, 44, 54, 77, 93]\n",
      "55 --> [17, 26, 31, 44, 54, 55, 77, 93]\n",
      "20 --> [17, 20, 26, 31, 44, 54, 55, 77, 93]\n"
     ]
    },
    {
     "data": {
      "text/plain": [
       "[17, 20, 26, 31, 44, 54, 55, 77, 93]"
      ]
     },
     "execution_count": 140,
     "metadata": {},
     "output_type": "execute_result"
    }
   ],
   "source": [
    "insertion_sort(a_list)"
   ]
  },
  {
   "cell_type": "markdown",
   "id": "30e98865",
   "metadata": {},
   "source": [
    "## The Merge Sort"
   ]
  },
  {
   "cell_type": "code",
   "execution_count": 7,
   "id": "08399ae9",
   "metadata": {},
   "outputs": [],
   "source": [
    "a_list = [54,26,93,17,77,31,44,55,20]"
   ]
  },
  {
   "cell_type": "code",
   "execution_count": 115,
   "id": "7580ea28",
   "metadata": {},
   "outputs": [],
   "source": [
    "def merge_sort_helper(sorted_a, a):\n",
    "    print(a)\n",
    "    \n",
    "    if(len(a)>1):\n",
    "        mid = len(a) // 2\n",
    "        merge_sort_helper(sorted_a, a[:mid])\n",
    "        merge_sort_helper(sorted_a, a[mid:])\n",
    "    else: \n",
    "        if(len(sorted_a)>0): \n",
    "            for index,item in enumerate(sorted_a):\n",
    "                if(a[0] < item):\n",
    "                    sorted_a.insert(index, a[0])\n",
    "                    break\n",
    "                sorted_a.insert(len(sorted_a), a[0])\n",
    "        else:\n",
    "            sorted_a += a"
   ]
  },
  {
   "cell_type": "code",
   "execution_count": 116,
   "id": "d8204cbb",
   "metadata": {},
   "outputs": [],
   "source": [
    "def merge_sort(a):\n",
    "    a= merge_sort_helper([],a)\n",
    "    return a"
   ]
  },
  {
   "cell_type": "code",
   "execution_count": null,
   "id": "edae747e",
   "metadata": {},
   "outputs": [],
   "source": []
  },
  {
   "cell_type": "code",
   "execution_count": 117,
   "id": "2ebc9354",
   "metadata": {},
   "outputs": [
    {
     "name": "stdout",
     "output_type": "stream",
     "text": [
      "[54, 26, 93, 17, 77, 31, 44, 55, 20]\n",
      "[54, 26, 93, 17]\n",
      "[54, 26]\n",
      "[54]\n",
      "[26]\n",
      "[93, 17]\n",
      "[93]\n",
      "[17]\n",
      "[77, 31, 44, 55, 20]\n",
      "[77, 31]\n",
      "[77]\n",
      "[31]\n",
      "[44, 55, 20]\n",
      "[44]\n",
      "[55, 20]\n",
      "[55]\n",
      "[20]\n"
     ]
    }
   ],
   "source": [
    "merge_sort(a_list)"
   ]
  },
  {
   "cell_type": "code",
   "execution_count": 118,
   "id": "34a567fe",
   "metadata": {},
   "outputs": [
    {
     "name": "stdout",
     "output_type": "stream",
     "text": [
      "[54, 26, 93, 17, 77, 31, 44, 55, 20]\n"
     ]
    }
   ],
   "source": [
    "print(a_list)"
   ]
  },
  {
   "cell_type": "code",
   "execution_count": null,
   "id": "e08af26e",
   "metadata": {},
   "outputs": [],
   "source": []
  },
  {
   "cell_type": "code",
   "execution_count": null,
   "id": "66c83784",
   "metadata": {},
   "outputs": [],
   "source": []
  }
 ],
 "metadata": {
  "kernelspec": {
   "display_name": "Python 3 (ipykernel)",
   "language": "python",
   "name": "python3"
  },
  "language_info": {
   "codemirror_mode": {
    "name": "ipython",
    "version": 3
   },
   "file_extension": ".py",
   "mimetype": "text/x-python",
   "name": "python",
   "nbconvert_exporter": "python",
   "pygments_lexer": "ipython3",
   "version": "3.9.7"
  }
 },
 "nbformat": 4,
 "nbformat_minor": 5
}
