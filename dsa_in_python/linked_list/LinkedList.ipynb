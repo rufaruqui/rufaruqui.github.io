{
 "cells": [
  {
   "cell_type": "markdown",
   "id": "1cc216c9",
   "metadata": {},
   "source": [
    "# Linked List"
   ]
  },
  {
   "cell_type": "code",
   "execution_count": 111,
   "id": "4b5a633f",
   "metadata": {},
   "outputs": [],
   "source": [
    "class Node:\n",
    "    def __init__(self, val=None):\n",
    "        self.val = val\n",
    "        self.next = None\n",
    "        "
   ]
  },
  {
   "cell_type": "code",
   "execution_count": 112,
   "id": "bc5fb7da",
   "metadata": {},
   "outputs": [],
   "source": [
    "a = [10, 20, 30, 40,50,70,80,90]\n",
    "\n",
    "ll = Node(a[0])\n",
    "\n",
    "start_node = ll"
   ]
  },
  {
   "cell_type": "code",
   "execution_count": null,
   "id": "52a4e822",
   "metadata": {},
   "outputs": [],
   "source": []
  },
  {
   "cell_type": "code",
   "execution_count": 113,
   "id": "968fa5a4",
   "metadata": {},
   "outputs": [
    {
     "name": "stdout",
     "output_type": "stream",
     "text": [
      "10 --> 20 --> 30 --> 40 --> 50 --> 70 --> 80 --> 90"
     ]
    }
   ],
   "source": [
    "start_node = Node(a[0])\n",
    "\n",
    "ll = start_node\n",
    "for i in range(1, len(a)):\n",
    "    ll.next = Node(a[i])  \n",
    "    ll = ll.next\n",
    "    \n",
    "    \n",
    "    \n",
    "while start_node:\n",
    "    print(start_node.val, end=\"\")\n",
    "    start_node = start_node.next\n",
    "    if start_node is not None:\n",
    "        print(\" --> \", end=\"\")\n",
    "    "
   ]
  },
  {
   "cell_type": "code",
   "execution_count": 114,
   "id": "787b3f2c",
   "metadata": {},
   "outputs": [],
   "source": [
    "class LinkedList:\n",
    "    def __init__(self, args):\n",
    "        self.start_node = Node(args[0])\n",
    "        ll = self.start_node\n",
    "        for i in range(1, len(args)):\n",
    "            ll.next = Node(args[i])\n",
    "            ll = ll.next \n",
    "    def __pretty_print__(self):\n",
    "        while self.start_node:\n",
    "            print(self.start_node.val, end=\"\")\n",
    "            self.start_node = self.start_node.next\n",
    "            if self.start_node is not None:\n",
    "                print(\" --> \", end=\"\")\n",
    "                \n",
    "    def __start_node__(self):\n",
    "        return self.start_node"
   ]
  },
  {
   "cell_type": "code",
   "execution_count": 115,
   "id": "94bdd316",
   "metadata": {},
   "outputs": [
    {
     "name": "stdout",
     "output_type": "stream",
     "text": [
      "<__main__.Node object at 0x105ceb430>\n"
     ]
    }
   ],
   "source": [
    "ll = LinkedList(a)\n",
    "print(ll.__start_node__())"
   ]
  },
  {
   "cell_type": "code",
   "execution_count": 116,
   "id": "47b631ab",
   "metadata": {},
   "outputs": [
    {
     "name": "stdout",
     "output_type": "stream",
     "text": [
      "10 --> 20 --> 30 --> 40 --> 50 --> 70 --> 80 --> 90"
     ]
    }
   ],
   "source": [
    "ll.__pretty_print__()"
   ]
  },
  {
   "cell_type": "code",
   "execution_count": 117,
   "id": "4477d450",
   "metadata": {},
   "outputs": [
    {
     "name": "stdout",
     "output_type": "stream",
     "text": [
      "None\n"
     ]
    }
   ],
   "source": [
    "print(ll.__start_node__())"
   ]
  },
  {
   "cell_type": "code",
   "execution_count": 118,
   "id": "971c422f",
   "metadata": {},
   "outputs": [],
   "source": [
    "class LinkedList:\n",
    "    def __init__(self, *args):\n",
    "        self.start_node = Node()\n",
    "        if len(args) > 0:\n",
    "            self.start_node = Node(args[0])\n",
    "            ll = self.start_node\n",
    "            if len(args) > 1:\n",
    "                for i in range(1, len(args)):\n",
    "                    ll.next = Node(args[i])\n",
    "                    ll = ll.next\n",
    "    def __pretty_print__(self):\n",
    "        while self.start_node:\n",
    "            print(self.start_node.val, end=\"\")\n",
    "            self.start_node = self.start_node.next\n",
    "            if self.start_node is not None:\n",
    "                print(\" --> \", end=\"\")\n",
    "                \n",
    "    def __start_node__(self):\n",
    "        return self.start_node"
   ]
  },
  {
   "cell_type": "code",
   "execution_count": 119,
   "id": "df6ca16a",
   "metadata": {},
   "outputs": [],
   "source": [
    "ll = LinkedList(10,20,30,40)"
   ]
  },
  {
   "cell_type": "code",
   "execution_count": 120,
   "id": "ab3687c2",
   "metadata": {},
   "outputs": [
    {
     "name": "stdout",
     "output_type": "stream",
     "text": [
      "10 --> 20 --> 30 --> 40"
     ]
    }
   ],
   "source": [
    "ll.__pretty_print__()"
   ]
  },
  {
   "cell_type": "code",
   "execution_count": 121,
   "id": "4dc106a4",
   "metadata": {},
   "outputs": [
    {
     "ename": "NameError",
     "evalue": "name 'Optional' is not defined",
     "output_type": "error",
     "traceback": [
      "\u001b[0;31m---------------------------------------------------------------------------\u001b[0m",
      "\u001b[0;31mNameError\u001b[0m                                 Traceback (most recent call last)",
      "\u001b[0;32m/var/folders/1_/2rbdt5292zdb57b821k90d5r0000gn/T/ipykernel_25371/1033918681.py\u001b[0m in \u001b[0;36m<module>\u001b[0;34m\u001b[0m\n\u001b[1;32m      5\u001b[0m \u001b[0;31m#         self.next = next\u001b[0m\u001b[0;34m\u001b[0m\u001b[0;34m\u001b[0m\u001b[0m\n\u001b[1;32m      6\u001b[0m \u001b[0;32mimport\u001b[0m \u001b[0mrandom\u001b[0m\u001b[0;34m\u001b[0m\u001b[0;34m\u001b[0m\u001b[0m\n\u001b[0;32m----> 7\u001b[0;31m \u001b[0;32mclass\u001b[0m \u001b[0mSolution\u001b[0m\u001b[0;34m:\u001b[0m\u001b[0;34m\u001b[0m\u001b[0;34m\u001b[0m\u001b[0m\n\u001b[0m\u001b[1;32m      8\u001b[0m \u001b[0;34m\u001b[0m\u001b[0m\n\u001b[1;32m      9\u001b[0m     \u001b[0;32mdef\u001b[0m \u001b[0m__init__\u001b[0m\u001b[0;34m(\u001b[0m\u001b[0mself\u001b[0m\u001b[0;34m,\u001b[0m \u001b[0mhead\u001b[0m\u001b[0;34m:\u001b[0m \u001b[0mOptional\u001b[0m\u001b[0;34m[\u001b[0m\u001b[0mListNode\u001b[0m\u001b[0;34m]\u001b[0m\u001b[0;34m)\u001b[0m\u001b[0;34m:\u001b[0m\u001b[0;34m\u001b[0m\u001b[0;34m\u001b[0m\u001b[0m\n",
      "\u001b[0;32m/var/folders/1_/2rbdt5292zdb57b821k90d5r0000gn/T/ipykernel_25371/1033918681.py\u001b[0m in \u001b[0;36mSolution\u001b[0;34m()\u001b[0m\n\u001b[1;32m      7\u001b[0m \u001b[0;32mclass\u001b[0m \u001b[0mSolution\u001b[0m\u001b[0;34m:\u001b[0m\u001b[0;34m\u001b[0m\u001b[0;34m\u001b[0m\u001b[0m\n\u001b[1;32m      8\u001b[0m \u001b[0;34m\u001b[0m\u001b[0m\n\u001b[0;32m----> 9\u001b[0;31m     \u001b[0;32mdef\u001b[0m \u001b[0m__init__\u001b[0m\u001b[0;34m(\u001b[0m\u001b[0mself\u001b[0m\u001b[0;34m,\u001b[0m \u001b[0mhead\u001b[0m\u001b[0;34m:\u001b[0m \u001b[0mOptional\u001b[0m\u001b[0;34m[\u001b[0m\u001b[0mListNode\u001b[0m\u001b[0;34m]\u001b[0m\u001b[0;34m)\u001b[0m\u001b[0;34m:\u001b[0m\u001b[0;34m\u001b[0m\u001b[0;34m\u001b[0m\u001b[0m\n\u001b[0m\u001b[1;32m     10\u001b[0m         \u001b[0mself\u001b[0m\u001b[0;34m.\u001b[0m\u001b[0msize\u001b[0m \u001b[0;34m=\u001b[0m \u001b[0mself\u001b[0m\u001b[0;34m.\u001b[0m\u001b[0mcount\u001b[0m\u001b[0;34m(\u001b[0m\u001b[0;34m)\u001b[0m\u001b[0;34m\u001b[0m\u001b[0;34m\u001b[0m\u001b[0m\n\u001b[1;32m     11\u001b[0m         \u001b[0mself\u001b[0m\u001b[0;34m.\u001b[0m\u001b[0mhead\u001b[0m \u001b[0;34m=\u001b[0m \u001b[0mhead\u001b[0m\u001b[0;34m\u001b[0m\u001b[0;34m\u001b[0m\u001b[0m\n",
      "\u001b[0;31mNameError\u001b[0m: name 'Optional' is not defined"
     ]
    }
   ],
   "source": [
    "# Definition for singly-linked list.\n",
    "# class ListNode:\n",
    "#     def __init__(self, val=0, next=None):\n",
    "#         self.val = val\n",
    "#         self.next = next\n",
    "import random\n",
    "class Solution:\n",
    "\n",
    "    def __init__(self, head: Optional[ListNode]):\n",
    "        self.size = self.count()\n",
    "        self.head = head\n",
    "        \n",
    "    def count(self) -> int:\n",
    "        count = 0;\n",
    "        head = self.head\n",
    "        while head:\n",
    "            count = count+1\n",
    "            head = head.next \n",
    "        return count\n",
    "    \n",
    "    def getRandom(self) -> int:\n",
    "        fake_start = self.head\n",
    "        r = random.randint(1, self.size)\n",
    "        val = None\n",
    "        for i in range(r):\n",
    "            if fake_start.next is None:\n",
    "                val = fake_start.val\n",
    "                break\n",
    "            else:\n",
    "                val = fake_start.val\n",
    "                fake_start = fake_start.next \n",
    "        return val\n",
    "\n",
    "# Your Solution object will be instantiated and called as such:\n",
    "# obj = Solution(head)\n",
    "# param_1 = obj.getRandom()"
   ]
  },
  {
   "cell_type": "code",
   "execution_count": null,
   "id": "51a0b655",
   "metadata": {},
   "outputs": [],
   "source": []
  }
 ],
 "metadata": {
  "kernelspec": {
   "display_name": "Python 3.9.7 64-bit ('py39': conda)",
   "language": "python",
   "name": "python397jvsc74a57bd0aa3dd84ef0f650d9d8b867844db5a915f08cb58b5d6dab20fc53865ee0283ae4"
  },
  "language_info": {
   "codemirror_mode": {
    "name": "ipython",
    "version": 3
   },
   "file_extension": ".py",
   "mimetype": "text/x-python",
   "name": "python",
   "nbconvert_exporter": "python",
   "pygments_lexer": "ipython3",
   "version": "3.9.7"
  }
 },
 "nbformat": 4,
 "nbformat_minor": 5
}
