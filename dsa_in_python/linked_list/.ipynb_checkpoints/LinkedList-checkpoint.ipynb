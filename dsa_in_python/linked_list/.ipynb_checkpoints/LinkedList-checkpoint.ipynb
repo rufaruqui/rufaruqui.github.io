{
 "cells": [
  {
   "cell_type": "markdown",
   "id": "85350127",
   "metadata": {},
   "source": [
    "# Linked List"
   ]
  },
  {
   "cell_type": "code",
   "execution_count": 31,
   "id": "7d42d0ce",
   "metadata": {},
   "outputs": [],
   "source": [
    "class Node:\n",
    "    def __init__(self, val):\n",
    "        self.val = val\n",
    "        self.next = None\n",
    "        "
   ]
  },
  {
   "cell_type": "code",
   "execution_count": 37,
   "id": "5691f5ba",
   "metadata": {},
   "outputs": [],
   "source": [
    "a = [10, 20, 30, 40,50,70,80,90]\n",
    "\n",
    "ll = Node(a[0])\n",
    "\n",
    "start_node = ll"
   ]
  },
  {
   "cell_type": "code",
   "execution_count": null,
   "id": "c96e2761",
   "metadata": {},
   "outputs": [],
   "source": []
  },
  {
   "cell_type": "code",
   "execution_count": 54,
   "id": "69c55fe2",
   "metadata": {},
   "outputs": [
    {
     "name": "stdout",
     "output_type": "stream",
     "text": [
      "10 --> 20 --> 30 --> 40 --> 50 --> 70 --> 80 --> 90"
     ]
    }
   ],
   "source": [
    "start_node = Node(a[0])\n",
    "\n",
    "ll = start_node\n",
    "for i in range(1, len(a)):\n",
    "    ll.next = Node(a[i])  \n",
    "    ll = ll.next\n",
    "    \n",
    "    \n",
    "    \n",
    "while start_node:\n",
    "    print(start_node.val, end=\"\")\n",
    "    start_node = start_node.next\n",
    "    if start_node is not None:\n",
    "        print(\" --> \", end=\"\")\n",
    "    "
   ]
  },
  {
   "cell_type": "code",
   "execution_count": 86,
   "id": "e90bf926",
   "metadata": {},
   "outputs": [],
   "source": [
    "class LinkedList:\n",
    "    def __init__(self, args):\n",
    "        self.start_node = Node(args[0])\n",
    "        ll = self.start_node\n",
    "        for i in range(1, len(args)):\n",
    "            ll.next = Node(args[i])\n",
    "            ll = ll.next \n",
    "    def __pretty_print__(self):\n",
    "        while self.start_node:\n",
    "            print(self.start_node.val, end=\"\")\n",
    "            self.start_node = self.start_node.next\n",
    "            if self.start_node is not None:\n",
    "                print(\" --> \", end=\"\")\n",
    "                \n",
    "    def __start_node__(self):\n",
    "        return self.start_node"
   ]
  },
  {
   "cell_type": "code",
   "execution_count": 87,
   "id": "c279f915",
   "metadata": {},
   "outputs": [
    {
     "name": "stdout",
     "output_type": "stream",
     "text": [
      "<__main__.Node object at 0x105daa9d0>\n"
     ]
    }
   ],
   "source": [
    "ll = LinkedList(a)\n",
    "print(ll.__start_node__())"
   ]
  },
  {
   "cell_type": "code",
   "execution_count": 88,
   "id": "cebf0f8c",
   "metadata": {},
   "outputs": [
    {
     "name": "stdout",
     "output_type": "stream",
     "text": [
      "10 --> 20 --> 30 --> 40 --> 50 --> 70 --> 80 --> 90"
     ]
    }
   ],
   "source": [
    "ll.__pretty_print__()"
   ]
  },
  {
   "cell_type": "code",
   "execution_count": 83,
   "id": "dbdc27b3",
   "metadata": {},
   "outputs": [
    {
     "ename": "AttributeError",
     "evalue": "'LinkedList' object has no attribute '__start_node__'",
     "output_type": "error",
     "traceback": [
      "\u001b[0;31m---------------------------------------------------------------------------\u001b[0m",
      "\u001b[0;31mAttributeError\u001b[0m                            Traceback (most recent call last)",
      "\u001b[0;32m/var/folders/1_/2rbdt5292zdb57b821k90d5r0000gn/T/ipykernel_25371/3785571222.py\u001b[0m in \u001b[0;36m<module>\u001b[0;34m\u001b[0m\n\u001b[0;32m----> 1\u001b[0;31m \u001b[0mprint\u001b[0m\u001b[0;34m(\u001b[0m\u001b[0mll\u001b[0m\u001b[0;34m.\u001b[0m\u001b[0m__start_node__\u001b[0m\u001b[0;34m(\u001b[0m\u001b[0;34m)\u001b[0m\u001b[0;34m)\u001b[0m\u001b[0;34m\u001b[0m\u001b[0;34m\u001b[0m\u001b[0m\n\u001b[0m",
      "\u001b[0;31mAttributeError\u001b[0m: 'LinkedList' object has no attribute '__start_node__'"
     ]
    }
   ],
   "source": [
    "print(ll.__start_node__())"
   ]
  },
  {
   "cell_type": "code",
   "execution_count": 97,
   "id": "af0f26a5",
   "metadata": {},
   "outputs": [],
   "source": [
    "class LinkedList:\n",
    "    def __init__(self, *args):\n",
    "        self.start_node = None\n",
    "        if len(args) > 0:\n",
    "            self.start_node = Node(args[0])\n",
    "            ll = self.start_node\n",
    "            if len(args) > 1:\n",
    "                for i in range(1, len(args)):\n",
    "                    ll.next = Node(args[i])\n",
    "                    ll = ll.next\n",
    "    def __pretty_print__(self):\n",
    "        while self.start_node:\n",
    "            print(self.start_node.val, end=\"\")\n",
    "            self.start_node = self.start_node.next\n",
    "            if self.start_node is not None:\n",
    "                print(\" --> \", end=\"\")\n",
    "                \n",
    "    def __start_node__(self):\n",
    "        return self.start_node"
   ]
  },
  {
   "cell_type": "code",
   "execution_count": 98,
   "id": "265c1819",
   "metadata": {},
   "outputs": [],
   "source": [
    "ll = LinkedList(10,20,30,40)"
   ]
  },
  {
   "cell_type": "code",
   "execution_count": 99,
   "id": "bf6cd535",
   "metadata": {},
   "outputs": [
    {
     "name": "stdout",
     "output_type": "stream",
     "text": [
      "10 --> 20 --> 30 --> 40"
     ]
    }
   ],
   "source": [
    "ll.__pretty_print__()"
   ]
  },
  {
   "cell_type": "code",
   "execution_count": null,
   "id": "fc22e752",
   "metadata": {},
   "outputs": [],
   "source": []
  }
 ],
 "metadata": {
  "kernelspec": {
   "display_name": "Python 3.9.7 64-bit ('py39': conda)",
   "language": "python",
   "name": "python397jvsc74a57bd0aa3dd84ef0f650d9d8b867844db5a915f08cb58b5d6dab20fc53865ee0283ae4"
  },
  "language_info": {
   "codemirror_mode": {
    "name": "ipython",
    "version": 3
   },
   "file_extension": ".py",
   "mimetype": "text/x-python",
   "name": "python",
   "nbconvert_exporter": "python",
   "pygments_lexer": "ipython3",
   "version": "3.9.7"
  }
 },
 "nbformat": 4,
 "nbformat_minor": 5
}
