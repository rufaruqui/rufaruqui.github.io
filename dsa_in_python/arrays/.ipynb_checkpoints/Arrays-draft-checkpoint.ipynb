{
 "cells": [
  {
   "cell_type": "markdown",
   "id": "75a9dc52",
   "metadata": {
    "slideshow": {
     "slide_type": "slide"
    }
   },
   "source": [
    "<h1>3. Arrays</h1>"
   ]
  },
  {
   "cell_type": "markdown",
   "id": "0c67d2cb",
   "metadata": {
    "slideshow": {
     "slide_type": "slide"
    }
   },
   "source": [
    "### 3.1 The Array structure\n",
    "\n",
    "A **one-dimensional array** is composed of multiple sequential elements stored in contiguous bytes of memory and allows for random access to the individual elements.\n",
    "\n",
    "![A sample 1-D array consisting of 11 elements.](fig2.1.png)"
   ]
  },
  {
   "cell_type": "markdown",
   "id": "140d3993",
   "metadata": {
    "slideshow": {
     "slide_type": "slide"
    }
   },
   "source": [
    "### 3.1.1 Why Study Arrays?\n",
    "\n",
    " The array structure looks very similar to Python’s list structure. That’s because the two structures are both sequences that are composed of multiple sequential elements that can be accessed by position. But there are two major differences between the array and the list.\n",
    "  - **First**, an array has a limited number of operations, which commonly include those for array creation, reading a value from a specific element, and writing a value to a specific element. The list, on the other hand, provides a large number of operations for working with the contents of the list.\n",
    "  - **Second**, the list can grow and shrink during execution as elements are added or removed while the size of an array cannot be changed after it has been created."
   ]
  },
  {
   "cell_type": "markdown",
   "id": "29fd58f4",
   "metadata": {
    "slideshow": {
     "slide_type": "slide"
    }
   },
   "source": [
    "### 3.1.2 The Array Abstract Data Type\n",
    " A **one-dimensional** array is a collection of contiguous elements in which individual elements are identified by a unique integer subscript starting with zero. Once an array is created, its size cannot be changed.\n",
    " \n",
    " - **Array( size )**: Creates a one-dimensional array consisting of size elements with each element initially set to None. size must be greater than zero.\n",
    " - **length ()**: Returns the length or number of elements in the array.\n",
    " - **getitem ( index )**: Returns the value stored in the array at element position index. The index argument must be within the valid range. Accessed using the subscript operator.\n",
    " - **setitem ( index, value )**: Modifies the contents of the array element at position index to contain value. The index must be within the valid range. Accessed using the subscript operator.\n",
    " - **clearing( value )**: Clears the array by setting every element to value.\n",
    " - **iterator ()**: Creates and returns an iterator that can be used to traverse the elements of the array.\n"
   ]
  },
  {
   "cell_type": "markdown",
   "id": "7c33d663",
   "metadata": {
    "slideshow": {
     "slide_type": "slide"
    }
   },
   "source": [
    "```python\n",
    "# Fill a 1-D array with random values, then print them, one per line. \n",
    "from array import Array\n",
    "import random\n",
    "\n",
    "# The constructor is called to create the array.\n",
    "valueList = Array( 100 )\n",
    "\n",
    "# Fill the array with random floating-point values. for i in range( len( valueList ) ) :\n",
    "valueList[ i ] = random.random()\n",
    "\n",
    "# Print the values, one per line.\n",
    "for value in valueList : \n",
    "    print( value )\n",
    "\n",
    "```"
   ]
  },
  {
   "cell_type": "code",
   "execution_count": 15,
   "id": "9e24c261",
   "metadata": {},
   "outputs": [
    {
     "name": "stdout",
     "output_type": "stream",
     "text": [
      "1\n",
      "1000\n"
     ]
    }
   ],
   "source": [
    "import ctypes\n",
    "\n",
    "ArrayType = ctypes.py_object \n",
    "\n",
    "slots = ArrayType()\n",
    "\n",
    "p[0] = 1\n",
    "p[4] = 1000\n",
    "\n",
    "print(p[0])\n",
    "print(p[4]) \n"
   ]
  },
  {
   "cell_type": "code",
   "execution_count": 117,
   "id": "d6e75ac1",
   "metadata": {},
   "outputs": [],
   "source": [
    "# Implements the Array ADT using array capabilities of the ctypes module.\n",
    "import ctypes\n",
    "\n",
    "class Array : \n",
    "    def __init__( self, size ):\n",
    "        '''Creates an array with size elements.'''\n",
    "        assert size > 0, \"Array size must be > 0\" \n",
    "        self.size = size\n",
    "        # Create the array structure using the ctypes module.\n",
    "        ArrayType = ctypes.py_object * size\n",
    "        self.items = ArrayType()\n",
    "    \n",
    "    def expand(self):\n",
    "        '''Double the cpacity of the array'''\n",
    "        ArrayType = ctypes.py_object * (2 * self.size)\n",
    "        newArray = ArrayType()\n",
    "        self.copy(newArray) \n",
    "        self.items = newArray;\n",
    "        self.size = self.size * 2\n",
    "        \n",
    "    def copy(self, other):\n",
    "        i =0;\n",
    "        for item in self.items: \n",
    "            other[i] = item\n",
    "            i +=1\n",
    "            \n",
    "    def __len__( self ): \n",
    "        '''Returns the size of the array.'''\n",
    "        return self.size\n",
    "    \n",
    "    \n",
    "    def __getitem__( self, index ):\n",
    "        '''Gets the contents of the index element'''\n",
    "        assert index >= 0 and index < len(self), \"Array subscript out of range\" \n",
    "        return self.items[index]\n",
    "    \n",
    "     \n",
    "    def __setitem__( self, index, value ):\n",
    "        '''Puts the value in the array element at index position'''\n",
    "        assert index >= 0 and index < len(self), \"Array subscript out of range\" \n",
    "        self.items[index] = value\n",
    "    \n",
    "     \n",
    "    def clear( self, value ):\n",
    "        '''Clears the array by setting each element to the given value'''\n",
    "        for i in range(len(self)):\n",
    "            self.items[i] = value\n",
    "    \n",
    "           \n",
    "    def __iter__(self):\n",
    "        '''Returns the array's iterator for traversing the elements'''\n",
    "        return MyArrayIterator(self.items)\n",
    "    \n",
    "class MyArrayIterator():\n",
    "    def __init__(self, arrayItems):\n",
    "        self._arrayRef = arrayItems;\n",
    "        self.curInd = 0;\n",
    "        \n",
    "         \n",
    "    def __iter__(self):\n",
    "        return self\n",
    "    \n",
    "    def __next__(self):\n",
    "        if self.curInd < len(self._arrayRef):\n",
    "            item = self._arrayRef[self.curInd]\n",
    "            self.curInd +=1\n",
    "            return item\n",
    "        else:\n",
    "            raise StopIteration \n",
    "            "
   ]
  },
  {
   "cell_type": "code",
   "execution_count": 123,
   "id": "39b28ca4",
   "metadata": {},
   "outputs": [
    {
     "name": "stdout",
     "output_type": "stream",
     "text": [
      "5\n",
      "cat\n",
      "tiger\n",
      "cat\n",
      "tiger\n",
      "Help on method clear in module __main__:\n",
      "\n",
      "clear(value) method of __main__.Array instance\n",
      "    Clears the array by setting each element to the given value\n",
      "\n",
      "<__main__.Array object at 0x106357a00>\n",
      "10\n",
      "_\n",
      "dog\n",
      "_\n",
      "_\n",
      "dog\n",
      "_\n",
      "_\n",
      "_\n",
      "_\n",
      "_\n",
      "_\n",
      "_\n",
      "_\n"
     ]
    }
   ],
   "source": [
    "p = Array(5)\n",
    "\n",
    "p.clear('*')\n",
    "\n",
    "s = str(len(p))\n",
    "print(s)\n",
    "\n",
    "p[0] = \"cat\"\n",
    "p[2] = \"tiger\"\n",
    "print(p[0])\n",
    "print(p[2])\n",
    "\n",
    "q = Array(5)\n",
    "\n",
    "p.copy(q) \n",
    "print(q[0])\n",
    "print(q[2])\n",
    "\n",
    "\n",
    "help(p.clear)\n",
    "\n",
    "print(p)\n",
    "p.expand()\n",
    "\n",
    "p.clear('_')\n",
    "s = str(len(p))\n",
    "print(s)\n",
    "\n",
    "p[1] = \"dog\"\n",
    "print(p[2])\n",
    "print(p[1])\n",
    "print(p[0])\n",
    "\n",
    "\n",
    "for a in p:\n",
    "    print(a)\n"
   ]
  },
  {
   "cell_type": "markdown",
   "id": "cb06b122",
   "metadata": {
    "slideshow": {
     "slide_type": "notes"
    }
   },
   "source": [
    "### Reference: \n",
    "[1] **Chapter 2**: Necaise, Rance D - Data structures and algorithms using Python-John Wiley & Sons (2010_2011)"
   ]
  },
  {
   "cell_type": "code",
   "execution_count": null,
   "id": "ce790960",
   "metadata": {},
   "outputs": [],
   "source": []
  }
 ],
 "metadata": {
  "celltoolbar": "Slideshow",
  "kernelspec": {
   "display_name": "Python 3 (ipykernel)",
   "language": "python",
   "name": "python3"
  },
  "language_info": {
   "codemirror_mode": {
    "name": "ipython",
    "version": 3
   },
   "file_extension": ".py",
   "mimetype": "text/x-python",
   "name": "python",
   "nbconvert_exporter": "python",
   "pygments_lexer": "ipython3",
   "version": "3.9.6"
  }
 },
 "nbformat": 4,
 "nbformat_minor": 5
}
