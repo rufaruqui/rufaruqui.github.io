{
 "cells": [
  {
   "cell_type": "markdown",
   "id": "75a9dc52",
   "metadata": {
    "slideshow": {
     "slide_type": "slide"
    }
   },
   "source": [
    "<h1>3. Arrays</h1>"
   ]
  },
  {
   "cell_type": "markdown",
   "id": "0c67d2cb",
   "metadata": {
    "slideshow": {
     "slide_type": "subslide"
    }
   },
   "source": [
    "### 3.1 The Array structure\n",
    "\n",
    "A **one-dimensional array** is composed of multiple sequential elements stored in contiguous bytes of memory and allows for random access to the individual elements.\n",
    "\n",
    "![A sample 1-D array consisting of 11 elements.](fig2.1.png)"
   ]
  },
  {
   "cell_type": "markdown",
   "id": "a4dd6650",
   "metadata": {
    "slideshow": {
     "slide_type": "subslide"
    }
   },
   "source": [
    "![array_in_c](c-array.png)"
   ]
  },
  {
   "cell_type": "markdown",
   "id": "140d3993",
   "metadata": {
    "slideshow": {
     "slide_type": "slide"
    }
   },
   "source": [
    "### 3.1.1 Why Study Arrays?\n",
    "\n",
    " The array structure looks very similar to Python’s list structure. That’s because the two structures are both sequences that are composed of multiple sequential elements that can be accessed by position. But there are two major differences between the array and the list.\n",
    "  - **First**, an array has a limited number of operations, which commonly include those for array creation, reading a value from a specific element, and writing a value to a specific element. The list, on the other hand, provides a large number of operations for working with the contents of the list.\n",
    "  - **Second**, the list can grow and shrink during execution as elements are added or removed while the size of an array cannot be changed after it has been created."
   ]
  },
  {
   "cell_type": "markdown",
   "id": "29fd58f4",
   "metadata": {
    "slideshow": {
     "slide_type": "slide"
    }
   },
   "source": [
    "### 3.1.2 The Array Abstract Data Type\n",
    " A **one-dimensional** array is a collection of contiguous elements in which individual elements are identified by a unique integer subscript starting with zero. Once an array is created, its size cannot be changed.\n",
    " \n",
    " - **Array( size )**: Creates a one-dimensional array consisting of size elements with each element initially set to None. size must be greater than zero.\n",
    " - **length ()**: Returns the length or number of elements in the array.\n",
    " - **getitem (index )**: Returns the value stored in the array at element position index. The index argument must be within the valid range. Accessed using the subscript operator.\n",
    " - **setitem ( index, value )**: Modifies the contents of the array element at position index to contain value. The index must be within the valid range. Accessed using the subscript operator.\n",
    " - **removeitem (index )**: Remove the array element at position index. The index must be within the valid range. Accessed using the subscript operator.\n",
    " - **clearing( value )**: Clears the array by setting every element to value.\n",
    " - **iterator ()**: Creates and returns an iterator that can be used to traverse the elements of the array.\n"
   ]
  },
  {
   "cell_type": "markdown",
   "id": "b5edd6f2",
   "metadata": {
    "slideshow": {
     "slide_type": "slide"
    }
   },
   "source": [
    "## Array `insert`"
   ]
  },
  {
   "cell_type": "markdown",
   "id": "d8579464",
   "metadata": {
    "slideshow": {
     "slide_type": "subslide"
    }
   },
   "source": [
    "![Array insert operation](insert.png)"
   ]
  },
  {
   "cell_type": "markdown",
   "id": "e734bd32",
   "metadata": {
    "slideshow": {
     "slide_type": "subslide"
    }
   },
   "source": [
    "![Array insertion at a position](insert2.jpeg)"
   ]
  },
  {
   "cell_type": "code",
   "execution_count": 1,
   "id": "6f833f38",
   "metadata": {
    "slideshow": {
     "slide_type": "subslide"
    }
   },
   "outputs": [],
   "source": [
    "def insert(arr, index, value):\n",
    "    if index < 0 and index >= len(arr):\n",
    "        raise Exception \n",
    "    for i in range(len(arr)+1, index+1):\n",
    "        a[i] = a[i-1]\n",
    "    a[index] = value\n",
    "    return arr "
   ]
  },
  {
   "cell_type": "code",
   "execution_count": 2,
   "id": "17e87ef6",
   "metadata": {
    "slideshow": {
     "slide_type": "subslide"
    }
   },
   "outputs": [
    {
     "name": "stdout",
     "output_type": "stream",
     "text": [
      "[10, 51, 2, 18, 4, 31, 13, 5, 23, 64, 29]\n"
     ]
    }
   ],
   "source": [
    "a = [10, 51, 2, 18, 4, 31, 13, 5, 23, 64, 29]\n",
    "print(a)"
   ]
  },
  {
   "cell_type": "code",
   "execution_count": 3,
   "id": "ecdb50b7",
   "metadata": {
    "slideshow": {
     "slide_type": "subslide"
    }
   },
   "outputs": [
    {
     "data": {
      "text/plain": [
       "[10, 51, 100, 18, 4, 31, 13, 5, 23, 64, 29]"
      ]
     },
     "execution_count": 3,
     "metadata": {},
     "output_type": "execute_result"
    }
   ],
   "source": [
    "insert(a, 2, 100)"
   ]
  },
  {
   "cell_type": "markdown",
   "id": "f3683ff0",
   "metadata": {
    "slideshow": {
     "slide_type": "slide"
    }
   },
   "source": [
    "## Array `remove`"
   ]
  },
  {
   "cell_type": "markdown",
   "id": "832807eb",
   "metadata": {},
   "source": [
    "![array deletion](delete.png)"
   ]
  },
  {
   "cell_type": "code",
   "execution_count": null,
   "id": "d9824e47",
   "metadata": {},
   "outputs": [],
   "source": []
  },
  {
   "cell_type": "code",
   "execution_count": 41,
   "id": "623f7dad",
   "metadata": {
    "slideshow": {
     "slide_type": "subslide"
    }
   },
   "outputs": [],
   "source": [
    "def remove(arr, index):\n",
    "    if index < 0 and index >= len(arr):\n",
    "        raise Exception\n",
    "    for i in range(index, len(arr)-1):\n",
    "        a[i] = a[i+1]"
   ]
  },
  {
   "cell_type": "code",
   "execution_count": 42,
   "id": "e6166e7e",
   "metadata": {
    "slideshow": {
     "slide_type": "subslide"
    }
   },
   "outputs": [
    {
     "name": "stdout",
     "output_type": "stream",
     "text": [
      "[10, 51, 2, 18, 4, 31, 13, 5, 23, 64, 29]\n"
     ]
    }
   ],
   "source": [
    "a = [10, 51, 2, 18, 4, 31, 13, 5, 23, 64, 29]\n",
    "print(a)"
   ]
  },
  {
   "cell_type": "code",
   "execution_count": 43,
   "id": "351ee11d",
   "metadata": {},
   "outputs": [
    {
     "name": "stdout",
     "output_type": "stream",
     "text": [
      "[10, 51, 18, 4, 31, 13, 5, 23, 64, 29, 29]\n"
     ]
    }
   ],
   "source": [
    "remove(a, 2)\n",
    "print(a)"
   ]
  },
  {
   "cell_type": "markdown",
   "id": "cb06b122",
   "metadata": {
    "slideshow": {
     "slide_type": "notes"
    }
   },
   "source": [
    "### Reference: \n",
    "[1] **Chapter 2**: Necaise, Rance D - Data structures and algorithms using Python-John Wiley & Sons (2010_2011)"
   ]
  },
  {
   "cell_type": "code",
   "execution_count": null,
   "id": "00e99245",
   "metadata": {},
   "outputs": [],
   "source": []
  },
  {
   "cell_type": "code",
   "execution_count": 1,
   "id": "f5042b43",
   "metadata": {
    "slideshow": {
     "slide_type": "slide"
    }
   },
   "outputs": [
    {
     "ename": "SyntaxError",
     "evalue": "invalid syntax (638500113.py, line 1)",
     "output_type": "error",
     "traceback": [
      "\u001b[0;36m  File \u001b[0;32m\"/var/folders/1_/2rbdt5292zdb57b821k90d5r0000gn/T/ipykernel_25441/638500113.py\"\u001b[0;36m, line \u001b[0;32m1\u001b[0m\n\u001b[0;31m    int unique(S) {\u001b[0m\n\u001b[0m        ^\u001b[0m\n\u001b[0;31mSyntaxError\u001b[0m\u001b[0;31m:\u001b[0m invalid syntax\n"
     ]
    }
   ],
   "source": [
    "\n",
    "int unique(S) {\n",
    "int i, j ;\n",
    "i = 0;\n",
    "j = 0;\n",
    "\n",
    "for(i = 0; i < length(S); i ++)\n",
    " {\n",
    "  for(j = i +1; j < length(S)-1; j++ {\n",
    "    if( S[i] == S[j]\n",
    "        return 0;\n",
    "   }\n",
    "}\n",
    "return 1;\n",
    "}"
   ]
  },
  {
   "cell_type": "code",
   "execution_count": 12,
   "id": "b30dec16",
   "metadata": {},
   "outputs": [],
   "source": [
    "class Queue:\n",
    "    def __init__(self):\n",
    "        self._items = []\n",
    "    \n",
    "    def is_empty(self):\n",
    "        return self._items == []\n",
    "    \n",
    "    def enqueue(self, item):\n",
    "        self._items.insert(0, item)\n",
    "        \n",
    "    def dequeue(self):\n",
    "        assert self.size() > 0, \"must not be empty\" \n",
    "        return self._items.pop()\n",
    "    \n",
    "    def size(self):\n",
    "        return len(self._items)\n"
   ]
  },
  {
   "cell_type": "code",
   "execution_count": 18,
   "id": "311dfc74",
   "metadata": {},
   "outputs": [
    {
     "name": "stdout",
     "output_type": "stream",
     "text": [
      "3\n"
     ]
    }
   ],
   "source": [
    "q = Queue()\n",
    "\n",
    "q.enqueue(\"Dog\")\n",
    "q.enqueue(2.45)\n",
    "q.enqueue(5)\n",
    "print(q.size())"
   ]
  },
  {
   "cell_type": "code",
   "execution_count": 19,
   "id": "059e4c6a",
   "metadata": {},
   "outputs": [
    {
     "name": "stdout",
     "output_type": "stream",
     "text": [
      "Dog\n",
      "2\n"
     ]
    }
   ],
   "source": [
    "print(q.dequeue())\n",
    "print(q.size())"
   ]
  },
  {
   "cell_type": "code",
   "execution_count": 24,
   "id": "f99bbdd6",
   "metadata": {},
   "outputs": [],
   "source": [
    "def search(item, items):\n",
    "    for a in items:\n",
    "        if a == item:\n",
    "            return True\n",
    "    return False"
   ]
  },
  {
   "cell_type": "code",
   "execution_count": 26,
   "id": "2b03f231",
   "metadata": {},
   "outputs": [
    {
     "name": "stdout",
     "output_type": "stream",
     "text": [
      "-1\n",
      "3\n"
     ]
    }
   ],
   "source": [
    "items = [5,4,3,2,1]\n",
    "\n",
    "print(search(15, items))\n",
    "print(search(2, items))"
   ]
  },
  {
   "cell_type": "code",
   "execution_count": null,
   "id": "7f659de2",
   "metadata": {},
   "outputs": [],
   "source": []
  }
 ],
 "metadata": {
  "celltoolbar": "Slideshow",
  "kernelspec": {
   "display_name": "Python 3 (ipykernel)",
   "language": "python",
   "name": "python3"
  },
  "language_info": {
   "codemirror_mode": {
    "name": "ipython",
    "version": 3
   },
   "file_extension": ".py",
   "mimetype": "text/x-python",
   "name": "python",
   "nbconvert_exporter": "python",
   "pygments_lexer": "ipython3",
   "version": "3.9.7"
  }
 },
 "nbformat": 4,
 "nbformat_minor": 5
}
