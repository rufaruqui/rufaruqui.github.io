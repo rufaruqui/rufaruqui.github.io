{
 "cells": [
  {
   "cell_type": "code",
   "execution_count": 1,
   "id": "7d9c8a0d",
   "metadata": {},
   "outputs": [],
   "source": [
    "def seq_search(item, items):\n",
    "    for a in items:\n",
    "        if a == item:\n",
    "            return True\n",
    "    return False"
   ]
  },
  {
   "cell_type": "code",
   "execution_count": 3,
   "id": "996c9fed",
   "metadata": {},
   "outputs": [
    {
     "name": "stdout",
     "output_type": "stream",
     "text": [
      "False\n",
      "True\n"
     ]
    }
   ],
   "source": [
    "items = [5,4,3,2,1]\n",
    "\n",
    "print(seq_search(15, items))\n",
    "print(seq_search(2, items))"
   ]
  },
  {
   "cell_type": "code",
   "execution_count": 4,
   "id": "7566fb06",
   "metadata": {},
   "outputs": [],
   "source": [
    "def seq_search(item, items):\n",
    "    for index,a in enumerate(items):\n",
    "        if a == item:\n",
    "            return index\n",
    "    return -1"
   ]
  },
  {
   "cell_type": "code",
   "execution_count": 5,
   "id": "ee53222b",
   "metadata": {},
   "outputs": [
    {
     "name": "stdout",
     "output_type": "stream",
     "text": [
      "-1\n",
      "3\n"
     ]
    }
   ],
   "source": [
    "items = [5,4,3,2,1]\n",
    "\n",
    "print(seq_search(15, items))\n",
    "print(seq_search(2, items))"
   ]
  },
  {
   "cell_type": "code",
   "execution_count": null,
   "id": "54f53fe6",
   "metadata": {},
   "outputs": [],
   "source": []
  }
 ],
 "metadata": {
  "kernelspec": {
   "display_name": "Python 3 (ipykernel)",
   "language": "python",
   "name": "python3"
  },
  "language_info": {
   "codemirror_mode": {
    "name": "ipython",
    "version": 3
   },
   "file_extension": ".py",
   "mimetype": "text/x-python",
   "name": "python",
   "nbconvert_exporter": "python",
   "pygments_lexer": "ipython3",
   "version": "3.9.7"
  }
 },
 "nbformat": 4,
 "nbformat_minor": 5
}
