{
 "cells": [
  {
   "cell_type": "markdown",
   "id": "da38a48f",
   "metadata": {},
   "source": [
    "## The Bubble Sort"
   ]
  },
  {
   "cell_type": "code",
   "execution_count": 37,
   "id": "ce081a23",
   "metadata": {},
   "outputs": [],
   "source": [
    "a= [34,12,56,12,18,19]"
   ]
  },
  {
   "cell_type": "code",
   "execution_count": 38,
   "id": "58fe2b1f",
   "metadata": {},
   "outputs": [],
   "source": [
    "def bubble_sort(a):\n",
    "    for i in range(len(a)): \n",
    "        for j in range(len(a)): \n",
    "            if a[i] < a[j]:\n",
    "                a[i], a[j] = a[j], a[i]"
   ]
  },
  {
   "cell_type": "code",
   "execution_count": 39,
   "id": "38e3fe46",
   "metadata": {},
   "outputs": [
    {
     "name": "stdout",
     "output_type": "stream",
     "text": [
      "[12, 12, 18, 19, 34, 56]\n"
     ]
    }
   ],
   "source": [
    "bubble_sort(a)\n",
    "print(a)"
   ]
  },
  {
   "cell_type": "code",
   "execution_count": null,
   "id": "2c382d17",
   "metadata": {},
   "outputs": [],
   "source": []
  },
  {
   "cell_type": "code",
   "execution_count": 1,
   "id": "bdfe408a",
   "metadata": {},
   "outputs": [],
   "source": [
    "a_list = [54,26,93,17,77,31,44,55,20]"
   ]
  },
  {
   "cell_type": "code",
   "execution_count": 2,
   "id": "41ebba8e",
   "metadata": {},
   "outputs": [
    {
     "data": {
      "text/plain": [
       "9"
      ]
     },
     "execution_count": 2,
     "metadata": {},
     "output_type": "execute_result"
    }
   ],
   "source": [
    "len(a_list)"
   ]
  },
  {
   "cell_type": "code",
   "execution_count": 3,
   "id": "3e27651e",
   "metadata": {},
   "outputs": [
    {
     "data": {
      "text/plain": [
       "range(0, 9)"
      ]
     },
     "execution_count": 3,
     "metadata": {},
     "output_type": "execute_result"
    }
   ],
   "source": [
    "range(len(a_list))"
   ]
  },
  {
   "cell_type": "code",
   "execution_count": 93,
   "id": "081b709d",
   "metadata": {},
   "outputs": [
    {
     "name": "stdout",
     "output_type": "stream",
     "text": [
      "[54, 26, 93, 54, 77, 93, 93, 93, 93]\n"
     ]
    }
   ],
   "source": [
    "print(a_list)"
   ]
  },
  {
   "cell_type": "code",
   "execution_count": 5,
   "id": "db7fdff7",
   "metadata": {},
   "outputs": [],
   "source": [
    "for i in range(len(a_list)): #passes\n",
    "    for j in range(i): #exchanges\n",
    "         if(a_list[i] < a_list[j]): #if a[i] is less than a[j]\n",
    "                a_list[i], a_list[j] = a_list[j], a_list[i]\n"
   ]
  },
  {
   "cell_type": "code",
   "execution_count": 94,
   "id": "807b2674",
   "metadata": {},
   "outputs": [],
   "source": [
    "a_list = [54,26,93,17,77,31,44,55,20]"
   ]
  },
  {
   "cell_type": "code",
   "execution_count": 95,
   "id": "28b6d2d1",
   "metadata": {},
   "outputs": [],
   "source": [
    "def max(a,j):\n",
    "    m = j;\n",
    "    for i in range(j-1):\n",
    "        if(a[m] > a[i]):\n",
    "            m =i\n",
    "    return m\n",
    "            "
   ]
  },
  {
   "cell_type": "code",
   "execution_count": 96,
   "id": "e02bf3da",
   "metadata": {},
   "outputs": [
    {
     "name": "stdout",
     "output_type": "stream",
     "text": [
      "3\n",
      "17\n"
     ]
    }
   ],
   "source": [
    "print(max(a_list, 8))\n",
    "print(a_list[max(a_list,8)])"
   ]
  },
  {
   "cell_type": "code",
   "execution_count": 97,
   "id": "156e1827",
   "metadata": {},
   "outputs": [],
   "source": [
    "def selection_sort(a):\n",
    "    for i in range(len(a)-1,-1,-1):\n",
    "        print(i)\n",
    "        print(a[max(a,i)])\n",
    "       # a[i], a[max(a,i)] =a[max(a,i)], a[i]\n",
    "        "
   ]
  },
  {
   "cell_type": "code",
   "execution_count": 98,
   "id": "0b74d891",
   "metadata": {},
   "outputs": [
    {
     "name": "stdout",
     "output_type": "stream",
     "text": [
      "8\n",
      "17\n",
      "7\n",
      "17\n",
      "6\n",
      "17\n",
      "5\n",
      "17\n",
      "4\n",
      "26\n",
      "3\n",
      "17\n",
      "2\n",
      "54\n",
      "1\n",
      "26\n",
      "0\n",
      "54\n"
     ]
    }
   ],
   "source": [
    "selection_sort(a_list)"
   ]
  },
  {
   "cell_type": "code",
   "execution_count": 99,
   "id": "9d38dead",
   "metadata": {},
   "outputs": [
    {
     "name": "stdout",
     "output_type": "stream",
     "text": [
      "[54, 26, 93, 17, 77, 31, 44, 55, 20]\n"
     ]
    }
   ],
   "source": [
    "print(a_list)"
   ]
  },
  {
   "cell_type": "code",
   "execution_count": null,
   "id": "eed97447",
   "metadata": {},
   "outputs": [],
   "source": []
  }
 ],
 "metadata": {
  "kernelspec": {
   "display_name": "Python 3 (ipykernel)",
   "language": "python",
   "name": "python3"
  },
  "language_info": {
   "codemirror_mode": {
    "name": "ipython",
    "version": 3
   },
   "file_extension": ".py",
   "mimetype": "text/x-python",
   "name": "python",
   "nbconvert_exporter": "python",
   "pygments_lexer": "ipython3",
   "version": "3.9.7"
  }
 },
 "nbformat": 4,
 "nbformat_minor": 5
}
