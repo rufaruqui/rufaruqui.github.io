{
 "cells": [
  {
   "cell_type": "markdown",
   "id": "da38a48f",
   "metadata": {},
   "source": [
    "## The Bubble Sort"
   ]
  },
  {
   "cell_type": "code",
   "execution_count": null,
   "id": "ce081a23",
   "metadata": {},
   "outputs": [],
   "source": [
    "a=[34,12,56,12,18,19,45,90,100,1,234]"
   ]
  },
  {
   "cell_type": "code",
   "execution_count": null,
   "id": "58fe2b1f",
   "metadata": {},
   "outputs": [],
   "source": [
    "def bubble_sort(a):\n",
    "    for i in range(len(a)-1, 1, -1): \n",
    "        for j in range(i): \n",
    "            if a[i] < a[j]:\n",
    "                a[i], a[j] = a[j], a[i]\n",
    "    return a"
   ]
  },
  {
   "cell_type": "code",
   "execution_count": null,
   "id": "38e3fe46",
   "metadata": {},
   "outputs": [],
   "source": [
    "bubble_sort(a) "
   ]
  },
  {
   "cell_type": "markdown",
   "id": "e910de46",
   "metadata": {},
   "source": [
    "## The Insertion Sort"
   ]
  },
  {
   "cell_type": "code",
   "execution_count": 6,
   "id": "ac0976f6",
   "metadata": {},
   "outputs": [],
   "source": [
    "a_list = [54,26,93,17,77,31,44,55,20]"
   ]
  },
  {
   "cell_type": "code",
   "execution_count": 7,
   "id": "a4c03871",
   "metadata": {},
   "outputs": [],
   "source": [
    "def insertion_sort(a): \n",
    "    print(\"insertion :-->\", a[0], a[:0])\n",
    "    sorted_index = 0 \n",
    "    for i in range(1, len(a)):\n",
    "        idx = len(a[:i])  ## already sorted, list slicing b = [10,20,30,40,50,60], b[:2] = [10,20]\n",
    "        print(\"insertion :-->\", a[i], a[:i])\n",
    "        for j in range(len(a[:i])): \n",
    "            if a[i] < a[j]:\n",
    "                idx = j\n",
    "                break\n",
    "        tmp = a[i]\n",
    "        del a[i]\n",
    "        a.insert(idx, tmp)\n",
    "        #sorted_a= [ item for item in sorted_a if  item < a[i]] + [a[i]] + [item for item in sorted_a if item > a[i]]  \n",
    "    return a"
   ]
  },
  {
   "cell_type": "code",
   "execution_count": 8,
   "id": "66dd125a",
   "metadata": {},
   "outputs": [
    {
     "name": "stdout",
     "output_type": "stream",
     "text": [
      "insertion :--> 54 []\n",
      "insertion :--> 26 [54]\n",
      "insertion :--> 93 [26, 54]\n",
      "insertion :--> 17 [26, 54, 93]\n",
      "insertion :--> 77 [17, 26, 54, 93]\n",
      "insertion :--> 31 [17, 26, 54, 77, 93]\n",
      "insertion :--> 44 [17, 26, 31, 54, 77, 93]\n",
      "insertion :--> 55 [17, 26, 31, 44, 54, 77, 93]\n",
      "insertion :--> 20 [17, 26, 31, 44, 54, 55, 77, 93]\n"
     ]
    },
    {
     "data": {
      "text/plain": [
       "[17, 20, 26, 31, 44, 54, 55, 77, 93]"
      ]
     },
     "execution_count": 8,
     "metadata": {},
     "output_type": "execute_result"
    }
   ],
   "source": [
    "insertion_sort(a_list)"
   ]
  },
  {
   "cell_type": "markdown",
   "id": "30e98865",
   "metadata": {},
   "source": [
    "## The Merge Sort"
   ]
  },
  {
   "cell_type": "code",
   "execution_count": 268,
   "id": "08399ae9",
   "metadata": {},
   "outputs": [],
   "source": [
    "a=[34,12,56,12,18,19,45,90,100,1,234]"
   ]
  },
  {
   "cell_type": "code",
   "execution_count": 276,
   "id": "7580ea28",
   "metadata": {},
   "outputs": [],
   "source": [
    "def merge_sort_helper(sorted_a, a):\n",
    "    print(\"spliting:-->\",a)\n",
    "    \n",
    "    if(len(a)>1):\n",
    "        mid = len(a) // 2\n",
    "        merge_sort_helper(sorted_a, a[:mid])\n",
    "        merge_sort_helper(sorted_a, a[mid:])\n",
    "    else: \n",
    "        idx = len(sorted_a)\n",
    "        print(\"merging :-->\", a[0], sorted_a)\n",
    "        for i in range(len(sorted_a)):\n",
    "            if a[0] < sorted_a[i]:\n",
    "                idx = i\n",
    "                break\n",
    "        sorted_a.insert(idx, a[0]) \n",
    "    return sorted_a"
   ]
  },
  {
   "cell_type": "code",
   "execution_count": 277,
   "id": "0fddfc3b",
   "metadata": {},
   "outputs": [],
   "source": [
    "def merge_sort(a):\n",
    "    return merge_sort_helper([],a)  "
   ]
  },
  {
   "cell_type": "code",
   "execution_count": 278,
   "id": "d14ba347",
   "metadata": {},
   "outputs": [
    {
     "name": "stdout",
     "output_type": "stream",
     "text": [
      "spliting:--> [34, 12, 56, 12, 18, 19, 45, 90, 100, 1, 234]\n",
      "spliting:--> [34, 12, 56, 12, 18]\n",
      "spliting:--> [34, 12]\n",
      "spliting:--> [34]\n",
      "merging :--> 34 []\n",
      "spliting:--> [12]\n",
      "merging :--> 12 [34]\n",
      "spliting:--> [56, 12, 18]\n",
      "spliting:--> [56]\n",
      "merging :--> 56 [12, 34]\n",
      "spliting:--> [12, 18]\n",
      "spliting:--> [12]\n",
      "merging :--> 12 [12, 34, 56]\n",
      "spliting:--> [18]\n",
      "merging :--> 18 [12, 12, 34, 56]\n",
      "spliting:--> [19, 45, 90, 100, 1, 234]\n",
      "spliting:--> [19, 45, 90]\n",
      "spliting:--> [19]\n",
      "merging :--> 19 [12, 12, 18, 34, 56]\n",
      "spliting:--> [45, 90]\n",
      "spliting:--> [45]\n",
      "merging :--> 45 [12, 12, 18, 19, 34, 56]\n",
      "spliting:--> [90]\n",
      "merging :--> 90 [12, 12, 18, 19, 34, 45, 56]\n",
      "spliting:--> [100, 1, 234]\n",
      "spliting:--> [100]\n",
      "merging :--> 100 [12, 12, 18, 19, 34, 45, 56, 90]\n",
      "spliting:--> [1, 234]\n",
      "spliting:--> [1]\n",
      "merging :--> 1 [12, 12, 18, 19, 34, 45, 56, 90, 100]\n",
      "spliting:--> [234]\n",
      "merging :--> 234 [1, 12, 12, 18, 19, 34, 45, 56, 90, 100]\n"
     ]
    },
    {
     "data": {
      "text/plain": [
       "[1, 12, 12, 18, 19, 34, 45, 56, 90, 100, 234]"
      ]
     },
     "execution_count": 278,
     "metadata": {},
     "output_type": "execute_result"
    }
   ],
   "source": [
    "merge_sort(a)"
   ]
  },
  {
   "cell_type": "code",
   "execution_count": 279,
   "id": "e62a9541",
   "metadata": {},
   "outputs": [
    {
     "name": "stdout",
     "output_type": "stream",
     "text": [
      "[34, 12, 56, 12, 18, 19, 45, 90, 100, 1, 234]\n"
     ]
    }
   ],
   "source": [
    "print(a)"
   ]
  },
  {
   "cell_type": "code",
   "execution_count": null,
   "id": "47f7df51",
   "metadata": {},
   "outputs": [],
   "source": []
  },
  {
   "cell_type": "markdown",
   "id": "2241d458",
   "metadata": {},
   "source": [
    "## The Quick Sort"
   ]
  },
  {
   "cell_type": "code",
   "execution_count": 204,
   "id": "bea355bf",
   "metadata": {},
   "outputs": [],
   "source": [
    "a=[34,12,56,12,18,19,45,90,100,1,234]"
   ]
  },
  {
   "cell_type": "code",
   "execution_count": 205,
   "id": "f0515829",
   "metadata": {},
   "outputs": [],
   "source": [
    "def quick_sort(sorted_a, a): \n",
    "    print(a)\n",
    "    pivot = 0\n",
    "    if(len(a)>1):\n",
    "        left  = [item for item in a[pivot:] if item < a[pivot]]\n",
    "        right = [item for item in a[pivot:] if item > a[pivot]]\n",
    "        print(\"Quick:-->\", left, [a[pivot]], right)\n",
    "        a[pivot], a[len(left)] = a[len(left)], a[pivot]\n",
    "        quick_sort(sorted_a, left)\n",
    "        quick_sort(sorted_a, right)\n",
    "    #else:\n",
    "     #   sorted_a += a\n",
    "        \n",
    "    #print(sorted_a)\n",
    "   # print(left, [a[pivot]], right)"
   ]
  },
  {
   "cell_type": "code",
   "execution_count": 206,
   "id": "6e64bdff",
   "metadata": {},
   "outputs": [
    {
     "name": "stdout",
     "output_type": "stream",
     "text": [
      "[34, 12, 56, 12, 18, 19, 45, 90, 100, 1, 234]\n",
      "Quick:--> [12, 12, 18, 19, 1] [34] [56, 45, 90, 100, 234]\n",
      "[12, 12, 18, 19, 1]\n",
      "Quick:--> [1] [12] [18, 19]\n",
      "[1]\n",
      "[18, 19]\n",
      "Quick:--> [] [18] [19]\n",
      "[]\n",
      "[19]\n",
      "[56, 45, 90, 100, 234]\n",
      "Quick:--> [45] [56] [90, 100, 234]\n",
      "[45]\n",
      "[90, 100, 234]\n",
      "Quick:--> [] [90] [100, 234]\n",
      "[]\n",
      "[100, 234]\n",
      "Quick:--> [] [100] [234]\n",
      "[]\n",
      "[234]\n"
     ]
    }
   ],
   "source": [
    "quick_sort([],a)"
   ]
  },
  {
   "cell_type": "code",
   "execution_count": 208,
   "id": "ca225148",
   "metadata": {},
   "outputs": [
    {
     "name": "stdout",
     "output_type": "stream",
     "text": [
      "[17, 20, 26, 31, 44, 54, 55, 77, 93]\n"
     ]
    }
   ],
   "source": [
    "def quick_sort(a_list):\n",
    "    quick_sort_helper(a_list, 0, len(a_list) - 1)\n",
    "\n",
    "\n",
    "def quick_sort_helper(a_list, first, last):\n",
    "    if first < last:\n",
    "        split = partition(a_list, first, last)\n",
    "        quick_sort_helper(a_list, first, split - 1)\n",
    "        quick_sort_helper(a_list, split + 1, last)\n",
    "\n",
    "\n",
    "def partition(a_list, first, last):\n",
    "    pivot_val = a_list[first]\n",
    "    left_mark = first + 1\n",
    "    right_mark = last\n",
    "    done = False\n",
    "\n",
    "    while not done:\n",
    "        while left_mark <= right_mark and a_list[left_mark] <= pivot_val:\n",
    "            left_mark = left_mark + 1\n",
    "        while left_mark <= right_mark and a_list[right_mark] >= pivot_val:\n",
    "            right_mark = right_mark - 1\n",
    "        if right_mark < left_mark:\n",
    "            done = True\n",
    "        else:\n",
    "            a_list[left_mark], a_list[right_mark] = ( a_list[right_mark], a_list[left_mark], )\n",
    "    a_list[first], a_list[right_mark] = a_list[right_mark], a_list[first]\n",
    "\n",
    "    return right_mark\n",
    "\n",
    "\n",
    "a_list = [54, 26, 93, 17, 77, 31, 44, 55, 20]\n",
    "quick_sort(a_list)\n",
    "print(a_list)\n"
   ]
  },
  {
   "cell_type": "code",
   "execution_count": null,
   "id": "057abeae",
   "metadata": {},
   "outputs": [],
   "source": []
  }
 ],
 "metadata": {
  "kernelspec": {
   "display_name": "Python 3 (ipykernel)",
   "language": "python",
   "name": "python3"
  },
  "language_info": {
   "codemirror_mode": {
    "name": "ipython",
    "version": 3
   },
   "file_extension": ".py",
   "mimetype": "text/x-python",
   "name": "python",
   "nbconvert_exporter": "python",
   "pygments_lexer": "ipython3",
   "version": "3.9.7"
  }
 },
 "nbformat": 4,
 "nbformat_minor": 5
}
