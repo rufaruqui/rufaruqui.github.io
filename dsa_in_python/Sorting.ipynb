{
 "cells": [
  {
   "cell_type": "markdown",
   "id": "da38a48f",
   "metadata": {},
   "source": [
    "## The Bubble Sort"
   ]
  },
  {
   "cell_type": "code",
   "execution_count": null,
   "id": "ce081a23",
   "metadata": {},
   "outputs": [],
   "source": [
    "a=[34,12,56,12,18,19,45,90,100,1,234]"
   ]
  },
  {
   "cell_type": "code",
   "execution_count": null,
   "id": "58fe2b1f",
   "metadata": {},
   "outputs": [],
   "source": [
    "def bubble_sort(a):\n",
    "    for i in range(len(a)-1, 1, -1): \n",
    "        for j in range(i): \n",
    "            if a[i] < a[j]:\n",
    "                a[i], a[j] = a[j], a[i]\n",
    "    return a"
   ]
  },
  {
   "cell_type": "code",
   "execution_count": null,
   "id": "38e3fe46",
   "metadata": {},
   "outputs": [],
   "source": [
    "bubble_sort(a) "
   ]
  },
  {
   "cell_type": "markdown",
   "id": "e910de46",
   "metadata": {},
   "source": [
    "## The Insertion Sort"
   ]
  },
  {
   "cell_type": "code",
   "execution_count": 6,
   "id": "ac0976f6",
   "metadata": {},
   "outputs": [],
   "source": [
    "a_list = [54,26,93,17,77,31,44,55,20]"
   ]
  },
  {
   "cell_type": "code",
   "execution_count": 7,
   "id": "a4c03871",
   "metadata": {},
   "outputs": [],
   "source": [
    "def insertion_sort(a): \n",
    "    print(\"insertion :-->\", a[0], a[:0])\n",
    "    sorted_index = 0 \n",
    "    for i in range(1, len(a)):\n",
    "        idx = len(a[:i])  ## already sorted, list slicing b = [10,20,30,40,50,60], b[:2] = [10,20]\n",
    "        print(\"insertion :-->\", a[i], a[:i])\n",
    "        for j in range(len(a[:i])): \n",
    "            if a[i] < a[j]:\n",
    "                idx = j\n",
    "                break\n",
    "        tmp = a[i]\n",
    "        del a[i]\n",
    "        a.insert(idx, tmp)\n",
    "        #sorted_a= [ item for item in sorted_a if  item < a[i]] + [a[i]] + [item for item in sorted_a if item > a[i]]  \n",
    "    return a"
   ]
  },
  {
   "cell_type": "code",
   "execution_count": 8,
   "id": "66dd125a",
   "metadata": {},
   "outputs": [
    {
     "name": "stdout",
     "output_type": "stream",
     "text": [
      "insertion :--> 54 []\n",
      "insertion :--> 26 [54]\n",
      "insertion :--> 93 [26, 54]\n",
      "insertion :--> 17 [26, 54, 93]\n",
      "insertion :--> 77 [17, 26, 54, 93]\n",
      "insertion :--> 31 [17, 26, 54, 77, 93]\n",
      "insertion :--> 44 [17, 26, 31, 54, 77, 93]\n",
      "insertion :--> 55 [17, 26, 31, 44, 54, 77, 93]\n",
      "insertion :--> 20 [17, 26, 31, 44, 54, 55, 77, 93]\n"
     ]
    },
    {
     "data": {
      "text/plain": [
       "[17, 20, 26, 31, 44, 54, 55, 77, 93]"
      ]
     },
     "execution_count": 8,
     "metadata": {},
     "output_type": "execute_result"
    }
   ],
   "source": [
    "insertion_sort(a_list)"
   ]
  },
  {
   "cell_type": "markdown",
   "id": "30e98865",
   "metadata": {},
   "source": [
    "## The Merge Sort"
   ]
  },
  {
   "cell_type": "code",
   "execution_count": 268,
   "id": "08399ae9",
   "metadata": {},
   "outputs": [],
   "source": [
    "a=[34,12,56,12,18,19,45,90,100,1,234]"
   ]
  },
  {
   "cell_type": "code",
   "execution_count": 276,
   "id": "7580ea28",
   "metadata": {},
   "outputs": [],
   "source": [
    "def merge_sort_helper(sorted_a, a):\n",
    "    print(\"spliting:-->\",a)\n",
    "    \n",
    "    if(len(a)>1):\n",
    "        mid = len(a) // 2\n",
    "        merge_sort_helper(sorted_a, a[:mid])\n",
    "        merge_sort_helper(sorted_a, a[mid:])\n",
    "    else: \n",
    "        idx = len(sorted_a)\n",
    "        print(\"merging :-->\", a[0], sorted_a)\n",
    "        for i in range(len(sorted_a)):\n",
    "            if a[0] < sorted_a[i]:\n",
    "                idx = i\n",
    "                break\n",
    "        sorted_a.insert(idx, a[0]) \n",
    "    return sorted_a"
   ]
  },
  {
   "cell_type": "code",
   "execution_count": 277,
   "id": "0fddfc3b",
   "metadata": {},
   "outputs": [],
   "source": [
    "def merge_sort(a):\n",
    "    return merge_sort_helper([],a)  "
   ]
  },
  {
   "cell_type": "code",
   "execution_count": 278,
   "id": "d14ba347",
   "metadata": {},
   "outputs": [
    {
     "name": "stdout",
     "output_type": "stream",
     "text": [
      "spliting:--> [34, 12, 56, 12, 18, 19, 45, 90, 100, 1, 234]\n",
      "spliting:--> [34, 12, 56, 12, 18]\n",
      "spliting:--> [34, 12]\n",
      "spliting:--> [34]\n",
      "merging :--> 34 []\n",
      "spliting:--> [12]\n",
      "merging :--> 12 [34]\n",
      "spliting:--> [56, 12, 18]\n",
      "spliting:--> [56]\n",
      "merging :--> 56 [12, 34]\n",
      "spliting:--> [12, 18]\n",
      "spliting:--> [12]\n",
      "merging :--> 12 [12, 34, 56]\n",
      "spliting:--> [18]\n",
      "merging :--> 18 [12, 12, 34, 56]\n",
      "spliting:--> [19, 45, 90, 100, 1, 234]\n",
      "spliting:--> [19, 45, 90]\n",
      "spliting:--> [19]\n",
      "merging :--> 19 [12, 12, 18, 34, 56]\n",
      "spliting:--> [45, 90]\n",
      "spliting:--> [45]\n",
      "merging :--> 45 [12, 12, 18, 19, 34, 56]\n",
      "spliting:--> [90]\n",
      "merging :--> 90 [12, 12, 18, 19, 34, 45, 56]\n",
      "spliting:--> [100, 1, 234]\n",
      "spliting:--> [100]\n",
      "merging :--> 100 [12, 12, 18, 19, 34, 45, 56, 90]\n",
      "spliting:--> [1, 234]\n",
      "spliting:--> [1]\n",
      "merging :--> 1 [12, 12, 18, 19, 34, 45, 56, 90, 100]\n",
      "spliting:--> [234]\n",
      "merging :--> 234 [1, 12, 12, 18, 19, 34, 45, 56, 90, 100]\n"
     ]
    },
    {
     "data": {
      "text/plain": [
       "[1, 12, 12, 18, 19, 34, 45, 56, 90, 100, 234]"
      ]
     },
     "execution_count": 278,
     "metadata": {},
     "output_type": "execute_result"
    }
   ],
   "source": [
    "merge_sort(a)"
   ]
  },
  {
   "cell_type": "code",
   "execution_count": 279,
   "id": "e62a9541",
   "metadata": {},
   "outputs": [
    {
     "name": "stdout",
     "output_type": "stream",
     "text": [
      "[34, 12, 56, 12, 18, 19, 45, 90, 100, 1, 234]\n"
     ]
    }
   ],
   "source": [
    "print(a)"
   ]
  },
  {
   "cell_type": "code",
   "execution_count": null,
   "id": "47f7df51",
   "metadata": {},
   "outputs": [],
   "source": []
  },
  {
   "cell_type": "markdown",
   "id": "2241d458",
   "metadata": {},
   "source": [
    "## The Quick Sort"
   ]
  },
  {
   "cell_type": "code",
   "execution_count": 1,
   "id": "bea355bf",
   "metadata": {},
   "outputs": [],
   "source": [
    "a=[34,12,56,12,18,19,45,90,100,1,234]"
   ]
  },
  {
   "cell_type": "code",
   "execution_count": 3,
   "id": "f0515829",
   "metadata": {},
   "outputs": [],
   "source": [
    "def quick_sort(sorted_a, a): \n",
    "    print(a)\n",
    "    pivot = 0\n",
    "    if(len(a)>1):\n",
    "        left  = [item for item in a[pivot:] if item < a[pivot]]\n",
    "        right = [item for item in a[pivot:] if item > a[pivot]]\n",
    "        print(\"Quick:-->\", left, [a[pivot]], right)\n",
    "        a[pivot], a[len(left)] = a[len(left)], a[pivot]\n",
    "        quick_sort(sorted_a, left)\n",
    "        quick_sort(sorted_a, right)\n",
    "    #else:\n",
    "     #   sorted_a += a\n",
    "        \n",
    "    #print(sorted_a)\n",
    "   # print(left, [a[pivot]], right)"
   ]
  },
  {
   "cell_type": "code",
   "execution_count": 4,
   "id": "6e64bdff",
   "metadata": {},
   "outputs": [
    {
     "name": "stdout",
     "output_type": "stream",
     "text": [
      "[34, 12, 56, 12, 18, 19, 45, 90, 100, 1, 234]\n",
      "Quick:--> [12, 12, 18, 19, 1] [34] [56, 45, 90, 100, 234]\n",
      "[12, 12, 18, 19, 1]\n",
      "Quick:--> [1] [12] [18, 19]\n",
      "[1]\n",
      "[18, 19]\n",
      "Quick:--> [] [18] [19]\n",
      "[]\n",
      "[19]\n",
      "[56, 45, 90, 100, 234]\n",
      "Quick:--> [45] [56] [90, 100, 234]\n",
      "[45]\n",
      "[90, 100, 234]\n",
      "Quick:--> [] [90] [100, 234]\n",
      "[]\n",
      "[100, 234]\n",
      "Quick:--> [] [100] [234]\n",
      "[]\n",
      "[234]\n"
     ]
    }
   ],
   "source": [
    "quick_sort([],a)"
   ]
  },
  {
   "cell_type": "code",
   "execution_count": null,
   "id": "fc5bfe6f",
   "metadata": {},
   "outputs": [],
   "source": []
  },
  {
   "cell_type": "code",
   "execution_count": 208,
   "id": "ca225148",
   "metadata": {},
   "outputs": [
    {
     "name": "stdout",
     "output_type": "stream",
     "text": [
      "[17, 20, 26, 31, 44, 54, 55, 77, 93]\n"
     ]
    }
   ],
   "source": [
    "def quick_sort(a_list):\n",
    "    quick_sort_helper(a_list, 0, len(a_list) - 1)\n",
    "\n",
    "\n",
    "def quick_sort_helper(a_list, first, last):\n",
    "    if first < last:\n",
    "        split = partition(a_list, first, last)\n",
    "        quick_sort_helper(a_list, first, split - 1)\n",
    "        quick_sort_helper(a_list, split + 1, last)\n",
    "\n",
    "\n",
    "def partition(a_list, first, last):\n",
    "    pivot_val = a_list[first]\n",
    "    left_mark = first + 1\n",
    "    right_mark = last\n",
    "    done = False\n",
    "\n",
    "    while not done:\n",
    "        while left_mark <= right_mark and a_list[left_mark] <= pivot_val:\n",
    "            left_mark = left_mark + 1\n",
    "        while left_mark <= right_mark and a_list[right_mark] >= pivot_val:\n",
    "            right_mark = right_mark - 1\n",
    "        if right_mark < left_mark:\n",
    "            done = True\n",
    "        else:\n",
    "            a_list[left_mark], a_list[right_mark] = ( a_list[right_mark], a_list[left_mark], )\n",
    "    a_list[first], a_list[right_mark] = a_list[right_mark], a_list[first]\n",
    "\n",
    "    return right_mark\n",
    "\n",
    "\n",
    "a_list = [54, 26, 93, 17, 77, 31, 44, 55, 20]\n",
    "quick_sort(a_list)\n",
    "print(a_list)\n"
   ]
  },
  {
   "cell_type": "code",
   "execution_count": 8,
   "id": "057abeae",
   "metadata": {},
   "outputs": [
    {
     "name": "stdout",
     "output_type": "stream",
     "text": [
      "Odd\n",
      "10\n"
     ]
    }
   ],
   "source": [
    "x =3\n",
    "y = 2\n",
    "\n",
    "if not x & 1:\n",
    "    print(\"Even\")\n",
    "else:\n",
    "    print(\"Odd\")\n",
    "\n",
    "print (20 >> 1)"
   ]
  },
  {
   "cell_type": "code",
   "execution_count": 13,
   "id": "99d3b455",
   "metadata": {},
   "outputs": [],
   "source": [
    "def gcd(x, y):\n",
    "    print(x,y)\n",
    "    if x > y:\n",
    "        return gcd(y,x)\n",
    "    elif x == 0:\n",
    "        return y\n",
    "    elif not x & 1 and not y & 1: # both x and y are even number\n",
    "        return gcd(x>>1, y>>1) << 2 # gcd(x/2, y/2) * 2 if both are even\n",
    "    elif not x & 1 and y & 1:\n",
    "        return gcd(x>>2, y) \n",
    "    elif x & 1 and not y & 1:\n",
    "        return gcd(x, y>>2)\n",
    "    return gcd(x, y-x)\n",
    "\n"
   ]
  },
  {
   "cell_type": "code",
   "execution_count": 22,
   "id": "791a0f34",
   "metadata": {},
   "outputs": [],
   "source": [
    "def count_bits(x):\n",
    "    count = 0\n",
    "    while x:\n",
    "        count += x & 1\n",
    "        x >>=1\n",
    "    return count"
   ]
  },
  {
   "cell_type": "code",
   "execution_count": 34,
   "id": "d97276f7",
   "metadata": {},
   "outputs": [
    {
     "name": "stdout",
     "output_type": "stream",
     "text": [
      "4\n",
      "8\n"
     ]
    }
   ],
   "source": [
    " \n",
    "print(count_bits(15))\n",
    "print(10^2)"
   ]
  },
  {
   "cell_type": "code",
   "execution_count": 55,
   "id": "1089213a",
   "metadata": {},
   "outputs": [],
   "source": [
    "def power(x, y):\n",
    "    result, exp = 1.0, y\n",
    "\n",
    "    if y < 0:\n",
    "        exp, x = -exp, 1.0/x\n",
    "    while exp: \n",
    "        if exp & 1:\n",
    "            result *= x\n",
    "        x, exp = x*x, exp >> 1\n",
    "    return result"
   ]
  },
  {
   "cell_type": "code",
   "execution_count": 56,
   "id": "68c0daa7",
   "metadata": {},
   "outputs": [
    {
     "name": "stdout",
     "output_type": "stream",
     "text": [
      "0.00390625\n",
      "256.0\n"
     ]
    }
   ],
   "source": [
    "print(power(2,-8))\n",
    "print(power(2,8))"
   ]
  },
  {
   "cell_type": "code",
   "execution_count": 73,
   "id": "a5639265",
   "metadata": {},
   "outputs": [],
   "source": [
    "def reverseDigit(n):\n",
    "    r_n, base, tmp = 0, 1, abs(n)\n",
    "\n",
    "    while tmp: \n",
    "        r_n = (r_n * 10) + (tmp % 10)\n",
    "        tmp //= 10 \n",
    "    return r_n if n > 0 else - r_n"
   ]
  },
  {
   "cell_type": "code",
   "execution_count": 74,
   "id": "94833bb1",
   "metadata": {},
   "outputs": [
    {
     "name": "stdout",
     "output_type": "stream",
     "text": [
      "-867\n"
     ]
    }
   ],
   "source": [
    "print(reverseDigit(-768))"
   ]
  },
  {
   "cell_type": "code",
   "execution_count": 98,
   "id": "08e1b348",
   "metadata": {},
   "outputs": [],
   "source": [
    "import math\n",
    "\n",
    "def isPlaindrome(n):\n",
    "    #number of digits in a 10-base integer floor(log_10^n) + 1\n",
    "    d = math.floor(math.log10(n)) + 1\n",
    "    half = d // 2\n",
    "    for i in range(half):\n",
    "        lsb = n % 10 \n",
    "        msb = n // (10**(d-1)) \n",
    "        if msb != lsb:\n",
    "            return False\n",
    "        n   %= (10**(d-1))\n",
    "        n  //= 10 #remove lsb\n",
    "        d -= 2\n",
    "    return True"
   ]
  },
  {
   "cell_type": "code",
   "execution_count": 99,
   "id": "c67cb95c",
   "metadata": {},
   "outputs": [
    {
     "data": {
      "text/plain": [
       "True"
      ]
     },
     "execution_count": 99,
     "metadata": {},
     "output_type": "execute_result"
    }
   ],
   "source": [
    "isPlaindrome(1245678934567997654398765421)"
   ]
  },
  {
   "cell_type": "code",
   "execution_count": 101,
   "id": "0fd34296",
   "metadata": {},
   "outputs": [],
   "source": [
    "import collections\n",
    "\n",
    "Rectangle = collections.namedtuple('Rectangle', ('x', 'y', 'width', 'height'))"
   ]
  },
  {
   "cell_type": "code",
   "execution_count": 106,
   "id": "a9a3d254",
   "metadata": {},
   "outputs": [
    {
     "name": "stdout",
     "output_type": "stream",
     "text": [
      "Rectangle(x=0, y=0, width=5, height=5)\n",
      "5\n"
     ]
    }
   ],
   "source": [
    "print(Rectangle( 0,0, 5,5))\n",
    "r = Rectangle( 0,0, 5,5)\n",
    "print(r.width)\n"
   ]
  },
  {
   "cell_type": "code",
   "execution_count": 131,
   "id": "72e9749e",
   "metadata": {},
   "outputs": [
    {
     "name": "stdout",
     "output_type": "stream",
     "text": [
      "[0, 0, 0, 0, 10, 23, 23, 232, 24, 34]\n"
     ]
    }
   ],
   "source": [
    "a=[0,0,0,0,10,23,23,232,24,34]\n",
    "#a= [x for x in a if x != 0]\n",
    "print(a)"
   ]
  },
  {
   "cell_type": "code",
   "execution_count": 143,
   "id": "9c5c003a",
   "metadata": {},
   "outputs": [
    {
     "name": "stdout",
     "output_type": "stream",
     "text": [
      "[34, 24, 232, 23, 23, 10, 0, 0, 0, 0]\n"
     ]
    }
   ],
   "source": [
    "print(a[::-1])"
   ]
  },
  {
   "cell_type": "code",
   "execution_count": 158,
   "id": "8c2c0073",
   "metadata": {},
   "outputs": [],
   "source": [
    "def delete_duplicates (A) :\n",
    "    if not A: \n",
    "        return 0\n",
    "    write_index = 1\n",
    "    for i in range(1, len(A)):\n",
    "        if A[write_index - 1] != A[i]: \n",
    "            A[write_index]= A[i]\n",
    "            write_index += 1\n",
    "    print(A)\n",
    "    return A[:write_index]"
   ]
  },
  {
   "cell_type": "code",
   "execution_count": 169,
   "id": "c1df4505",
   "metadata": {},
   "outputs": [
    {
     "name": "stdout",
     "output_type": "stream",
     "text": [
      "[1, 2, 3, 4, 5, 7, 8, 9]\n"
     ]
    }
   ],
   "source": [
    "a=[1, 2, 2,3,4,5,5,7,7,7,8,9]\n",
    "\n",
    "a =[x for i,x  in enumerate(a) if a[i-1] != a[i]]\n",
    "print(a)\n",
    "\n",
    "# i = 1,2,3,4,5,6,7,8,9\n",
    "# j = 1,2,3,4,5,6,7\n",
    "\n",
    "# delete_duplicates(a)"
   ]
  },
  {
   "cell_type": "code",
   "execution_count": 244,
   "id": "50c0bc97",
   "metadata": {},
   "outputs": [],
   "source": [
    " import re\n",
    "\n",
    " def shortestCommonSupersequence(str1: str, str2: str) -> str:\n",
    "        s1s2 = str1+str2\n",
    "        s2s1 = str2+str1\n",
    "        \n",
    "        i,j = 0, 0\n",
    "        match = [] \n",
    "        match.append(re.search(re.compile(str1), s1s2))\n",
    "        match.append(re.search(re.compile(str2), s1s2))\n",
    "        match.append(re.search(re.compile(str1), s2s1))\n",
    "        match.append(re.search(re.compile(str2), s2s1))\n",
    "        \n",
    "        i,j,result1, result2 = 0, 0, \"\", \"\"\n",
    "\n",
    "        if match[0] and match[1]:\n",
    "            print(match[0].span())\n",
    "            i = min(match[0].span()[0], match[1].span()[0])\n",
    "            j = max(match[0].span()[1], match[1].span()[1])\n",
    "            result1 = s1s2[i:j]\n",
    "\n",
    "        if match[1] and match[2]:\n",
    "            i = min(match[2].span()[0], match[3].span()[0])\n",
    "            j = max(match[2].span()[1], match[3].span()[1])\n",
    "            result2 = s2s1[i:j]\n",
    "        \n",
    "         \n",
    "         \n",
    "        return result1 if len(result1) < len(result2) else result2"
   ]
  },
  {
   "cell_type": "code",
   "execution_count": 245,
   "id": "9d4c33e0",
   "metadata": {},
   "outputs": [
    {
     "name": "stdout",
     "output_type": "stream",
     "text": [
      "(0, 4)\n"
     ]
    },
    {
     "data": {
      "text/plain": [
       "'cababac'"
      ]
     },
     "execution_count": 245,
     "metadata": {},
     "output_type": "execute_result"
    }
   ],
   "source": [
    "str1 = \"abac\"\n",
    "str2 = \"cab\"\n",
    "\n",
    "shortestCommonSupersequence(str1, str2)"
   ]
  },
  {
   "cell_type": "code",
   "execution_count": 246,
   "id": "f1f1884d",
   "metadata": {},
   "outputs": [
    {
     "ename": "TypeError",
     "evalue": "'<' not supported between instances of 'list' and 'int'",
     "output_type": "error",
     "traceback": [
      "\u001b[0;31m---------------------------------------------------------------------------\u001b[0m",
      "\u001b[0;31mTypeError\u001b[0m                                 Traceback (most recent call last)",
      "\u001b[0;32m/var/folders/1_/2rbdt5292zdb57b821k90d5r0000gn/T/ipykernel_45797/2574532080.py\u001b[0m in \u001b[0;36m<module>\u001b[0;34m\u001b[0m\n\u001b[0;32m----> 1\u001b[0;31m \u001b[0mprint\u001b[0m\u001b[0;34m(\u001b[0m\u001b[0;34m[\u001b[0m\u001b[0;36m1\u001b[0m\u001b[0;34m,\u001b[0m\u001b[0;36m2\u001b[0m\u001b[0;34m,\u001b[0m\u001b[0;36m3\u001b[0m\u001b[0;34m,\u001b[0m\u001b[0;36m4\u001b[0m\u001b[0;34m,\u001b[0m\u001b[0;36m5\u001b[0m\u001b[0;34m,\u001b[0m\u001b[0;36m5\u001b[0m\u001b[0;34m]\u001b[0m \u001b[0;34m<\u001b[0m \u001b[0;36m10\u001b[0m\u001b[0;34m)\u001b[0m\u001b[0;34m\u001b[0m\u001b[0;34m\u001b[0m\u001b[0m\n\u001b[0m",
      "\u001b[0;31mTypeError\u001b[0m: '<' not supported between instances of 'list' and 'int'"
     ]
    }
   ],
   "source": [
    "print([1,2,3,4,5,5] < 10)\n",
    "\n",
    "a = [1, 2,3,4,5,6,7,7]\n",
    "\n"
   ]
  }
 ],
 "metadata": {
  "kernelspec": {
   "display_name": "Python 3 (ipykernel)",
   "language": "python",
   "name": "python3"
  },
  "language_info": {
   "codemirror_mode": {
    "name": "ipython",
    "version": 3
   },
   "file_extension": ".py",
   "mimetype": "text/x-python",
   "name": "python",
   "nbconvert_exporter": "python",
   "pygments_lexer": "ipython3",
   "version": "3.9.7"
  }
 },
 "nbformat": 4,
 "nbformat_minor": 5
}
