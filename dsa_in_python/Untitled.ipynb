{
 "cells": [
  {
   "cell_type": "markdown",
   "id": "a24a1abb",
   "metadata": {},
   "source": [
    "* Problem\n",
    "A string is simply an ordered collection of symbols selected from some alphabet and formed into a word; the length of a string is the number of symbols that it contains.\n",
    "\n",
    "An example of a length 21 DNA string (whose alphabet contains the symbols 'A', 'C', 'G', and 'T') is \"ATGCTTCAGAAAGGTCTTACG\"\n",
    "\n",
    "Given: A DNA string s of length at most 1000 nt.\n",
    "\n",
    "Return: Four integers (separated by spaces) counting the respective number of times that the symbols 'A', 'C', 'G', and 'T' occur in s.\n",
    "\n",
    "* Sample Dataset\n",
    "AGCTTTTCATTCTGACTGCAACGGGCAATATGTCTCTGTGTGGATTAAAAAAAGAGTGTCTGATAGCAGC\n",
    "\n",
    "* Sample Output\n",
    "20 12 17 21"
   ]
  },
  {
   "cell_type": "code",
   "execution_count": 14,
   "id": "d860173e",
   "metadata": {},
   "outputs": [],
   "source": [
    "sample = \"CCATCGGTCGAAGGCGTTAACGCGCGACGGCGTGGAAAACTCAGCGCCGATAGAACTTTTTATGGTTATAGATACAAGAAGTTGTGATATAAGCTTCATGGGTTATATATATACAGTAAGACATTTCTGGAAAGATGGTCCATTGTGCGGAAGTACCTCTGCGCCGCCCATCCCGCTTTTACTTTGCGTTCACCTCTCCCCGCTCTTGCACGCACATCAGTAGTCTAAATACATCGTTACTTTGCAGTCTGTTCAAGTTAAACACGGTGATGGACATTCCTGCCTCCTGGGTTTCGGACTCTTCATTGCATTACGATACAGAGCGATGATACTTGGGTATTAGCGCAAAAGTGAGTTCGAAAGCCTCTGTGTGATCACTGAGCGCTGTAAACGGTCCGGTGACCCGTATGATTTACCATCGACCGCGATCGACTAGGCCTACGCCAGACGATCTCTCGCCTCTCTCATTCCATTTATATGACGTTGCCCAGATTTAGATGCTGGATGTCGACGTATGACTTGCCACAGGCCCAAACCTTAGATCCACGCCCATTGGTTACCGGGGAAAGAGGGACGGATTACTCGTTCATCGCTGTACGGATGCAGACTCCTGATGACCGTGGAAGTCGCGACGTGGCTCTATCCTCGCAAAAGAGCTGGGACGGGGGTCATTTTAAAACGGCTTTGTCACTGTTCCCTGCCCATGACAGCACAAAGGCACGCTGGTTTTGTCCGATCATTGTGTATCCCCAGGGCACCGCATGTTCAGAGAGTGCAGCAATCATTAGGGCAGAGCAAGTCTCCGATGGCTTTTCCTACAAATCTATATGCGCTGGAACCCGTTAGCTGCATCGGTGAGACTTCTTGCAACTTCCTACGGGTGAGCTAGGCTTACCC\""
   ]
  },
  {
   "cell_type": "code",
   "execution_count": 15,
   "id": "5aa2a12d",
   "metadata": {},
   "outputs": [
    {
     "name": "stdout",
     "output_type": "stream",
     "text": [
      "CCATCGGTCGAAGGCGTTAACGCGCGACGGCGTGGAAAACTCAGCGCCGATAGAACTTTTTATGGTTATAGATACAAGAAGTTGTGATATAAGCTTCATGGGTTATATATATACAGTAAGACATTTCTGGAAAGATGGTCCATTGTGCGGAAGTACCTCTGCGCCGCCCATCCCGCTTTTACTTTGCGTTCACCTCTCCCCGCTCTTGCACGCACATCAGTAGTCTAAATACATCGTTACTTTGCAGTCTGTTCAAGTTAAACACGGTGATGGACATTCCTGCCTCCTGGGTTTCGGACTCTTCATTGCATTACGATACAGAGCGATGATACTTGGGTATTAGCGCAAAAGTGAGTTCGAAAGCCTCTGTGTGATCACTGAGCGCTGTAAACGGTCCGGTGACCCGTATGATTTACCATCGACCGCGATCGACTAGGCCTACGCCAGACGATCTCTCGCCTCTCTCATTCCATTTATATGACGTTGCCCAGATTTAGATGCTGGATGTCGACGTATGACTTGCCACAGGCCCAAACCTTAGATCCACGCCCATTGGTTACCGGGGAAAGAGGGACGGATTACTCGTTCATCGCTGTACGGATGCAGACTCCTGATGACCGTGGAAGTCGCGACGTGGCTCTATCCTCGCAAAAGAGCTGGGACGGGGGTCATTTTAAAACGGCTTTGTCACTGTTCCCTGCCCATGACAGCACAAAGGCACGCTGGTTTTGTCCGATCATTGTGTATCCCCAGGGCACCGCATGTTCAGAGAGTGCAGCAATCATTAGGGCAGAGCAAGTCTCCGATGGCTTTTCCTACAAATCTATATGCGCTGGAACCCGTTAGCTGCATCGGTGAGACTTCTTGCAACTTCCTACGGGTGAGCTAGGCTTACCC\n"
     ]
    }
   ],
   "source": [
    "print(sample)"
   ]
  },
  {
   "cell_type": "code",
   "execution_count": 16,
   "id": "bdb2df58",
   "metadata": {},
   "outputs": [],
   "source": [
    "def count_dna(s):\n",
    "    no_a = s.count('A')\n",
    "    no_c = s.count('C')\n",
    "    no_g = s.count('G')\n",
    "    no_t = s.count('T')\n",
    "    return str(no_a) + \" \" + str(no_c) + \" \" + str(no_g) + \" \" + str(no_t)"
   ]
  },
  {
   "cell_type": "code",
   "execution_count": 17,
   "id": "35b2f5a3",
   "metadata": {},
   "outputs": [
    {
     "data": {
      "text/plain": [
       "'209 230 220 238'"
      ]
     },
     "execution_count": 17,
     "metadata": {},
     "output_type": "execute_result"
    }
   ],
   "source": [
    "count_dna(sample)"
   ]
  },
  {
   "cell_type": "code",
   "execution_count": 10,
   "id": "8d24daa7",
   "metadata": {},
   "outputs": [
    {
     "data": {
      "text/plain": [
       "'[30, 56, 60]'"
      ]
     },
     "execution_count": 10,
     "metadata": {},
     "output_type": "execute_result"
    }
   ],
   "source": [
    "a=[30,56,60]\n"
   ]
  },
  {
   "cell_type": "code",
   "execution_count": 13,
   "id": "a31a6c14",
   "metadata": {},
   "outputs": [
    {
     "ename": "AttributeError",
     "evalue": "'list' object has no attribute 'join'",
     "output_type": "error",
     "traceback": [
      "\u001b[0;31m---------------------------------------------------------------------------\u001b[0m",
      "\u001b[0;31mAttributeError\u001b[0m                            Traceback (most recent call last)",
      "\u001b[0;32m/var/folders/1_/2rbdt5292zdb57b821k90d5r0000gn/T/ipykernel_20835/4221942760.py\u001b[0m in \u001b[0;36m<module>\u001b[0;34m\u001b[0m\n\u001b[0;32m----> 1\u001b[0;31m \u001b[0mprint\u001b[0m\u001b[0;34m(\u001b[0m\u001b[0ma\u001b[0m\u001b[0;34m.\u001b[0m\u001b[0mjoin\u001b[0m\u001b[0;34m(\u001b[0m\u001b[0;34m\" \"\u001b[0m\u001b[0;34m)\u001b[0m\u001b[0;34m)\u001b[0m\u001b[0;34m\u001b[0m\u001b[0;34m\u001b[0m\u001b[0m\n\u001b[0m",
      "\u001b[0;31mAttributeError\u001b[0m: 'list' object has no attribute 'join'"
     ]
    }
   ],
   "source": [
    "print(a.join(\" \"))"
   ]
  },
  {
   "cell_type": "code",
   "execution_count": 21,
   "id": "f5059b7e",
   "metadata": {},
   "outputs": [],
   "source": [
    "sample=\"TATAGAGCTTGCAGGGGGTACCGCGTGCTAATTAGCGCCGTCCGGATTGAAGATCGGGAGGAGACGTGCCATAAGTTAGTTAGATTGCCGCCAAAATGACTCGTACGCCTTCGCGCATCATTGCAGTTGCGCGGACAGATGTTTTAGTTTTGGGCGGAACCGCGGCTGGCGTGTCCGTGGTTCAGTATTACATCGCATGTTGAGGGTGCAGCACTTCCGTAGTTTGTTCTGCAATTGCATTAGCATATAATCCGTAGCACGTTCCAGTGTTAGAAGAGTACAATATGACCTCATTCAATTGGCAATCAGGGGTTCTTTGGATTCATCTTACTGACCCAGTTAGCAAGGCTGCATCGTGAATGGTCATAAGTGACAGGCTAGAAGAACTTGCTTAGGGGTAAGGAATGGTATTATCGATACCCTACAGTATGTTCACAGAGTCAGCGGACATCTCTAACAGAGCAATTGATGGGCTTGATTATATCGTCTGTTAGGAATCCCACGTCTGGTCTGGCCGCGACTAAAAGAGGTCGGACAGCTTCGGGCGTTGGAAGGCCAAACGCCAGTAGTTTTGGGCGATAAGACCCCAAGCACGTCGCTACAAAAAACTCAAAAGTGAACCACATCCCCCTATGGAGATGCCGTATGAGTTTGCTGGTTTGTCTACATACTAAGGCCCTCCAATGCCCTAGCAATGTTTGATGACCTTCCTCGATCCAGCCCATCTGGCAAGTGTCCACGGGCACCAGAGTACGTCGCGAATAAGCTATGTGGCTCTAGCAGCGCATCTACTGGTTAAATAGCTTGAAAAGATCGTAGATTTACGAACAACTTGCTGGACCCACGATGCATAACGCGTTATCACTTGGAGATGTTTGCCATGCCGCCATGATTCTCAGACCAGTCCCTATCAGCGAGGGT\""
   ]
  },
  {
   "cell_type": "code",
   "execution_count": 22,
   "id": "7da63bdf",
   "metadata": {},
   "outputs": [],
   "source": [
    "def transcribe_rna(s):\n",
    "    return s.replace('T', 'U')"
   ]
  },
  {
   "cell_type": "code",
   "execution_count": 23,
   "id": "b5639a64",
   "metadata": {},
   "outputs": [
    {
     "name": "stdout",
     "output_type": "stream",
     "text": [
      "UAUAGAGCUUGCAGGGGGUACCGCGUGCUAAUUAGCGCCGUCCGGAUUGAAGAUCGGGAGGAGACGUGCCAUAAGUUAGUUAGAUUGCCGCCAAAAUGACUCGUACGCCUUCGCGCAUCAUUGCAGUUGCGCGGACAGAUGUUUUAGUUUUGGGCGGAACCGCGGCUGGCGUGUCCGUGGUUCAGUAUUACAUCGCAUGUUGAGGGUGCAGCACUUCCGUAGUUUGUUCUGCAAUUGCAUUAGCAUAUAAUCCGUAGCACGUUCCAGUGUUAGAAGAGUACAAUAUGACCUCAUUCAAUUGGCAAUCAGGGGUUCUUUGGAUUCAUCUUACUGACCCAGUUAGCAAGGCUGCAUCGUGAAUGGUCAUAAGUGACAGGCUAGAAGAACUUGCUUAGGGGUAAGGAAUGGUAUUAUCGAUACCCUACAGUAUGUUCACAGAGUCAGCGGACAUCUCUAACAGAGCAAUUGAUGGGCUUGAUUAUAUCGUCUGUUAGGAAUCCCACGUCUGGUCUGGCCGCGACUAAAAGAGGUCGGACAGCUUCGGGCGUUGGAAGGCCAAACGCCAGUAGUUUUGGGCGAUAAGACCCCAAGCACGUCGCUACAAAAAACUCAAAAGUGAACCACAUCCCCCUAUGGAGAUGCCGUAUGAGUUUGCUGGUUUGUCUACAUACUAAGGCCCUCCAAUGCCCUAGCAAUGUUUGAUGACCUUCCUCGAUCCAGCCCAUCUGGCAAGUGUCCACGGGCACCAGAGUACGUCGCGAAUAAGCUAUGUGGCUCUAGCAGCGCAUCUACUGGUUAAAUAGCUUGAAAAGAUCGUAGAUUUACGAACAACUUGCUGGACCCACGAUGCAUAACGCGUUAUCACUUGGAGAUGUUUGCCAUGCCGCCAUGAUUCUCAGACCAGUCCCUAUCAGCGAGGGU\n"
     ]
    }
   ],
   "source": [
    "print(transcribe_rna(sample))"
   ]
  },
  {
   "cell_type": "code",
   "execution_count": 26,
   "id": "eaf43e94",
   "metadata": {},
   "outputs": [],
   "source": [
    "sample=\"AAAACCCGGT\""
   ]
  },
  {
   "cell_type": "code",
   "execution_count": 27,
   "id": "29444915",
   "metadata": {},
   "outputs": [],
   "source": [
    "def complement_rna(s):\n",
    "    return (s.reverse()).replace('T', 'A')"
   ]
  },
  {
   "cell_type": "code",
   "execution_count": 28,
   "id": "0ee7a802",
   "metadata": {},
   "outputs": [
    {
     "ename": "AttributeError",
     "evalue": "'str' object has no attribute 'reverse'",
     "output_type": "error",
     "traceback": [
      "\u001b[0;31m---------------------------------------------------------------------------\u001b[0m",
      "\u001b[0;31mAttributeError\u001b[0m                            Traceback (most recent call last)",
      "\u001b[0;32m/var/folders/1_/2rbdt5292zdb57b821k90d5r0000gn/T/ipykernel_20835/98489956.py\u001b[0m in \u001b[0;36m<module>\u001b[0;34m\u001b[0m\n\u001b[0;32m----> 1\u001b[0;31m \u001b[0mprint\u001b[0m\u001b[0;34m(\u001b[0m\u001b[0mcomplement_rna\u001b[0m\u001b[0;34m(\u001b[0m\u001b[0msample\u001b[0m\u001b[0;34m)\u001b[0m\u001b[0;34m)\u001b[0m\u001b[0;34m\u001b[0m\u001b[0;34m\u001b[0m\u001b[0m\n\u001b[0m",
      "\u001b[0;32m/var/folders/1_/2rbdt5292zdb57b821k90d5r0000gn/T/ipykernel_20835/379595466.py\u001b[0m in \u001b[0;36mcomplement_rna\u001b[0;34m(s)\u001b[0m\n\u001b[1;32m      1\u001b[0m \u001b[0;32mdef\u001b[0m \u001b[0mcomplement_rna\u001b[0m\u001b[0;34m(\u001b[0m\u001b[0ms\u001b[0m\u001b[0;34m)\u001b[0m\u001b[0;34m:\u001b[0m\u001b[0;34m\u001b[0m\u001b[0;34m\u001b[0m\u001b[0m\n\u001b[0;32m----> 2\u001b[0;31m     \u001b[0;32mreturn\u001b[0m \u001b[0;34m(\u001b[0m\u001b[0ms\u001b[0m\u001b[0;34m.\u001b[0m\u001b[0mreverse\u001b[0m\u001b[0;34m(\u001b[0m\u001b[0;34m)\u001b[0m\u001b[0;34m)\u001b[0m\u001b[0;34m.\u001b[0m\u001b[0mreplace\u001b[0m\u001b[0;34m(\u001b[0m\u001b[0;34m'T'\u001b[0m\u001b[0;34m,\u001b[0m \u001b[0;34m'A'\u001b[0m\u001b[0;34m)\u001b[0m\u001b[0;34m\u001b[0m\u001b[0;34m\u001b[0m\u001b[0m\n\u001b[0m",
      "\u001b[0;31mAttributeError\u001b[0m: 'str' object has no attribute 'reverse'"
     ]
    }
   ],
   "source": [
    "print(complement_rna(sample))"
   ]
  },
  {
   "cell_type": "code",
   "execution_count": 40,
   "id": "ee824573",
   "metadata": {},
   "outputs": [
    {
     "name": "stdout",
     "output_type": "stream",
     "text": [
      "['AAAACCCGGT']\n"
     ]
    }
   ],
   "source": [
    "print(sample.split(\" \"))"
   ]
  },
  {
   "cell_type": "code",
   "execution_count": 37,
   "id": "a0c9c0ba",
   "metadata": {},
   "outputs": [
    {
     "name": "stdout",
     "output_type": "stream",
     "text": [
      "AAAACCCGGT\n"
     ]
    }
   ],
   "source": [
    "print(sample)"
   ]
  },
  {
   "cell_type": "code",
   "execution_count": null,
   "id": "37ef83a3",
   "metadata": {},
   "outputs": [],
   "source": []
  }
 ],
 "metadata": {
  "kernelspec": {
   "display_name": "Python 3 (ipykernel)",
   "language": "python",
   "name": "python3"
  },
  "language_info": {
   "codemirror_mode": {
    "name": "ipython",
    "version": 3
   },
   "file_extension": ".py",
   "mimetype": "text/x-python",
   "name": "python",
   "nbconvert_exporter": "python",
   "pygments_lexer": "ipython3",
   "version": "3.9.7"
  }
 },
 "nbformat": 4,
 "nbformat_minor": 5
}
