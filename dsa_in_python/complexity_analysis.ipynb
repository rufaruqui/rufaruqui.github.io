{
 "cells": [
  {
   "cell_type": "markdown",
   "id": "211e1a7a",
   "metadata": {},
   "source": [
    "# The Complexity of Algorithims"
   ]
  },
  {
   "cell_type": "markdown",
   "id": "8d96c671",
   "metadata": {},
   "source": [
    " ## Motivation\n",
    " Sometimes it is necessary to have a precise understanding of the complexity of an algorithm.   In order to obtain this understanding we could proceed as follows:  \n",
    " <ol>\n",
    "    <li>We implement the algorithm in a given programming language.</li>\n",
    " \t<li> We count how many additions, multiplications, assignments, etc.~are needed</li>\n",
    " \tfor an input of a given size.  Additionally, we have to count all storage accesses.</li>\n",
    " \t<li> We look up the amount of time that is needed for the different operations in the processor handbook.</li>\n",
    " \t<li> Using the information discovered in the previous two steps we predict the running\n",
    " \ttime of our algorithm for given input.</li>\n",
    "</ol>"
   ]
  },
  {
   "cell_type": "markdown",
   "id": "35d3565a",
   "metadata": {},
   "source": [
    "### Naive Approach\n",
    "$S~=~1+2+3+ ...+n$"
   ]
  },
  {
   "cell_type": "code",
   "execution_count": 8,
   "id": "7a6aefa9",
   "metadata": {},
   "outputs": [
    {
     "name": "stdout",
     "output_type": "stream",
     "text": [
      "Sum is 50005000 required   0.000823 seconds\n",
      "Sum is 50005000 required   0.000839 seconds\n",
      "Sum is 50005000 required   0.000982 seconds\n",
      "Sum is 50005000 required   0.000876 seconds\n",
      "Sum is 50005000 required   0.000861 seconds\n"
     ]
    }
   ],
   "source": [
    "import time\n",
    "\n",
    "\n",
    "def sum_of_n_2(n):\n",
    "    start = time.time()\n",
    "\n",
    "    the_sum = 0\n",
    "    for i in range(1, n + 1):\n",
    "        the_sum = the_sum + i\n",
    "\n",
    "    end = time.time()\n",
    "\n",
    "    return the_sum, end - start\n",
    "\n",
    "for i in range(5):\n",
    "    print(\"Sum is %d required %10.6f seconds\" % sum_of_n_2(10000))\n",
    "    \n"
   ]
  },
  {
   "cell_type": "markdown",
   "id": "4919c718",
   "metadata": {},
   "source": [
    "### Alternative Approach\n",
    "\n",
    "$S~=~1 + 2   +  3+ ...+n$\n",
    "\n",
    "\n",
    "$S~=~n + (n-1) + (n- 2)+ .... + 1$\n",
    "\n",
    "$2S = (n+1) + (n+1)+ .... + (n+1) = n * (n +1)$\n",
    "\n",
    "$S = \\frac{n* (n+1)} {2}$"
   ]
  },
  {
   "cell_type": "code",
   "execution_count": 11,
   "id": "517ffb64",
   "metadata": {},
   "outputs": [
    {
     "name": "stdout",
     "output_type": "stream",
     "text": [
      "V2: Sum is 50005000 required   0.000002 seconds\n",
      "V2: Sum is 50005000 required   0.000001 seconds\n",
      "V2: Sum is 50005000 required   0.000001 seconds\n",
      "V2: Sum is 50005000 required   0.000001 seconds\n",
      "V2: Sum is 50005000 required   0.000000 seconds\n"
     ]
    }
   ],
   "source": [
    "def sum_of_n_3(n):\n",
    "    start = time.time()\n",
    "\n",
    "    the_sum = ((n+1)*n)/2.0\n",
    "\n",
    "    end = time.time()\n",
    "\n",
    "    return the_sum, end - start\n",
    "\n",
    "for i in range(5):\n",
    "    print(\"V2: Sum is %d required %10.6f seconds\" % sum_of_n_3(10000))"
   ]
  },
  {
   "cell_type": "code",
   "execution_count": null,
   "id": "7428ea37",
   "metadata": {},
   "outputs": [],
   "source": []
  },
  {
   "cell_type": "code",
   "execution_count": null,
   "id": "2e26e987",
   "metadata": {},
   "outputs": [],
   "source": []
  }
 ],
 "metadata": {
  "kernelspec": {
   "display_name": "Python 3 (ipykernel)",
   "language": "python",
   "name": "python3"
  },
  "language_info": {
   "codemirror_mode": {
    "name": "ipython",
    "version": 3
   },
   "file_extension": ".py",
   "mimetype": "text/x-python",
   "name": "python",
   "nbconvert_exporter": "python",
   "pygments_lexer": "ipython3",
   "version": "3.9.6"
  }
 },
 "nbformat": 4,
 "nbformat_minor": 5
}
