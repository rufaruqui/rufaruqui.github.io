{
 "cells": [
  {
   "cell_type": "markdown",
   "id": "211e1a7a",
   "metadata": {
    "slideshow": {
     "slide_type": "slide"
    }
   },
   "source": [
    "# The Analysis of Algorithims\n",
    "\n",
    " - Primary analysis tool\n",
    "   - characterizing the running times of algorithms and data structure operations\n",
    "   - Space usage  \n",
    " - Running time is a natural measure of “goodness,”\n",
    "    - time is a precious resource\n",
    "    - computer solutions should run as fast as possible"
   ]
  },
  {
   "cell_type": "markdown",
   "id": "8d96c671",
   "metadata": {
    "slideshow": {
     "slide_type": "subslide"
    }
   },
   "source": [
    " ## Motivation\n",
    " \n",
    " - Sometimes it is necessary to have a precise understanding of the complexity of an algorithm.\n",
    " \n",
    " - In order to obtain this understanding we could proceed as follows:  \n",
    "   <ol>\n",
    "    <li>We implement the algorithm in a given programming language.</li>\n",
    " \t<li> We count how many additions, multiplications, assignments, etc.~are needed</li>\n",
    "    <li> for an input of a given size.  Additionally, we have to count all storage accesses.</li>\n",
    " \t<li> We look up the amount of time that is needed for the different operations in the processor handbook.</li>\n",
    " \t<li> Using the information discovered in the previous two steps we predict the running\n",
    " \ttime of our algorithm for given input.</li>\n",
    "  </ol>"
   ]
  },
  {
   "cell_type": "markdown",
   "id": "ab2af868",
   "metadata": {
    "slideshow": {
     "slide_type": "slide"
    }
   },
   "source": [
    "###  Experimental Studies\n",
    "\n",
    "```python\n",
    "from time import time\n",
    "\n",
    "start time = time( ) # record the starting time\n",
    "run algorithm    \n",
    "end time = time( )   # record the ending time\n",
    "elapsed = end time − start time # compute the elapsed time\n",
    "```"
   ]
  },
  {
   "cell_type": "markdown",
   "id": "6e829e0e",
   "metadata": {
    "slideshow": {
     "slide_type": "slide"
    }
   },
   "source": [
    "### Naive Approach\n",
    "$S~=~1+2+3+ ...+n$"
   ]
  },
  {
   "cell_type": "code",
   "execution_count": 14,
   "id": "7a6aefa9",
   "metadata": {
    "slideshow": {
     "slide_type": "slide"
    }
   },
   "outputs": [
    {
     "name": "stdout",
     "output_type": "stream",
     "text": [
      "Sum is 50005000 required   0.000841 seconds\n",
      "Sum is 50005000 required   0.001362 seconds\n",
      "Sum is 50005000 required   0.001088 seconds\n",
      "Sum is 50005000 required   0.001040 seconds\n",
      "Sum is 50005000 required   0.001048 seconds\n"
     ]
    }
   ],
   "source": [
    "import time\n",
    "\n",
    "\n",
    "def sum_of_n_2(n):\n",
    "    start = time.time()\n",
    "\n",
    "    the_sum = 0\n",
    "    for i in range(1, n + 1):\n",
    "        the_sum = the_sum + i\n",
    "\n",
    "    end = time.time()\n",
    "\n",
    "    return the_sum, end - start\n",
    "\n",
    "for i in range(5):\n",
    "    print(\"Sum is %d required %10.6f seconds\" % sum_of_n_2(10000))\n",
    "    \n"
   ]
  },
  {
   "cell_type": "markdown",
   "id": "4919c718",
   "metadata": {
    "slideshow": {
     "slide_type": "slide"
    }
   },
   "source": [
    "### Alternative Approach\n",
    "\n",
    "$S~=~1 + 2   +  3+ ...+n$\n",
    "\n",
    "\n",
    "$S~=~n + (n-1) + (n- 2)+ .... + 1$\n",
    "\n",
    "$2S = (n+1) + (n+1)+ .... + (n+1) = n * (n +1)$\n",
    "\n",
    "$S = \\frac{n* (n+1)} {2}$"
   ]
  },
  {
   "cell_type": "code",
   "execution_count": 15,
   "id": "517ffb64",
   "metadata": {
    "slideshow": {
     "slide_type": "slide"
    }
   },
   "outputs": [
    {
     "name": "stdout",
     "output_type": "stream",
     "text": [
      "V2: Sum is 50005000 required   0.000001 seconds\n",
      "V2: Sum is 50005000 required   0.000001 seconds\n",
      "V2: Sum is 50005000 required   0.000000 seconds\n",
      "V2: Sum is 50005000 required   0.000001 seconds\n",
      "V2: Sum is 50005000 required   0.000001 seconds\n"
     ]
    }
   ],
   "source": [
    "def sum_of_n_3(n):\n",
    "    start = time.time()\n",
    "\n",
    "    the_sum = ((n+1)*n)/2.0\n",
    "\n",
    "    end = time.time()\n",
    "\n",
    "    return the_sum, end - start\n",
    "\n",
    "for i in range(5):\n",
    "    print(\"V2: Sum is %d required %10.6f seconds\" % sum_of_n_3(10000))"
   ]
  },
  {
   "cell_type": "markdown",
   "id": "3b706da0",
   "metadata": {
    "slideshow": {
     "slide_type": "slide"
    }
   },
   "source": [
    "## Moving Beyond Experimental Analysis\n",
    "  - Our goal is to develop an approach to analyzing the efficiency of algorithms that:\n",
    "    1. Allows us to evaluate the relative efficiency of any two algorithms in a way that is independent of the hardware and software environment.\n",
    "    2. Is performed by studying a high-level description of the algorithm without need for implementation.\n",
    "    3. Takes into account all possible inputs.\n",
    "\n",
    "  - ### Counting Primitive Operations\n",
    "  - ### Measuring Operations as a Function of Input Size\n",
    "  - ### Focusing on the Worst-Case Input"
   ]
  },
  {
   "cell_type": "markdown",
   "id": "2e89506a",
   "metadata": {
    "slideshow": {
     "slide_type": "subslide"
    }
   },
   "source": [
    "### Counting Primitive Operations\n",
    "  - Perform analysis directly on a high-level description of the algorithm\n",
    "  - Identify and analyse primitive operations - **a primitive operation is low-level instruction with an execution time that is constant** e.g.,\n",
    "    - Assigning an identifier to an object\n",
    "    - Determining the object associated with an identifier\n",
    "    - Performing an arithmetic operation (for example, adding two numbers) • Comparing two numbers\n",
    "    - Accessing a single element of a Python list by index\n",
    "    - Calling a function (excluding operations executed within the function) • Returning from a function.\n",
    "  - A primitive operation is basic operation that is executed by the hardware \n",
    "  - Many of our primitive operations may be translated to a small number of instructions. \n",
    "  - Instead of trying to determine the specific execution time of each primitive operation, we will count   \n",
    "      - how many primitive operations are executed\n",
    "      - use this number $t$ as a measure of the running time of the algorithm."
   ]
  },
  {
   "cell_type": "markdown",
   "id": "1e6f433d",
   "metadata": {
    "slideshow": {
     "slide_type": "subslide"
    }
   },
   "source": [
    "### Measuring Operations as a Function of Input Size\n",
    "  - Capture the order of growth of an algorithm’s running time\n",
    "  - A function $f(n)$ that characterizes the number of primitive operations that are performed as a function of the input size n"
   ]
  },
  {
   "cell_type": "markdown",
   "id": "6019e34f",
   "metadata": {
    "slideshow": {
     "slide_type": "subslide"
    }
   },
   "source": [
    "### Focusing on the Worst-Case Input\n",
    "* **Worst-case:** $T(n)$ The maximum steps/time/memory taken by an algorithm to\n",
    "complete the solution for inputs of size $n$\n",
    "\n",
    "* **Average-case:** The expected time over all inputs with the same characteristics\n",
    "(e.g. size).\n",
    "\n",
    "* **Best-case:** The performance in ideal situations. Rarely used.\n",
    "\n",
    "Worst-case analysis is much easier than average-case analysis, as it requires only the ability to identify the worst-case input, which is often simple.\n",
    "\n",
    "When analysing algorithmic performance, we ignore computational resources (e.g.\n",
    "CPU speed); we only care about the growth of $T(n)$ as $n \\rightarrow \\infty$\n",
    "\n",
    "\n",
    "\n",
    "This is called the **asymptotic behaviour**"
   ]
  },
  {
   "cell_type": "markdown",
   "id": "17cb3a28",
   "metadata": {
    "slideshow": {
     "slide_type": "subslide"
    }
   },
   "source": [
    "![Runtime Analysis](fig3.2.png)"
   ]
  },
  {
   "cell_type": "markdown",
   "id": "272f109d",
   "metadata": {
    "slideshow": {
     "slide_type": "slide"
    }
   },
   "source": [
    "## Growth Function \n",
    "1. $f(x) = n$ (constant function)\n",
    "  - for any argument $n$, the constant function $f(n)$ assigns the value $c$.\n",
    "2. $f(n) = log_b(n)$ (logarithmic function)\n",
    "  - $x=\\log_bn$ if and only if $b^x = n$.\n",
    "3. $f(x) = sqrt(x)$ (square root function)\n",
    "4. $f(x) = x$ (linear function)\n",
    "5. $f(x) = nlog(n)$ (log-linear function)\n",
    "6. $f(x) = x^2$ (quadratic function)\n",
    "7. $f(x) = x^3$ (cubic function)\n",
    "7. $f(x) = a^x, \\forall a > 1$ (exponential function)"
   ]
  },
  {
   "cell_type": "markdown",
   "id": "78cf426b",
   "metadata": {
    "slideshow": {
     "slide_type": "slide"
    }
   },
   "source": [
    "## Math Review"
   ]
  },
  {
   "cell_type": "markdown",
   "id": "509f1abb",
   "metadata": {
    "slideshow": {
     "slide_type": "subslide"
    }
   },
   "source": [
    "### Exponentiation\n",
    "  Exponents have a number of important properties, including:\n",
    "  \n",
    "  \\begin{align}\n",
    "\t\tb^0 &= 1 \\\\\n",
    "\t\tb^1 &= b \\\\\n",
    "\t\tb^{1/2} &= b^{0.5} = \\sqrt{b} \\\\\n",
    "\t\tb^{-1} &= \\frac{1}{b} \\\\\n",
    "\t\tb^a \\cdot b^c &= b^{a + c} \\\\\n",
    "\t\t(b^a)^c &= b^{ac}\n",
    "\t\\end{align}\n",
    "    \n",
    "    \n",
    "    "
   ]
  },
  {
   "cell_type": "markdown",
   "id": "690e378b",
   "metadata": {
    "slideshow": {
     "slide_type": "subslide"
    }
   },
   "source": [
    "### Logarithms\n",
    "\t\n",
    "   **Definition**: $\\log_b a = c$ if and only if $a = b^c$. If $b = 2$, we write $\\lg a$.\n",
    "\t\n",
    "   There are a number of log identities you should be aware of:\n",
    "\t\n",
    "   \\begin{align}\n",
    "\t\t\\log_b (a \\cdot c) &= \\log_b a + \\log_b c \\\\\n",
    "\t\t\\log \\left( \\frac{a}{c} \\right) &= \\log_b a - \\log_b c \\\\\n",
    "\t\t\\log(a^c) &= c \\cdot \\log_b a \\\\\n",
    "\t\tb^{\\log_c a} &= a^{\\log_c b} \\\\\n",
    "\t\t\\log_b a &= \\frac{\\log_c a}{\\log_c b}\n",
    "\t\\end{align}"
   ]
  },
  {
   "cell_type": "markdown",
   "id": "86263f3e",
   "metadata": {
    "slideshow": {
     "slide_type": "slide"
    }
   },
   "source": [
    "### Recursive Definitions\n",
    "\n",
    " ##### **Factorial** - The **factorial** of a number $n$ is represented by $n!$. Informally, $n! = 1 \\cdot 2 \\cdot 3 \\cdot \\ldots \\cdot n$. More formally: \n",
    "\n",
    "\\begin{align*}\n",
    "\t\t\tn! = \\begin{cases}\n",
    "\t\t\t\t1 & n = 0 \\\\\n",
    "\t\t\t\tn \\cdot (n - 1)! & n > 0\n",
    "\t\t\t\\end{cases}\n",
    "\\end{align*}"
   ]
  },
  {
   "cell_type": "markdown",
   "id": "fe8b8ae2",
   "metadata": {
    "slideshow": {
     "slide_type": "subslide"
    }
   },
   "source": [
    "### Recursive Definitions\n",
    "\n",
    "##### Fibonacci numbers\n",
    "The **fibonacci numbers** are defined by:\n",
    "\t\t\\begin{align*}\n",
    "\t\t\tF_i = \\begin{cases}\n",
    "\t\t\t\t0 & i = 0 \\\\\n",
    "\t\t\t\t1 & i = 1 \\\\\n",
    "\t\t\t\tF_{i - 2} + F_{i - 1} & i > 1\n",
    "\t\t\t\\end{cases}\n",
    "\t\t\\end{align*}"
   ]
  },
  {
   "cell_type": "markdown",
   "id": "a94faeda",
   "metadata": {
    "slideshow": {
     "slide_type": "slide"
    }
   },
   "source": [
    "### Summations\n",
    "**Arithmetic Series**\n",
    "\t\\begin{align*}\n",
    "\t\t\\sum_{i = 1}^{n} i &= 1+2+3+ \\ldots + n = \\frac{n(n+1)}{2} \\\\\n",
    "\t\t\\sum_{i = 1}^{n} i^2 &= \\frac{n(n+1)(2n+1)}{6} \\\\\n",
    "\t\t\\sum_{i = 1}^{n} i^k &\\approx \\frac{n^{k + 1}}{k + 1} = \\Theta(n^{k + 1})\n",
    "\t\\end{align*}"
   ]
  },
  {
   "cell_type": "markdown",
   "id": "6b2a4eb5",
   "metadata": {
    "slideshow": {
     "slide_type": "subslide"
    }
   },
   "source": [
    "### Summations\n",
    "\n",
    "- **Geometric series**\n",
    "\n",
    "\\begin{align*}\n",
    "\t\t\\sum_{i = 0}^{n} a^i &= 1 + a + a^2+a^3+ ... +a^n= \\frac{a^{n + 1} - 1}{a - 1} \\\\\n",
    "\t\t\\sum_{i = 0}^{\\infty} a^i &= \\frac{1}{1 - a} \\text{ where } a < 1\n",
    "\t\\end{align*}"
   ]
  },
  {
   "cell_type": "markdown",
   "id": "95b20244",
   "metadata": {
    "slideshow": {
     "slide_type": "subslide"
    }
   },
   "source": [
    "### Polynomials\n",
    "\n",
    "A polynomial function has the form \n",
    "\n",
    "\\begin{align*}\n",
    "f(n) = a_0 +a_1n+a_2n^2 +a_3n^3 +···+a_dn^d \n",
    "\\end{align*}\n",
    "\n",
    "where $a_0$ , $a_1$ , . . . , $a_d$ are constants, called the **coefficients** of the polynomial, and $a^d\\neq0$.\n",
    "\n",
    "Integer $d$, which indicates the highest power in the polynomial, is called the **degree** of the polynomial."
   ]
  },
  {
   "cell_type": "markdown",
   "id": "77616d29",
   "metadata": {
    "slideshow": {
     "slide_type": "slide"
    }
   },
   "source": [
    "### Comparing Growth Rates"
   ]
  },
  {
   "cell_type": "code",
   "execution_count": 16,
   "id": "7bcffe88",
   "metadata": {
    "slideshow": {
     "slide_type": "subslide"
    }
   },
   "outputs": [],
   "source": [
    "# remember to evaluate this cell first!\n",
    "import matplotlib.pylab as plt\n",
    "import numpy as np\n",
    "import math\n",
    "import timeit\n",
    "import random\n",
    "%matplotlib inline"
   ]
  },
  {
   "cell_type": "code",
   "execution_count": 17,
   "id": "cc2482b3",
   "metadata": {
    "slideshow": {
     "slide_type": "subslide"
    }
   },
   "outputs": [
    {
     "data": {
      "text/plain": [
       "<matplotlib.legend.Legend at 0x10fe110d0>"
      ]
     },
     "execution_count": 17,
     "metadata": {},
     "output_type": "execute_result"
    },
    {
     "data": {
      "image/png": "[encoded data removed]",
      "text/plain": [
       "<Figure size 432x288 with 1 Axes>"
      ]
     },
     "metadata": {
      "needs_background": "light"
     },
     "output_type": "display_data"
    }
   ],
   "source": [
    "count = 50\n",
    "xs = np.linspace(0.1, 2, count)\n",
    "ys_const        = [1] * count\n",
    "ys_log          = [math.log(x) for x in xs]\n",
    "ys_linear       = [x for x in xs]\n",
    "ys_linearithmic = [x * math.log(x) for x in xs]\n",
    "ys_quadratic    = [x**2 for x in xs]\n",
    "ys_cubic    = [x**3 for x in xs]\n",
    "ys_exp    = [3**x for x in xs]\n",
    "\n",
    "\n",
    "\n",
    "plt.plot(xs, ys_const, 'c', label='Constant')\n",
    "plt.plot(xs, ys_log, 'r', label = 'Logarithmic')\n",
    "plt.plot(xs, ys_linear, 'b', label='Linear')\n",
    "plt.plot(xs, ys_linearithmic, 'g', label='Linear Arthmatic')\n",
    "plt.plot(xs, ys_quadratic, 'y', label='Quadratic');\n",
    "plt.plot(xs, ys_cubic, 'o', label='Cubic');\n",
    "plt.plot(xs, ys_exp, '-p', label='Exponential');\n",
    "plt.legend()"
   ]
  },
  {
   "cell_type": "markdown",
   "id": "e86298c5",
   "metadata": {
    "slideshow": {
     "slide_type": "subslide"
    }
   },
   "source": [
    "|constant|logarithm|linear|n-log-n|quadratic|cubic|exponential|\n",
    "|---|---|---|---|---|---|---|\n",
    "|1|$log(n)$|$n$| $nlogn$ |$n^2$|$n^3$|$a^n$| "
   ]
  },
  {
   "cell_type": "markdown",
   "id": "80e79493",
   "metadata": {
    "slideshow": {
     "slide_type": "subslide"
    }
   },
   "source": [
    "##### The Ceiling and Floor Functions\n",
    "  - $\\lceil x \\rceil =$  the largest integer less than or equal to $x$.\n",
    "  - $\\lfloor x \\rfloor =$ the smallest integer greater than or equal to $x$."
   ]
  },
  {
   "cell_type": "markdown",
   "id": "b3665be5",
   "metadata": {
    "slideshow": {
     "slide_type": "slide"
    }
   },
   "source": [
    "# 3.3 Asymptotic Analysis\n",
    "  - In algorithm analysis, we focus on the growth rate of the running time as a function of the input size $n$, taking a “big-picture” approach.\n",
    "  - For example, it is often enough just to know that the running time of an algorithm **grows proportionally** to $n$.\n",
    "   "
   ]
  },
  {
   "cell_type": "markdown",
   "id": "9a8a06f8",
   "metadata": {
    "slideshow": {
     "slide_type": "slide"
    }
   },
   "source": [
    "**A function that returns the maximum value of a Python list.**\n",
    "```python\n",
    "def find max(data):\n",
    "”””Return the maximum element from a nonempty Python list.””” \n",
    "biggest = data[0]                       # The initial value to beat\n",
    "for val in data:                        # For each value:\n",
    " if val > biggest                       # if it is greater than the best so far,\n",
    "        biggest = val                  # we have found a new best (so far)         \n",
    " return biggest                        # When loop ends, biggest is the max\n",
    "```"
   ]
  },
  {
   "cell_type": "markdown",
   "id": "434e4ac3",
   "metadata": {
    "slideshow": {
     "slide_type": "subslide"
    }
   },
   "source": [
    "This is a classic example of an algorithm with a running time that grows **proportional to $n$**, as the loop executes once for each data element, with some fixed number of primitive operations executing for each pass."
   ]
  },
  {
   "cell_type": "markdown",
   "id": "b92a8bd2",
   "metadata": {
    "slideshow": {
     "slide_type": "slide"
    }
   },
   "source": [
    "## 3.3.1 The “Big-Oh” Notation\n",
    "  \n",
    "  \n",
    "- Let $f(n)$ and $g(n)$ be functions mapping positive integers to positive real numbers. \n",
    "- We say that $f(n)$ is $O(g(n))$ \n",
    " - if there is a real constant $c > 0$ and \n",
    " - an integer constant $n_0 \\ge 1$ such that \n",
    "$$\n",
    "f(n)\\le cg(n) \n",
    "$$\n",
    "for $n\\ge n_0$.\n",
    " "
   ]
  },
  {
   "cell_type": "markdown",
   "id": "6292aa9b",
   "metadata": {
    "slideshow": {
     "slide_type": "subslide"
    }
   },
   "source": [
    "#### Example :  The function $8n + 5$ is $O(n)$.\n",
    "\n",
    "**Justification**: \n",
    " - By the big-Oh definition, we need to find a real constant $c > 0$ and an integer constant $n0\\ge 1$ such that $8n+5 \\le cn$ for every integer $n\\ge n_0$. \n",
    " - It is easy to see that a possible choice is $c = 9$ and $n_0 = 5$. \n",
    " - Indeed, this is one of infinitely many choices available because there is a trade-off between $c$ and $n_0$. \n",
    " - For example, we could rely on constants $c = 13$ and $n_0 = 1$."
   ]
  },
  {
   "cell_type": "markdown",
   "id": "b7f2416d",
   "metadata": {
    "slideshow": {
     "slide_type": "subslide"
    }
   },
   "source": [
    "##### Proposition: The algorithm, find max, for computing the maximum element of a list of n numbers, runs in O(n) time.\n",
    "\n",
    "**Justification**\n",
    "\n",
    " - The initialization before the loop begins requires only a constant number of primitive operations.\n",
    " - Each iteration of the loop also requires only a con- stant number of primitive operations. \n",
    " - The loop executes $n$ times.\n",
    " - The number of primitive operations being $c' + c\".n$ for appropriate constants $c'$ and $c\"$"
   ]
  },
  {
   "cell_type": "markdown",
   "id": "7cadba9e",
   "metadata": {
    "slideshow": {
     "slide_type": "subslide"
    }
   },
   "source": [
    "#### Example: $5n^4 +3n^3 +2n^2 +4n+1$ is $O(n4)$.\n",
    "\n",
    "**Justification**: Note that $5n^4+3n^3+2n^2+4n+1~~\\le(5+3+2+4+1)n^4 =cn^4$,\n",
    "for $c=15$,when $n\\ge n_0 =1$.\n",
    "\n",
    "Thus, the highest-degree term in a polynomial is the term that determines the asymptotic growth rate of that polynomial"
   ]
  },
  {
   "cell_type": "markdown",
   "id": "551c809f",
   "metadata": {
    "slideshow": {
     "slide_type": "subslide"
    }
   },
   "source": [
    "**Example**: $5n^2 +3n log n+2n+5$ is $O(n^2)$.\n",
    "\n",
    "**Example**: $20n^3 +10nlogn+5$ is $O(n^3)$.\n",
    "\n",
    "**Example**: $2^n+2$ is $O(2^n)$."
   ]
  },
  {
   "cell_type": "markdown",
   "id": "1c74ea86",
   "metadata": {
    "slideshow": {
     "slide_type": "slide"
    }
   },
   "source": [
    "### 3.3.2 Big-Omega Notation\n",
    "\n",
    "  \n",
    "- Let $f(n)$ and $g(n)$ be functions mapping positive integers to positive real numbers. \n",
    "- We say that $f(n)$ is $\\Omega(g(n))$ \n",
    " - if there is a real constant $c > 0$ and \n",
    " - an integer constant $n_0 \\ge 1$ such that \n",
    "$$\n",
    "f(n)\\ge cg(n) \n",
    "$$\n",
    "for $n\\ge n_0$."
   ]
  },
  {
   "cell_type": "markdown",
   "id": "818065fd",
   "metadata": {
    "slideshow": {
     "slide_type": "subslide"
    }
   },
   "source": [
    "#### Example: $3n log n − 2n$ is $\\Omega(n log n)$.\n",
    "\n",
    "**Justification**: $3nlogn−2n = nlogn+2n(logn−1) \\ge n log n$ for $n \\ge 2$; hence, we can take $c=1$ and $n_0 =2$ in this case."
   ]
  },
  {
   "cell_type": "markdown",
   "id": "de31c440",
   "metadata": {},
   "source": [
    "### 3.3.3 Big-Theta Notation\n",
    "\n",
    "  \n",
    "- Let $f(n)$ and $g(n)$ be functions mapping positive integers to positive real numbers. \n",
    "- We say that $f(n)$ is $\\Theta(g(n))$ if $f(n)$ is $O(g(n))$ and $f(n)$ is $\\Omega(g(n))$\n",
    " - if there is two real constant $c_1 > 0$ and $c_2 > 0$ and \n",
    " - an integer constant $n_0 \\ge 1$ such that \n",
    "$$\n",
    "c_1g(n) \\le f(n)\\ge c_2g(n) \n",
    "$$\n",
    "for $n\\ge n_0$."
   ]
  },
  {
   "cell_type": "markdown",
   "id": "0a1178db",
   "metadata": {},
   "source": [
    "#### Example: $3nlogn+4n+5logn$ is $\\Theta(nlogn)$.\n",
    "\n",
    "**Justification**: $3nlogn \\le 3nlogn+4n+5logn \\le (3+4+5)nlogn$ for $n \\ge 2$"
   ]
  },
  {
   "cell_type": "code",
   "execution_count": null,
   "id": "905af709",
   "metadata": {},
   "outputs": [],
   "source": []
  }
 ],
 "metadata": {
  "celltoolbar": "Slideshow",
  "kernelspec": {
   "display_name": "Python 3 (ipykernel)",
   "language": "python",
   "name": "python3"
  },
  "language_info": {
   "codemirror_mode": {
    "name": "ipython",
    "version": 3
   },
   "file_extension": ".py",
   "mimetype": "text/x-python",
   "name": "python",
   "nbconvert_exporter": "python",
   "pygments_lexer": "ipython3",
   "version": "3.9.6"
  }
 },
 "nbformat": 4,
 "nbformat_minor": 5
}
