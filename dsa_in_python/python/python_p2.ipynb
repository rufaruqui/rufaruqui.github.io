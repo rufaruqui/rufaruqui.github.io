{
 "cells": [
  {
   "cell_type": "markdown",
   "metadata": {
    "slideshow": {
     "slide_type": "slide"
    }
   },
   "source": [
    "## Namespaces\n",
    "\n",
    "\n",
    "* a namespace is a mapping from names to objects\n",
    "* a namespace can be implemented in different ways\n",
    " * currently most are implemented as dictionaries\n",
    "* there is no relation between names in different namespaces\n",
    "* a.b: b is an attribute of the object a\n",
    " * attributes can be read-only or writable\n",
    " * attributes may be deleted with del statement\n",
    "* namespaces are created at different times \n",
    "* namespaces can have different lifetimes\n",
    " * built-in names are contained in a namespace created at interpreter start up and never deleted\n",
    " * global namespace for a module \n",
    "* local namespace for a function is created at the function call\n",
    " * and forgotten when the function exit (i.e., return or raise an exception)\n",
    " \n",
    "\n",
    "## Scopes\n",
    "\n",
    "* a scope is a textual region where an unqualified reference to a name attempts to find the name in the namespace\n",
    "* scopes are determined statically but used dynamically\n",
    " * local names, non-local non-global names, global names, built-in names "
   ]
  },
  {
   "cell_type": "code",
   "execution_count": 9,
   "metadata": {},
   "outputs": [
    {
     "name": "stdout",
     "output_type": "stream",
     "text": [
      "name 'g0' is not defined\n",
      "\n",
      "g0 is scoped\n"
     ]
    }
   ],
   "source": [
    "def f0():\n",
    "    def g0():\n",
    "        return \"g0 is scoped\"\n",
    "    return g0()\n",
    "\n",
    "try:\n",
    "    g0()\n",
    "except NameError as err:\n",
    "    print(err)\n",
    "print(\"\\n\",f0(),sep=\"\")"
   ]
  },
  {
   "cell_type": "code",
   "execution_count": 170,
   "metadata": {
    "slideshow": {
     "slide_type": "subslide"
    }
   },
   "outputs": [
    {
     "name": "stdout",
     "output_type": "stream",
     "text": [
      "local assignment leaves var unchanged\n",
      "nonlocal assignment makes var change\n",
      "global assignment does not change var value in current scope\n",
      "global assignment changes var value in global scope\n"
     ]
    }
   ],
   "source": [
    "%reset -f\n",
    "# scope names\n",
    "def scope_test():\n",
    "    def do_local():\n",
    "        var = \"local\"\n",
    "\n",
    "    def do_nonlocal():\n",
    "        nonlocal var\n",
    "        var = \"change\"\n",
    "\n",
    "    def do_global():\n",
    "        global var\n",
    "        var = \"changes var value\"\n",
    "\n",
    "    var = \"unchanged\"\n",
    "    do_local()\n",
    "    print(\"local assignment leaves var\", var)\n",
    "    do_nonlocal()\n",
    "    print(\"nonlocal assignment makes var\", var)\n",
    "    do_global()\n",
    "    print(\"global assignment does not\", var,\"var value in current scope\")\n",
    "    \n",
    "scope_test()\n",
    "print(\"global assignment\", var,\"in global scope\")"
   ]
  },
  {
   "cell_type": "markdown",
   "metadata": {
    "slideshow": {
     "slide_type": "slide"
    }
   },
   "source": [
    "## Comprehensions\n",
    "\n",
    "* python can implement expressions that allow sequences to be built from other sequences\n",
    "* comprehensions consist of: \n",
    " * input sequence\n",
    " * variable representing members of the input sequence\n",
    " * optional predicate expression\n",
    " * output expression producing an output sequence\n",
    "* comprehensions can be made with: \n",
    " * list, nested list, set, dictionaries\n",
    " * generators (or generator comprehension)"
   ]
  },
  {
   "cell_type": "code",
   "execution_count": 65,
   "metadata": {
    "slideshow": {
     "slide_type": "subslide"
    }
   },
   "outputs": [
    {
     "name": "stdout",
     "output_type": "stream",
     "text": [
      "[2, 5, 4, 7, 6, 9]\n",
      "[5, 7, 6, 9]\n"
     ]
    }
   ],
   "source": [
    "%reset -f\n",
    "l1 = [0,1,2,3,4,5]\n",
    "l2 = [2,4,2,4,2,4]\n",
    "l1_p_l2 = [x+y for x,y in zip(l1,l2)] # list comprehension\n",
    "l1_p_l2_ = [x+y for x,y in zip(l1,l2) if x+y>4] # with predicate\n",
    "print(l1_p_l2)\n",
    "print(l1_p_l2_)"
   ]
  },
  {
   "cell_type": "code",
   "execution_count": 48,
   "metadata": {
    "slideshow": {
     "slide_type": "subslide"
    }
   },
   "outputs": [
    {
     "name": "stdout",
     "output_type": "stream",
     "text": [
      "\n",
      "v12[i]=1 if l1[i]=l2[i]\n",
      " ->  [0, 1, 0]\n",
      "\n",
      "m12[i][j]=1 if l1[i]=l2[j]\n",
      " ->  [[0, 0, 0], [0, 1, 0], [0, 0, 0]]\n"
     ]
    }
   ],
   "source": [
    "%reset -f\n",
    "l1 = [1,2,3]\n",
    "l2 = [0,2,4]\n",
    "# list comprehension\n",
    "v12 = [1 if i==j else 0 for i,j in zip(l1,l2)] # i==j vector 1 or 0\n",
    "# list comprehension can be nested\n",
    "m12 = [[1 if i==j else 0 for i in l1]\\\n",
    "                         for j in l2] # i==j matrix 1 or 0\n",
    "print(\"\\nv12[i]=1 if l1[i]=l2[i]\\n -> \", v12)\n",
    "print(\"\\nm12[i][j]=1 if l1[i]=l2[j]\\n -> \", m12)"
   ]
  },
  {
   "cell_type": "code",
   "execution_count": 51,
   "metadata": {
    "slideshow": {
     "slide_type": "subslide"
    }
   },
   "outputs": [
    {
     "name": "stdout",
     "output_type": "stream",
     "text": [
      "{'Minnie', 'Mickey'}\n"
     ]
    }
   ],
   "source": [
    "%reset -f\n",
    "names = ['Mickey','Minnie','Donald','Daisy','Goofy','Pluto']\n",
    "# set comprehension\n",
    "m_char_set = {name for name in names if name[0]=='M'} # M* characters\n",
    "print(m_char_set)"
   ]
  },
  {
   "cell_type": "code",
   "execution_count": 67,
   "metadata": {
    "slideshow": {
     "slide_type": "subslide"
    }
   },
   "outputs": [
    {
     "name": "stdout",
     "output_type": "stream",
     "text": [
      "{'Daisy', 'Donald'}\n"
     ]
    }
   ],
   "source": [
    "%reset -f\n",
    "names = {'Mickey':'mouse','Minnie':'mouse',\\\n",
    "         'Donald':'duck','Daisy':'duck',\\\n",
    "         'Goofy':'dog','Pluto':'dog'}\n",
    "# dictionary comprehension\n",
    "ducks_char_dict = {name for name in names if names[name]=='duck'}\n",
    "print(ducks_char_dict)"
   ]
  },
  {
   "cell_type": "markdown",
   "metadata": {
    "slideshow": {
     "slide_type": "subslide"
    }
   },
   "source": [
    "## Generator comprehension\n",
    "\n",
    "* generators are iterators that: \n",
    " * can be iterated only once \n",
    " * do not store values\n",
    " * generate values on the fly  "
   ]
  },
  {
   "cell_type": "code",
   "execution_count": 75,
   "metadata": {
    "slideshow": {
     "slide_type": "-"
    }
   },
   "outputs": [
    {
     "name": "stdout",
     "output_type": "stream",
     "text": [
      "squares is <generator object <genexpr> at 0x7f633aebe780> of type <class 'generator'>\n",
      "1st loop over squares -> [0, 1, 4, 9, 16, 25, 36, 49, 64, 81]\n",
      "2nd loop over squares -> []\n"
     ]
    }
   ],
   "source": [
    "%reset -f\n",
    "squares = (x*x for x in range(10))\n",
    "print(\"squares is\",squares,\"of type\", type(squares))\n",
    "print(\"1st loop over squares ->\",[i for i in squares])\n",
    "print(\"2nd loop over squares ->\",[i for i in squares])"
   ]
  },
  {
   "cell_type": "markdown",
   "metadata": {
    "slideshow": {
     "slide_type": "subslide"
    }
   },
   "source": [
    "## next keyword\n",
    "\n",
    "* retrieve the next item from an iterator "
   ]
  },
  {
   "cell_type": "code",
   "execution_count": 102,
   "metadata": {
    "slideshow": {
     "slide_type": "-"
    }
   },
   "outputs": [
    {
     "name": "stdout",
     "output_type": "stream",
     "text": [
      "0\n",
      "1\n",
      "4\n",
      "[]\n"
     ]
    }
   ],
   "source": [
    "%reset -f\n",
    "squares = (x*x for x in range(3))\n",
    "print(next(squares))\n",
    "print(next(squares))\n",
    "print(next(squares))\n",
    "print([i for i in squares])     "
   ]
  },
  {
   "cell_type": "markdown",
   "metadata": {
    "slideshow": {
     "slide_type": "subslide"
    }
   },
   "source": [
    "## yield keyword\n",
    "\n",
    "* can be used only in the body of a function definition\n",
    "* causes the function to return a generator \n",
    "* yield vs return\n",
    " * return transfers the control of execution to the point where the function was called\n",
    " * yield implies that the tranfer of control is temporary and voluntary\n",
    " * functions yield when they expects to regain control in the future\n",
    " * function with these capabilities are called generators\n",
    "* conceptually it performs the opposite operation of next(): \n",
    " * next retrieves an item and removes it from the generator\n",
    " * yield accumulates an item in the generator, ready to be iterated"
   ]
  },
  {
   "cell_type": "code",
   "execution_count": 113,
   "metadata": {
    "slideshow": {
     "slide_type": "-"
    }
   },
   "outputs": [
    {
     "name": "stdout",
     "output_type": "stream",
     "text": [
      "odds is [1, 3, 5, 7, 9] of type <class 'list'>\n",
      "1st loop over odds -> [1, 3, 5, 7, 9]\n",
      "2nd loop over odds -> [1, 3, 5, 7, 9]\n"
     ]
    }
   ],
   "source": [
    "%reset -f\n",
    "def odd_numbers(numbers):\n",
    "    odds = []\n",
    "    for x in numbers: \n",
    "        if x%2!=0:\n",
    "            odds.append(x)\n",
    "    return odds # odds contains ALL odd numbers\n",
    "\n",
    "odds = odd_numbers(range(10))       \n",
    "print(\"odds is\",odds,\"of type\", type(odds))\n",
    "print(\"1st loop over odds ->\",[i for i in odds])\n",
    "print(\"2nd loop over odds ->\",[i for i in odds])"
   ]
  },
  {
   "cell_type": "code",
   "execution_count": 114,
   "metadata": {
    "slideshow": {
     "slide_type": "-"
    }
   },
   "outputs": [
    {
     "name": "stdout",
     "output_type": "stream",
     "text": [
      "odds is <generator object odd_numbers at 0x7f635006a150> of type <class 'generator'>\n",
      "1st loop over odds -> [1, 3, 5, 7, 9]\n",
      "2nd loop over odds -> []\n"
     ]
    }
   ],
   "source": [
    "%reset -f\n",
    "def odd_numbers(numbers):\n",
    "    for x in numbers:\n",
    "        if x%2!=0:\n",
    "            yield x # x is one odd number \n",
    "            \n",
    "odds = odd_numbers(range(10))  \n",
    "print(\"odds is\",odds,\"of type\", type(odds))\n",
    "print(\"1st loop over odds ->\",[i for i in odds])\n",
    "print(\"2nd loop over odds ->\",[i for i in odds])"
   ]
  },
  {
   "cell_type": "markdown",
   "metadata": {},
   "source": [
    "## Lambda functions \n",
    "- anonymous functions\n",
    "- needs definition of keys (input parameters) "
   ]
  },
  {
   "cell_type": "code",
   "execution_count": 21,
   "metadata": {
    "slideshow": {
     "slide_type": "subslide"
    }
   },
   "outputs": [
    {
     "name": "stdout",
     "output_type": "stream",
     "text": [
      "17\n"
     ]
    }
   ],
   "source": [
    "%reset -f\n",
    "# ex. polynomial function\n",
    "def pol(w):\n",
    "    return  lambda x: sum([_w*(x**i) for i,_w in enumerate(w)])\n",
    "\n",
    "# a + b*x + c*x^2    \n",
    "p = pol([1,2,3])  # {a,b,c} = {1,2,3}   \n",
    "print(p(2))       # -> 1 + (2*2) + (3*(2*2)) = 17"
   ]
  },
  {
   "cell_type": "markdown",
   "metadata": {
    "slideshow": {
     "slide_type": "slide"
    }
   },
   "source": [
    "## Generic arguments functions \n",
    "\n",
    "- operator \\*: refers to positional arguments\n",
    "- and \\*\\*: : refers to keywords arguments"
   ]
  },
  {
   "cell_type": "code",
   "execution_count": 23,
   "metadata": {
    "slideshow": {
     "slide_type": "subslide"
    }
   },
   "outputs": [
    {
     "name": "stdout",
     "output_type": "stream",
     "text": [
      "Positional: ('1st', '2nd', '3rd')\tKeywords: {}\n",
      "Positional: ()\tKeywords: {'par1': '1st', 'par2': '2nd', 'par3': '3rd'}\n",
      "Positional: ('1st',)\tKeywords: {'par2': '2nd', 'par3': '3rd'}\n",
      "Positional: ('1', 's', 't', '_', 'p', 'o', 's')\tKeywords: {'par1': '1st_key', 'par2': '2nd_key'}\n",
      "Positional: ('1st_pos', '2st_pos', '3rd_pos')\tKeywords: {'par1': '1st_key', 'par2': '2nd_key'}\n"
     ]
    }
   ],
   "source": [
    "def foo(*positional, **keywords):\n",
    "    print(\"Positional:\", positional, end='\\t')\n",
    "    print(\"Keywords:\", keywords)\n",
    "    \n",
    "foo('1st', '2nd', '3rd')\n",
    "foo(par1='1st', par2='2nd', par3='3rd')\n",
    "foo('1st', par2='2nd', par3='3rd')\n",
    "foo(par1='1st_key',*'1st_pos', par2='2nd_key')\n",
    "foo(par1='1st_key',*['1st_pos'], par2='2nd_key',*['2st_pos','3rd_pos'])"
   ]
  },
  {
   "cell_type": "markdown",
   "metadata": {
    "slideshow": {
     "slide_type": "slide"
    }
   },
   "source": [
    "## The Standard Library: \"batteries included\" philosophy\n",
    "\n",
    "* operating system interface: os, shutil\n",
    "* file wildcards: glob\n",
    "* command line arguments: sys.argv\n",
    "* error output redirection: sys.stderr\n",
    "* regular expressions: re \n",
    "* math: math, random, statistics\n",
    "* sql query language: sqlite3\n",
    "* comma separated value format: csv\n",
    "* data interchange format: json\n",
    "* internet access: urllib.request, smtplib\n",
    "* dates and times: datetime\n",
    "* data compression: zlib, gzip, bz2, lzma, zipfile and tarfile\n",
    "* profiling performance: timeit, profile, pstats \n",
    "* quality control: doctest, unittest\n",
    "* ...\n"
   ]
  },
  {
   "cell_type": "markdown",
   "metadata": {},
   "source": [
    "## Import a module \n",
    "\n",
    "* import module \\[as\\] followed by a module name \n",
    " * imports the module referred as that name\n",
    " * customary but not required to place import statements at the beginning of a module/script\n",
    "* from import keywords \n",
    " * pros: less typing and more control over which items can be accessed \n",
    " * cons: lose context (i.e., you call fun() instead of module.fun()) \n",
    " * the namespace can be cluttered by import \\* (anything) \n",
    " \n",
    " \n",
    "```python \n",
    "import <module-name> [as <alias>] \n",
    "from <module-name> import <submodule>\n",
    "from <module-name> import * \n",
    "```"
   ]
  },
  {
   "cell_type": "code",
   "execution_count": null,
   "metadata": {
    "collapsed": true
   },
   "outputs": [],
   "source": [
    "import math\n",
    "\n",
    "print(\"\\nimport math\",\"# include math\"\\\n",
    "      \"\\n%reset -f\", \"# cleans the environment\")\n",
    "%reset -f\n",
    "\n",
    "print(\"\\nprint(dir())\", \"# math should not be listed\")\n",
    "print(dir())\n",
    "print(\"\\nimport math\", \"\")\n",
    "import math\n",
    "print(\"\\nprint(dir())\", \"# now math is listed\")\n",
    "print(dir())\n",
    "print(\"\\nprint(dir(math))\")\n",
    "print(dir(math))"
   ]
  },
  {
   "cell_type": "code",
   "execution_count": null,
   "metadata": {
    "collapsed": true
   },
   "outputs": [],
   "source": [
    "\n",
    "print(\"math.__name__ ->\",math.__name__)\n",
    "print(\"math.sin(math.pi/2) ->\",math.sin(math.pi/2),\"\\n\")\n",
    "\n",
    "import math as m\n",
    "print(\"import math as m\")\n",
    "print(\"m.__name__ ->\",m.__name__)\n",
    "print(\"m.sin(m.pi/2) ->\",m.sin(m.pi/2),\"\\n\")\n",
    "\n",
    "from math import sin\n",
    "print(\"from math import sin\")\n",
    "print(\"sin(3.14/2) ->\",sin(3.14/2),\"\\n\")\n",
    "\n",
    "from math import * # now I know pi!\n",
    "print(\"from math import * # now I know pi!\")\n",
    "print(\"pi is\",pi)"
   ]
  },
  {
   "cell_type": "markdown",
   "metadata": {
    "slideshow": {
     "slide_type": "slide"
    }
   },
   "source": [
    "## Modules \n",
    "\n",
    "* definitions in python files might be reused (i.e., imported) \n",
    " * those files are called modules\n",
    " * every python file is potentially a module\n",
    " * every module can be run as a script\n",
    "* global variable names are global within the module\n",
    "* modules have name, i.e. the file name without the suffix .py\n",
    "* module's name is assigned to the global variable \\__name\\__\n",
    " * when a module is run as a script, \\__name\\__ == \"\\__main\\__\"\n",
    "\n",
    "## Packages\n",
    "\n",
    "* a package is a module that contains other modules: any folder containing .py files can be a package\n",
    " * folders containing an \\__init\\__.py file (even empty) are packages for python \n",
    " * the \\__init\\__.py file prevents unintentionally hiding of names in the module search path\n",
    "\n",
    "#### subpackages and submodules are packages and modules contained by other packages or modules \n",
    "\n"
   ]
  },
  {
   "cell_type": "markdown",
   "metadata": {
    "slideshow": {
     "slide_type": "subslide"
    }
   },
   "source": [
    "## Structure of a python Package\n",
    "\n",
    "```txt\n",
    "package/\n",
    "    __init__.py\n",
    "    module1.py\n",
    "    module2.py\n",
    "    subpackage/\n",
    "        __init__.py\n",
    "        submodule1.py\n",
    "        submodule2.py\n",
    "```\n",
    "* --\n",
    "* packages are structured modules using \"dotted module names\"\n",
    " * A.B: A is a package named A while B is a subpackage (or submodule) named B\n",
    "* \\__init\\__.py can just be an empty file or execute initialization code for the package or set the \\__all\\__ variable\n",
    " * \\__all\\__ variable is a list of module names that are imported when \n",
    " ```python\n",
    "from package import * \n",
    "```\n"
   ]
  },
  {
   "cell_type": "code",
   "execution_count": 10,
   "metadata": {
    "slideshow": {
     "slide_type": "subslide"
    }
   },
   "outputs": [
    {
     "name": "stdout",
     "output_type": "stream",
     "text": [
      "\u001b[01;34mmodules/myFirstPackage/\u001b[00m\r\n",
      "├── biggerModule.py\r\n",
      "├── import_usefulSubModule_from_subPackage1.py\r\n",
      "├── __init__.py\r\n",
      "├── myFirstModule.py\r\n",
      "├── \u001b[01;34m__pycache__\u001b[00m\r\n",
      "├── runModuleAsScript.py\r\n",
      "├── \u001b[01;34msubPackage_1\u001b[00m\r\n",
      "│   ├── __init__.py\r\n",
      "│   ├── \u001b[01;34m__pycache__\u001b[00m\r\n",
      "│   └── usefulSubModule.py\r\n",
      "├── \u001b[01;34msubPackage_2\u001b[00m\r\n",
      "│   ├── __init__.py\r\n",
      "│   ├── needs_subPackage_1.py\r\n",
      "│   └── \u001b[01;34m__pycache__\u001b[00m\r\n",
      "└── \u001b[01;34msubPackage_3\u001b[00m\r\n",
      "    ├── __init__.py\r\n",
      "    ├── needs_subPackage_1.py\r\n",
      "    └── \u001b[01;34m__pycache__\u001b[00m\r\n",
      "\r\n",
      "7 directories, 11 files\r\n"
     ]
    }
   ],
   "source": [
    "!tree modules/myFirstPackage/"
   ]
  },
  {
   "cell_type": "markdown",
   "metadata": {
    "slideshow": {
     "slide_type": "subslide"
    }
   },
   "source": [
    "## .pyc files and \\_\\_pycache\\_\\_ folder\n",
    "\n",
    "* what are .pyc files?\n",
    " * .pyc contain the compiled bytecode of Python source files\n",
    " * python interpreter prefers loading .pyc \n",
    "* a .pyc is created\n",
    " * only for an imported .py \n",
    " * only if its timestamp differs from .py 's \n",
    "* why .pyc?\n",
    " * the execution time would not change...\n",
    " * but loading time is shorter for a .pyc file \n",
    " * small scripts may spend more time in loading/compiling than in executing\n",
    "* \\__pycache\\__ was introduced in python3.2 to store the .pyc files\n",
    " * different python implementations store in there with different desinences (e.g., \"cpython-35\")\n",
    " * the .pyc file in the same folder of .py is the one loaded (it is a renamed copy for the proper python implementation)"
   ]
  },
  {
   "cell_type": "markdown",
   "metadata": {
    "slideshow": {
     "slide_type": "subslide"
    }
   },
   "source": [
    "### [modules/myFirstPackage/myFirstModule.py](modules/myFirstPackage/myFirstModule.py)\n",
    "``` python\n",
    "def f0():\n",
    "    return f1() # f1 is in scope\n",
    "\n",
    "def f1():\n",
    "    return __name__\n",
    "```"
   ]
  },
  {
   "cell_type": "code",
   "execution_count": 1,
   "metadata": {
    "slideshow": {
     "slide_type": "subslide"
    }
   },
   "outputs": [
    {
     "name": "stdout",
     "output_type": "stream",
     "text": [
      "\n",
      "List imported modules: f0\t f1\t \n",
      "\n",
      "modules.myFirstPackage.myFirstModule\n"
     ]
    }
   ],
   "source": [
    "%reset -f\n",
    "from modules.myFirstPackage.myFirstModule import * # this means f0 and f1\n",
    "print('\\nList imported modules:',end=\" \")\n",
    "%who\n",
    "\n",
    "print(\"\\n\",f0(),sep=\"\")"
   ]
  },
  {
   "cell_type": "code",
   "execution_count": 13,
   "metadata": {
    "slideshow": {
     "slide_type": "subslide"
    }
   },
   "outputs": [
    {
     "name": "stdout",
     "output_type": "stream",
     "text": [
      "\n",
      "List imported modules: m1\t \n",
      "\n",
      "modules.myFirstPackage.myFirstModule\n"
     ]
    }
   ],
   "source": [
    "%reset -f\n",
    "import modules.myFirstPackage.myFirstModule as m1\n",
    "print('\\nList imported modules:',end=\" \")\n",
    "%who\n",
    "\n",
    "print(\"\\n\",m1.f0(),sep=\"\") # __name__ != \"__main__\" "
   ]
  },
  {
   "cell_type": "markdown",
   "metadata": {
    "slideshow": {
     "slide_type": "subslide"
    }
   },
   "source": [
    "## Run module as a script\n",
    "\n",
    "* \\__name\\__ changes to \"\\__main\\__\"\n",
    "\n",
    "### [modules/runModuleAsScript.py](modules/runModuleAsScript.py)\n",
    "``` python\n",
    "import myFirstModule as m\n",
    "\n",
    "def f0():\n",
    "    return __name__\n",
    "\n",
    "def f1():\n",
    "    return m.__name__\n",
    "\n",
    "if __name__ == \"__main__\": \n",
    "    print(\"this module's name is \"+f0())\n",
    "    print(\"sys module's name is \"+f1())\n",
    "```"
   ]
  },
  {
   "cell_type": "code",
   "execution_count": 78,
   "metadata": {
    "slideshow": {
     "slide_type": "subslide"
    }
   },
   "outputs": [
    {
     "name": "stdout",
     "output_type": "stream",
     "text": [
      " -----  I am running MyFirstModule.py as a module -----  \r\n",
      "this module's name is __main__\r\n",
      "sys module's name is myFirstModule\r\n"
     ]
    }
   ],
   "source": [
    "! python modules/myFirstPackage/runModuleAsScript.py"
   ]
  },
  {
   "cell_type": "markdown",
   "metadata": {
    "slideshow": {
     "slide_type": "subslide"
    }
   },
   "source": [
    "## \\__all\\__ list \n",
    "\n",
    "* \\__all\\__ overrides * during import \n",
    "\n",
    "### [modules/myFirstPackage/biggerModule.py](modules/myFirstPackage/biggerModule.py)\n",
    "\n",
    "```python\n",
    "__all__=['f0'] \n",
    "\n",
    "def f0():\n",
    "    return \n",
    "\n",
    "def f1():\n",
    "    return \n",
    "\n",
    "def f2():\n",
    "    return \n",
    "```"
   ]
  },
  {
   "cell_type": "code",
   "execution_count": 5,
   "metadata": {
    "slideshow": {
     "slide_type": "subslide"
    }
   },
   "outputs": [
    {
     "name": "stdout",
     "output_type": "stream",
     "text": [
      "\n",
      "List imported modules: f0\t \n"
     ]
    }
   ],
   "source": [
    "%reset -f \n",
    "from modules.myFirstPackage.biggerModule import * # __all__ is imported\n",
    "print('\\nList imported modules:',end=\" \")\n",
    "%who\n"
   ]
  },
  {
   "cell_type": "markdown",
   "metadata": {
    "slideshow": {
     "slide_type": "subslide"
    }
   },
   "source": [
    "## Intra-package references\n",
    "\n",
    "* relative imports use a module's \\__name\\__ to determine module's position in the package hierarchy \n",
    "\n",
    "### [modules/myFirstPackage/subPackage_1/usefulSubModule.py](modules/myFirstPackage/subPackage_1/usefulSubModule.py)\n",
    "```python\n",
    "def usefulFunction():\n",
    "    return \"I can use this usefulFunction\"\n",
    "```\n",
    "### [modules/myFirstPackage/import_usefulSubModule_from_subPackage1.py](modules/myFirstPackage/import_usefulSubModule_from_subPackage1.py)\n",
    "```python\n",
    "import subPackage_1.usefulSubModule as sm\n",
    "\n",
    "if __name__ == \"__main__\": \n",
    "    print(sm.usefulFunction())\n",
    "```"
   ]
  },
  {
   "cell_type": "code",
   "execution_count": 24,
   "metadata": {
    "slideshow": {
     "slide_type": "subslide"
    }
   },
   "outputs": [
    {
     "name": "stdout",
     "output_type": "stream",
     "text": [
      "biggerModule.py\t\t\t\t    myFirstModule.py\t  subPackage_1\n",
      "import_usefulSubModule_from_subPackage1.py  __pycache__\t\t  subPackage_2\n",
      "__init__.py\t\t\t\t    runModuleAsScript.py  subPackage_3\n",
      "\n",
      "__init__.py  __pycache__  usefulSubModule.py\n",
      "\n",
      "I can use this usefulFunction\n"
     ]
    }
   ],
   "source": [
    "!ls modules/myFirstPackage/\n",
    "print()\n",
    "!ls modules/myFirstPackage/subPackage_1/\n",
    "print()\n",
    "!python modules/myFirstPackage/import_usefulSubModule_from_subPackage1.py"
   ]
  },
  {
   "cell_type": "markdown",
   "metadata": {
    "slideshow": {
     "slide_type": "subslide"
    }
   },
   "source": [
    "## Issue while importing top packages \n",
    "\n",
    "* ValueError for relative import \n",
    " * scripts can't import relative because \\__name\\__ is \\__main\\__\n",
    " * relative import makes sense only for a package\n",
    "* place scripts that runs the module outside the package directory\n",
    "\n",
    "### [modules/myFirstPackage/subPackage_2/needs_subPackage_1.py](modules/myFirstPackage/subPackage_2/needs_subPackage_1.py)\n",
    "```python\n",
    "from ..subPackage_1 import usefulSubModule as s\n",
    "\n",
    "def f0():\n",
    "    return s.usefulFunction()\n",
    "\n",
    "if __name__ == \"__main__\":\n",
    "    print(f0())\n",
    "```\n",
    "\n",
    "### [modules/test_relative_paths.py ](modules/test_relative_paths.py )\n",
    "```python\n",
    "import myFirstPackage.subPackage_2.needs_subPackage_1 as s\n",
    "\n",
    "if __name__ == \"__main__\":\n",
    "    print(s.f0())\n",
    "```"
   ]
  },
  {
   "cell_type": "code",
   "execution_count": 7,
   "metadata": {
    "slideshow": {
     "slide_type": "-"
    }
   },
   "outputs": [
    {
     "name": "stdout",
     "output_type": "stream",
     "text": [
      "Traceback (most recent call last):\r\n",
      "  File \"modules/myFirstPackage/subPackage_2/needs_subPackage_1.py\", line 1, in <module>\r\n",
      "    from ..subPackage_1 import usefulSubModule as s\r\n",
      "ValueError: attempted relative import beyond top-level package\r\n"
     ]
    }
   ],
   "source": [
    "!python modules/myFirstPackage/subPackage_2/needs_subPackage_1.py"
   ]
  },
  {
   "cell_type": "code",
   "execution_count": 58,
   "metadata": {
    "slideshow": {
     "slide_type": "-"
    }
   },
   "outputs": [
    {
     "name": "stdout",
     "output_type": "stream",
     "text": [
      "I can use this usefulFunction\r\n"
     ]
    }
   ],
   "source": [
    "!python modules/test_relative_paths.py"
   ]
  },
  {
   "cell_type": "markdown",
   "metadata": {
    "slideshow": {
     "slide_type": "subslide"
    }
   },
   "source": [
    "## PYTHONPATH \n",
    "\n",
    "* default search path for module files\n",
    "* the format is the same as the shell’s PATH\n",
    " * one or more directory pathnames separated by os.pathsep\n",
    "* the search path can be manipulated from within a Python program as the variable sys.path \n",
    " * using modules os and sys you can add package path into subpackages and submodules\n",
    " \n",
    "### [modules/myFirstPackage/subPackage_3/needs_subPackage_1.py ](modules/myFirstPackage/subPackage_3/needs_subPackage_1.py )\n",
    "```python\n",
    "import os,sys\n",
    "file_path = os.path.abspath(__file__)\n",
    "this_subpackage_path = os.path.split(file_path)[0]\n",
    "this_package_path = os.path.join(this_subpackage_path,'../..')\n",
    "sys.path.insert(0, this_package_path)\n",
    "\n",
    "from myFirstPackage.subPackage_1 import usefulSubModule as s\n",
    "\n",
    "def f0():\n",
    "    return s.usefulFunction()\n",
    "if __name__ == \"__main__\":\n",
    "    print(f0())\n",
    "```"
   ]
  },
  {
   "cell_type": "code",
   "execution_count": 25,
   "metadata": {
    "slideshow": {
     "slide_type": "-"
    }
   },
   "outputs": [
    {
     "name": "stdout",
     "output_type": "stream",
     "text": [
      "I can use this usefulFunction\r\n"
     ]
    }
   ],
   "source": [
    "!python modules/myFirstPackage/subPackage_3/needs_subPackage_1.py"
   ]
  },
  {
   "cell_type": "markdown",
   "metadata": {
    "slideshow": {
     "slide_type": "slide"
    }
   },
   "source": [
    "## Object Oriented Programming in Python\n",
    "\n",
    "* a class is a mean to bundle data and functionalities together \n",
    " * each class instance has attributes attached to it for maintaining its state\n",
    " * each class instance has methodes fot modifying its states\n",
    " * creating a new class creates a new type of object\n",
    "* objects can contain arbitrary amounts and kinds of data\n",
    "* classes are created at runtime and can be modified after creation\n"
   ]
  },
  {
   "cell_type": "markdown",
   "metadata": {
    "slideshow": {
     "slide_type": "subslide"
    }
   },
   "source": [
    "## Class definition syntax\n",
    "```python\n",
    "class ClassName(<base_class>):\n",
    "    '''\n",
    "    docstring (documentation)\n",
    "    '''\n",
    "    <statement-1>\n",
    "    ...\n",
    "    <statement-N>\n",
    "```\n"
   ]
  },
  {
   "cell_type": "code",
   "execution_count": 29,
   "metadata": {
    "slideshow": {
     "slide_type": "subslide"
    }
   },
   "outputs": [
    {
     "name": "stdout",
     "output_type": "stream",
     "text": [
      "0\n",
      "0\n",
      "25\n",
      "20\n"
     ]
    }
   ],
   "source": [
    "%reset -f\n",
    "class square():\n",
    "    \"\"\"\n",
    "    get one side, compute perimeter and area\n",
    "    \"\"\"\n",
    "    side = 0\n",
    "    def area(self):      return self.side**2\n",
    "    def perimeter(self): return 4*self.side\n",
    "    \n",
    "s = square()\n",
    "print(s.area())      # equal to 0\n",
    "print(s.perimeter()) # equal to 0\n",
    "s.side = 5    # <-- setting side = 5\n",
    "print(s.area())      # equal to 25\n",
    "print(s.perimeter()) # equal to 20"
   ]
  },
  {
   "cell_type": "markdown",
   "metadata": {},
   "source": [
    "## Class features\n",
    "\n",
    "* when a class definition is entered a new namespace is created and used as local scope\n",
    " * all assignments to local variables go into this new namespace\n",
    " * self.name refers to the name of this new namespace \n",
    "* class support two operations: \n",
    " * obj.name: attribute references (as for namespace)\n",
    " * inst = obj(): class instantiation to create a new instance of the class  \n",
    "* base_class: the class from which ClassName inherits all references \n",
    "* object keyword: basic object in python\n",
    " * in python 2.x inheriting from object includes perks\n",
    " * in python 3.x all classes inherits from objects by default\n",
    " * for code compatibility it is suggested to explicitly inherit from object\n",
    "\n",
    "## Special attributes \n",
    "\n",
    "* \\__init\\__(self\\[,...\\]): automatically invoked by class instantiation (i.e., the constructor)\n",
    "* \\__del\\__(self): automatically invoked when the object should be destroyed (i.e., the destructor) \n",
    "* \\__doc\\__: docstring of the class\n",
    "* \\__class\\__: reference to the type of the current instance\n",
    "* \\__str\\__(self), \\__repr\\__(self): called by print(obj)\n",
    "* \\__bases\\__: tuple with all base classes"
   ]
  },
  {
   "cell_type": "code",
   "execution_count": 50,
   "metadata": {
    "slideshow": {
     "slide_type": "subslide"
    }
   },
   "outputs": [
    {
     "name": "stdout",
     "output_type": "stream",
     "text": [
      "25\n",
      "20\n",
      "area=25 perimeter=20\n",
      "36\n",
      "24\n",
      "area=36 perimeter=24\n"
     ]
    }
   ],
   "source": [
    "%reset -f\n",
    "class square(object):\n",
    "    \"\"\"\n",
    "    get one side, compute perimeter and area\n",
    "    \"\"\"\n",
    "    def __init__(self,side): self.side = side\n",
    "    def __str__(self): \n",
    "        return \"area=\"+str(self.area())+\" perimeter=\"+str(self.perimeter())\n",
    "    def area(self):      return self.side**2\n",
    "    def perimeter(self): return 4*self.side\n",
    "    \n",
    "sq = [square(5), square(6)]\n",
    "for s in sq:\n",
    "    print(s.area())      # equal to ...\n",
    "    print(s.perimeter()) # equal to ...\n",
    "    print(s) # calls __str__ or __repr__\n"
   ]
  },
  {
   "cell_type": "markdown",
   "metadata": {
    "slideshow": {
     "slide_type": "subslide"
    }
   },
   "source": [
    "## Class and Instance variables\n",
    "\n",
    "* instance variables are for data unique to each instance\n",
    "* class variables are shared by all instances of the class\n",
    "\n",
    "## Method objects\n",
    "\n",
    "* the first argument in method definition links the object itself (i.e., the C++ this)\n",
    " * using self for this argument is just a (very common) convention \n",
    " * this argument should not be passed to method, if the method definition is inside the class statement\n",
    "* a method with no arguments cannot be called by the class instances\n",
    " * can be used just by the class itself (i.e., \\__class\\__)\n",
    "* methods (functions in general) can be assigned to a name"
   ]
  },
  {
   "cell_type": "code",
   "execution_count": 47,
   "metadata": {},
   "outputs": [
    {
     "name": "stdout",
     "output_type": "stream",
     "text": [
      "create this class\n",
      "call this fun\n",
      "call this other fun\n",
      "delete this class\n"
     ]
    }
   ],
   "source": [
    "%reset -f\n",
    "class myClass(object):\n",
    "    def __init__(self): print(\"create this class\")\n",
    "    def __del__(self):  print(\"delete this class\")\n",
    "    def fun(self):      return \"call this fun\"    \n",
    "    def fun2():         return \"call this other fun\"  \n",
    "    \n",
    "\n",
    "def do_stuff():        \n",
    "    o = myClass()\n",
    "    print(o.fun())\n",
    "    print(o.__class__.fun2()) # fun2 does not have a reference to class, cannot be called by object o\n",
    "\n",
    "do_stuff()  "
   ]
  },
  {
   "cell_type": "markdown",
   "metadata": {
    "slideshow": {
     "slide_type": "subslide"
    }
   },
   "source": [
    "## Operators overloading\n",
    "\n",
    "### Math operators\n",
    "\n",
    "* \\__add\\__(self, other): +\n",
    "* \\__mul\\__(self, other): *\n",
    "* \\__sub\\__(self, other): -\n",
    "* \\__mod\\__(self, other): %\n",
    "* \\__truediv\\__(self, other): /\n",
    "\n",
    "### Comparison operators\n",
    "\n",
    "* \\__eq\\__(self, other): ==\n",
    "* \\__ne\\__(self, other): !=\n",
    "* \\__lt\\__(self, other): <\n",
    "* \\__le\\__(self, other): <=\n",
    "* \\__gt\\__(self, other): >\n",
    "* \\__ge\\__(self, other): >= \n",
    "\n",
    "### Others\n",
    "\n",
    "* \\__len\\__(self): len \n",
    "* \\__bool\\__(self): invoked by if statement of bool function  \n",
    "* \\__nonzero\\__(self): as \\__bool\\__(self) for python2\n",
    "* \\__iter\\__(self): invoked by loops\n",
    "* \\__contains\\__(self, value): invoked by in\n",
    "* \\__getitem\\__(self, key): invoked by reading obj\\[key\\]\n",
    "* \\__setitem\\__(self, key,value): invoked by writing obj\\[key\\]\n",
    "* \\__delitem\\__(self, key): invoked by deleting obj\\[key\\]"
   ]
  },
  {
   "cell_type": "code",
   "execution_count": 54,
   "metadata": {
    "slideshow": {
     "slide_type": "subslide"
    }
   },
   "outputs": [
    {
     "name": "stdout",
     "output_type": "stream",
     "text": [
      "False\n",
      "3\n",
      "__bool__ (or __nonzero__) was invoked by if\n"
     ]
    }
   ],
   "source": [
    "%reset -f\n",
    "class mynum(object):\n",
    "    def __init__(self,value):\n",
    "        self.value = value\n",
    "    def __eq__(self,other):\n",
    "        return self.value==other.value\n",
    "    def __add__(self,other):\n",
    "        return self.value+other.value\n",
    "    def __bool__(self): \n",
    "        print(\"__bool__ (or __nonzero__) was invoked\",end=\" \")\n",
    "        return True\n",
    "    __nonzero__=__bool__ # compatible with python2\n",
    "    \n",
    "a = mynum(1)\n",
    "b = mynum(2)\n",
    "print(a==b) #1==2: False\n",
    "print(a+b)  #3   \n",
    "if a: print(\"by if\")"
   ]
  },
  {
   "cell_type": "code",
   "execution_count": 60,
   "metadata": {
    "slideshow": {
     "slide_type": "subslide"
    }
   },
   "outputs": [
    {
     "name": "stdout",
     "output_type": "stream",
     "text": [
      "l is <class '__main__.mylist'>\n",
      "[0, 1, 2, 3, 4, 5]\n",
      "3\n",
      "-3\n",
      "0;1;2;4;5;\n",
      "len(l): 5\n"
     ]
    }
   ],
   "source": [
    "%reset -f\n",
    "class mylist(object):\n",
    "    def __init__(self,l=[]):         self.list=l\n",
    "    def __len__(self):               return len(self.list)\n",
    "    def __setitem__(self,idx,value): self.list[idx]=value\n",
    "    def __getitem__(self,idx):       return self.list[idx]\n",
    "    def __delitem__(self,idx): # bugged if idx==-1: why?\n",
    "        self.list=self.list[0:idx]+self.list[idx+1:]\n",
    "    def __iter__(self):              return self.list.__iter__()\n",
    "    def __contains__(self,value):    return value in self.list\n",
    "    def __str__(self):               return str(self.list)\n",
    "    def append(self,*args):          [self.list.append(arg) for arg in args]\n",
    "\n",
    "l = mylist([0,1,2]) # use __init__\n",
    "print('l is',type(l))\n",
    "l.append(3,4,5) # use append\n",
    "\n",
    "print(l)    # use __str__\n",
    "print(l[3]) # use __getitem__ and __str__\n",
    "\n",
    "l[3]=-3     # use __setitem__\n",
    "\n",
    "print(l[3]) \n",
    "del l[3]    # use __delitem__\n",
    "for i in l: # use __iter__ and __contains__\n",
    "    print(i,end=';')\n",
    "print(\"\\nlen(l):\",len(l)) # use __len__ and __str__\n"
   ]
  },
  {
   "cell_type": "markdown",
   "metadata": {
    "slideshow": {
     "slide_type": "subslide"
    }
   },
   "source": [
    "## Important remarks \n",
    "\n",
    "* attributes can be defined outside of the class statement\n",
    " * users can add new attributes that were not defined by developers\n",
    "* attributes can be overriden!!\n",
    " * developers should avoid name conflicts\n",
    " * users should use data attributes with care\n",
    "* methods is an attribute: it can also be defined outside of the class statement\n",
    " * methods defined inside override methods defined outside\n",
    " * last inside definitions override previous definitions\n",
    " * data attributes override method attributes "
   ]
  },
  {
   "cell_type": "code",
   "execution_count": 69,
   "metadata": {
    "slideshow": {
     "slide_type": "subslide"
    }
   },
   "outputs": [
    {
     "name": "stdout",
     "output_type": "stream",
     "text": [
      "{'attr1', 'attr2'}\n"
     ]
    }
   ],
   "source": [
    "%reset -f \n",
    "class empty(): \n",
    "    pass # this class is empty\n",
    "         # still a user could add new attributes \n",
    "\n",
    "e = empty()\n",
    "pre = dir(e)\n",
    "e.attr1=1         # user is defining a new attribute \n",
    "e.attr2='attr2'   # user is defining a new attribute\n",
    "post = dir(e)\n",
    "print(set(post)-set(pre))"
   ]
  },
  {
   "cell_type": "code",
   "execution_count": 75,
   "metadata": {
    "slideshow": {
     "slide_type": "subslide"
    }
   },
   "outputs": [
    {
     "name": "stdout",
     "output_type": "stream",
     "text": [
      "inside\n",
      "outside\n"
     ]
    }
   ],
   "source": [
    "%reset -f \n",
    "def f(self): return \"outside\" \n",
    "class dumb(object):    \n",
    "    def f(self): return \"inside\" # methods defined inside override methods defined outside \n",
    "\n",
    "d = dumb()\n",
    "print(d.f()) # invokes the inside definition\n",
    "d.f = f\n",
    "print(d.f(d)) # invokes the inside definition"
   ]
  },
  {
   "cell_type": "markdown",
   "metadata": {
    "slideshow": {
     "slide_type": "slide"
    }
   },
   "source": [
    "## exercises to do \n",
    "\n",
    "* define Point(...): \n",
    " * receives a list of two numeric values (i.e.: the coordinates), otherwise raise err\n",
    " * method isnumeric(self,c): returns c if numeric, otherwise raise err\n",
    " * method is2D(self,coord): returns coord if Point is 2D, otherwise raise err\n",
    "* define Shape(...): \n",
    " * receives a list of type Point, otherwise raise err\n",
    " * method ispoint(self,p): returns p if Point, otherwise raise err\n",
    " * define any other method you may need\n",
    "* define Circle(...), Segment(...), Triangle(...): \n",
    " * Circle.\\__init\\__(self,center,radius): center is a Point (only 1 Point), radius is a numeric, otherwise raise err\n",
    " * Segment.\\__init\\__(self,points): points is a list of 2 only Points, otherwise raise err\n",
    " * Triangle.\\__init\\__(self,points): points is a list of 3 only Points, otherwise raise err\n",
    " * method checkNpoints(...): raise err if an instance was defined with the wrong number of points\n",
    " * method calc_perimeter(self): returns the value of perimeter \n",
    " * method calc_area(self): returns the value of the area\n",
    " * define any other method you may need\n",
    " \n",
    "#### follow the order for implementation (and use inheritance and super())\n",
    "#### cause exceptions of type Lecture2Err when raising an error\n"
   ]
  },
  {
   "cell_type": "markdown",
   "metadata": {
    "slideshow": {
     "slide_type": "slide"
    }
   },
   "source": [
    "### EXTRA"
   ]
  },
  {
   "cell_type": "markdown",
   "metadata": {
    "slideshow": {
     "slide_type": "slide"
    }
   },
   "source": [
    "## Functional programming paradigm \n",
    "\n",
    "* a sequence is any iterable object \n",
    " * iterables are objects that contain an \\__iter\\__ or \\__getitem\\__ method\n",
    " * you can retreive an iterable using an iterator\n",
    " * iterators are objects that define a \\__next\\__ method\n",
    "* a container is an iterable, hence a sequence (the reverse is not true)\n",
    "* ex: range(0,1e10) does not return a container but an iterable: \n",
    " * it does not contain 1e10 elements!\n",
    " * it generates the value one after the other\n",
    "\n",
    "* this paradigm is based on three built-in functions\n",
    " * filter(cond,seq): applies a condition to a sequence\n",
    " * map(fun,seq): applies a function to all elements of a sequence\n",
    " * functools.reduce(fun,seq): applies function of two arguments to the items of a sequence\n",
    "* filter and map return iterables (not lists or tuples)\n",
    "* functools.reduce returns a single value\n",
    "* advantage: the order of execution is not important"
   ]
  },
  {
   "cell_type": "code",
   "execution_count": 18,
   "metadata": {
    "slideshow": {
     "slide_type": "subslide"
    }
   },
   "outputs": [
    {
     "name": "stdout",
     "output_type": "stream",
     "text": [
      "l:       \n",
      "  [0, 1, 2, 3, 4, 5, 6, 7, 8, 9]\n",
      "l%2:     \n",
      "  [1, 3, 5, 7, 9]\n",
      "l<5:     \n",
      "  [0, 1, 2, 3, 4]\n",
      "el%2:    \n",
      "  [0, 1, 0, 1, 0, 1, 0, 1, 0, 1]\n",
      "el<5:    \n",
      "  [True, True, True, True, True, False, False, False, False, False]\n",
      "el<el+1: \n",
      "  [True, True, True, True, True, True, True, True, True, True]\n",
      "sum(el): \n",
      "  45\n"
     ]
    }
   ],
   "source": [
    "%reset -f\n",
    "import functools\n",
    "l  = list(range(10))               # 0,1,...,9\n",
    "l2 = list(filter(lambda x: x%2,l)) # 1,3,5,7,9\n",
    "l3 = list(filter(lambda x: x<5,l)) # 1,2,3,4,5\n",
    "l4 = list(map(lambda x: x%2,l))  # 10 elements 1 or 0\n",
    "l5 = list(map(lambda x: x<5,l))  # 10 elements True or False\n",
    "lp1 = list(map(lambda x: x+1,l)) # 10 elements l+1\n",
    "l6 = list(map(lambda x,y: x<y,l,lp1)) # 10 elements all True\n",
    "l7 = functools.reduce(lambda x,y: x+y,l) # y is next(x)\n",
    "\n",
    "print('l:       \\n  {}'.format(l))\n",
    "print('l%2:     \\n  {}'.format(l2))\n",
    "print('l<5:     \\n  {}'.format(l3))\n",
    "print('el%2:    \\n  {}'.format(l4))\n",
    "print('el<5:    \\n  {}'.format(l5))\n",
    "print('el<el+1: \\n  {}'.format(l6))\n",
    "print('sum(el): \\n  {}'.format(l7))"
   ]
  }
 ],
 "metadata": {
  "celltoolbar": "Slideshow",
  "kernelspec": {
   "display_name": "Python 3",
   "language": "python",
   "name": "python3"
  },
  "language_info": {
   "codemirror_mode": {
    "name": "ipython",
    "version": 3
   },
   "file_extension": ".py",
   "mimetype": "text/x-python",
   "name": "python",
   "nbconvert_exporter": "python",
   "pygments_lexer": "ipython3",
   "version": "3.6.5"
  }
 },
 "nbformat": 4,
 "nbformat_minor": 2
}