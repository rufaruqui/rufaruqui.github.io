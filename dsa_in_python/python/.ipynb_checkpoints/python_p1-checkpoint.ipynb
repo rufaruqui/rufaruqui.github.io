{
 "cells": [
  {
   "cell_type": "markdown",
   "metadata": {
    "slideshow": {
     "slide_type": "slide"
    }
   },
   "source": [
    "![](figures/python-logo.png)\n",
    "\n",
    "## Python features\n",
    "* Easy to use and learn \n",
    " * Readability \n",
    "* Interpreted language \n",
    " * Portability "
   ]
  },
  {
   "cell_type": "markdown",
   "metadata": {
    "slideshow": {
     "slide_type": "slide"
    }
   },
   "source": [
    "## Python2/Python3\n",
    "\n",
    "* Two main branches:\n",
    " * python2: it is the legacy, surely maintained, but will not undergo updates / evolution\n",
    " * python3: it is the future of python, still less used compared to python2. \n",
    "* We aim to use python3"
   ]
  },
  {
   "cell_type": "markdown",
   "metadata": {
    "slideshow": {
     "slide_type": "slide"
    }
   },
   "source": [
    "## What is jupyter (formerly ipython) notebook? \n",
    "* this document is a jupyter notebook\n",
    "* flexible tool to create readable documents that embed:\n",
    " * code\n",
    " * images\n",
    " * comments\n",
    " * formulas\n",
    " * plots\n",
    "* jupyter supports notebooks form many different languages (including python, julia and R) \n",
    "* each document runs a computational engine that executes the code written in the cells\n"
   ]
  },
  {
   "cell_type": "markdown",
   "metadata": {
    "slideshow": {
     "slide_type": "slide"
    }
   },
   "source": [
    "## Python interpreter\n",
    "* Compile source to bytecode then execute it on a virtual machine \n",
    "* Survives any execution error, even in case of syntax errors\n",
    " * in python also indentation is syntax\n",
    "* expression is code that returns an object \n",
    "* if no error, the prompt (\">>>\") automatically: \n",
    " * prints the result on screen\n",
    " * assigns the result to \"_\"\n"
   ]
  },
  {
   "cell_type": "code",
   "execution_count": 1,
   "metadata": {
    "slideshow": {
     "slide_type": "-"
    }
   },
   "outputs": [
    {
     "data": {
      "text/plain": [
       "12345"
      ]
     },
     "execution_count": 1,
     "metadata": {},
     "output_type": "execute_result"
    }
   ],
   "source": [
    "# expression that returns something\n",
    "12345"
   ]
  },
  {
   "cell_type": "code",
   "execution_count": 2,
   "metadata": {
    "slideshow": {
     "slide_type": "-"
    }
   },
   "outputs": [
    {
     "data": {
      "text/plain": [
       "12345"
      ]
     },
     "execution_count": 2,
     "metadata": {},
     "output_type": "execute_result"
    }
   ],
   "source": [
    "# that something was assigned to \"_\"\n",
    "_"
   ]
  },
  {
   "cell_type": "code",
   "execution_count": 3,
   "metadata": {
    "slideshow": {
     "slide_type": "subslide"
    }
   },
   "outputs": [
    {
     "ename": "ZeroDivisionError",
     "evalue": "division by zero",
     "output_type": "error",
     "traceback": [
      "\u001b[0;31m---------------------------------------------------------------------------\u001b[0m",
      "\u001b[0;31mZeroDivisionError\u001b[0m                         Traceback (most recent call last)",
      "\u001b[0;32m/var/folders/1_/2rbdt5292zdb57b821k90d5r0000gn/T/ipykernel_56789/1872088744.py\u001b[0m in \u001b[0;36m<module>\u001b[0;34m\u001b[0m\n\u001b[1;32m      1\u001b[0m \u001b[0;31m# Error example: division by 0\u001b[0m\u001b[0;34m\u001b[0m\u001b[0;34m\u001b[0m\u001b[0;34m\u001b[0m\u001b[0m\n\u001b[0;32m----> 2\u001b[0;31m \u001b[0;36m1\u001b[0m\u001b[0;34m/\u001b[0m\u001b[0;36m0\u001b[0m\u001b[0;34m\u001b[0m\u001b[0;34m\u001b[0m\u001b[0m\n\u001b[0m",
      "\u001b[0;31mZeroDivisionError\u001b[0m: division by zero"
     ]
    }
   ],
   "source": [
    "# Error example: division by 0\n",
    "1/0"
   ]
  },
  {
   "cell_type": "markdown",
   "metadata": {
    "slideshow": {
     "slide_type": "slide"
    }
   },
   "source": [
    "## print()\n",
    "\n",
    "* prints arguments on standard output\n",
    "* can receive an arbitrary number of arguments\n",
    "* ends with \"\\n\" unless differently specified with \"end\" key\n",
    "* --\n",
    "\n",
    "## type()\n",
    "\n",
    "* returns the type of the argument\n",
    "* --\n",
    "\n",
    "## help()\n",
    "\n",
    "* The Python interpreter comes with a help() function \n",
    " * call \"help(something)\" to learn about something (if something is defined\n",
    " * type \"help()\" to start the help prompt (\"help>\"), to exit execute quit\n",
    " "
   ]
  },
  {
   "cell_type": "code",
   "execution_count": 1,
   "metadata": {},
   "outputs": [
    {
     "data": {
      "text/plain": [
       "float"
      ]
     },
     "execution_count": 1,
     "metadata": {},
     "output_type": "execute_result"
    }
   ],
   "source": [
    "a = 2.3\n",
    "type(a)\n",
    "a = "
   ]
  },
  {
   "cell_type": "code",
   "execution_count": 4,
   "metadata": {
    "slideshow": {
     "slide_type": "subslide"
    }
   },
   "outputs": [
    {
     "name": "stdout",
     "output_type": "stream",
     "text": [
      "print\n",
      "ends\n",
      "with\n",
      "newline\n",
      "\n",
      "unless differently specified\n",
      "\n",
      "print can accept multiple arguments\n",
      "\n",
      "print\\_/can\\_/accept\\_/multiple\\_/arguments\n"
     ]
    }
   ],
   "source": [
    "print(\"print\") \n",
    "print(\"ends\")\n",
    "print(\"with\")\n",
    "print(\"newline\") \n",
    "\n",
    "print(\"\\nunless\", end=\" \")   # ends with a space instead of newline\n",
    "print(\"differently specified\")\n",
    "\n",
    "print(\"\\nprint\",\"can\",\"accept\",\"multiple\",\"arguments\")   # sep with a separator instead of a space \n",
    "print(\"\\nprint\",\"can\",\"accept\",\"multiple\",\"arguments\", sep=\"\\_/\")  "
   ]
  },
  {
   "cell_type": "code",
   "execution_count": 5,
   "metadata": {
    "slideshow": {
     "slide_type": "subslide"
    }
   },
   "outputs": [
    {
     "data": {
      "text/plain": [
       "builtin_function_or_method"
      ]
     },
     "execution_count": 5,
     "metadata": {},
     "output_type": "execute_result"
    }
   ],
   "source": [
    "type(print)"
   ]
  },
  {
   "cell_type": "code",
   "execution_count": 6,
   "metadata": {
    "slideshow": {
     "slide_type": "subslide"
    }
   },
   "outputs": [
    {
     "name": "stdout",
     "output_type": "stream",
     "text": [
      "Help on built-in function print in module builtins:\n",
      "\n",
      "print(...)\n",
      "    print(value, ..., sep=' ', end='\\n', file=sys.stdout, flush=False)\n",
      "    \n",
      "    Prints the values to a stream, or to sys.stdout by default.\n",
      "    Optional keyword arguments:\n",
      "    file:  a file-like object (stream); defaults to the current sys.stdout.\n",
      "    sep:   string inserted between values, default a space.\n",
      "    end:   string appended after the last value, default a newline.\n",
      "    flush: whether to forcibly flush the stream.\n",
      "\n"
     ]
    }
   ],
   "source": [
    "help(print)"
   ]
  },
  {
   "cell_type": "markdown",
   "metadata": {
    "slideshow": {
     "slide_type": "slide"
    }
   },
   "source": [
    "## Variables' name \n",
    "* Cannot start with a digit\n",
    "* nor contain hyphens (minus signs)\n",
    "* nor periods (dot signs)\n",
    "* nor blank spaces\n",
    "* descriptive names should be preferred \n",
    "* short names should be preferred \n"
   ]
  },
  {
   "cell_type": "markdown",
   "metadata": {
    "slideshow": {
     "slide_type": "slide"
    }
   },
   "source": [
    "## Python3 keywords list\n",
    "\n",
    "* keywords are reserved words that already means something\n",
    "* reserved means these words cannot be Identifiers\n",
    "\n",
    "|||||||||\n",
    "|-|-|-|-|-|-|-|-|\n",
    "|False|None|True|and|as|assert|break|\n",
    "|class|continue|def|del|elif|else|except|\n",
    "|finally|for|from|global|if|import|in|\n",
    "|is|lambda|nonlocal|not|or|pass|raise|\n",
    "|return|try|while|with|yield|||\n"
   ]
  },
  {
   "cell_type": "markdown",
   "metadata": {
    "slideshow": {
     "slide_type": "slide"
    }
   },
   "source": [
    "## Assignment operator\n",
    "* the equal sign is the assignment operator, which means...\n",
    "* ...\"evaluate the operand/expression on the right side of the equal sign and assign that to the operand on the left (the 'lvalue').”\n",
    "* python provides cascaded assignments  \n",
    " * var1 = var2 = var3 = value\n",
    "* python provides augmented assignment operators \n",
    " * standard math operations: +=,-=,\\*=,/= \n",
    " * modulo,remainder,exponentiation: %=,//=,\\**= \n",
    " * bitwise math operations: &=,|=,^=,>>=,<<=\n"
   ]
  },
  {
   "cell_type": "code",
   "execution_count": 7,
   "metadata": {
    "slideshow": {
     "slide_type": "subslide"
    }
   },
   "outputs": [
    {
     "name": "stdout",
     "output_type": "stream",
     "text": [
      "x = 5.0 <class 'float'>\n",
      "y = 11 <class 'float'>\n",
      "z = 10 <class 'float'>\n"
     ]
    }
   ],
   "source": [
    "# cascade assignments\n",
    "x = y = z = 10  \n",
    "# augmented assignments\n",
    "x/=2\n",
    "y+=1\n",
    "print(\"x =\",x,type(x))\n",
    "print(\"y =\",y,type(x))\n",
    "print(\"z =\",z,type(x))"
   ]
  },
  {
   "cell_type": "markdown",
   "metadata": {
    "slideshow": {
     "slide_type": "slide"
    }
   },
   "source": [
    "## List of python (base) literals (value of a specific type)\n",
    "\n",
    "* strings (collection of characters enclosed in quotes \"\" or '')\n",
    " * ''' or \"\"\" starts (ends) a multiline string (triple-quoted string)\n",
    "* integer numeric literals \n",
    "* float numeric literals \n",
    "* complex numeric literals ('j'/'J' yields an imaginary number)\n",
    "* boolean literals which are \"True\" or \"False\" (both keywords)\n",
    "* None"
   ]
  },
  {
   "cell_type": "code",
   "execution_count": 8,
   "metadata": {
    "slideshow": {
     "slide_type": "subslide"
    }
   },
   "outputs": [
    {
     "name": "stdout",
     "output_type": "stream",
     "text": [
      "\"A\" is a <class 'str'>\n",
      "'A' is also a <class 'str'>\n",
      "in other words, \"A\" is 'A' - > True\n",
      "\"\"\"\n",
      "multi\n",
      "line\n",
      "string\n",
      "\"\"\" is also a <class 'str'>\n",
      "1 is a <class 'int'>\n",
      "1.0 is a <class 'float'>\n",
      "(1+1j) is a <class 'complex'>\n",
      "True is a <class 'bool'>\n",
      "None is a <class 'NoneType'>\n"
     ]
    },
    {
     "name": "stderr",
     "output_type": "stream",
     "text": [
      "<>:3: SyntaxWarning: \"is\" with a literal. Did you mean \"==\"?\n",
      "<>:3: SyntaxWarning: \"is\" with a literal. Did you mean \"==\"?\n",
      "/var/folders/1_/2rbdt5292zdb57b821k90d5r0000gn/T/ipykernel_56789/2405636746.py:3: SyntaxWarning: \"is\" with a literal. Did you mean \"==\"?\n",
      "  print(\"in other words, \\\"A\\\" is 'A' - >\",\"A\" is 'A')\n"
     ]
    }
   ],
   "source": [
    "print(\"\\\"A\\\"\", \"is a\", type(\"A\"))\n",
    "print(\"\\'A\\'\", \"is also a\", type(\"A\"))\n",
    "print(\"in other words, \\\"A\\\" is 'A' - >\",\"A\" is 'A')\n",
    "print(\"\\\"\\\"\\\"\\nmulti\\nline\\nstring\\n\\\"\\\"\\\"\", \"is also a\", type(\"\"\"\\nmulti\\nline\\nstring\\n\"\"\"))\n",
    "print(1,\"is a\", type(1))\n",
    "print(1.,\"is a\", type(1.))\n",
    "print(1.+1j,\"is a\",type(1.+1j))\n",
    "print(\"True\",\"is a\",type(True))\n",
    "print(None,\"is a\",type(None))"
   ]
  },
  {
   "cell_type": "code",
   "execution_count": 9,
   "metadata": {
    "slideshow": {
     "slide_type": "subslide"
    }
   },
   "outputs": [
    {
     "name": "stdout",
     "output_type": "stream",
     "text": [
      "\n",
      "you should use \\ to print special characters \" or '\n",
      "\n",
      "strings defined by \" understands special character ' without \\ \n",
      "strings defined by ' understands special character \" without \\\n"
     ]
    }
   ],
   "source": [
    "print(\"\\nyou should use \\\\ to print special characters \\\" or \\'\")\n",
    "print(\"\\nstrings defined by \\\" understands special character ' without \\\\ \")\n",
    "print('strings defined by \\' understands special character \" without \\\\' )"
   ]
  },
  {
   "cell_type": "markdown",
   "metadata": {
    "slideshow": {
     "slide_type": "slide"
    }
   },
   "source": [
    "## Comments and multiline strings in python\n",
    "\n",
    "* \\# starts an inline comment \n",
    "* triple-quoted strings can be used for documentation (returned by help() function)\n",
    " * we'll see this later\n",
    "* triple-quoted strings can be used as multiline comments"
   ]
  },
  {
   "cell_type": "code",
   "execution_count": 10,
   "metadata": {
    "slideshow": {
     "slide_type": "subslide"
    }
   },
   "outputs": [
    {
     "name": "stdout",
     "output_type": "stream",
     "text": [
      "triple-quoted \n",
      "strings\n",
      "are   \n",
      "multiline\n",
      "\n"
     ]
    }
   ],
   "source": [
    "# to comment this line\n",
    "\n",
    "s = '''triple-quoted \n",
    "strings\n",
    "are   \n",
    "multiline\n",
    "'''\n",
    "'''\n",
    "triple-quoted strings that are not docstrings (first thing in a class/function/module) are ignored \n",
    "and can be used \n",
    "as multiline comments\n",
    "'''\n",
    "\n",
    "print(s) "
   ]
  },
  {
   "cell_type": "markdown",
   "metadata": {
    "slideshow": {
     "slide_type": "slide"
    }
   },
   "source": [
    "## Python is strongly dinamically typed\n",
    "\n",
    "* strong means that every change requires an explicit conversion \n",
    "* dynamic typing means that values have a type, not variables \n",
    " * i.e., variables can name any object \n",
    " * only keywords cannot be reassigned \n",
    "* also functions such as print() and type() use names that are not keywords\n",
    " * they could potentially reassigned to new objects \n"
   ]
  },
  {
   "cell_type": "code",
   "execution_count": 11,
   "metadata": {
    "slideshow": {
     "slide_type": "subslide"
    }
   },
   "outputs": [],
   "source": [
    "\n",
    "myVar = 1        # class 'int'\n",
    "myVar = \"myVar\"  # class 'str'\n",
    "myVar = None     # class 'NoneType'\n"
   ]
  },
  {
   "cell_type": "code",
   "execution_count": 12,
   "metadata": {
    "slideshow": {
     "slide_type": "subslide"
    }
   },
   "outputs": [
    {
     "name": "stdout",
     "output_type": "stream",
     "text": [
      "\n",
      "#reassign objects to print and type \n",
      "print=10 \n",
      "type=-1 \n",
      "print,type\n"
     ]
    },
    {
     "data": {
      "text/plain": [
       "(10, -1)"
      ]
     },
     "execution_count": 12,
     "metadata": {},
     "output_type": "execute_result"
    }
   ],
   "source": [
    "print(\"\\n#reassign objects to print and type \\nprint=10 \\ntype=-1 \\nprint,type\")\n",
    "print = 10\n",
    "type = -1\n",
    "print, type"
   ]
  },
  {
   "cell_type": "code",
   "execution_count": 13,
   "metadata": {
    "slideshow": {
     "slide_type": "subslide"
    }
   },
   "outputs": [
    {
     "ename": "TypeError",
     "evalue": "'int' object is not callable",
     "output_type": "error",
     "traceback": [
      "\u001b[0;31m---------------------------------------------------------------------------\u001b[0m",
      "\u001b[0;31mTypeError\u001b[0m                                 Traceback (most recent call last)",
      "\u001b[0;32m/var/folders/1_/2rbdt5292zdb57b821k90d5r0000gn/T/ipykernel_56789/3773950048.py\u001b[0m in \u001b[0;36m<module>\u001b[0;34m\u001b[0m\n\u001b[0;32m----> 1\u001b[0;31m \u001b[0mprint\u001b[0m\u001b[0;34m(\u001b[0m\u001b[0;36m1\u001b[0m\u001b[0;34m)\u001b[0m\u001b[0;34m\u001b[0m\u001b[0;34m\u001b[0m\u001b[0m\n\u001b[0m",
      "\u001b[0;31mTypeError\u001b[0m: 'int' object is not callable"
     ]
    }
   ],
   "source": [
    "print(1)"
   ]
  },
  {
   "cell_type": "code",
   "execution_count": 14,
   "metadata": {
    "slideshow": {
     "slide_type": "subslide"
    }
   },
   "outputs": [
    {
     "name": "stdout",
     "output_type": "stream",
     "text": [
      "back to work <class 'str'>\n"
     ]
    }
   ],
   "source": [
    "# force reset of all user defined names, included print and type\n",
    "%reset -f \n",
    "# now print and type are back to work\n",
    "print(\"back to work\", type(\"back to work\"))"
   ]
  },
  {
   "cell_type": "markdown",
   "metadata": {
    "slideshow": {
     "slide_type": "slide"
    }
   },
   "source": [
    "## Type conversion\n",
    "\n",
    "* Generally, conversions MUST be explicit because Python is strongly dinamically typed\n",
    "* However, Python does some automatic conversions\n",
    " * between numeric types (where it makes sense)\n",
    " * empty container types as well as zero are considered False in a boolean context \n",
    "\n",
    "\n",
    "## Math operators \n",
    "\n",
    "* python provides standard arithmetic opearators +,-,*,/ \n",
    "* exponentiation operator ** \n",
    " * ** is right associative\n",
    "* floor division operator // \n",
    " * a//b returns the greatest whole number that does not exceed a/b\n",
    "* modulo (reminder) %\n",
    " * complements // by telling what remains from the floor division\n",
    "* parentheses can change the order of operations\n"
   ]
  },
  {
   "cell_type": "code",
   "execution_count": 3,
   "metadata": {
    "slideshow": {
     "slide_type": "subslide"
    }
   },
   "outputs": [
    {
     "name": "stdout",
     "output_type": "stream",
     "text": [
      "implicit conversion between numeric literals is allowed, if that makes sense\n",
      "(12.+1j)+3 ->  (15+1j)\n",
      "\n",
      "implicit conversion from string to a numeric literal returs an error\n",
      "'12'+3 \n",
      " -> returns\n"
     ]
    },
    {
     "ename": "TypeError",
     "evalue": "Can't convert 'int' object to str implicitly",
     "output_type": "error",
     "traceback": [
      "\u001b[0;31m---------------------------------------------------------------------------\u001b[0m",
      "\u001b[0;31mTypeError\u001b[0m                                 Traceback (most recent call last)",
      "\u001b[0;32m<ipython-input-3-795ef93fcb9b>\u001b[0m in \u001b[0;36m<module>\u001b[0;34m()\u001b[0m\n\u001b[1;32m      3\u001b[0m \u001b[0mprint\u001b[0m\u001b[0;34m(\u001b[0m\u001b[0;34m\"\\nimplicit conversion from string to a numeric literal returs an error\"\u001b[0m\u001b[0;34m)\u001b[0m\u001b[0;34m\u001b[0m\u001b[0m\n\u001b[1;32m      4\u001b[0m \u001b[0mprint\u001b[0m\u001b[0;34m(\u001b[0m\u001b[0;34m\"'12'+3 \\n -> returns\"\u001b[0m\u001b[0;34m)\u001b[0m\u001b[0;34m\u001b[0m\u001b[0m\n\u001b[0;32m----> 5\u001b[0;31m \u001b[0;34m'12'\u001b[0m\u001b[0;34m+\u001b[0m\u001b[0;36m3\u001b[0m\u001b[0;34m\u001b[0m\u001b[0m\n\u001b[0m",
      "\u001b[0;31mTypeError\u001b[0m: Can't convert 'int' object to str implicitly"
     ]
    }
   ],
   "source": [
    "print(\"implicit conversion between numeric literals is allowed, if that makes sense\")\n",
    "print(\"(12.+1j)+3 -> \",(12.+1j)+3)\n",
    "print(\"\\nimplicit conversion from string to a numeric literal returs an error\")\n",
    "print(\"'12'+3 \\n -> returns\")\n",
    "'12'+3"
   ]
  },
  {
   "cell_type": "code",
   "execution_count": 4,
   "metadata": {
    "slideshow": {
     "slide_type": "subslide"
    }
   },
   "outputs": [
    {
     "name": "stdout",
     "output_type": "stream",
     "text": [
      "\n",
      "#Operations between numbers\n",
      "\n",
      "# summation with float -> float \n",
      "type(1+1.)\n",
      "<class 'float'>\n",
      "\n",
      "# division with integers -> float \n",
      "type(3/2)\n",
      "<class 'float'>\n",
      "\n",
      "# operations between parentheses are executed earlier  \n",
      "4/(2+2)\n",
      "1.0\n",
      "\n",
      "# exponentiation (default right associative) \n",
      "2**3 , 2**3**2 , 2**(3**2) , (2**3)**2\n",
      "8 , 512 , 512 , 64\n",
      "\n",
      "# floor division  \n",
      "9.5/2 , 9.5//2 , 9.1//2 , 9.9//2\n",
      "4.75 , 4.0 , 4.0 , 4.0\n",
      "\n",
      "# modulo  , 9.5%2 , 9.1%2 , 9.9%2\n",
      "1.5 , 1.0999999999999996 , 1.9000000000000004\n"
     ]
    }
   ],
   "source": [
    "print(\"\\n#Operations between numbers\")\n",
    "print(\"\\n# summation with float -> float\",\"\\ntype(1+1.)\")\n",
    "print(type(1+1.))     \n",
    "print(\"\\n# division with integers -> float\",\"\\ntype(3/2)\")\n",
    "print(type(3/2))      \n",
    "print(\"\\n# operations between parentheses are executed earlier \",\"\\n4/(2+2)\")\n",
    "print(4/(2+2))        \n",
    "print(\"\\n# exponentiation (default right associative)\",\"\\n2**3\",\", 2**3**2\",\", 2**(3**2)\",\", (2**3)**2\")\n",
    "print(2**3, \",\", 2**3**2, \",\", 2**(3**2), \",\", (2**3)**2)\n",
    "print(\"\\n# floor division \",\"\\n9.5/2\",\", 9.5//2\",\", 9.1//2\",\", 9.9//2\")\n",
    "print(9.5/2, \",\", 9.5//2, \",\", 9.1//2, \",\", 9.9//2)\n",
    "print(\"\\n# modulo \",\", 9.5%2\",\", 9.1%2\",\", 9.9%2\")\n",
    "print(9.5%2, \",\", 9.1%2, \",\", 9.9%2)"
   ]
  },
  {
   "cell_type": "markdown",
   "metadata": {
    "slideshow": {
     "slide_type": "slide"
    }
   },
   "source": [
    "## Explicit type conversion \n",
    "* int(x): x converted to integer\n",
    " * bin(x): returns a string with the binary representation\n",
    "* float(x): x converted to float\n",
    "* complex(re,im): real part re, imaginary part im (im default is zero)\n",
    "* str(x): x converted to string"
   ]
  },
  {
   "cell_type": "markdown",
   "metadata": {
    "slideshow": {
     "slide_type": "slide"
    }
   },
   "source": [
    "## Boolean operations\n",
    "* standard boolean operations: and, or, not \n",
    " * x or y  (if x is false, then y, else x)\n",
    " * x and y (if x is false, then x, else y)\n",
    " * not x (if x is false, then True, else False)\n",
    "* standard comparison operations: <,<=,>,>=,==,!= \n",
    " * (strictly) greater/less (or equal) than, equal, not equal\n",
    "* object identity \"is\" \n",
    "* negated object identity \"is not\""
   ]
  },
  {
   "cell_type": "code",
   "execution_count": null,
   "metadata": {
    "collapsed": true,
    "slideshow": {
     "slide_type": "subslide"
    }
   },
   "outputs": [],
   "source": [
    "x = True\n",
    "y = False\n",
    "\n",
    "print(\"\\nx=True\",\"y=False\")\n",
    "print (\"\\nx or y =\",x or y,\"\\nx and y =\",x and y,\"\\nnot x =\", not x)\n",
    "\n",
    "print(\"\\n0>0 =\",0>0, \"\\n0>=0 =\",0>=0,\"\\n0<0 =\",0>0, \"\\n0<=0 =\",0>=0, \"\\n0==0 =\",0==0, \"\\n0!=0 =\",0!=0)\n",
    "\n",
    "print(\"\\ntype(5.) is float =\",type(5.) is float, \"\\ntype(5.) is not float =\",type(5.) is not float)"
   ]
  },
  {
   "cell_type": "markdown",
   "metadata": {
    "slideshow": {
     "slide_type": "slide"
    }
   },
   "source": [
    "## Standard numeric operations\n",
    "* abs(x): absolute value or magnitude of x\n",
    "* c.conjugate(): conjugate of the complex number c\n",
    "* divmod(x,y): the pair (x // y, x % y)\n",
    "* pow(x,y): x to the power y, same as x ** y\n",
    "* round(x,n): rounds x to a given precision in n decimal digits\n",
    " * default n=0\n",
    " * n can be negative\n"
   ]
  },
  {
   "cell_type": "code",
   "execution_count": null,
   "metadata": {
    "collapsed": true,
    "slideshow": {
     "slide_type": "subslide"
    }
   },
   "outputs": [],
   "source": [
    "\n",
    "print(\"\\nabs(-4.5) ->\",abs(-4.5),type(abs(-4.5)))\n",
    "print(\"complex(-4+1j).conjugate() ->\",complex(-4+1j).conjugate())\n",
    "print(\"divmod(10,3) -> \",divmod(10,3))\n",
    "print(\" -> (10//3,10%3) -> \",(10//3,10%3))\n",
    "print(\"pow(10,3) -> \",pow(10,3))\n",
    "print(\" -> (10**3) -> \",(10**3))\n"
   ]
  },
  {
   "cell_type": "code",
   "execution_count": 7,
   "metadata": {
    "slideshow": {
     "slide_type": "subslide"
    }
   },
   "outputs": [
    {
     "name": "stdout",
     "output_type": "stream",
     "text": [
      "round(1234.1234,4) -> 1234.1234\n",
      "round(1234.1234,3) -> 1234.123\n",
      "round(1234.1234,2) -> 1234.12\n",
      "round(1234.1234,1) -> 1234.1\n",
      "round(1234.1234,0) -> 1234.0\n",
      "round(1234.1234,-1) -> 1230.0\n",
      "round(1234.1234,-2) -> 1200.0\n",
      "round(1234.1234,-3) -> 1000.0\n",
      "round(1234.1234,-4) -> 0.0\n"
     ]
    }
   ],
   "source": [
    "print('round(1234.1234,4) ->',round(1234.1234,4))\n",
    "print('round(1234.1234,3) ->',round(1234.1234,3))\n",
    "print('round(1234.1234,2) ->',round(1234.1234,2))\n",
    "print('round(1234.1234,1) ->',round(1234.1234,1))\n",
    "print('round(1234.1234,0) ->',round(1234.1234,0))\n",
    "print('round(1234.1234,-1) ->',round(1234.1234,-1))\n",
    "print('round(1234.1234,-2) ->',round(1234.1234,-2))\n",
    "print('round(1234.1234,-3) ->',round(1234.1234,-3))\n",
    "print('round(1234.1234,-4) ->',round(1234.1234,-4))\n"
   ]
  },
  {
   "cell_type": "markdown",
   "metadata": {
    "slideshow": {
     "slide_type": "slide"
    }
   },
   "source": [
    "## Input data\n",
    "* input(): forward row input to frontends (as a string)\n",
    "* eval(): evaluate the expression contained in a string"
   ]
  },
  {
   "cell_type": "code",
   "execution_count": null,
   "metadata": {
    "collapsed": true,
    "slideshow": {
     "slide_type": "subslide"
    }
   },
   "outputs": [],
   "source": [
    "name = input(\"name: \")\n",
    "age = input(\"age: \")\n",
    "print(name,\"is\",age,\"years old\")"
   ]
  },
  {
   "cell_type": "code",
   "execution_count": null,
   "metadata": {
    "collapsed": true,
    "slideshow": {
     "slide_type": "subslide"
    }
   },
   "outputs": [],
   "source": [
    "thisVal = \"\\nthis expression just prints a string\\n\"\n",
    "expression = input(\"expression (e.g., print(thisVal)): \")\n",
    "eval(expression)"
   ]
  },
  {
   "cell_type": "markdown",
   "metadata": {
    "slideshow": {
     "slide_type": "slide"
    }
   },
   "source": [
    "## Function definition in python\n",
    "\n",
    "* def \\[return\\] keywords\n",
    " * non-void functions should be called for the returned value \n",
    " * void functions should be called to obtain <i>side effects</i> (e.g., print() function)\n",
    "* parentheses follow function's name and contain comma separated parameters \n",
    " * mandatory even if no parameter\n",
    "* return keywords embeds multiple outputs in a tuple\n",
    "* functions can embed docstrings for documentation \n",
    "* scope of a function\n",
    "\n",
    "``` python\n",
    "def <function_name>(<parameter_list>):\n",
    "    '''docstring'''\n",
    "    <body>\n",
    "    return <result>\n",
    "```  "
   ]
  },
  {
   "cell_type": "code",
   "execution_count": 147,
   "metadata": {
    "slideshow": {
     "slide_type": "subslide"
    }
   },
   "outputs": [
    {
     "name": "stdout",
     "output_type": "stream",
     "text": [
      "10 EUR means 11.7 USD\n",
      "\n",
      "---------------\n",
      "\n",
      "Help on function EUR_to_USD in module __main__:\n",
      "\n",
      "EUR_to_USD(eur)\n",
      "    calculate conversion from EUR to USD\n",
      "\n"
     ]
    }
   ],
   "source": [
    "def EUR_to_USD(eur):\n",
    "    '''\n",
    "    calculate conversion from EUR to USD\n",
    "    '''\n",
    "    usd_for_1eur = 1.17\n",
    "    return eur*usd_for_1eur\n",
    "\n",
    "print(\"10 EUR means\",EUR_to_USD(10),\"USD\")\n",
    "print(\"\\n---------------\\n\")\n",
    "help(EUR_to_USD)"
   ]
  },
  {
   "cell_type": "code",
   "execution_count": 151,
   "metadata": {
    "slideshow": {
     "slide_type": "subslide"
    }
   },
   "outputs": [
    {
     "name": "stdout",
     "output_type": "stream",
     "text": [
      "10 EUR means 11.7 USD\n",
      "\t or 0.075 YEN\n",
      "\t or 11.299999999999999 GBP\n",
      "EUR_to_many returns <class 'tuple'>\n",
      "\n",
      "---------------\n",
      "\n",
      "Help on function EUR_to_many in module __main__:\n",
      "\n",
      "EUR_to_many(eur)\n",
      "    calculate conversion from EUR to different currencies\n",
      "\n"
     ]
    }
   ],
   "source": [
    "def EUR_to_many(eur):\n",
    "    '''\n",
    "    calculate conversion from EUR to different currencies\n",
    "    '''\n",
    "    usd_for_1eur = 1.17\n",
    "    yen_for_1eur = 0.0075\n",
    "    gbp_for_1eur = 1.13 \n",
    "    \n",
    "    return (eur*usd_for_1eur,\\\n",
    "            eur*yen_for_1eur,\\\n",
    "            eur*gbp_for_1eur)\n",
    "\n",
    "currencies = EUR_to_many(10) # tuple\n",
    "USD,YEN,GBP = currencies     # unpack tuple\n",
    "print(\"10 EUR means\",USD,\"USD\\n\\t\",\\\n",
    "                \"or\",YEN,\"YEN\\n\\t\",\\\n",
    "                \"or\",GBP,\"GBP\")\n",
    "print(\"EUR_to_many returns\",type(currencies))\n",
    "\n",
    "print(\"\\n---------------\\n\")\n",
    "help(EUR_to_many) # docstring"
   ]
  },
  {
   "cell_type": "markdown",
   "metadata": {
    "slideshow": {
     "slide_type": "slide"
    }
   },
   "source": [
    "## Keyword and positional arguments\n",
    "\n",
    "* default argument values can be passed, even unordered, using keyword arguments (named arguments)\n",
    "* keyword arguments are passed as a dictionary {key:value,...}\n",
    "* not keyword arguments are called positional arguments\n",
    "* positional arguments should be starred if after a keyword argument\n",
    " * \\*expression must evaluate an iterable "
   ]
  },
  {
   "cell_type": "code",
   "execution_count": 6,
   "metadata": {
    "slideshow": {
     "slide_type": "subslide"
    }
   },
   "outputs": [],
   "source": [
    "def foo(par1=None,par2=None):\n",
    "    res = None\n",
    "    if par1 is 1:\n",
    "        res = par1\n",
    "    elif par2 is 2:\n",
    "        res = par2\n",
    "    if par1 is 1 and par2 is 2:\n",
    "        res = \"what a surprise!\"\n",
    "    return res\n"
   ]
  },
  {
   "cell_type": "code",
   "execution_count": 14,
   "metadata": {},
   "outputs": [
    {
     "name": "stdout",
     "output_type": "stream",
     "text": [
      "1 1\n"
     ]
    }
   ],
   "source": [
    "a = foo(par1=1)\n",
    "b = foo(1)\n",
    "print(a,b)"
   ]
  },
  {
   "cell_type": "code",
   "execution_count": 12,
   "metadata": {},
   "outputs": [
    {
     "name": "stdout",
     "output_type": "stream",
     "text": [
      "2 None\n"
     ]
    }
   ],
   "source": [
    "a = foo(par2=2)\n",
    "b = foo(2)\n",
    "print(a,b)"
   ]
  },
  {
   "cell_type": "code",
   "execution_count": 15,
   "metadata": {},
   "outputs": [
    {
     "name": "stdout",
     "output_type": "stream",
     "text": [
      "what a surprise! what a surprise!\n"
     ]
    }
   ],
   "source": [
    "# order of keyword args is not important\n",
    "a = foo(par1=1,par2=2)\n",
    "b = foo(par2=2,par1=1)\n",
    "print(a,b)"
   ]
  },
  {
   "cell_type": "markdown",
   "metadata": {
    "slideshow": {
     "slide_type": "slide"
    }
   },
   "source": [
    "## Function annotations\n",
    "\n",
    "* Optional metadata information about the types used by user-defined functions\n",
    " * parameter and return annotations can integrate the docstring\n",
    "* annotations are stored in the \\__annotations\\__ attribute of the function as a dictionary \n",
    "* annotations have no effect on any other part of the function"
   ]
  },
  {
   "cell_type": "code",
   "execution_count": 30,
   "metadata": {
    "slideshow": {
     "slide_type": "-"
    }
   },
   "outputs": [
    {
     "name": "stdout",
     "output_type": "stream",
     "text": [
      "1.0\n",
      "{'b': 'divisor (never 0)', 'return': 'the result of a/b', 'a': 'dividend'}\n",
      "\n",
      "\n",
      "\n",
      "Help on function division in module __main__:\n",
      "\n",
      "division(a:'dividend', b:'divisor (never 0)') -> 'the result of a/b'\n",
      "    Divide a by b\n",
      "\n"
     ]
    }
   ],
   "source": [
    "def division(a: 'dividend', b: 'divisor (never 0)') -> 'the result of a/b': \n",
    "    \"\"\"Divide a by b\"\"\" # docstring\n",
    "    return a / b \n",
    "\n",
    "print(division(1,1))\n",
    "print(division.__annotations__)\n",
    "\n",
    "\n",
    "print(\"\\n\\n\")\n",
    "help(division)"
   ]
  },
  {
   "cell_type": "markdown",
   "metadata": {
    "slideshow": {
     "slide_type": "slide"
    }
   },
   "source": [
    "## Common compound data structure literals  \n",
    "\n",
    "* sequence types\n",
    " * tuples: (1,2,3) \n",
    " * lists: \\[1,2,3\\]\n",
    " * range() - explained with loop statements\n",
    "\n",
    "* set types\n",
    " * sets: {1,2,3}\n",
    "\n",
    "* mapping type\n",
    " * dictionaries: {1:'one',2:'two',3:'three'}"
   ]
  },
  {
   "cell_type": "markdown",
   "metadata": {
    "slideshow": {
     "slide_type": "slide"
    }
   },
   "source": [
    "## Tuples \n",
    "\n",
    "* tuples store a collection of ordered objects\n",
    "* tuples are meant to store data and are immutable (do not support item assignment)\n",
    " * no add, remove or or replace on the fly\n",
    " * immutability is a feature, not a restriction\n",
    "* tuples can be used to assign simultaneously multiple objects"
   ]
  },
  {
   "cell_type": "code",
   "execution_count": 8,
   "metadata": {
    "slideshow": {
     "slide_type": "subslide"
    }
   },
   "outputs": [
    {
     "name": "stdout",
     "output_type": "stream",
     "text": [
      "\n",
      "simultaneous assignment\n",
      "t = (1,1.,\"str\",(\"another\",\"tuple\")) <class 'tuple'>\n",
      "\n",
      "simultaneous assignment\n",
      "v1,v2,v3,v4 = t\n",
      "-->\n",
      "v1 = 1 <class 'int'> \n",
      "v2 = 1.0 <class 'float'> \n",
      "v3 = str <class 'str'> \n",
      "v4 = ('another', 'tuple') <class 'tuple'>\n"
     ]
    }
   ],
   "source": [
    "t = (1,1.,\"str\",(\"another\",\"tuple\"))  # tuple packing\n",
    "v1,v2,v3,v4 = t  # tuple un-packing\n",
    "\n",
    "print(\"\\nsimultaneous assignment\")\n",
    "print(\"t = (1,1.,\\\"str\\\",(\\\"another\\\",\\\"tuple\\\"))\",type(t))\n",
    "print(\"\\nsimultaneous assignment\")\n",
    "print(\"v1,v2,v3,v4 = t\")\n",
    "print(\"-->\\nv1 =\",v1,type(v1),\"\\nv2 =\",v2,type(v2),\"\\nv3 =\",v3,type(v3),\"\\nv4 =\",v4,type(v4))"
   ]
  },
  {
   "cell_type": "code",
   "execution_count": 9,
   "metadata": {
    "slideshow": {
     "slide_type": "subslide"
    }
   },
   "outputs": [
    {
     "name": "stdout",
     "output_type": "stream",
     "text": [
      "tuples are immutable\n"
     ]
    },
    {
     "ename": "TypeError",
     "evalue": "'tuple' object does not support item assignment",
     "output_type": "error",
     "traceback": [
      "\u001b[0;31m---------------------------------------------------------------------------\u001b[0m",
      "\u001b[0;31mTypeError\u001b[0m                                 Traceback (most recent call last)",
      "\u001b[0;32m<ipython-input-9-3004b1da0aeb>\u001b[0m in \u001b[0;36m<module>\u001b[0;34m()\u001b[0m\n\u001b[1;32m      1\u001b[0m \u001b[0mprint\u001b[0m\u001b[0;34m(\u001b[0m\u001b[0;34m\"tuples are immutable\"\u001b[0m\u001b[0;34m)\u001b[0m\u001b[0;34m\u001b[0m\u001b[0m\n\u001b[0;32m----> 2\u001b[0;31m \u001b[0mt\u001b[0m\u001b[0;34m[\u001b[0m\u001b[0;36m0\u001b[0m\u001b[0;34m]\u001b[0m \u001b[0;34m=\u001b[0m \u001b[0;36m2\u001b[0m\u001b[0;34m\u001b[0m\u001b[0m\n\u001b[0m",
      "\u001b[0;31mTypeError\u001b[0m: 'tuple' object does not support item assignment"
     ]
    }
   ],
   "source": [
    "print(\"tuples are immutable\")\n",
    "t[0] = 2"
   ]
  },
  {
   "cell_type": "markdown",
   "metadata": {
    "slideshow": {
     "slide_type": "subslide"
    }
   },
   "source": [
    "## How to swap the contents of two variables in a pythonic way?\n",
    "### Hint: one line"
   ]
  },
  {
   "cell_type": "code",
   "execution_count": 10,
   "metadata": {
    "slideshow": {
     "slide_type": "subslide"
    }
   },
   "outputs": [
    {
     "name": "stdout",
     "output_type": "stream",
     "text": [
      "3 7\n"
     ]
    }
   ],
   "source": [
    "a = 3\n",
    "b = 7\n",
    "'''\n",
    "swap the content of a and b such that a contains 7 and b contains 3\n",
    "'''\n",
    "\n",
    "print (a,b)"
   ]
  },
  {
   "cell_type": "markdown",
   "metadata": {
    "slideshow": {
     "slide_type": "slide"
    }
   },
   "source": [
    "## Lists \n",
    "\n",
    "* a list collects comma separated values between squared brackets\n",
    " * len(list) or list.\\__len\\__() gives the list length \n",
    "* lists are mutable \n",
    "* a list can indexed and sliced (using \":\")\n",
    "* a list can contain any data type\n",
    "* the same list can contain different data types (e.g., lists can nest lists)\n",
    "* support concatenation\n",
    " "
   ]
  },
  {
   "cell_type": "code",
   "execution_count": 17,
   "metadata": {
    "slideshow": {
     "slide_type": "subslide"
    }
   },
   "outputs": [
    {
     "name": "stdout",
     "output_type": "stream",
     "text": [
      "squares -> [1, 4, 9, 16, 24]\n",
      "length of square is 5\n",
      "\n",
      "# indexing returns the item\n",
      "squares[0] -> 1 <class 'int'>\n",
      "squares[-1] ->  24 <class 'int'>\n",
      "\n",
      "# slicing returns a list of items\n",
      "squares[2:] -> [9, 16, 24] <class 'list'>\n",
      "squares[:3] -> [1, 4, 9] <class 'list'>\n",
      "squares[0:1] -> [1] <class 'list'>\n",
      "squares[-3:] ->  [9, 16, 24] <class 'list'>\n"
     ]
    }
   ],
   "source": [
    "squares = [1, 4, 9, 16, 24] # 24 should be 25 \n",
    "print(\"squares ->\", squares) \n",
    "print(\"length of square is\", squares.__len__())\n",
    "print(\"\\n# indexing returns the item\")\n",
    "print(\"squares[0] ->\",squares[0],type(squares[0])) \n",
    "print(\"squares[-1] -> \",squares[-1],type(squares[-1]))   \n",
    "\n",
    "print(\"\\n# slicing returns a list of items\")\n",
    "print(\"squares[2:] ->\",squares[2:],type(squares[2:])) # list of idx 2,3,...,len(list)\n",
    "print(\"squares[:3] ->\",squares[:3],type(squares[:3])) # list of idx 0,1,2\n",
    "print(\"squares[0:1] ->\",squares[0:1],type(squares[0:1]))  \n",
    "print(\"squares[-3:] -> \",squares[-3:],type(squares[-3:])) # list of last three elements\n"
   ]
  },
  {
   "cell_type": "code",
   "execution_count": 19,
   "metadata": {
    "slideshow": {
     "slide_type": "subslide"
    }
   },
   "outputs": [
    {
     "name": "stdout",
     "output_type": "stream",
     "text": [
      "\n",
      "# new values can be assigned both using indexing and slicing\n",
      "squares -> [1, 4, 9, 16, 24]\n",
      "squares[4] = 25 \n",
      "squares -> [1, 4, 9, 16, 25]\n",
      "squares[0:2] = [-1,-1]\n",
      "squares -> [-1, -1, 9, 16, 25]\n",
      "\n",
      "# NB: assignment does not need consistency between lengths of slices\n",
      "squares[0:1] = ['what?',squares[0]]\n",
      "squares -> ['what?', -1, -1, 9, 16, 25]\n",
      "squares[0:3] -> ['what?', -1, -1]\n",
      "squares[0:3] = [1,4]\n",
      "squares -> [1, 4, 9, 16, 25]\n"
     ]
    }
   ],
   "source": [
    "squares = [1, 4, 9, 16, 24] # 24 should be 25 \n",
    "print(\"\\n# new values can be assigned both using indexing and slicing\")\n",
    "print(\"squares ->\",squares)\n",
    "squares[4] = 25 \n",
    "print(\"squares[4] = 25 \")\n",
    "print(\"squares ->\",squares)\n",
    "print(\"squares[0:2] = [-1,-1]\")\n",
    "squares[0:2] = [-1,-1] \n",
    "print(\"squares ->\",squares)\n",
    "\n",
    "print(\"\\n# NB: assignment does not need consistency between lengths of slices\")\n",
    "print(\"squares[0:1] = ['what?',squares[0]]\")\n",
    "squares[0:1] = ['what?',squares[0]]\n",
    "print(\"squares ->\", squares)\n",
    "print(\"squares[0:3] ->\", squares[0:3])\n",
    "print(\"squares[0:3] = [1,4]\")\n",
    "squares[0:3] = [1,4]\n",
    "print(\"squares ->\", squares)\n"
   ]
  },
  {
   "cell_type": "code",
   "execution_count": 20,
   "metadata": {
    "slideshow": {
     "slide_type": "subslide"
    }
   },
   "outputs": [
    {
     "name": "stdout",
     "output_type": "stream",
     "text": [
      "\n",
      "# lists can be concatenated\n",
      "squares ->  [1, 4, 9, 16, 25]\n",
      "other_squares ->  [36, 49, 64]\n",
      "squares+other_squares ->  [1, 4, 9, 16, 25, 36, 49, 64]\n",
      "\n",
      "# new values can be appended to list\n",
      "squares ->  [1, 4, 9, 16, 25]\n",
      "squares.append(36)\n",
      "squares ->  [1, 4, 9, 16, 25, 36]\n"
     ]
    }
   ],
   "source": [
    "squares = [1, 4, 9, 16, 25]\n",
    "other_squares = [36,49,64]\n",
    "print(\"\\n# lists can be concatenated\")\n",
    "print(\"squares -> \",squares)\n",
    "print(\"other_squares -> \",other_squares)\n",
    "print(\"squares+other_squares -> \",squares+other_squares)\n",
    "\n",
    "print(\"\\n# new values can be appended to list\")\n",
    "print(\"squares -> \",squares)\n",
    "print(\"squares.append(36)\")\n",
    "squares.append(36)\n",
    "print(\"squares -> \",squares)\n"
   ]
  },
  {
   "cell_type": "code",
   "execution_count": 21,
   "metadata": {
    "slideshow": {
     "slide_type": "subslide"
    }
   },
   "outputs": [
    {
     "name": "stdout",
     "output_type": "stream",
     "text": [
      "\n",
      "# values can be removed just by slicing\n",
      "squares[5:6] = []\n",
      "squares ->  [1, 4, 9]\n",
      "\n",
      "# clear a list replacing with empty list\n",
      "squares[:] = []\n",
      "squares ->  []\n"
     ]
    }
   ],
   "source": [
    "print(\"\\n# values can be removed just by slicing\")\n",
    "print(\"squares[5:6] = []\")\n",
    "squares[-3:] = []\n",
    "print(\"squares -> \",squares)\n",
    "\n",
    "print(\"\\n# clear a list replacing with empty list\")\n",
    "print(\"squares[:] = []\")\n",
    "squares[:] = []\n",
    "print(\"squares -> \",squares)\n"
   ]
  },
  {
   "cell_type": "code",
   "execution_count": 22,
   "metadata": {
    "slideshow": {
     "slide_type": "subslide"
    }
   },
   "outputs": [
    {
     "name": "stdout",
     "output_type": "stream",
     "text": [
      "\n",
      "# nested list\n",
      "l = [['a','b'],[1,2]]\n",
      "l[0][1] -> b\n",
      "l[1][0] -> 1\n"
     ]
    }
   ],
   "source": [
    "print(\"\\n# nested list\")\n",
    "print(\"l = [['a','b'],[1,2]]\")\n",
    "l = [['a','b'],[1,2]]\n",
    "print(\"l[0][1] ->\",l[0][1])\n",
    "print(\"l[1][0] ->\",l[1][0])"
   ]
  },
  {
   "cell_type": "markdown",
   "metadata": {
    "slideshow": {
     "slide_type": "subslide"
    }
   },
   "source": [
    "## Shallow copy vs Deep copy\n",
    "\n",
    "\n",
    "* shallow copy: the target is bind to the assigned object (i.e., they have the same reference)\n",
    "* deep copy: the target contains the same values of the assigned object (i.e., they do not have the same reference) \n",
    "\n",
    "* python copies the reference \n",
    " * there is a difference for compound objects (i.e., objects that contain other objects, like nested lists) \n",
    " \n",
    "* module copy contains the implementation for deep copy\n",
    " * copy.copy(x): returns a shallow copy of x\n",
    " * copy.deepcopy(x): returns a deep copy of x"
   ]
  },
  {
   "cell_type": "code",
   "execution_count": 23,
   "metadata": {
    "slideshow": {
     "slide_type": "subslide"
    }
   },
   "outputs": [
    {
     "name": "stdout",
     "output_type": "stream",
     "text": [
      "[['changes!', 2], '3']\n",
      "[['changes!', 2], '3'] <- shallow copy\n",
      "[[1, 2], '3'] <- deep copy\n"
     ]
    }
   ],
   "source": [
    "%reset -f\n",
    "import copy\n",
    "\n",
    "l_0 = [1,2]\n",
    "l_1 = [l_0,'3']          # shallow copy\n",
    "l_2 = copy.copy(l_1)     # shallow copy\n",
    "l_3 = copy.deepcopy(l_1) # deep copy\n",
    "\n",
    "l_0[0] = 'changes!'\n",
    "\n",
    "print(l_1)\n",
    "print(l_2, \"<- shallow copy\")\n",
    "print(l_3, \"<- deep copy\")\n"
   ]
  },
  {
   "cell_type": "markdown",
   "metadata": {
    "slideshow": {
     "slide_type": "subslide"
    }
   },
   "source": [
    "## More on lists\n",
    "\n",
    "* list.append(x): appends x to the end of the list\n",
    "* list.extend(iterable): appends all items from iterable\n",
    " * same of a\\[len(a):\\] = iterable\n",
    "* list.insert(i,x): inserts the value x at a given i-th position \n",
    "* list.remove(x): removes the first item whose value is x\n",
    "* list.pop(\\[i\\]): returns the i-th item and removes it from the list \n",
    "* list.clear(x): clear the list\n",
    " * same of del a\\[:\\]\n",
    "* list.index(x\\[, start\\[, end\\]\\]): returns index of first item whose value is x\n",
    " * if none raises a ValueError \n",
    " * start/end limit the search in a slice\n",
    "* list.count(x): returns the number of times x appears in the list \n",
    "* list.sort(key=None,reverse=False): sort items, see sorted() \n",
    "* list.reverse(): reverse the elements in place  \n",
    "* list.copy(): returns a shallow copy \n",
    "\n"
   ]
  },
  {
   "cell_type": "code",
   "execution_count": 56,
   "metadata": {
    "slideshow": {
     "slide_type": "subslide"
    }
   },
   "outputs": [
    {
     "name": "stdout",
     "output_type": "stream",
     "text": [
      "l  -> [1, 2]\n",
      "l2 -> [0, 1, 2]\n"
     ]
    }
   ],
   "source": [
    "%reset -f\n",
    "# append, extend\n",
    "l = [] \n",
    "l.append(1)\n",
    "l.append(2)\n",
    "\n",
    "l2 = [0] \n",
    "l2.extend(l)\n",
    "\n",
    "print('l  ->',l)\n",
    "print('l2 ->',l2)"
   ]
  },
  {
   "cell_type": "code",
   "execution_count": 104,
   "metadata": {
    "slideshow": {
     "slide_type": "subslide"
    }
   },
   "outputs": [
    {
     "name": "stdout",
     "output_type": "stream",
     "text": [
      "l  -> [0, 1, 1.5, 2, 3.5, 2.5]\n",
      "l.remove(2.5)  ->\n",
      "\t l = [0, 1, 1.5, 2, 3.5]\n",
      "el = l.pop() ->\n",
      "\tl = [0, 1, 1.5, 2] \n",
      "\tel = 3.5\n",
      "l.clear() ->\n",
      "\t l = []\n"
     ]
    }
   ],
   "source": [
    "%reset -f\n",
    "# insert, remove, pop, clear\n",
    "l = [0,1,2] \n",
    "l.insert(2,1.5)\n",
    "l.insert(4,2.5)\n",
    "l.insert(4,3.5)\n",
    "print('l  ->',l)\n",
    "l.remove(2.5)\n",
    "print('l.remove(2.5)  ->\\n\\t l =',l)\n",
    "el = l.pop()\n",
    "print('el = l.pop() ->\\n\\tl =',l, '\\n\\tel =',el)\n",
    "l.clear()\n",
    "print('l.clear() ->\\n\\t l =',l)"
   ]
  },
  {
   "cell_type": "code",
   "execution_count": 29,
   "metadata": {
    "slideshow": {
     "slide_type": "subslide"
    }
   },
   "outputs": [
    {
     "name": "stdout",
     "output_type": "stream",
     "text": [
      "\n",
      "l -> [0, 1, 0, 1, 1, 2, 2, 2, 3, 1, 1, 2, 2, 2, 2]\n",
      "\n",
      "l.sort()\n",
      "l -> [0, 0, 1, 1, 1, 1, 1, 2, 2, 2, 2, 2, 2, 2, 3]\n",
      "\n",
      "l.count(2) is 7\n",
      "\n",
      "l.reverse()\n",
      "l -> [3, 2, 2, 2, 2, 2, 2, 2, 1, 1, 1, 1, 1, 0, 0]\n",
      "\n",
      "l.index(0)\n",
      "first zero at idx 13\n",
      "l[12:] -> [1, 0, 0]\n"
     ]
    }
   ],
   "source": [
    "%reset -f\n",
    "# sort,count,reverse,index\n",
    "l = [0,1,0,1,1,2,2,2,3,1,1,2,2,2,2] \n",
    "print('\\nl ->',l)\n",
    "l.sort()\n",
    "print('\\nl.sort()\\nl ->',l)\n",
    "print('\\nl.count(2) is',l.count(2))\n",
    "l.reverse()\n",
    "print('\\nl.reverse()\\nl ->',l)\n",
    "print('\\nl.index(0)\\nfirst zero at idx',l.index(0))\n",
    "print('l[12:] ->',l[12:])"
   ]
  },
  {
   "cell_type": "markdown",
   "metadata": {
    "slideshow": {
     "slide_type": "slide"
    }
   },
   "source": [
    "## Hashable \n",
    "\n",
    "* objects are hashable if has a hash value that never changes\n",
    " * they need a \\_\\_hash\\_\\_() method\n",
    "* hashable objects must be compared to other objects\n",
    " * they need a \\_\\_eq\\_\\_() method\n",
    " * objects which compare equal must have the same hash value \n",
    "* immutable built-in objects are hashable \n",
    "* mutable containers are not hashable\n",
    "* instances of user-defined classes are hashable by default\n",
    " * their hash value is derived by id and they all compare unequal (except with themselves)"
   ]
  },
  {
   "cell_type": "code",
   "execution_count": 30,
   "metadata": {
    "slideshow": {
     "slide_type": "subslide"
    }
   },
   "outputs": [
    {
     "name": "stdout",
     "output_type": "stream",
     "text": [
      "id(a) == id(b) -> True == 139915757249664\n",
      "id(c) == id(d) -> False\n",
      "id(c) == 139915540396616 ; id(d) == 139915540395272\n"
     ]
    }
   ],
   "source": [
    "%reset -f\n",
    "a = 5 # int is immutable type\n",
    "b = 5\n",
    "print('id(a) == id(b) ->',id(a) == id(b),'==',id(a))\n",
    "\n",
    "c = [5] # list is mutable type\n",
    "d = [5]\n",
    "print('id(c) == id(d) ->',id(c) == id(d))\n",
    "print('id(c) ==',id(c),'; id(d) ==',id(d))"
   ]
  },
  {
   "cell_type": "markdown",
   "metadata": {
    "slideshow": {
     "slide_type": "slide"
    }
   },
   "source": [
    "##  Set types \n",
    "\n",
    "* curly braces or set() function create sets\n",
    " * set() with no arguments creates a set\n",
    " * \\{\\} with no arguments creates a dictionary - see later\n",
    "* sets are unordered collections with no duplicate elements\n",
    "* sets are mutable objects\n",
    "* in keyword is suitable to check the membership of a value in the list \n",
    "* elements in set must be hashable object\n",
    " * means they have a hash value which never changes during their lifetime \n",
    " * hashability makes objects usable as a dictionary key and a set member\n",
    "* sets theirselves are NOT hashable \n",
    " * cannot be used as dictionary keys\n",
    " * sets of sets are not allowed"
   ]
  },
  {
   "cell_type": "markdown",
   "metadata": {
    "slideshow": {
     "slide_type": "subslide"
    }
   },
   "source": [
    "## Set operations\n",
    "\n",
    "* a.difference(b) or a-b: elements in set a that are not in set b\n",
    "* a.union(b) a|b: union of elements in set a and in set b\n",
    "* a.intersection(b) a&b: intersection of elements in set a and in set b\n",
    "* a.symmetric_difference(b) a^b: elements in set a or set b but not in both\n",
    " * equals union-intersection ((a|b)-(a&b))\n",
    "* a.issubset(b) a<=b: test whether every element of a is in b\n",
    "* a.issuperset(b) a>=b: test whether every element of b is in a"
   ]
  },
  {
   "cell_type": "code",
   "execution_count": 31,
   "metadata": {
    "slideshow": {
     "slide_type": "subslide"
    }
   },
   "outputs": [
    {
     "name": "stdout",
     "output_type": "stream",
     "text": [
      "set_1 -> {1,2,1,2,3} # 1 and 2 are repeated\n",
      "set_2 -> {4,5,6,1,7} # 1 is in both \n",
      "\n",
      "# use of 'in' keyword\n",
      "3 in set_1 -> True\n",
      "\n",
      "#set difference: elements in one but not in the other\n",
      "set_1-set_2 -> {2, 3}\n",
      "set_2-set_1 -> {4, 5, 6, 7}\n",
      "\n",
      "#set union and intersection\n",
      "set_1|set_2 -> set_2|set_1 -> {1, 2, 3, 4, 5, 6, 7}\n",
      "set_1&set_2 -> set_2&set_1 -> {1}\n",
      "\n",
      "#set symmetric difference == set difference between set union and set intersection\n",
      "set_1^set_2 -> set_2^set_1  -> {2, 3, 4, 5, 6, 7}\n",
      "(set_1|set_2)-(set_1&set_2) -> {2, 3, 4, 5, 6, 7}\n",
      "\n",
      "#super/subset test\n",
      "set_1>=set_2 -> False\n",
      "set_1<=set_2 -> False\n",
      "{1,2,3}<={1,2,3,4,5,6,7} -> True\n",
      "{1,2,3,4,5,6,7}>={1,2,3} -> True\n"
     ]
    }
   ],
   "source": [
    "set_1 = set([1,2,1,2,3]) \n",
    "set_2 = set([4,5,6,1,7]) \n",
    "\n",
    "print(\"set_1 ->\",\"{1,2,1,2,3} # 1 and 2 are repeated\")\n",
    "print(\"set_2 ->\",\"{4,5,6,1,7} # 1 is in both \")\n",
    "print(\"\\n# use of 'in' keyword\")\n",
    "print(\"3 in set_1 ->\",3 in set_1)\n",
    "print(\"\\n#set difference: elements in one but not in the other\")\n",
    "print(\"set_1-set_2 ->\",set_1-set_2)\n",
    "print(\"set_2-set_1 ->\",set_2-set_1)\n",
    "print(\"\\n#set union and intersection\")\n",
    "print(\"set_1|set_2 ->\",\"set_2|set_1 ->\",set_1|set_2)\n",
    "print(\"set_1&set_2 ->\",\"set_2&set_1 ->\",set_1&set_2)\n",
    "print(\"\\n#set symmetric difference == set difference between set union and set intersection\")\n",
    "print(\"set_1^set_2 ->\",\"set_2^set_1  ->\",set_1^set_2)\n",
    "print(\"(set_1|set_2)-(set_1&set_2) ->\",(set_1|set_2)-(set_1&set_2))\n",
    "print(\"\\n#super/subset test\")\n",
    "print(\"set_1>=set_2 ->\",set_1>=set_2)\n",
    "print(\"set_1<=set_2 ->\",set_1<=set_2)\n",
    "print(\"{1,2,3}<={1,2,3,4,5,6,7} ->\",{1,2,3}<={1,2,3,4,5,6,7})\n",
    "print(\"{1,2,3,4,5,6,7}>={1,2,3} ->\",{1,2,3,4,5,6,7}>={1,2,3})"
   ]
  },
  {
   "cell_type": "code",
   "execution_count": 32,
   "metadata": {
    "slideshow": {
     "slide_type": "subslide"
    }
   },
   "outputs": [
    {
     "name": "stdout",
     "output_type": "stream",
     "text": [
      "# sets cannot contain unhashable types\n"
     ]
    },
    {
     "ename": "TypeError",
     "evalue": "unhashable type: 'set'",
     "output_type": "error",
     "traceback": [
      "\u001b[0;31m---------------------------------------------------------------------------\u001b[0m",
      "\u001b[0;31mTypeError\u001b[0m                                 Traceback (most recent call last)",
      "\u001b[0;32m<ipython-input-32-2a5c1e0ad27a>\u001b[0m in \u001b[0;36m<module>\u001b[0;34m()\u001b[0m\n\u001b[1;32m      1\u001b[0m \u001b[0mprint\u001b[0m\u001b[0;34m(\u001b[0m\u001b[0;34m\"# sets cannot contain unhashable types\"\u001b[0m\u001b[0;34m)\u001b[0m\u001b[0;34m\u001b[0m\u001b[0m\n\u001b[0;32m----> 2\u001b[0;31m \u001b[0mset_1\u001b[0m \u001b[0;34m=\u001b[0m \u001b[0mset\u001b[0m\u001b[0;34m(\u001b[0m\u001b[0;34m[\u001b[0m\u001b[0mset\u001b[0m\u001b[0;34m(\u001b[0m\u001b[0;34m[\u001b[0m\u001b[0;34m'a'\u001b[0m\u001b[0;34m]\u001b[0m\u001b[0;34m)\u001b[0m\u001b[0;34m]\u001b[0m\u001b[0;34m)\u001b[0m\u001b[0;34m\u001b[0m\u001b[0m\n\u001b[0m",
      "\u001b[0;31mTypeError\u001b[0m: unhashable type: 'set'"
     ]
    }
   ],
   "source": [
    "print(\"# sets cannot contain unhashable types\")\n",
    "set_1 = set([set(['a'])])"
   ]
  },
  {
   "cell_type": "markdown",
   "metadata": {
    "slideshow": {
     "slide_type": "slide"
    }
   },
   "source": [
    "## Dictionaries \n",
    "\n",
    "* it is mapping type (also called \"associative memories\" or \"associative arrays\")\n",
    "* dict() builds dictionaries from sequences of key-value pairs\n",
    "* unlike sequence types, indexed by numbers, dictionaries are indexed by keys\n",
    " * only hashable types can be keys \n",
    "* dict are unordered sets of key:value pairs \n",
    " * module collections offers a class of ordered dictionaries (i.e., OrderedDict, which remembers the order in which its contents are added)\n",
    " * ordered dictionaries support reversed() \n",
    "* \\[not\\] in keywords check if a key is \\[not\\] in dictionaries \n",
    "* del keyword is needed to delete a key:value pair "
   ]
  },
  {
   "cell_type": "code",
   "execution_count": 33,
   "metadata": {
    "slideshow": {
     "slide_type": "subslide"
    }
   },
   "outputs": [
    {
     "name": "stdout",
     "output_type": "stream",
     "text": [
      "\n",
      "address_book -> {'Alberto': 2, 'Jacopo': 1} \n",
      " -> <class 'dict'>\n",
      "'Luca' not in address_book' -> True\n",
      "\n",
      "mensa_dishes -> {'first': 'pasta', 'second': 'salade', 'dessert': 'apple'} \n",
      " -> <class 'dict'>\n",
      "'first' in address_book' -> True\n"
     ]
    }
   ],
   "source": [
    "%reset -f\n",
    "\n",
    "# using {}\n",
    "address_book={'Jacopo':1,'Alberto':2}\n",
    "print(\"\\naddress_book ->\",\\\n",
    "      address_book,\"\\n ->\",\\\n",
    "      type(address_book))\n",
    "print(\"'Luca' not in address_book' ->\",\\\n",
    "         'Luca' not in address_book)\n",
    "\n",
    "\n",
    "# using dict(list_of_tuples)\n",
    "mensa_dishes=dict([('first','pasta'),\\\n",
    "                   ('second','salade'),\\\n",
    "                   ('dessert','apple')])\n",
    "print(\"\\nmensa_dishes ->\",\\\n",
    "      mensa_dishes,\"\\n ->\",\\\n",
    "      type(address_book))\n",
    "print(\"'first' in address_book' ->\",\\\n",
    "         'first' in mensa_dishes)\n",
    "\n"
   ]
  },
  {
   "cell_type": "code",
   "execution_count": 35,
   "metadata": {
    "slideshow": {
     "slide_type": "subslide"
    }
   },
   "outputs": [
    {
     "name": "stdout",
     "output_type": "stream",
     "text": [
      "address_book = {'Alberto': 2, 'Jacopo': 1}\n",
      "\n",
      "# delete key\n",
      "'Jacopo' in address_book -> True\n",
      "del address_book['Jacopo']\n",
      "address_book -> {'Alberto': 2}\n",
      "'Jacopo' in address_book -> False\n",
      "\n",
      "# add new key\n",
      "address_book['Luca'] = 3\n",
      "address_book -> {'Alberto': 2, 'Luca': 3}\n"
     ]
    }
   ],
   "source": [
    "%reset -f\n",
    "address_book={'Jacopo':1,'Alberto':2}\n",
    "print(\"address_book =\",address_book)\n",
    "\n",
    "print(\"\\n# delete key\")\n",
    "print(\"'Jacopo' in address_book ->\",'Jacopo' in address_book)\n",
    "print(\"del address_book['Jacopo']\")\n",
    "del address_book['Jacopo']\n",
    "print(\"address_book ->\",address_book)\n",
    "print(\"'Jacopo' in address_book ->\",'Jacopo' in address_book)\n",
    "\n",
    "print(\"\\n# add new key\")\n",
    "print(\"address_book['Luca'] = 3\")\n",
    "address_book['Luca'] = 3\n",
    "print(\"address_book ->\",address_book)\n"
   ]
  },
  {
   "cell_type": "markdown",
   "metadata": {
    "slideshow": {
     "slide_type": "slide"
    }
   },
   "source": [
    "## Looping dictionary's elements\n",
    "\n",
    "* it is possible looping dictionary's elements\n",
    " * dict.keys(): retreives list of keys\n",
    " * dict.values(): retreives list of values\n",
    " * dict.items(): retreives list of (key,value) pairs \n",
    "* list() or sorted() built-in functions list values (arbitrary or sorted order)\n",
    "* to sort keys by value\n",
    " * sorted(dict,key=dict.get)\n",
    " * use lambda functions \n"
   ]
  },
  {
   "cell_type": "code",
   "execution_count": 36,
   "metadata": {
    "slideshow": {
     "slide_type": "subslide"
    }
   },
   "outputs": [
    {
     "name": "stdout",
     "output_type": "stream",
     "text": [
      "['tue', 'sun', 'wed', 'sat', 'thu', 'mon', 'fri']\n",
      "['fri', 'mon', 'sat', 'sun', 'thu', 'tue', 'wed']\n",
      "['mon', 'tue', 'wed', 'thu', 'fri', 'sat', 'sun']\n"
     ]
    }
   ],
   "source": [
    "%reset -f\n",
    "week = {'mon':1,'tue':2,'wed':3,'thu':4,'fri':5,'sat':6,'sun':7}\n",
    "print(list(week))\n",
    "print(sorted(week))\n",
    "print(sorted(week, key=week.get))"
   ]
  },
  {
   "cell_type": "markdown",
   "metadata": {
    "slideshow": {
     "slide_type": "slide"
    }
   },
   "source": [
    "## Other dictionary's methods\n",
    "\n",
    "* dict.copy(): shallow copy of of dict\n",
    "* dict.clear(): removes all key/value pairs in dict\n",
    "* dict.update(\\[key:value\\]): overwrites key/value pairs from another dict\n",
    "* dict.get(k\\[,x\\]): retreives dict\\[k\\] if k in dict else x  \n",
    "* dict.setdefault(k\\[,x\\]): if k in keys, then get(), otherwise set the key\n",
    "* dict.pop(k\\[,x\\]): get(k\\[,x\\]), then remove key k"
   ]
  },
  {
   "cell_type": "code",
   "execution_count": 105,
   "metadata": {},
   "outputs": [
    {
     "name": "stdout",
     "output_type": "stream",
     "text": [
      "\n",
      "#update value for a key\n",
      "week.get('_8thday',8) -> 8\n",
      "\n",
      "week.setdefault('_8thday',8)\n",
      "week\n",
      " -> {'_8thday': 8, 'thu': 4, 'sat': 6, 'tue': 2, 'mon': 1, 'sun': 7, 'wed': 3, 'fri': 5}\n",
      "\n",
      "#update value for a given key\n",
      "week['_8thday'] -> 8\n",
      "week.update({'_8thday':None})\n",
      "week['_8thday'] -> None\n"
     ]
    }
   ],
   "source": [
    "%reset -f\n",
    "week = {'mon':1,'tue':2,'wed':3,'thu':4,'fri':5,'sat':6,'sun':7}\n",
    "\n",
    "print(\"\\n#update value for a key\")\n",
    "print(\"week.get('_8thday',8) ->\",\\\n",
    "      week.get('_8thday',8)) # week['_8thday'] does not exist\n",
    "\n",
    "week.setdefault('_8thday',8)\n",
    "print(\"\\nweek.setdefault('_8thday',8)\") \n",
    "print(\"week\\n ->\",week)\n",
    "\n",
    "print(\"\\n#update value for a given key\")\n",
    "print(\"week['_8thday'] ->\",week['_8thday'])\n",
    "week.update({'_8thday':None})\n",
    "print(\"week.update({'_8thday':None})\\nweek['_8thday'] ->\",week['_8thday'])"
   ]
  },
  {
   "cell_type": "code",
   "execution_count": 37,
   "metadata": {
    "slideshow": {
     "slide_type": "subslide"
    }
   },
   "outputs": [
    {
     "name": "stdout",
     "output_type": "stream",
     "text": [
      "\n",
      "week\n",
      " -> {'tue': 2, 'sun': 7, 'wed': 3, 'sat': 6, 'thu': 4, 'mon': 1, 'fri': 5}\n",
      "_9thday = week.pop('_9thday','8_days_already_too_much')\n",
      "_9thday -> 8_days_already_too_much\n",
      "\n",
      "week\n",
      " -> {'tue': 2, 'sun': 7, 'wed': 3, 'sat': 6, 'thu': 4, 'mon': 1, 'fri': 5}\n",
      "_8thday = week.pop('_8thday','8_days_already_too_much')\n",
      "_8thday -> 8_days_already_too_much\n",
      "week\n",
      " -> {'tue': 2, 'sun': 7, 'wed': 3, 'sat': 6, 'thu': 4, 'mon': 1, 'fri': 5}\n"
     ]
    }
   ],
   "source": [
    "%reset -f\n",
    "week = {'mon':1,'tue':2,'wed':3,'thu':4,'fri':5,'sat':6,'sun':7}\n",
    "\n",
    "print(\"\\nweek\\n ->\",week)\n",
    "_9thday = week.pop('_9thday','8_days_already_too_much')\n",
    "print(\"_9thday = week.pop('_9thday','8_days_already_too_much')\"+\\\n",
    "      \"\\n_9thday ->\",_9thday)\n",
    "\n",
    "print(\"\\nweek\\n ->\",week)\n",
    "_8thday = week.pop('_8thday','8_days_already_too_much')\n",
    "print(\"_8thday = week.pop('_8thday','8_days_already_too_much')\"+\\\n",
    "      \"\\n_8thday ->\",_8thday)\n",
    "print(\"week\\n ->\",week)\n"
   ]
  },
  {
   "cell_type": "markdown",
   "metadata": {
    "slideshow": {
     "slide_type": "slide"
    }
   },
   "source": [
    "## Control flow tools: \n",
    "* conditional statements\n",
    " * if, elif, else, keywords\n",
    "* loop statements\n",
    " * while, for, break, continue, else keywords\n",
    " * range() function\n",
    "* reminder statement\n",
    " * pass keyword\n",
    "* context manager\n",
    " * with, as keywords\n",
    " * open() function\n",
    "* handling exceptions statement\n",
    " * try, except, finally keywords\n"
   ]
  },
  {
   "cell_type": "markdown",
   "metadata": {
    "slideshow": {
     "slide_type": "slide"
    }
   },
   "source": [
    "## Conditional statements\n",
    "* conditional statements\n",
    " * if, elif, else, keywords\n",
    "``` python\n",
    "if <condition>:\n",
    "        <body_1>\n",
    "elif <another_condition>:\n",
    "        <body_2>\n",
    "else:\n",
    "        <body_default>    \n",
    "```    \n",
    " * in, not keywords\n",
    "``` python\n",
    "# is there an item equal to value?\n",
    "if <value> in <group_of_items> \n",
    "# none items are equal to value?\n",
    "if <value> not in <group_of_items> \n",
    "```"
   ]
  },
  {
   "cell_type": "code",
   "execution_count": 1,
   "metadata": {},
   "outputs": [
    {
     "name": "stdout",
     "output_type": "stream",
     "text": [
      "if can be inline\n"
     ]
    }
   ],
   "source": [
    "if True: print(\"if can be inline\")"
   ]
  },
  {
   "cell_type": "code",
   "execution_count": 38,
   "metadata": {
    "slideshow": {
     "slide_type": "subslide"
    }
   },
   "outputs": [
    {
     "name": "stdout",
     "output_type": "stream",
     "text": [
      "5 is bigger than 4\n",
      "because 4 is smaller than 5\n"
     ]
    }
   ],
   "source": [
    "if 5>4:\n",
    "    print(\"5 is bigger than 4\")\n",
    "if 4<5:\n",
    "    print(\"because 4 is smaller than 5\")\n",
    "else:\n",
    "    print(\"I would be confused otherwise\")"
   ]
  },
  {
   "cell_type": "code",
   "execution_count": 41,
   "metadata": {
    "slideshow": {
     "slide_type": "subslide"
    }
   },
   "outputs": [
    {
     "name": "stdout",
     "output_type": "stream",
     "text": [
      "0 and None means False any other value is True \n"
     ]
    }
   ],
   "source": [
    "if 0:\n",
    "    print(\"this should not be printed\")\n",
    "elif False: \n",
    "    print(\"this should not be printed\")    \n",
    "elif None:    \n",
    "    print(\"this should not be printed\")\n",
    "elif (-1.+2j): \n",
    "    print(\"0 and None means False any other value is True \")"
   ]
  },
  {
   "cell_type": "code",
   "execution_count": 42,
   "metadata": {
    "slideshow": {
     "slide_type": "subslide"
    }
   },
   "outputs": [
    {
     "name": "stdout",
     "output_type": "stream",
     "text": [
      "'in'/'not in' work on any iterable\n",
      "if v not in t:     -> True if none is equal to v\n",
      "if v not in l:     -> True if none is equal to v\n",
      "if v not in s:     -> True if none is equal to v\n",
      "if v not in d:     -> True if none is equal to v\n"
     ]
    }
   ],
   "source": [
    "%reset -f\n",
    "t = (3,4,5)       # tuple\n",
    "l = [3,4,5]       # list\n",
    "s = {3,4,5}       # set\n",
    "d = {3:1,4:2,5:3} # dictionary\n",
    "v = 1\n",
    "print(\"'in'/'not in' work on any iterable\")\n",
    "if v not in t:\n",
    "    print(\"if v not in t:     -> True if none is equal to v\")\n",
    "if v not in l:\n",
    "    print(\"if v not in l:     -> True if none is equal to v\")   \n",
    "if v not in s:\n",
    "    print(\"if v not in s:     -> True if none is equal to v\")    \n",
    "if v not in d:\n",
    "    print(\"if v not in d:     -> True if none is equal to v\")      "
   ]
  },
  {
   "cell_type": "markdown",
   "metadata": {
    "slideshow": {
     "slide_type": "slide"
    }
   },
   "source": [
    "\n",
    "## Loops\n",
    "\n",
    "* loop statements\n",
    " * while, for, break, continue keywords\n",
    "* range(\\[start,\\]stop\\[,step\\]) is very handy in loops\n",
    " * returns an object that produces a sequence of integers from start (inclusive, default 0) to stop (exclusive) by step (default 1)\n",
    " * start, stop and step must be integers\n",
    "* pass statement is a reminder and can be used anywhere\n",
    "\n",
    "``` python\n",
    "for <var> in <set_of_values>: \n",
    "    <body>\n",
    "    if <condition>:\n",
    "        continue\n",
    "    <something_that_runs_if_condition_not_True>        \n",
    "```\n",
    "\n",
    "``` python    \n",
    "while <true_condition>:\n",
    "    <body>\n",
    "    if <another_condition>:\n",
    "        break    \n",
    "``` \n"
   ]
  },
  {
   "cell_type": "code",
   "execution_count": 43,
   "metadata": {
    "slideshow": {
     "slide_type": "subslide"
    }
   },
   "outputs": [
    {
     "name": "stdout",
     "output_type": "stream",
     "text": [
      "range(2) is <class 'range'> \n",
      "\n",
      "\n",
      "for loop example\n",
      "0\n",
      "1\n",
      "\n",
      "same behavior using while loop\n",
      "0\n",
      "1\n"
     ]
    }
   ],
   "source": [
    "print(\"range(2) is\",type(range(2)),\"\\n\")\n",
    "print(\"\\nfor loop example\")\n",
    "for i in range(2):\n",
    "    print(i)\n",
    "    \n",
    "print(\"\\nsame behavior using while loop\")\n",
    "i = 0    \n",
    "while i in range(2): \n",
    "    print(i)\n",
    "    i+=1"
   ]
  },
  {
   "cell_type": "code",
   "execution_count": 115,
   "metadata": {
    "slideshow": {
     "slide_type": "subslide"
    }
   },
   "outputs": [
    {
     "name": "stdout",
     "output_type": "stream",
     "text": [
      "1 is odd\n",
      "2 is even\n",
      "3 is odd\n",
      "4 is even\n"
     ]
    }
   ],
   "source": [
    "for i in range(5):\n",
    "    if i is 0: \n",
    "        continue # 0 is neither odd nor even\n",
    "    if i%2 is 0:\n",
    "        print(i,\"is even\")\n",
    "        continue # an even number is not odd\n",
    "    print(i,\"is odd\") # if i is even, this expression is not run"
   ]
  },
  {
   "cell_type": "markdown",
   "metadata": {
    "slideshow": {
     "slide_type": "slide"
    }
   },
   "source": [
    "## The pass statement\n",
    "\n",
    "* does nothing \n",
    "* helps avoiding unexpected EOF\n",
    "* useful to include conditions that have not been coded yet\n"
   ]
  },
  {
   "cell_type": "code",
   "execution_count": null,
   "metadata": {
    "collapsed": true,
    "slideshow": {
     "slide_type": "-"
    }
   },
   "outputs": [],
   "source": [
    "if True:\n",
    "    pass\n",
    "print('no syntax error')"
   ]
  },
  {
   "cell_type": "markdown",
   "metadata": {
    "slideshow": {
     "slide_type": "slide"
    }
   },
   "source": [
    "## Iterables\n",
    "\n",
    "* objects capable of returning its members one at a time\n",
    "* e.g., list, str, tuple, dict are all iterables\n",
    "\n",
    "## Looping techniques on iterables\n",
    "\n",
    "* reversed(iterable): returnes a reversed iterator (iterates from last to first)\n",
    "* zip(\\*iterables): returns an iterator of tuples that aggregates elements from each iterable\n",
    " * if \\*iterables have different size, zip aggregates up to the shortest length\n",
    "* enumerate(iterable): returns an iterator of tuples that retreives both position index and item  \n",
    "* sorted(iterable\\[,key\\]\\[,reverse\\]): returns the \\[reverse\\] sorted sequence as a key for sort comparison\n",
    "* dictionary items() method: retreives key and value zipped\n"
   ]
  },
  {
   "cell_type": "code",
   "execution_count": 124,
   "metadata": {
    "slideshow": {
     "slide_type": "subslide"
    }
   },
   "outputs": [
    {
     "name": "stdout",
     "output_type": "stream",
     "text": [
      "1st_el, 2nd_el, 3rd_el, \n",
      "3rd_el, 2nd_el, 1st_el, \n",
      "\n",
      "[ 1st_el , 111 ], [ 2nd_el , 222 ], [ 3rd_el , 333 ], \n",
      "[ 1st_el , 111 ], [ 2nd_el , 222 ], "
     ]
    }
   ],
   "source": [
    "%reset -f\n",
    "\n",
    "myList1 = ['1st_el','2nd_el','3rd_el'] \n",
    "myList2 = [111,222,333]\n",
    "\n",
    "# myList1\n",
    "for i in myList1:\n",
    "    print(i,end=\", \")\n",
    "print()    \n",
    "\n",
    "# reversed myList1\n",
    "for i in reversed(myList1):\n",
    "    print(i,end=\", \")  \n",
    "print('\\n')        \n",
    "\n",
    "# zipped lists (with same size)\n",
    "for i,j in zip(myList1,myList2):\n",
    "    print(\"[\",i,\",\",j,\"]\", end=\", \")\n",
    "print()\n",
    "\n",
    "# zipped lists (with different size)\n",
    "myList2.pop()\n",
    "for i,j in zip(myList1,myList2):\n",
    "    print(\"[\",i,\",\",j,\"]\", end=\", \")"
   ]
  },
  {
   "cell_type": "code",
   "execution_count": 128,
   "metadata": {
    "slideshow": {
     "slide_type": "subslide"
    }
   },
   "outputs": [
    {
     "name": "stdout",
     "output_type": "stream",
     "text": [
      "[ 0 , 1st_el ], [ 1 , 2nd_el ], [ 2 , 3rd_el ], \n",
      "\n",
      "['2nd_el', '1st_el', '3rd_el']\n",
      "1st_el, 2nd_el, 3rd_el, "
     ]
    }
   ],
   "source": [
    "%reset -f\n",
    "\n",
    "myList1 = ['1st_el','2nd_el','3rd_el'] \n",
    "for i,j in enumerate(myList1):\n",
    "    print(\"[\",i,\",\",j,\"]\", end=\", \")   \n",
    "print('\\n')   \n",
    "\n",
    "unorderedList = ['2nd_el','1st_el','3rd_el'] \n",
    "print(unorderedList)\n",
    "for i in sorted(myList1):\n",
    "    print(i,end=\", \")"
   ]
  },
  {
   "cell_type": "markdown",
   "metadata": {
    "slideshow": {
     "slide_type": "slide"
    }
   },
   "source": [
    "## Context manager\n",
    "\n",
    "* with \\[as\\] creates a context manager\n",
    " \n",
    "``` python    \n",
    "with <expression> [as <variable>]:\n",
    "    <with-body-block>    \n",
    "```\n",
    "* the expression (e.g., open()) must be an object that defines \\__enter\\__  and \\__exit\\__ methods \n",
    " * open() opens a file and returns a stream (read/write)"
   ]
  },
  {
   "cell_type": "code",
   "execution_count": 45,
   "metadata": {
    "collapsed": true
   },
   "outputs": [],
   "source": [
    "with open('writeInIt.txt','w') as f:\n",
    "    f.write('this sentence')"
   ]
  },
  {
   "cell_type": "code",
   "execution_count": 46,
   "metadata": {
    "slideshow": {
     "slide_type": "subslide"
    }
   },
   "outputs": [
    {
     "name": "stdout",
     "output_type": "stream",
     "text": [
      "this sentence\n"
     ]
    }
   ],
   "source": [
    "with open('writeInIt.txt', 'r') as f:\n",
    "     print(f.readline()) # read first line of the file README.md "
   ]
  },
  {
   "cell_type": "markdown",
   "metadata": {
    "slideshow": {
     "slide_type": "slide"
    }
   },
   "source": [
    "#### optional\n",
    "## Handling exceptions\n",
    "\n",
    "* handling exceptions using try, except, finally keywords\n",
    " * finally is executed no matters what\n",
    " * finally is good to release external resources\n",
    "* common exceptions are ZeroDivisionError, NameError, TypeError, ValueError, SyntaxError\n",
    "* exceptions of type AssertionError: assert keyword\n",
    "* exceptions of type Exception:  raise keyword\n",
    " \n",
    "``` python    \n",
    "try: \n",
    "    <try-body-block>    \n",
    "except <Exception-name> as <alias>: \n",
    "    <except-body-block>        \n",
    "```"
   ]
  },
  {
   "cell_type": "code",
   "execution_count": 133,
   "metadata": {
    "slideshow": {
     "slide_type": "subslide"
    }
   },
   "outputs": [
    {
     "name": "stdout",
     "output_type": "stream",
     "text": [
      "# let's catch some common exceptions\n",
      "\n",
      "1/0\n",
      "<class 'ZeroDivisionError'> : division by zero\n",
      "\t---last but not least, finally is executed---\n",
      "4+unknown_var\n",
      "<class 'NameError'> : name 'unknown_var' is not defined\n",
      "\t---last but not least, finally is executed---\n",
      "\"2\"+2\n",
      "<class 'TypeError'> : Can't convert 'int' object to str implicitly\n",
      "\t---last but not least, finally is executed---\n",
      "int('s')\n",
      "<class 'ValueError'> : invalid literal for int() with base 10: 's'\n",
      "\t---last but not least, finally is executed---\n",
      "print 1\n",
      "'print 1' was not caught because it causes SyntaxError\n",
      "<class 'SyntaxError'> : Missing parentheses in call to 'print' (<string>, line 1)\n",
      "\t---last but not least, finally is executed---\n"
     ]
    }
   ],
   "source": [
    "print(\"# let's catch some common exceptions\\n\")\n",
    "to_execute = ['1/0',\\\n",
    "              '4+unknown_var',\\\n",
    "              '\"2\"+2',\\\n",
    "              \"int('s')\",\n",
    "              \"print 1\"]\n",
    "for i in to_execute:\n",
    "    try:\n",
    "        print(i)\n",
    "        eval(i)\n",
    "        print(\"I am not going to be printed\")\n",
    "    except (ZeroDivisionError,NameError,TypeError,ValueError) as err:\n",
    "        print(err.__class__,\":\",err)\n",
    "    except SyntaxError as err: \n",
    "        print(\"'print 1' was not caught because it causes SyntaxError\")\n",
    "        print(err.__class__,\":\",err)\n",
    "    finally: # should be at the end of try statement\n",
    "             # useful to make sure all resources are released\n",
    "             # even if an exception occurs\n",
    "             # even if no exception was caught\n",
    "        print(\"\\t---last but not least, finally is executed---\")"
   ]
  },
  {
   "cell_type": "code",
   "execution_count": 134,
   "metadata": {
    "slideshow": {
     "slide_type": "subslide"
    }
   },
   "outputs": [
    {
     "name": "stdout",
     "output_type": "stream",
     "text": [
      "x is negative\n"
     ]
    }
   ],
   "source": [
    "x = -1\n",
    "try:\n",
    "    assert x>=0, 'x is negative'\n",
    "except AssertionError as err: \n",
    "    print(err)"
   ]
  },
  {
   "cell_type": "code",
   "execution_count": 144,
   "metadata": {
    "slideshow": {
     "slide_type": "subslide"
    }
   },
   "outputs": [
    {
     "name": "stdout",
     "output_type": "stream",
     "text": [
      "<class 'Exception'>\n",
      "(1, [2], {'3': 3})\n",
      "(1, [2], {'3': 3})\n",
      "1 [2] {'3': 3}\n",
      "'Exception' object is not iterable\n"
     ]
    }
   ],
   "source": [
    "try: \n",
    "    raise Exception(1,[2],{'3':3}) # an exception can be raised\n",
    "                                   # with any argument\n",
    "except Exception as err:\n",
    "    print(type(err))\n",
    "    print(err.args)\n",
    "    print(err)      # print its arguments\n",
    "    a,b,c = err.args    \n",
    "    print(a,b,c)\n",
    "    try: \n",
    "        a,b,c = err\n",
    "    except TypeError as err: \n",
    "        print(err)"
   ]
  },
  {
   "cell_type": "markdown",
   "metadata": {
    "slideshow": {
     "slide_type": "slide"
    }
   },
   "source": [
    "## Exercises\n",
    "\n",
    "* is_palindrome(string): True if s is palindrome\n",
    "* histogram_letters(string): return dict of {\"letter\": counts}\n",
    "* get_most_frequent(list): return tuple (element,counts)\n",
    "* which_duplicates(list): return dict {element:\\[occurrences\\]} of duplicates\n",
    "* compute_factorial(a) \n",
    "* is_prime(a): True if a is prime, otherwise False\n",
    "* is_divisor(a,b): True if b is divisor of a, otherwise False\n",
    "* which_divisors(a): list of divisors of a \n",
    "* which_prime_divisors(a): list of prime divisors of a\n"
   ]
  }
 ],
 "metadata": {
  "celltoolbar": "Slideshow",
  "kernelspec": {
   "display_name": "Python 3 (ipykernel)",
   "language": "python",
   "name": "python3"
  },
  "language_info": {
   "codemirror_mode": {
    "name": "ipython",
    "version": 3
   },
   "file_extension": ".py",
   "mimetype": "text/x-python",
   "name": "python",
   "nbconvert_exporter": "python",
   "pygments_lexer": "ipython3",
   "version": "3.9.6"
  },
  "latex_metadata": {
   "affiliation": "SISSA",
   "author": "Jacopo Rigosa",
   "title": "python lecture 1"
  }
 },
 "nbformat": 4,
 "nbformat_minor": 2
}
