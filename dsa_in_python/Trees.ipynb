{
 "cells": [
  {
   "cell_type": "code",
   "execution_count": 1,
   "id": "611fe485",
   "metadata": {},
   "outputs": [],
   "source": [
    "my_tree = [\n",
    "    \"a\",  # root\n",
    "        [\"b\",  # left subtree\n",
    "            [\"d\", [], []],\n",
    "            [\"e\", [], []]\n",
    "        ],\n",
    "        [\"c\",  # right subtree\n",
    "            [\"f\", [], []],\n",
    "            []\n",
    "        ],\n",
    "    ]"
   ]
  },
  {
   "cell_type": "code",
   "execution_count": 2,
   "id": "5c95de9f",
   "metadata": {},
   "outputs": [
    {
     "name": "stdout",
     "output_type": "stream",
     "text": [
      "['a', ['b', ['d', [], []], ['e', [], []]], ['c', ['f', [], []], []]]\n"
     ]
    }
   ],
   "source": [
    "print(my_tree)"
   ]
  },
  {
   "cell_type": "code",
   "execution_count": 11,
   "id": "4d0942c3",
   "metadata": {},
   "outputs": [],
   "source": [
    "new_tree = [\"a\", [\"b\",[\"d\", [], []],[\"e\",[],[]]], [\"c\",[\"f\", [],[]], []]]"
   ]
  },
  {
   "cell_type": "code",
   "execution_count": 12,
   "id": "78a919c4",
   "metadata": {},
   "outputs": [
    {
     "name": "stdout",
     "output_type": "stream",
     "text": [
      "['a', ['b', ['d', [], []], ['e', [], []]], ['c', ['f', [], []], []]]\n"
     ]
    }
   ],
   "source": [
    "print(new_tree)"
   ]
  },
  {
   "cell_type": "code",
   "execution_count": 13,
   "id": "a2569a4a",
   "metadata": {},
   "outputs": [
    {
     "name": "stdout",
     "output_type": "stream",
     "text": [
      "['b', ['d', [], []], ['e', [], []]]\n"
     ]
    }
   ],
   "source": [
    "print(new_tree[1])"
   ]
  },
  {
   "cell_type": "code",
   "execution_count": 14,
   "id": "961fbd26",
   "metadata": {},
   "outputs": [
    {
     "name": "stdout",
     "output_type": "stream",
     "text": [
      "a\n"
     ]
    }
   ],
   "source": [
    "print(new_tree[0])"
   ]
  },
  {
   "cell_type": "code",
   "execution_count": 15,
   "id": "83ee4601",
   "metadata": {},
   "outputs": [
    {
     "name": "stdout",
     "output_type": "stream",
     "text": [
      "['c', ['f', [], []], []]\n"
     ]
    }
   ],
   "source": [
    "print(new_tree.pop(2))"
   ]
  },
  {
   "cell_type": "code",
   "execution_count": 16,
   "id": "c4bf67e6",
   "metadata": {},
   "outputs": [],
   "source": [
    "a_tree = [\"a\", [], []]"
   ]
  },
  {
   "cell_type": "code",
   "execution_count": 18,
   "id": "825d1cf2",
   "metadata": {},
   "outputs": [
    {
     "name": "stdout",
     "output_type": "stream",
     "text": [
      "['a', [], []]\n"
     ]
    }
   ],
   "source": [
    "print(a_tree)"
   ]
  },
  {
   "cell_type": "code",
   "execution_count": 25,
   "id": "dc194e4e",
   "metadata": {},
   "outputs": [],
   "source": [
    "a_tree = [\"a\", [\"b\", [\"d\", [], []], [\"e\", [], []]], [\"c\", [\"f\", [], []], []]]"
   ]
  },
  {
   "cell_type": "code",
   "execution_count": 26,
   "id": "8f64bbcc",
   "metadata": {},
   "outputs": [
    {
     "name": "stdout",
     "output_type": "stream",
     "text": [
      "['a', ['b', ['d', [], []], ['e', [], []]], ['c', ['f', [], []], []]]\n"
     ]
    }
   ],
   "source": [
    "print(a_tree)"
   ]
  },
  {
   "cell_type": "code",
   "execution_count": 27,
   "id": "9c130495",
   "metadata": {},
   "outputs": [
    {
     "name": "stdout",
     "output_type": "stream",
     "text": [
      "a\n"
     ]
    }
   ],
   "source": [
    "root = a_tree[0]\n",
    "print(root)"
   ]
  },
  {
   "cell_type": "code",
   "execution_count": 28,
   "id": "58a73358",
   "metadata": {},
   "outputs": [
    {
     "name": "stdout",
     "output_type": "stream",
     "text": [
      "['b', ['d', [], []], ['e', [], []]]\n"
     ]
    }
   ],
   "source": [
    "left_tree = a_tree[1]\n",
    "print(left_tree)"
   ]
  },
  {
   "cell_type": "code",
   "execution_count": 30,
   "id": "3067c4e3",
   "metadata": {},
   "outputs": [
    {
     "name": "stdout",
     "output_type": "stream",
     "text": [
      "['c', ['f', [], []], []]\n"
     ]
    }
   ],
   "source": [
    "right_tree = a_tree[2]\n",
    "print(right_tree)"
   ]
  },
  {
   "cell_type": "code",
   "execution_count": 117,
   "id": "18cdc453",
   "metadata": {},
   "outputs": [],
   "source": [
    "class BinaryTree:\n",
    "    def __init__(self, root):\n",
    "        self.left  = None\n",
    "        self.right = None\n",
    "        self.key   = root\n",
    "        \n",
    "    def insert_left(self,new_node):\n",
    "        if self.left is None:\n",
    "            self.left = BinaryTree(new_node)\n",
    "        else:\n",
    "            new_left      = BinaryTree(new_node)\n",
    "            new_left.left = self.left\n",
    "            self.left     = new_left\n",
    "            \n",
    "    def insert_right(self, new_node):\n",
    "        if self.right is None:\n",
    "            self.right = BinaryTree(new_node)\n",
    "        else:\n",
    "            new_right       = BinaryTree(new_node)\n",
    "            new_right.right = self.right\n",
    "            self.right      = new_right\n",
    "            \n",
    "    def get_root_val(self):\n",
    "        return self.key\n",
    "    \n",
    "    def set_root_val(self, val):\n",
    "        self.key = val\n",
    "    \n",
    "    def get_left_child(self):\n",
    "        return self.left\n",
    "    \n",
    "    def get_right_child(self):\n",
    "        return self.right\n",
    "    \n",
    "        "
   ]
  },
  {
   "cell_type": "code",
   "execution_count": 118,
   "id": "bc4f306f",
   "metadata": {},
   "outputs": [],
   "source": [
    "bt = BinaryTree(\"a\")"
   ]
  },
  {
   "cell_type": "code",
   "execution_count": 119,
   "id": "4c9bca76",
   "metadata": {},
   "outputs": [
    {
     "data": {
      "text/plain": [
       "'a'"
      ]
     },
     "execution_count": 119,
     "metadata": {},
     "output_type": "execute_result"
    }
   ],
   "source": [
    "bt.key"
   ]
  },
  {
   "cell_type": "code",
   "execution_count": 120,
   "id": "e0dc0ac5",
   "metadata": {},
   "outputs": [],
   "source": [
    "bt.insert_left(\"b\")"
   ]
  },
  {
   "cell_type": "code",
   "execution_count": 121,
   "id": "5bc50a3e",
   "metadata": {},
   "outputs": [
    {
     "data": {
      "text/plain": [
       "'b'"
      ]
     },
     "execution_count": 121,
     "metadata": {},
     "output_type": "execute_result"
    }
   ],
   "source": [
    "bt.left.key"
   ]
  },
  {
   "cell_type": "code",
   "execution_count": 122,
   "id": "251ad654",
   "metadata": {},
   "outputs": [],
   "source": [
    "bt.insert_left(\"c\")"
   ]
  },
  {
   "cell_type": "code",
   "execution_count": 123,
   "id": "204caf2e",
   "metadata": {},
   "outputs": [
    {
     "data": {
      "text/plain": [
       "'b'"
      ]
     },
     "execution_count": 123,
     "metadata": {},
     "output_type": "execute_result"
    }
   ],
   "source": [
    "bt.left.left.key"
   ]
  },
  {
   "cell_type": "code",
   "execution_count": 124,
   "id": "e8e61b37",
   "metadata": {},
   "outputs": [],
   "source": [
    "a_tree = BinaryTree(\"a\")\n",
    "a_tree.insert_left(\"b\")\n",
    "a_tree.insert_right(\"c\")\n",
    "a_tree.get_left_child().insert_right(\"d\")\n",
    "a_tree.get_right_child().insert_left(\"e\")\n",
    "a_tree.get_right_child().insert_right(\"f\")"
   ]
  },
  {
   "cell_type": "code",
   "execution_count": 125,
   "id": "9540ef5e",
   "metadata": {},
   "outputs": [
    {
     "name": "stdout",
     "output_type": "stream",
     "text": [
      "<__main__.BinaryTree object at 0x1180cc460>\n"
     ]
    }
   ],
   "source": [
    "print(a_tree)"
   ]
  },
  {
   "cell_type": "code",
   "execution_count": 126,
   "id": "19e8bade",
   "metadata": {},
   "outputs": [],
   "source": [
    "def preorder(t): \n",
    "    if t: \n",
    "        print(t.get_root_val())\n",
    "        preorder(t.get_left_child())\n",
    "        preorder(t.get_right_child())\n",
    "        \n",
    "def inorder(t): \n",
    "    if t: \n",
    "        inorder(t.get_left_child())\n",
    "        print(t.get_root_val())\n",
    "        inorder(t.get_right_child())\n",
    "\n",
    "def postorder(t): \n",
    "    if t: \n",
    "        postorder(t.get_left_child())\n",
    "        postorder(t.get_right_child())\n",
    "        print(t.get_root_val())"
   ]
  },
  {
   "cell_type": "code",
   "execution_count": 127,
   "id": "867ae642",
   "metadata": {},
   "outputs": [
    {
     "name": "stdout",
     "output_type": "stream",
     "text": [
      "a\n",
      "b\n",
      "d\n",
      "c\n",
      "e\n",
      "f\n"
     ]
    }
   ],
   "source": [
    "preorder(a_tree)"
   ]
  },
  {
   "cell_type": "code",
   "execution_count": 128,
   "id": "0c0b236e",
   "metadata": {},
   "outputs": [
    {
     "name": "stdout",
     "output_type": "stream",
     "text": [
      "b\n",
      "d\n",
      "a\n",
      "e\n",
      "c\n",
      "f\n"
     ]
    }
   ],
   "source": [
    "inorder(a_tree)"
   ]
  },
  {
   "cell_type": "code",
   "execution_count": 116,
   "id": "a961116f",
   "metadata": {},
   "outputs": [
    {
     "name": "stdout",
     "output_type": "stream",
     "text": [
      "d\n",
      "b\n",
      "e\n",
      "f\n",
      "c\n",
      "a\n"
     ]
    }
   ],
   "source": [
    "postorder(a_tree)"
   ]
  },
  {
   "cell_type": "code",
   "execution_count": null,
   "id": "71aef34c",
   "metadata": {},
   "outputs": [],
   "source": []
  }
 ],
 "metadata": {
  "kernelspec": {
   "display_name": "Python 3.9.7 64-bit ('py39': conda)",
   "language": "python",
   "name": "python397jvsc74a57bd0aa3dd84ef0f650d9d8b867844db5a915f08cb58b5d6dab20fc53865ee0283ae4"
  },
  "language_info": {
   "codemirror_mode": {
    "name": "ipython",
    "version": 3
   },
   "file_extension": ".py",
   "mimetype": "text/x-python",
   "name": "python",
   "nbconvert_exporter": "python",
   "pygments_lexer": "ipython3",
   "version": "3.9.7"
  }
 },
 "nbformat": 4,
 "nbformat_minor": 5
}
