{
 "cells": [
  {
   "cell_type": "markdown",
   "id": "074fa433",
   "metadata": {},
   "source": [
    "## The Merge Sort"
   ]
  },
  {
   "cell_type": "code",
   "execution_count": 136,
   "id": "fca4ab75",
   "metadata": {},
   "outputs": [],
   "source": [
    "a=[23,10,89,17,18,34,25,28,82,57]"
   ]
  },
  {
   "cell_type": "markdown",
   "id": "c31119a1",
   "metadata": {},
   "source": [
    "### Merging"
   ]
  },
  {
   "cell_type": "code",
   "execution_count": 152,
   "id": "39d1c8a1",
   "metadata": {},
   "outputs": [],
   "source": [
    "def merge(a_list, left_half,right_half, reverse=False):\n",
    "    #print(\"Merging:-->\", left_half, right_half)\n",
    "    i, j, k = 0, 0, 0\n",
    "    while i < len(left_half) and j < len(right_half):\n",
    "        if reverse is True:\n",
    "            if left_half[i] >= right_half[j]:\n",
    "                a_list[k] = left_half[i]\n",
    "                i = i + 1\n",
    "            else:\n",
    "                a_list[k] = right_half[j]\n",
    "                j = j + 1\n",
    "            k = k + 1\n",
    "        else:\n",
    "            if left_half[i] <= right_half[j]:\n",
    "                a_list[k] = left_half[i]\n",
    "                i = i + 1\n",
    "            else:\n",
    "                a_list[k] = right_half[j]\n",
    "                j = j + 1\n",
    "            k = k + 1\n",
    "            \n",
    "\n",
    "    while i < len(left_half):\n",
    "        a_list[k] = left_half[i]\n",
    "        i = i + 1\n",
    "        k = k + 1\n",
    "\n",
    "    while j < len(right_half):\n",
    "        a_list[k] = right_half[j]\n",
    "        j = j + 1\n",
    "        k = k + 1"
   ]
  },
  {
   "cell_type": "code",
   "execution_count": 153,
   "id": "d7bf3cda",
   "metadata": {},
   "outputs": [
    {
     "name": "stdout",
     "output_type": "stream",
     "text": [
      "[89, 82, 57, 34, 28, 25, 23, 18, 17, 10]\n"
     ]
    }
   ],
   "source": [
    "print(a)"
   ]
  },
  {
   "cell_type": "code",
   "execution_count": 154,
   "id": "17a33efd",
   "metadata": {},
   "outputs": [],
   "source": [
    "# default value for reveres is False\n",
    "def merge_sort(a, reveres = False):\n",
    "    #print(\"Is reversed:\", reveres)\n",
    "    #print(\"Partitioning: -->\", a)\n",
    "    if len(a) > 1:\n",
    "        mid = len(a) // 2\n",
    "        left = a[:mid]\n",
    "        right =a[mid:]\n",
    "        merge_sort(left, reveres)\n",
    "        merge_sort(right, reveres)\n",
    "        merge(a,left,right, reveres)  "
   ]
  },
  {
   "cell_type": "code",
   "execution_count": 155,
   "id": "3136c3d1",
   "metadata": {},
   "outputs": [
    {
     "name": "stdout",
     "output_type": "stream",
     "text": [
      "[10, 17, 18, 23, 25, 28, 34, 57, 82, 89]\n"
     ]
    }
   ],
   "source": [
    "a=[23,10,89,17,18,34,25,28,82,57]\n",
    "merge_sort(a)\n",
    "print(a)"
   ]
  },
  {
   "cell_type": "code",
   "execution_count": 156,
   "id": "8dc08f1b",
   "metadata": {},
   "outputs": [
    {
     "name": "stdout",
     "output_type": "stream",
     "text": [
      "[10, 17, 18, 23, 25, 28, 34, 57, 82, 89]\n"
     ]
    }
   ],
   "source": [
    "merge_sort(a, reveres = False)\n",
    "print(a)"
   ]
  },
  {
   "cell_type": "code",
   "execution_count": 157,
   "id": "88a2d948",
   "metadata": {},
   "outputs": [],
   "source": [
    "merge_sort(a, reveres= True)"
   ]
  },
  {
   "cell_type": "code",
   "execution_count": 158,
   "id": "bcee704b",
   "metadata": {},
   "outputs": [
    {
     "name": "stdout",
     "output_type": "stream",
     "text": [
      "[89, 82, 57, 34, 28, 25, 23, 18, 17, 10]\n"
     ]
    }
   ],
   "source": [
    "print(a)"
   ]
  },
  {
   "cell_type": "code",
   "execution_count": 159,
   "id": "3b3cd9d1",
   "metadata": {},
   "outputs": [
    {
     "name": "stdout",
     "output_type": "stream",
     "text": [
      "[89, 82, 57, 34, 28, 25, 23, 18, 17, 10]\n"
     ]
    }
   ],
   "source": [
    "left = a[:5]\n",
    "right = a[5:]\n",
    "merge(a, left, right, reverse=True)\n",
    "print(a)"
   ]
  },
  {
   "cell_type": "code",
   "execution_count": 160,
   "id": "9ecc3616",
   "metadata": {},
   "outputs": [],
   "source": [
    "def fact(n):\n",
    "    f = 1;\n",
    "    for i in range(1, n+1):\n",
    "        f = f * i\n",
    "    return f\n",
    "        "
   ]
  },
  {
   "cell_type": "code",
   "execution_count": 161,
   "id": "905b9589",
   "metadata": {},
   "outputs": [
    {
     "name": "stdout",
     "output_type": "stream",
     "text": [
      "120\n"
     ]
    }
   ],
   "source": [
    "print(fact(5))"
   ]
  },
  {
   "cell_type": "markdown",
   "id": "0440e2dc",
   "metadata": {},
   "source": [
    "## Recursive Function"
   ]
  },
  {
   "cell_type": "code",
   "execution_count": 162,
   "id": "83ff7e59",
   "metadata": {},
   "outputs": [],
   "source": [
    "def fact(n):\n",
    "    if n == 1:\n",
    "            return 1\n",
    "    else:\n",
    "        return n * fact(n-1)"
   ]
  },
  {
   "cell_type": "code",
   "execution_count": 163,
   "id": "adb5abe8",
   "metadata": {},
   "outputs": [
    {
     "name": "stdout",
     "output_type": "stream",
     "text": [
      "120\n"
     ]
    }
   ],
   "source": [
    "print(fact(5))"
   ]
  },
  {
   "cell_type": "code",
   "execution_count": 22,
   "id": "19d13e91",
   "metadata": {},
   "outputs": [
    {
     "name": "stdout",
     "output_type": "stream",
     "text": [
      "[23, 10, 89, 17, 18, 34, 25, 28, 82]\n"
     ]
    }
   ],
   "source": [
    "print(a)"
   ]
  },
  {
   "cell_type": "code",
   "execution_count": 23,
   "id": "24783bff",
   "metadata": {},
   "outputs": [
    {
     "data": {
      "text/plain": [
       "[23, 10, 89]"
      ]
     },
     "execution_count": 23,
     "metadata": {},
     "output_type": "execute_result"
    }
   ],
   "source": [
    "a[0:3]"
   ]
  },
  {
   "cell_type": "code",
   "execution_count": 24,
   "id": "38f13d4d",
   "metadata": {},
   "outputs": [
    {
     "data": {
      "text/plain": [
       "[23, 10, 89]"
      ]
     },
     "execution_count": 24,
     "metadata": {},
     "output_type": "execute_result"
    }
   ],
   "source": [
    "a[:3]"
   ]
  },
  {
   "cell_type": "code",
   "execution_count": 25,
   "id": "110b758b",
   "metadata": {},
   "outputs": [
    {
     "data": {
      "text/plain": [
       "[28, 82]"
      ]
     },
     "execution_count": 25,
     "metadata": {},
     "output_type": "execute_result"
    }
   ],
   "source": [
    "a[7:]"
   ]
  },
  {
   "cell_type": "code",
   "execution_count": 26,
   "id": "92cf44cd",
   "metadata": {},
   "outputs": [],
   "source": [
    "mid = len(a) // 2"
   ]
  },
  {
   "cell_type": "code",
   "execution_count": 27,
   "id": "24a3e482",
   "metadata": {},
   "outputs": [
    {
     "data": {
      "text/plain": [
       "4"
      ]
     },
     "execution_count": 27,
     "metadata": {},
     "output_type": "execute_result"
    }
   ],
   "source": [
    "mid"
   ]
  },
  {
   "cell_type": "code",
   "execution_count": 28,
   "id": "fa945d0d",
   "metadata": {},
   "outputs": [
    {
     "data": {
      "text/plain": [
       "9"
      ]
     },
     "execution_count": 28,
     "metadata": {},
     "output_type": "execute_result"
    }
   ],
   "source": [
    "len(a)"
   ]
  },
  {
   "cell_type": "code",
   "execution_count": 29,
   "id": "2f69a4c1",
   "metadata": {},
   "outputs": [
    {
     "data": {
      "text/plain": [
       "[23, 10, 89, 17]"
      ]
     },
     "execution_count": 29,
     "metadata": {},
     "output_type": "execute_result"
    }
   ],
   "source": [
    "a[:mid]"
   ]
  },
  {
   "cell_type": "code",
   "execution_count": 128,
   "id": "66aa4fa0",
   "metadata": {},
   "outputs": [
    {
     "data": {
      "text/plain": [
       "[18, 34, 25, 28, 82]"
      ]
     },
     "execution_count": 128,
     "metadata": {},
     "output_type": "execute_result"
    }
   ],
   "source": [
    "a[mid:]"
   ]
  },
  {
   "cell_type": "code",
   "execution_count": 129,
   "id": "e387454b",
   "metadata": {},
   "outputs": [
    {
     "name": "stdout",
     "output_type": "stream",
     "text": [
      "[23, 10, 89, 17, 18, 34, 25, 28, 82] [23, 10, 89, 17] [18, 34, 25, 28, 82]\n"
     ]
    }
   ],
   "source": [
    "print(a, a[:mid], a[mid:])"
   ]
  },
  {
   "cell_type": "code",
   "execution_count": 130,
   "id": "8bc3649d",
   "metadata": {},
   "outputs": [],
   "source": [
    "left_hand = a[:mid]\n",
    "right_hand =a[mid:]"
   ]
  },
  {
   "cell_type": "code",
   "execution_count": 131,
   "id": "e2f01f22",
   "metadata": {},
   "outputs": [
    {
     "data": {
      "text/plain": [
       "[23, 10, 89, 17]"
      ]
     },
     "execution_count": 131,
     "metadata": {},
     "output_type": "execute_result"
    }
   ],
   "source": [
    "left_hand"
   ]
  },
  {
   "cell_type": "markdown",
   "id": "1d1959ed",
   "metadata": {},
   "source": [
    "## The Quick Sort"
   ]
  },
  {
   "cell_type": "code",
   "execution_count": 147,
   "id": "4314d8fb",
   "metadata": {},
   "outputs": [],
   "source": [
    "def quick_sort(a_list):\n",
    "    quick_sort_helper(a_list, 0, len(a_list) - 1)"
   ]
  },
  {
   "cell_type": "code",
   "execution_count": 148,
   "id": "97610054",
   "metadata": {},
   "outputs": [],
   "source": [
    "def quick_sort_helper(a_list, first, last):\n",
    "    if first < last:\n",
    "        split = partition(a_list, first, last)\n",
    "        quick_sort_helper(a_list, first, split - 1)\n",
    "        quick_sort_helper(a_list, split + 1, last)"
   ]
  },
  {
   "cell_type": "code",
   "execution_count": 149,
   "id": "4ce17fb5",
   "metadata": {},
   "outputs": [],
   "source": [
    "def partition(a_list, first, last):\n",
    "    pivot_val = a_list[first]\n",
    "    left_mark = first + 1\n",
    "    right_mark = last\n",
    "    done = False\n",
    "\n",
    "    while not done:\n",
    "        while left_mark <= right_mark and a_list[left_mark] <= pivot_val:\n",
    "            left_mark = left_mark + 1\n",
    "        while left_mark <= right_mark and a_list[right_mark] >= pivot_val:\n",
    "            right_mark = right_mark - 1\n",
    "        if right_mark < left_mark:\n",
    "            done = True\n",
    "        else:\n",
    "            a_list[left_mark], a_list[right_mark] = (\n",
    "                a_list[right_mark],\n",
    "                a_list[left_mark],\n",
    "            )\n",
    "    a_list[first], a_list[right_mark] = a_list[right_mark], a_list[first]\n",
    "\n",
    "    return right_mark"
   ]
  },
  {
   "cell_type": "code",
   "execution_count": 150,
   "id": "f94e957d",
   "metadata": {},
   "outputs": [
    {
     "name": "stdout",
     "output_type": "stream",
     "text": [
      "[17, 20, 26, 31, 44, 54, 55, 77, 93]\n"
     ]
    }
   ],
   "source": [
    "a_list = [54, 26, 93, 17, 77, 31, 44, 55, 20]\n",
    "quick_sort(a_list)\n",
    "print(a_list)"
   ]
  },
  {
   "cell_type": "code",
   "execution_count": 151,
   "id": "1c2ddf87",
   "metadata": {},
   "outputs": [
    {
     "ename": "TypeError",
     "evalue": "quick_sort() got an unexpected keyword argument 'reveres'",
     "output_type": "error",
     "traceback": [
      "\u001b[0;31m---------------------------------------------------------------------------\u001b[0m",
      "\u001b[0;31mTypeError\u001b[0m                                 Traceback (most recent call last)",
      "\u001b[0;32m/var/folders/1_/2rbdt5292zdb57b821k90d5r0000gn/T/ipykernel_32147/1889279318.py\u001b[0m in \u001b[0;36m<module>\u001b[0;34m\u001b[0m\n\u001b[1;32m      1\u001b[0m \u001b[0;31m#lab task\u001b[0m\u001b[0;34m\u001b[0m\u001b[0;34m\u001b[0m\u001b[0m\n\u001b[1;32m      2\u001b[0m \u001b[0mquick_sort\u001b[0m\u001b[0;34m(\u001b[0m\u001b[0ma_list\u001b[0m\u001b[0;34m)\u001b[0m\u001b[0;34m\u001b[0m\u001b[0;34m\u001b[0m\u001b[0m\n\u001b[0;32m----> 3\u001b[0;31m \u001b[0mquick_sort\u001b[0m\u001b[0;34m(\u001b[0m\u001b[0ma_list\u001b[0m\u001b[0;34m,\u001b[0m \u001b[0mreveres\u001b[0m\u001b[0;34m=\u001b[0m\u001b[0;32mFalse\u001b[0m\u001b[0;34m)\u001b[0m\u001b[0;34m\u001b[0m\u001b[0;34m\u001b[0m\u001b[0m\n\u001b[0m\u001b[1;32m      4\u001b[0m \u001b[0mquick_sort\u001b[0m\u001b[0;34m(\u001b[0m\u001b[0ma_list\u001b[0m\u001b[0;34m,\u001b[0m \u001b[0mreveres\u001b[0m\u001b[0;34m=\u001b[0m\u001b[0;32mTrue\u001b[0m\u001b[0;34m)\u001b[0m\u001b[0;34m\u001b[0m\u001b[0;34m\u001b[0m\u001b[0m\n",
      "\u001b[0;31mTypeError\u001b[0m: quick_sort() got an unexpected keyword argument 'reveres'"
     ]
    }
   ],
   "source": [
    "#lab task\n",
    "quick_sort(a_list)\n",
    "quick_sort(a_list, reveres=False)\n",
    "quick_sort(a_list, reveres=True)"
   ]
  },
  {
   "cell_type": "code",
   "execution_count": null,
   "id": "7a6fcbaf",
   "metadata": {},
   "outputs": [],
   "source": []
  }
 ],
 "metadata": {
  "kernelspec": {
   "display_name": "Python 3 (ipykernel)",
   "language": "python",
   "name": "python3"
  },
  "language_info": {
   "codemirror_mode": {
    "name": "ipython",
    "version": 3
   },
   "file_extension": ".py",
   "mimetype": "text/x-python",
   "name": "python",
   "nbconvert_exporter": "python",
   "pygments_lexer": "ipython3",
   "version": "3.9.7"
  }
 },
 "nbformat": 4,
 "nbformat_minor": 5
}
