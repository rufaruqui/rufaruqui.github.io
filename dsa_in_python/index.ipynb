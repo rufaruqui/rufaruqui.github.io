{
 "cells": [
  {
   "cell_type": "markdown",
   "id": "8d52a856",
   "metadata": {},
   "source": [
    "# ETE 2324: Data Structures and Algorithms "
   ]
  },
  {
   "cell_type": "markdown",
   "id": "a878639a",
   "metadata": {},
   "source": [
    "## Contents\n",
    "    \n",
    "   - Introduction to DSA\n",
    "     - Reading: [Chapter 1](https://runestone.academy/runestone/books/published/pythonds3/Introduction/toctree.html)\n",
    "     - Notebook:\n",
    "     - Lectures: (PDF) (html) (Latex)\n",
    "    "
   ]
  },
  {
   "cell_type": "markdown",
   "id": "dfff22b4",
   "metadata": {},
   "source": [
    "## Textbook\n",
    "   - [Problem Solving with Algorithms and Data Structures using Python](https://runestone.academy/runestone/books/published/pythonds3/index.html)\n",
    "   - Cormen, Thomas, Charles Leiserson, Ronald Rivest, and Clifford Stein. Introduction to Algorithms. 3rd ed. MIT Press, 2009. ISBN: 9780262033848."
   ]
  },
  {
   "cell_type": "markdown",
   "id": "d5ebff11",
   "metadata": {},
   "source": [
    "## Additional Resourcess:\n",
    "   - Python Tutorial\n",
    "     - Part 1\n",
    "     - Part 2\n",
    "     - Part 3\n",
    "     - List in Python"
   ]
  },
  {
   "cell_type": "code",
   "execution_count": null,
   "id": "48c1331d",
   "metadata": {},
   "outputs": [],
   "source": []
  }
 ],
 "metadata": {
  "kernelspec": {
   "display_name": "Python 3 (ipykernel)",
   "language": "python",
   "name": "python3"
  },
  "language_info": {
   "codemirror_mode": {
    "name": "ipython",
    "version": 3
   },
   "file_extension": ".py",
   "mimetype": "text/x-python",
   "name": "python",
   "nbconvert_exporter": "python",
   "pygments_lexer": "ipython3",
   "version": "3.9.6"
  }
 },
 "nbformat": 4,
 "nbformat_minor": 5
}
