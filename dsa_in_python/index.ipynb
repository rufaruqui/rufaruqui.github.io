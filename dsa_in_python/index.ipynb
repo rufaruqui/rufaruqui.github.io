{
 "cells": [
  {
   "cell_type": "markdown",
   "id": "f25590b5",
   "metadata": {},
   "source": [
    "<center> <h1> ETE-2324: Data Structures and Algorithms</h1> </center>"
   ]
  },
  {
   "cell_type": "markdown",
   "id": "88baa9bd",
   "metadata": {},
   "source": [
    "## Course Contents\n",
    "    \n",
    "  - **Introduction to Data Structures and Algorithms**\n",
    "     - Reading:\n",
    "          - [PythonDS- Chapter 1](https://runestone.academy/runestone/books/published/pythonds3/Introduction/toctree.html)\n",
    "     - Notebook:[Introduction](https://github.com/rufaruqui/rufaruqui.github.io/blob/main/dsa_in_python/introduction/introduction.ipynb)\n",
    "     - Lectures: [Slides](introduction/introduction.slides.html),  [PDF](introduction/introduction.pdf),  [HTML](introduction/introduction.html) [Latex](introduction/introduction.tex)\n",
    "   \n",
    "  \n",
    "  - **The Analysis of Algorithms**\n",
    "     - Reading: \n",
    "        - [Goodrich- Chapter 3]\n",
    "        - [PythonDS-Chapter 3](https://runestone.academy/runestone/books/published/pythonds3/AlgorithmAnalysis/toctree.html)\n",
    "     - Notebook: [Complexity Analysis](complexity/complexity_analysis.ipnyb)\n",
    "     - Lectures: [Slides](complexity/complexity_analysis.slides.html),  [PDF](complexity/complexity_analysis.pdf) [HTML](complexity/complexity_analysis.html) [Latex](complexity/complexity_analysis.tex)\n",
    "     - Extra slides: [CS161_at_Staford_Slides](complexity/cs161_stanford_analysis.pdf)\n",
    "  - **Arrays**\n",
    "     - Reading: [Goodrich- Chapter 5]\n",
    "     - Lectures: [Slides](arrays/arrays.slides.html),  [PDF](arrays/arrays.pdf) [HTML](arrays/arrays.html) [Latex](arrays/arrays.tex)\n",
    "      \n",
    "  - **Stack and Queue**\n",
    "    - Reading: [Stack -- PythonDS- Chapter 4](https://runestone.academy/runestone/books/published/pythonds3/BasicDS/WhatisaStack.html)\n",
    "    - Reading: [Queue -- PythonDS- Chapter 4](https://runestone.academy/runestone/books/published/pythonds3/BasicDS/WhatIsaQueue.html)\n",
    "    - Lectures:\n",
    "    \n"
   ]
  },
  {
   "cell_type": "markdown",
   "id": "89ce2ea8",
   "metadata": {},
   "source": [
    "## Additional Resources\n",
    " - [Data Stuctures and Algorithms Visulization](https://www.cs.usfca.edu/~galles/visualization/Algorithms.html) -- excellent resources for understanding both structures and algorithms."
   ]
  },
  {
   "cell_type": "markdown",
   "id": "346acee5",
   "metadata": {},
   "source": [
    "## Textbooks\n",
    "   - **[PythnDS]** [Problem Solving with Algorithms and Data Structures using Python](https://runestone.academy/runestone/books/published/pythonds3/index.html)\n",
    "   - **[Goodrich]** Michael T. Goodrich, Roberto Tamassia, Michael H. Goldwasser. **Data Structures and Algorithms in Python** Wiley (2013)\n",
    "\n",
    "## Reference Books\n",
    "   - **[Cormen]** Cormen, Thomas, Charles Leiserson, Ronald Rivest, and Clifford Stein. **Introduction to Algorithms**. 3rd ed. MIT Press, 2009. ISBN: 9780262033848.\n",
    "\n"
   ]
  },
  {
   "cell_type": "markdown",
   "id": "1423897d",
   "metadata": {},
   "source": [
    "## Environment Setup:\n",
    "   - Python 3 and Jupyter Installation\n",
    "    - [Python 3 Installation & Setup Guide](https://wsvincent.com/install-python/)\n",
    "    - [Anaconda Installation](https://www.datacamp.com/community/tutorials/installing-anaconda-windows)\n",
    "    - [Jupyter Installation Guide](https://www.datacamp.com/community/tutorials/installing-jupyter-notebook)\n",
    "   \n",
    "## Python Tutorials\n",
    "   - Part 1: [Slides](python/python_p1.slides.html), [Notebook](https://github.com/rufaruqui/rufaruqui.github.io/blob/main/dsa_in_python/python_p1.ipnyb),  [HTML]python/(python_p1.html)\n",
    "   - Part 2: [Slides](python/python_p2.slides.html),[Notebook](https://github.com/rufaruqui/rufaruqui.github.io/blob/main/dsa_in_python/python_p2.ipnyb),  [HTML](python/python_p2.html)\n",
    "   - Part 3: [Slides](python/python_p2.slides.html),[Notebook](https://github.com/rufaruqui/rufaruqui.github.io/blob/main/dsa_in_python/python_p3.ipnyb),  [HTML](python_p3.html)\n",
    "   - List in Python:  [Notebook](https://github.com/rufaruqui/rufaruqui.github.io/blob/main/dsa_in_python/python_list.ipnyb),  [HTML](python/python_list.html)"
   ]
  },
  {
   "cell_type": "code",
   "execution_count": 3,
   "id": "dea8dedb",
   "metadata": {},
   "outputs": [
    {
     "name": "stdout",
     "output_type": "stream",
     "text": [
      "False\n"
     ]
    }
   ],
   "source": [
    "print(bool(0))"
   ]
  },
  {
   "cell_type": "code",
   "execution_count": null,
   "id": "6fbebbfe",
   "metadata": {},
   "outputs": [],
   "source": [
    "class Stack:\n",
    "    \n",
    "    def __init__(self):\n",
    "        self.items = []\n",
    "        \n",
    "    def push(self, item):\n",
    "        self.items.append(item)\n",
    "    \n",
    "    def pop(self):\n",
    "        item = self.items[0]\n",
    "        self.items[1:]\n",
    "        return item\n",
    "    \n",
    "    def peek(self):\n",
    "        return self.items[0]\n",
    "    \n",
    "    def size(self):\n",
    "        return len(self.items)\n",
    "    \n",
    "    def is_empty(self):\n",
    "        return self.items == []"
   ]
  },
  {
   "cell_type": "code",
   "execution_count": 5,
   "id": "4318d2ce",
   "metadata": {},
   "outputs": [
    {
     "name": "stdout",
     "output_type": "stream",
     "text": [
      "(\n",
      "a\n",
      "+\n",
      "b\n",
      ")\n",
      " \n",
      "/\n",
      " \n",
      "(\n",
      "3\n",
      "+\n",
      "4\n",
      ")\n"
     ]
    }
   ],
   "source": [
    "exp = \"(a+b) / (3+4)\"\n",
    "\n",
    "for symbol in exp:\n",
    "    print(symbol)"
   ]
  },
  {
   "cell_type": "code",
   "execution_count": null,
   "id": "4f54ddb1",
   "metadata": {},
   "outputs": [],
   "source": []
  }
 ],
 "metadata": {
  "kernelspec": {
   "display_name": "Python 3 (ipykernel)",
   "language": "python",
   "name": "python3"
  },
  "language_info": {
   "codemirror_mode": {
    "name": "ipython",
    "version": 3
   },
   "file_extension": ".py",
   "mimetype": "text/x-python",
   "name": "python",
   "nbconvert_exporter": "python",
   "pygments_lexer": "ipython3",
   "version": "3.9.6"
  }
 },
 "nbformat": 4,
 "nbformat_minor": 5
}
