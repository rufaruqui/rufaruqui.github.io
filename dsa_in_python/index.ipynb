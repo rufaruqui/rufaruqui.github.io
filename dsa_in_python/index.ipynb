{
 "cells": [
  {
   "cell_type": "markdown",
   "id": "f25590b5",
   "metadata": {},
   "source": [
    "<center> <h1> ETE-2324: Data Structures and Algorithms</h1> </center>"
   ]
  },
  {
   "cell_type": "markdown",
   "id": "88baa9bd",
   "metadata": {},
   "source": [
    "## Course Contents\n",
    "    \n",
    "  - **Introduction to Data Structures and Algorithms**\n",
    "     - Reading:\n",
    "          - [PythonDS- Chapter 1](https://runestone.academy/runestone/books/published/pythonds3/Introduction/toctree.html)\n",
    "     - Notebook:[Introduction](https://github.com/rufaruqui/rufaruqui.github.io/blob/main/dsa_in_python/introduction/introduction.ipynb)\n",
    "     - Lectures: [Slides](introduction/introduction.slides.html),  [PDF](introduction/introduction.pdf),  [HTML](introduction/introduction.html) [Latex](introduction/introduction.tex)\n",
    "   \n",
    "   \n",
    "   - **The Analysis of Algorithms**\n",
    "     - Reading: \n",
    "        - [Goodrich- Chapter 3]\n",
    "        - [PythonDS-Chapter 3](https://runestone.academy/runestone/books/published/pythonds3/AlgorithmAnalysis/toctree.html)\n",
    "     - Notebook: [Complexity Analysis](complexity/complexity_analysis.ipnyb)\n",
    "     - Lectures: [Slides](complexity/complexity_analysis.slides.html),  [PDF](complexity/complexity_analysis.pdf) [HTML](complexity/complexity_analysis.html) [Latex](complexity/complexity_analysis.tex)\n",
    "     - Extra slides: [CS161_at_Staford_Slides](complexity/cs161_stanford_analysis.pdf)\n",
    "   - **Arrays and Sequences**\n",
    "        - Reading: \n",
    "        - Lectures: [Slides](arrays/arrays.slides.html),  [PDF](arrays/arrays.pdf) [HTML](arrays/arrays.html) [Latex](arrays/arrays.tex)\n",
    "   - **Recursion**\n",
    "      - Fibonacci numbers \n",
    "      - Master Theorem\n",
    "   - **Sorting and Searching Algorithms**\n",
    "       - Search: \n",
    "          - Linear Search\n",
    "          - Binary Search\n",
    "       - Sorting: \n",
    "         - Insertion sort \n",
    "         - Bubble sort \n",
    "         - Quick sort \n",
    "         - Merge Sort\n",
    "   - **Stacks, Queues and related Algorithms**\n",
    "   - **Linked Lists and related Algorithms**\n",
    "   - **Trees and Tree Algorithms**\n",
    "   - **Graph and Graph Algorithms**"
   ]
  },
  {
   "cell_type": "markdown",
   "id": "89ce2ea8",
   "metadata": {},
   "source": [
    "## Additional Resources\n",
    " - [Data Stuctures and Algorithms Visulization](https://www.cs.usfca.edu/~galles/visualization/Algorithms.html) -- excellent resources for understanding both structures and algorithms."
   ]
  },
  {
   "cell_type": "markdown",
   "id": "346acee5",
   "metadata": {},
   "source": [
    "## Textbooks\n",
    "   - **[PythnDS]** [Problem Solving with Algorithms and Data Structures using Python](https://runestone.academy/runestone/books/published/pythonds3/index.html)\n",
    "   - **[Goodrich]** Michael T. Goodrich, Roberto Tamassia, Michael H. Goldwasser. **Data Structures and Algorithms in Python** Wiley (2013)\n",
    "\n",
    "## Reference Books\n",
    "   - **[Cormen]** Cormen, Thomas, Charles Leiserson, Ronald Rivest, and Clifford Stein. **Introduction to Algorithms**. 3rd ed. MIT Press, 2009. ISBN: 9780262033848.\n",
    "\n"
   ]
  },
  {
   "cell_type": "markdown",
   "id": "1423897d",
   "metadata": {},
   "source": [
    "## Environment Setup:\n",
    "   - Python 3 and Jupyter Installation\n",
    "    - [Python 3 Installation & Setup Guide](https://wsvincent.com/install-python/)\n",
    "    - [Anaconda Installation](https://www.datacamp.com/community/tutorials/installing-anaconda-windows)\n",
    "    - [Jupyter Installation Guide](https://www.datacamp.com/community/tutorials/installing-jupyter-notebook)\n",
    "   \n",
    "## Python Tutorials\n",
    "   - Part 1: [Slides](python/python_p1.slides.html), [Notebook](https://github.com/rufaruqui/rufaruqui.github.io/blob/main/dsa_in_python/python_p1.ipnyb),  [HTML]python/(python_p1.html)\n",
    "   - Part 2: [Slides](python/python_p2.slides.html),[Notebook](https://github.com/rufaruqui/rufaruqui.github.io/blob/main/dsa_in_python/python_p2.ipnyb),  [HTML](python/python_p2.html)\n",
    "   - Part 3: [Slides](python/python_p2.slides.html),[Notebook](https://github.com/rufaruqui/rufaruqui.github.io/blob/main/dsa_in_python/python_p3.ipnyb),  [HTML](python_p3.html)\n",
    "   - List in Python:  [Notebook](https://github.com/rufaruqui/rufaruqui.github.io/blob/main/dsa_in_python/python_list.ipnyb),  [HTML](python/python_list.html)"
   ]
  },
  {
   "cell_type": "code",
   "execution_count": null,
   "id": "dea8dedb",
   "metadata": {},
   "outputs": [],
   "source": []
  }
 ],
 "metadata": {
  "kernelspec": {
   "display_name": "Python 3 (ipykernel)",
   "language": "python",
   "name": "python3"
  },
  "language_info": {
   "codemirror_mode": {
    "name": "ipython",
    "version": 3
   },
   "file_extension": ".py",
   "mimetype": "text/x-python",
   "name": "python",
   "nbconvert_exporter": "python",
   "pygments_lexer": "ipython3",
   "version": "3.9.6"
  }
 },
 "nbformat": 4,
 "nbformat_minor": 5
}
